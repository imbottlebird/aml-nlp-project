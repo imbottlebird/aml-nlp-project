{
 "cells": [
  {
   "cell_type": "code",
   "execution_count": 1,
   "metadata": {},
   "outputs": [],
   "source": [
    "import numpy as np\n",
    "import pandas as pd\n",
    "import matplotlib as mpl\n",
    "import matplotlib.pyplot as plt\n",
    "import seaborn as sns"
   ]
  },
  {
   "cell_type": "code",
   "execution_count": 6,
   "metadata": {},
   "outputs": [],
   "source": [
    "#load preprocessed dataset\n",
    "df_reviews = pd.read_csv('data/pre_yelp_500k.csv')"
   ]
  },
  {
   "cell_type": "code",
   "execution_count": 9,
   "metadata": {},
   "outputs": [
    {
     "data": {
      "text/html": [
       "<div>\n",
       "<style scoped>\n",
       "    .dataframe tbody tr th:only-of-type {\n",
       "        vertical-align: middle;\n",
       "    }\n",
       "\n",
       "    .dataframe tbody tr th {\n",
       "        vertical-align: top;\n",
       "    }\n",
       "\n",
       "    .dataframe thead th {\n",
       "        text-align: right;\n",
       "    }\n",
       "</style>\n",
       "<table border=\"1\" class=\"dataframe\">\n",
       "  <thead>\n",
       "    <tr style=\"text-align: right;\">\n",
       "      <th></th>\n",
       "      <th>business_name</th>\n",
       "      <th>stars</th>\n",
       "      <th>text</th>\n",
       "    </tr>\n",
       "  </thead>\n",
       "  <tbody>\n",
       "    <tr>\n",
       "      <th>0</th>\n",
       "      <td>Bellagio Gallery of Fine Art</td>\n",
       "      <td>2.0</td>\n",
       "      <td>someone worked many museum eager visit galery ...</td>\n",
       "    </tr>\n",
       "    <tr>\n",
       "      <th>1</th>\n",
       "      <td>Rio Hair Salon</td>\n",
       "      <td>1.0</td>\n",
       "      <td>actualy horified place stil busines 3 year old...</td>\n",
       "    </tr>\n",
       "    <tr>\n",
       "      <th>2</th>\n",
       "      <td>Deagan's Kitchen &amp; Bar</td>\n",
       "      <td>5.0</td>\n",
       "      <td>love deagans realy atmosphere cozy festive shr...</td>\n",
       "    </tr>\n",
       "    <tr>\n",
       "      <th>3</th>\n",
       "      <td>Cabo Mexican Restaurant</td>\n",
       "      <td>1.0</td>\n",
       "      <td>dismal lukewarm defrostedtasting texmex glop m...</td>\n",
       "    </tr>\n",
       "    <tr>\n",
       "      <th>4</th>\n",
       "      <td>Raising Cane's Chicken Fingers</td>\n",
       "      <td>4.0</td>\n",
       "      <td>oh hapy day finaly cane near casa yes others g...</td>\n",
       "    </tr>\n",
       "    <tr>\n",
       "      <th>...</th>\n",
       "      <td>...</td>\n",
       "      <td>...</td>\n",
       "      <td>...</td>\n",
       "    </tr>\n",
       "    <tr>\n",
       "      <th>99995</th>\n",
       "      <td>KUMI by Chef Akira Back</td>\n",
       "      <td>4.0</td>\n",
       "      <td>great place protein rol hot me realy special f...</td>\n",
       "    </tr>\n",
       "    <tr>\n",
       "      <th>99996</th>\n",
       "      <td>Urban Beans</td>\n",
       "      <td>5.0</td>\n",
       "      <td>ive enjoyed cofe iced tea excelent service chi...</td>\n",
       "    </tr>\n",
       "    <tr>\n",
       "      <th>99997</th>\n",
       "      <td>Eddie V's Prime Seafood</td>\n",
       "      <td>3.0</td>\n",
       "      <td>huge fan overated ambience nice fod ok time pr...</td>\n",
       "    </tr>\n",
       "    <tr>\n",
       "      <th>99998</th>\n",
       "      <td>Tommy Bahama Restaurant | Bar | Store - Las Vegas</td>\n",
       "      <td>4.0</td>\n",
       "      <td>diner hub family service okay super busy holid...</td>\n",
       "    </tr>\n",
       "    <tr>\n",
       "      <th>99999</th>\n",
       "      <td>Sake Rok</td>\n",
       "      <td>1.0</td>\n",
       "      <td>absolutely horific waited 15 minute get water ...</td>\n",
       "    </tr>\n",
       "  </tbody>\n",
       "</table>\n",
       "<p>100000 rows × 3 columns</p>\n",
       "</div>"
      ],
      "text/plain": [
       "                                           business_name  stars  \\\n",
       "0                           Bellagio Gallery of Fine Art    2.0   \n",
       "1                                         Rio Hair Salon    1.0   \n",
       "2                                 Deagan's Kitchen & Bar    5.0   \n",
       "3                                Cabo Mexican Restaurant    1.0   \n",
       "4                         Raising Cane's Chicken Fingers    4.0   \n",
       "...                                                  ...    ...   \n",
       "99995                            KUMI by Chef Akira Back    4.0   \n",
       "99996                                        Urban Beans    5.0   \n",
       "99997                            Eddie V's Prime Seafood    3.0   \n",
       "99998  Tommy Bahama Restaurant | Bar | Store - Las Vegas    4.0   \n",
       "99999                                           Sake Rok    1.0   \n",
       "\n",
       "                                                    text  \n",
       "0      someone worked many museum eager visit galery ...  \n",
       "1      actualy horified place stil busines 3 year old...  \n",
       "2      love deagans realy atmosphere cozy festive shr...  \n",
       "3      dismal lukewarm defrostedtasting texmex glop m...  \n",
       "4      oh hapy day finaly cane near casa yes others g...  \n",
       "...                                                  ...  \n",
       "99995  great place protein rol hot me realy special f...  \n",
       "99996  ive enjoyed cofe iced tea excelent service chi...  \n",
       "99997  huge fan overated ambience nice fod ok time pr...  \n",
       "99998  diner hub family service okay super busy holid...  \n",
       "99999  absolutely horific waited 15 minute get water ...  \n",
       "\n",
       "[100000 rows x 3 columns]"
      ]
     },
     "execution_count": 9,
     "metadata": {},
     "output_type": "execute_result"
    }
   ],
   "source": [
    "#for the testing purpose, we will only use 100k entries\n",
    "df_reviews_100k = df_reviews[:100000]\n",
    "df_reviews_100k"
   ]
  },
  {
   "cell_type": "code",
   "execution_count": 11,
   "metadata": {},
   "outputs": [
    {
     "name": "stderr",
     "output_type": "stream",
     "text": [
      "/usr/local/lib/python3.5/dist-packages/ipykernel_launcher.py:4: SettingWithCopyWarning: \n",
      "A value is trying to be set on a copy of a slice from a DataFrame.\n",
      "Try using .loc[row_indexer,col_indexer] = value instead\n",
      "\n",
      "See the caveats in the documentation: http://pandas.pydata.org/pandas-docs/stable/user_guide/indexing.html#returning-a-view-versus-a-copy\n",
      "  after removing the cwd from sys.path.\n"
     ]
    },
    {
     "data": {
      "text/html": [
       "<div>\n",
       "<style scoped>\n",
       "    .dataframe tbody tr th:only-of-type {\n",
       "        vertical-align: middle;\n",
       "    }\n",
       "\n",
       "    .dataframe tbody tr th {\n",
       "        vertical-align: top;\n",
       "    }\n",
       "\n",
       "    .dataframe thead th {\n",
       "        text-align: right;\n",
       "    }\n",
       "</style>\n",
       "<table border=\"1\" class=\"dataframe\">\n",
       "  <thead>\n",
       "    <tr style=\"text-align: right;\">\n",
       "      <th></th>\n",
       "      <th>business_name</th>\n",
       "      <th>stars</th>\n",
       "      <th>text</th>\n",
       "      <th>sentiment</th>\n",
       "    </tr>\n",
       "  </thead>\n",
       "  <tbody>\n",
       "    <tr>\n",
       "      <th>0</th>\n",
       "      <td>Bellagio Gallery of Fine Art</td>\n",
       "      <td>2.0</td>\n",
       "      <td>someone worked many museum eager visit galery ...</td>\n",
       "      <td>negative</td>\n",
       "    </tr>\n",
       "    <tr>\n",
       "      <th>1</th>\n",
       "      <td>Rio Hair Salon</td>\n",
       "      <td>1.0</td>\n",
       "      <td>actualy horified place stil busines 3 year old...</td>\n",
       "      <td>negative</td>\n",
       "    </tr>\n",
       "    <tr>\n",
       "      <th>2</th>\n",
       "      <td>Deagan's Kitchen &amp; Bar</td>\n",
       "      <td>5.0</td>\n",
       "      <td>love deagans realy atmosphere cozy festive shr...</td>\n",
       "      <td>positive</td>\n",
       "    </tr>\n",
       "    <tr>\n",
       "      <th>3</th>\n",
       "      <td>Cabo Mexican Restaurant</td>\n",
       "      <td>1.0</td>\n",
       "      <td>dismal lukewarm defrostedtasting texmex glop m...</td>\n",
       "      <td>negative</td>\n",
       "    </tr>\n",
       "    <tr>\n",
       "      <th>4</th>\n",
       "      <td>Raising Cane's Chicken Fingers</td>\n",
       "      <td>4.0</td>\n",
       "      <td>oh hapy day finaly cane near casa yes others g...</td>\n",
       "      <td>positive</td>\n",
       "    </tr>\n",
       "    <tr>\n",
       "      <th>...</th>\n",
       "      <td>...</td>\n",
       "      <td>...</td>\n",
       "      <td>...</td>\n",
       "      <td>...</td>\n",
       "    </tr>\n",
       "    <tr>\n",
       "      <th>99995</th>\n",
       "      <td>KUMI by Chef Akira Back</td>\n",
       "      <td>4.0</td>\n",
       "      <td>great place protein rol hot me realy special f...</td>\n",
       "      <td>positive</td>\n",
       "    </tr>\n",
       "    <tr>\n",
       "      <th>99996</th>\n",
       "      <td>Urban Beans</td>\n",
       "      <td>5.0</td>\n",
       "      <td>ive enjoyed cofe iced tea excelent service chi...</td>\n",
       "      <td>positive</td>\n",
       "    </tr>\n",
       "    <tr>\n",
       "      <th>99997</th>\n",
       "      <td>Eddie V's Prime Seafood</td>\n",
       "      <td>3.0</td>\n",
       "      <td>huge fan overated ambience nice fod ok time pr...</td>\n",
       "      <td>neutral</td>\n",
       "    </tr>\n",
       "    <tr>\n",
       "      <th>99998</th>\n",
       "      <td>Tommy Bahama Restaurant | Bar | Store - Las Vegas</td>\n",
       "      <td>4.0</td>\n",
       "      <td>diner hub family service okay super busy holid...</td>\n",
       "      <td>positive</td>\n",
       "    </tr>\n",
       "    <tr>\n",
       "      <th>99999</th>\n",
       "      <td>Sake Rok</td>\n",
       "      <td>1.0</td>\n",
       "      <td>absolutely horific waited 15 minute get water ...</td>\n",
       "      <td>negative</td>\n",
       "    </tr>\n",
       "  </tbody>\n",
       "</table>\n",
       "<p>100000 rows × 4 columns</p>\n",
       "</div>"
      ],
      "text/plain": [
       "                                           business_name  stars  \\\n",
       "0                           Bellagio Gallery of Fine Art    2.0   \n",
       "1                                         Rio Hair Salon    1.0   \n",
       "2                                 Deagan's Kitchen & Bar    5.0   \n",
       "3                                Cabo Mexican Restaurant    1.0   \n",
       "4                         Raising Cane's Chicken Fingers    4.0   \n",
       "...                                                  ...    ...   \n",
       "99995                            KUMI by Chef Akira Back    4.0   \n",
       "99996                                        Urban Beans    5.0   \n",
       "99997                            Eddie V's Prime Seafood    3.0   \n",
       "99998  Tommy Bahama Restaurant | Bar | Store - Las Vegas    4.0   \n",
       "99999                                           Sake Rok    1.0   \n",
       "\n",
       "                                                    text sentiment  \n",
       "0      someone worked many museum eager visit galery ...  negative  \n",
       "1      actualy horified place stil busines 3 year old...  negative  \n",
       "2      love deagans realy atmosphere cozy festive shr...  positive  \n",
       "3      dismal lukewarm defrostedtasting texmex glop m...  negative  \n",
       "4      oh hapy day finaly cane near casa yes others g...  positive  \n",
       "...                                                  ...       ...  \n",
       "99995  great place protein rol hot me realy special f...  positive  \n",
       "99996  ive enjoyed cofe iced tea excelent service chi...  positive  \n",
       "99997  huge fan overated ambience nice fod ok time pr...   neutral  \n",
       "99998  diner hub family service okay super busy holid...  positive  \n",
       "99999  absolutely horific waited 15 minute get water ...  negative  \n",
       "\n",
       "[100000 rows x 4 columns]"
      ]
     },
     "execution_count": 11,
     "metadata": {},
     "output_type": "execute_result"
    }
   ],
   "source": [
    "#label positive, negative, neutral sentiments based on the star ratings\n",
    "condition = [(df_reviews_100k['stars']>=4), (df_reviews_100k['stars']<=2), (df_reviews_100k['stars']==3)]\n",
    "values = ['positive','negative','neutral']\n",
    "df_reviews_100k['sentiment']=np.select(condition, values)\n",
    "df_reviews_100k"
   ]
  },
  {
   "cell_type": "code",
   "execution_count": 33,
   "metadata": {},
   "outputs": [
    {
     "data": {
      "text/html": [
       "<div>\n",
       "<style scoped>\n",
       "    .dataframe tbody tr th:only-of-type {\n",
       "        vertical-align: middle;\n",
       "    }\n",
       "\n",
       "    .dataframe tbody tr th {\n",
       "        vertical-align: top;\n",
       "    }\n",
       "\n",
       "    .dataframe thead th {\n",
       "        text-align: right;\n",
       "    }\n",
       "</style>\n",
       "<table border=\"1\" class=\"dataframe\">\n",
       "  <thead>\n",
       "    <tr style=\"text-align: right;\">\n",
       "      <th></th>\n",
       "      <th>business_name</th>\n",
       "      <th>stars</th>\n",
       "      <th>text</th>\n",
       "      <th>sentiment</th>\n",
       "    </tr>\n",
       "  </thead>\n",
       "  <tbody>\n",
       "    <tr>\n",
       "      <th>0</th>\n",
       "      <td>Bellagio Gallery of Fine Art</td>\n",
       "      <td>2.0</td>\n",
       "      <td>someone worked many museum eager visit galery ...</td>\n",
       "      <td>negative</td>\n",
       "    </tr>\n",
       "    <tr>\n",
       "      <th>1</th>\n",
       "      <td>Rio Hair Salon</td>\n",
       "      <td>1.0</td>\n",
       "      <td>actualy horified place stil busines 3 year old...</td>\n",
       "      <td>negative</td>\n",
       "    </tr>\n",
       "    <tr>\n",
       "      <th>2</th>\n",
       "      <td>Deagan's Kitchen &amp; Bar</td>\n",
       "      <td>5.0</td>\n",
       "      <td>love deagans realy atmosphere cozy festive shr...</td>\n",
       "      <td>positive</td>\n",
       "    </tr>\n",
       "    <tr>\n",
       "      <th>3</th>\n",
       "      <td>Cabo Mexican Restaurant</td>\n",
       "      <td>1.0</td>\n",
       "      <td>dismal lukewarm defrostedtasting texmex glop m...</td>\n",
       "      <td>negative</td>\n",
       "    </tr>\n",
       "    <tr>\n",
       "      <th>4</th>\n",
       "      <td>Raising Cane's Chicken Fingers</td>\n",
       "      <td>4.0</td>\n",
       "      <td>oh hapy day finaly cane near casa yes others g...</td>\n",
       "      <td>positive</td>\n",
       "    </tr>\n",
       "    <tr>\n",
       "      <th>...</th>\n",
       "      <td>...</td>\n",
       "      <td>...</td>\n",
       "      <td>...</td>\n",
       "      <td>...</td>\n",
       "    </tr>\n",
       "    <tr>\n",
       "      <th>99995</th>\n",
       "      <td>KUMI by Chef Akira Back</td>\n",
       "      <td>4.0</td>\n",
       "      <td>great place protein rol hot me realy special f...</td>\n",
       "      <td>positive</td>\n",
       "    </tr>\n",
       "    <tr>\n",
       "      <th>99996</th>\n",
       "      <td>Urban Beans</td>\n",
       "      <td>5.0</td>\n",
       "      <td>ive enjoyed cofe iced tea excelent service chi...</td>\n",
       "      <td>positive</td>\n",
       "    </tr>\n",
       "    <tr>\n",
       "      <th>99997</th>\n",
       "      <td>Eddie V's Prime Seafood</td>\n",
       "      <td>3.0</td>\n",
       "      <td>huge fan overated ambience nice fod ok time pr...</td>\n",
       "      <td>neutral</td>\n",
       "    </tr>\n",
       "    <tr>\n",
       "      <th>99998</th>\n",
       "      <td>Tommy Bahama Restaurant | Bar | Store - Las Vegas</td>\n",
       "      <td>4.0</td>\n",
       "      <td>diner hub family service okay super busy holid...</td>\n",
       "      <td>positive</td>\n",
       "    </tr>\n",
       "    <tr>\n",
       "      <th>99999</th>\n",
       "      <td>Sake Rok</td>\n",
       "      <td>1.0</td>\n",
       "      <td>absolutely horific waited 15 minute get water ...</td>\n",
       "      <td>negative</td>\n",
       "    </tr>\n",
       "  </tbody>\n",
       "</table>\n",
       "<p>100000 rows × 4 columns</p>\n",
       "</div>"
      ],
      "text/plain": [
       "                                           business_name  stars  \\\n",
       "0                           Bellagio Gallery of Fine Art    2.0   \n",
       "1                                         Rio Hair Salon    1.0   \n",
       "2                                 Deagan's Kitchen & Bar    5.0   \n",
       "3                                Cabo Mexican Restaurant    1.0   \n",
       "4                         Raising Cane's Chicken Fingers    4.0   \n",
       "...                                                  ...    ...   \n",
       "99995                            KUMI by Chef Akira Back    4.0   \n",
       "99996                                        Urban Beans    5.0   \n",
       "99997                            Eddie V's Prime Seafood    3.0   \n",
       "99998  Tommy Bahama Restaurant | Bar | Store - Las Vegas    4.0   \n",
       "99999                                           Sake Rok    1.0   \n",
       "\n",
       "                                                    text sentiment  \n",
       "0      someone worked many museum eager visit galery ...  negative  \n",
       "1      actualy horified place stil busines 3 year old...  negative  \n",
       "2      love deagans realy atmosphere cozy festive shr...  positive  \n",
       "3      dismal lukewarm defrostedtasting texmex glop m...  negative  \n",
       "4      oh hapy day finaly cane near casa yes others g...  positive  \n",
       "...                                                  ...       ...  \n",
       "99995  great place protein rol hot me realy special f...  positive  \n",
       "99996  ive enjoyed cofe iced tea excelent service chi...  positive  \n",
       "99997  huge fan overated ambience nice fod ok time pr...   neutral  \n",
       "99998  diner hub family service okay super busy holid...  positive  \n",
       "99999  absolutely horific waited 15 minute get water ...  negative  \n",
       "\n",
       "[100000 rows x 4 columns]"
      ]
     },
     "execution_count": 33,
     "metadata": {},
     "output_type": "execute_result"
    }
   ],
   "source": [
    "#save in CSV\n",
    "#df_reviews_100k.to_csv('data/pre_yelp_100k_sentiment.csv', index=False)\n",
    "\n",
    "#checkpoint: load 100k sentiment data from csv\n",
    "df_reviews_sentiment = pd.read_csv('data/pre_yelp_100k_sentiment.csv')\n",
    "df_reviews_sentiment"
   ]
  },
  {
   "cell_type": "code",
   "execution_count": 16,
   "metadata": {},
   "outputs": [
    {
     "data": {
      "image/png": "[encoded data removed]",
      "text/plain": [
       "<Figure size 432x432 with 1 Axes>"
      ]
     },
     "metadata": {},
     "output_type": "display_data"
    }
   ],
   "source": [
    "#plot the sentiment distribution\n",
    "plt.figure(figsize=(6,6))\n",
    "df_reviews_sentiment['sentiment'].value_counts().plot(kind='pie', autopct='%1.0f%%')\n",
    "plt.title('Review Sentiments');"
   ]
  },
  {
   "cell_type": "code",
   "execution_count": 55,
   "metadata": {},
   "outputs": [
    {
     "data": {
      "text/html": [
       "<div>\n",
       "<style scoped>\n",
       "    .dataframe tbody tr th:only-of-type {\n",
       "        vertical-align: middle;\n",
       "    }\n",
       "\n",
       "    .dataframe tbody tr th {\n",
       "        vertical-align: top;\n",
       "    }\n",
       "\n",
       "    .dataframe thead th {\n",
       "        text-align: right;\n",
       "    }\n",
       "</style>\n",
       "<table border=\"1\" class=\"dataframe\">\n",
       "  <thead>\n",
       "    <tr style=\"text-align: right;\">\n",
       "      <th></th>\n",
       "      <th>business_name</th>\n",
       "      <th>stars</th>\n",
       "      <th>text</th>\n",
       "      <th>sentiment</th>\n",
       "    </tr>\n",
       "  </thead>\n",
       "  <tbody>\n",
       "    <tr>\n",
       "      <th>0</th>\n",
       "      <td>Bellagio Gallery of Fine Art</td>\n",
       "      <td>2.0</td>\n",
       "      <td>someone worked many museum eager visit galery ...</td>\n",
       "      <td>negative</td>\n",
       "    </tr>\n",
       "    <tr>\n",
       "      <th>1</th>\n",
       "      <td>Rio Hair Salon</td>\n",
       "      <td>1.0</td>\n",
       "      <td>actualy horified place stil busines 3 year old...</td>\n",
       "      <td>negative</td>\n",
       "    </tr>\n",
       "    <tr>\n",
       "      <th>2</th>\n",
       "      <td>Deagan's Kitchen &amp; Bar</td>\n",
       "      <td>5.0</td>\n",
       "      <td>love deagans realy atmosphere cozy festive shr...</td>\n",
       "      <td>positive</td>\n",
       "    </tr>\n",
       "    <tr>\n",
       "      <th>3</th>\n",
       "      <td>Cabo Mexican Restaurant</td>\n",
       "      <td>1.0</td>\n",
       "      <td>dismal lukewarm defrostedtasting texmex glop m...</td>\n",
       "      <td>negative</td>\n",
       "    </tr>\n",
       "    <tr>\n",
       "      <th>4</th>\n",
       "      <td>Raising Cane's Chicken Fingers</td>\n",
       "      <td>4.0</td>\n",
       "      <td>oh hapy day finaly cane near casa yes others g...</td>\n",
       "      <td>positive</td>\n",
       "    </tr>\n",
       "    <tr>\n",
       "      <th>...</th>\n",
       "      <td>...</td>\n",
       "      <td>...</td>\n",
       "      <td>...</td>\n",
       "      <td>...</td>\n",
       "    </tr>\n",
       "    <tr>\n",
       "      <th>11219</th>\n",
       "      <td>Morcilla</td>\n",
       "      <td>5.0</td>\n",
       "      <td>amazing fod glorious bevs could want litle cel...</td>\n",
       "      <td>positive</td>\n",
       "    </tr>\n",
       "    <tr>\n",
       "      <th>11220</th>\n",
       "      <td>Abuelo's Mexican Restaurant</td>\n",
       "      <td>1.0</td>\n",
       "      <td>wife ben going abuelos year fel like mexican f...</td>\n",
       "      <td>negative</td>\n",
       "    </tr>\n",
       "    <tr>\n",
       "      <th>11221</th>\n",
       "      <td>Crush</td>\n",
       "      <td>5.0</td>\n",
       "      <td>best vegan gardein chicken plate brocolini blo...</td>\n",
       "      <td>positive</td>\n",
       "    </tr>\n",
       "    <tr>\n",
       "      <th>11222</th>\n",
       "      <td>Swensons Drive-In</td>\n",
       "      <td>5.0</td>\n",
       "      <td>went first time today got excited heard great ...</td>\n",
       "      <td>positive</td>\n",
       "    </tr>\n",
       "    <tr>\n",
       "      <th>11223</th>\n",
       "      <td>Carolina Express Clinic</td>\n",
       "      <td>5.0</td>\n",
       "      <td>second time im stil leaving ful positivity hap...</td>\n",
       "      <td>positive</td>\n",
       "    </tr>\n",
       "  </tbody>\n",
       "</table>\n",
       "<p>10000 rows × 4 columns</p>\n",
       "</div>"
      ],
      "text/plain": [
       "                        business_name  stars  \\\n",
       "0        Bellagio Gallery of Fine Art    2.0   \n",
       "1                      Rio Hair Salon    1.0   \n",
       "2              Deagan's Kitchen & Bar    5.0   \n",
       "3             Cabo Mexican Restaurant    1.0   \n",
       "4      Raising Cane's Chicken Fingers    4.0   \n",
       "...                               ...    ...   \n",
       "11219                        Morcilla    5.0   \n",
       "11220     Abuelo's Mexican Restaurant    1.0   \n",
       "11221                           Crush    5.0   \n",
       "11222               Swensons Drive-In    5.0   \n",
       "11223         Carolina Express Clinic    5.0   \n",
       "\n",
       "                                                    text sentiment  \n",
       "0      someone worked many museum eager visit galery ...  negative  \n",
       "1      actualy horified place stil busines 3 year old...  negative  \n",
       "2      love deagans realy atmosphere cozy festive shr...  positive  \n",
       "3      dismal lukewarm defrostedtasting texmex glop m...  negative  \n",
       "4      oh hapy day finaly cane near casa yes others g...  positive  \n",
       "...                                                  ...       ...  \n",
       "11219  amazing fod glorious bevs could want litle cel...  positive  \n",
       "11220  wife ben going abuelos year fel like mexican f...  negative  \n",
       "11221  best vegan gardein chicken plate brocolini blo...  positive  \n",
       "11222  went first time today got excited heard great ...  positive  \n",
       "11223  second time im stil leaving ful positivity hap...  positive  \n",
       "\n",
       "[10000 rows x 4 columns]"
      ]
     },
     "execution_count": 55,
     "metadata": {},
     "output_type": "execute_result"
    }
   ],
   "source": [
    "#we will exclude neutral sentiments as we want to focus on extracting positive/negative sentiments\n",
    "#for the testing purpose, we will only use 10k entries\n",
    "df_reviews_sentiment = df_reviews_sentiment[df_reviews_sentiment['sentiment']!='neutral'][:10000]\n",
    "df_reviews_sentiment"
   ]
  },
  {
   "cell_type": "markdown",
   "metadata": {},
   "source": [
    "### TF-IDF - Feature Extraction"
   ]
  },
  {
   "cell_type": "code",
   "execution_count": 130,
   "metadata": {},
   "outputs": [
    {
     "data": {
      "text/plain": [
       "array([[0.        , 0.        , 0.        , ..., 0.        , 0.        ,\n",
       "        0.        ],\n",
       "       [0.06242781, 0.        , 0.        , ..., 0.        , 0.        ,\n",
       "        0.        ],\n",
       "       [0.        , 0.        , 0.        , ..., 0.        , 0.        ,\n",
       "        0.        ],\n",
       "       ...,\n",
       "       [0.        , 0.        , 0.        , ..., 0.        , 0.        ,\n",
       "        0.        ],\n",
       "       [0.        , 0.        , 0.        , ..., 0.        , 0.        ,\n",
       "        0.        ],\n",
       "       [0.        , 0.        , 0.        , ..., 0.        , 0.        ,\n",
       "        0.        ]])"
      ]
     },
     "execution_count": 130,
     "metadata": {},
     "output_type": "execute_result"
    }
   ],
   "source": [
    "#TF-IDF using Scikit-Learn library\n",
    "from nltk.corpus import stopwords\n",
    "from sklearn.feature_extraction.text import TfidfVectorizer\n",
    "from sklearn.model_selection import train_test_split\n",
    "from sklearn.ensemble import RandomForestClassifier\n",
    "\n",
    "#max_features:uses the 2,500 most frequently occuring words - removed\n",
    "#min_df:include words that occur in at least 7 documents\n",
    "#max_df:use words that occur in a maximum of 80% of the documents\n",
    "vectorizer = TfidfVectorizer (min_df=7, max_df=0.8, stop_words=stopwords.words('english'))\n",
    "processed_features = vectorizer.fit_transform(df_reviews_sentiment['text'].values.astype('U')).toarray()\n",
    "\n",
    "processed_features"
   ]
  },
  {
   "cell_type": "code",
   "execution_count": 131,
   "metadata": {},
   "outputs": [],
   "source": [
    "#split into training and test datasets in 8:2 ratio\n",
    "X_train, X_test, y_train, y_test = train_test_split(processed_features, df_reviews_sentiment['sentiment'], test_size=0.2, random_state=0)"
   ]
  },
  {
   "cell_type": "markdown",
   "metadata": {},
   "source": [
    "### 1. Logistic Regression Model"
   ]
  },
  {
   "cell_type": "code",
   "execution_count": 158,
   "metadata": {},
   "outputs": [
    {
     "name": "stdout",
     "output_type": "stream",
     "text": [
      "Score on training set:  0.95175\n",
      "Score on test set:  0.9115\n"
     ]
    }
   ],
   "source": [
    "######## 1. LOGISTIC REGRESSION ########\n",
    "\n",
    "# fitting a logistic regression model\n",
    "from sklearn.linear_model import LogisticRegression\n",
    "import warnings\n",
    "warnings.filterwarnings(\"ignore\")\n",
    "\n",
    "# Fitting Logistic regression to the training set\n",
    "log_model = LogisticRegression(solver='lbfgs',multi_class='auto',random_state=1)\n",
    "log_model.fit(X_train, y_train)\n",
    "\n",
    "# Predicting the test set results\n",
    "log_pred = log_model.predict(X_test)\n",
    "\n",
    "# Training score\n",
    "print(\"Score on training set: \", log_model.score(X_train,y_train))\n",
    "print(\"Score on test set: \",log_model.score(X_test,y_test))"
   ]
  },
  {
   "cell_type": "code",
   "execution_count": 159,
   "metadata": {},
   "outputs": [
    {
     "name": "stdout",
     "output_type": "stream",
     "text": [
      "[[ 364  151]\n",
      " [  26 1459]]\n",
      "              precision    recall  f1-score   support\n",
      "\n",
      "    negative       0.93      0.71      0.80       515\n",
      "    positive       0.91      0.98      0.94      1485\n",
      "\n",
      "    accuracy                           0.91      2000\n",
      "   macro avg       0.92      0.84      0.87      2000\n",
      "weighted avg       0.91      0.91      0.91      2000\n",
      "\n",
      "accuracy score:  0.9115\n"
     ]
    },
    {
     "data": {
      "text/plain": [
       "'\\n[[ 364  151]\\n [  26 1459]]\\n              precision    recall  f1-score   support\\n\\n    negative       0.93      0.71      0.80       515\\n    positive       0.91      0.98      0.94      1485\\n\\n    accuracy                           0.91      2000\\n   macro avg       0.92      0.84      0.87      2000\\nweighted avg       0.91      0.91      0.91      2000\\n\\n0.9115\\n'"
      ]
     },
     "execution_count": 159,
     "metadata": {},
     "output_type": "execute_result"
    }
   ],
   "source": [
    "print(confusion_matrix(y_test,log_pred))\n",
    "print(classification_report(y_test,log_pred))\n",
    "print(\"accuracy score: \",accuracy_score(y_test, log_pred))\n",
    "\n",
    "\"\"\"\n",
    "[[ 364  151]\n",
    " [  26 1459]]\n",
    "              precision    recall  f1-score   support\n",
    "\n",
    "    negative       0.93      0.71      0.80       515\n",
    "    positive       0.91      0.98      0.94      1485\n",
    "\n",
    "    accuracy                           0.91      2000\n",
    "   macro avg       0.92      0.84      0.87      2000\n",
    "weighted avg       0.91      0.91      0.91      2000\n",
    "\n",
    "0.9115\n",
    "\"\"\""
   ]
  },
  {
   "cell_type": "code",
   "execution_count": 160,
   "metadata": {},
   "outputs": [
    {
     "data": {
      "image/png": "[encoded data removed]",
      "text/plain": [
       "<Figure size 648x432 with 2 Axes>"
      ]
     },
     "metadata": {},
     "output_type": "display_data"
    }
   ],
   "source": [
    "def plot_confusion_matrix(data, labels, output_filename):\n",
    "    \"\"\"Plot confusion matrix using heatmap.\n",
    " \n",
    "    Args:\n",
    "        data (list of list): List of lists with confusion matrix data.\n",
    "        labels (list): Labels which will be plotted across x and y axis.\n",
    "        output_filename (str): Path to output file.\n",
    " \n",
    "    \"\"\"\n",
    "    sns.set(color_codes=True)\n",
    "    plt.figure(1, figsize=(9, 6))\n",
    " \n",
    "    plt.title(\"Confusion Matrix\")\n",
    " \n",
    "    sns.set(font_scale=1.4)\n",
    "    ax = sns.heatmap(data, annot=True, cmap=\"YlGnBu\", cbar_kws={'label': 'Scale'}, fmt='g')\n",
    " \n",
    "    ax.set_xticklabels(labels)\n",
    "    ax.set_yticklabels(labels)\n",
    "    ax.set(ylabel='Actual values', xlabel='Predication')\n",
    "\n",
    "    #plt.savefig(output_filename, bbox_inches='tight', dpi=300)\n",
    "\n",
    "    plt.show()\n",
    "    plt.close()\n",
    "\n",
    "# define data\n",
    "data = confusion_matrix(y_test,log_pred)\n",
    " \n",
    "# plot confusion matrix\n",
    "plot_confusion_matrix(data, labels, \"confusion_matrix.png\")"
   ]
  },
  {
   "cell_type": "markdown",
   "metadata": {},
   "source": [
    "### 2. CART Classifier"
   ]
  },
  {
   "cell_type": "code",
   "execution_count": 161,
   "metadata": {},
   "outputs": [],
   "source": [
    "from sklearn.tree import DecisionTreeClassifier\n",
    "\n",
    "# Create and train decision tree classifer object\n",
    "clf = DecisionTreeClassifier()\n",
    "clf = clf.fit(X_train,y_train)\n",
    "\n",
    "# Predicting the test set\n",
    "clf_pred = clf.predict(X_test)"
   ]
  },
  {
   "cell_type": "code",
   "execution_count": 163,
   "metadata": {},
   "outputs": [
    {
     "name": "stdout",
     "output_type": "stream",
     "text": [
      "CART score - trainnig set:  1.0\n",
      "CART score - test set:  0.823\n",
      "[[ 341  174]\n",
      " [ 180 1305]]\n",
      "              precision    recall  f1-score   support\n",
      "\n",
      "    negative       0.65      0.66      0.66       515\n",
      "    positive       0.88      0.88      0.88      1485\n",
      "\n",
      "    accuracy                           0.82      2000\n",
      "   macro avg       0.77      0.77      0.77      2000\n",
      "weighted avg       0.82      0.82      0.82      2000\n",
      "\n",
      "accuracy score:  0.823\n"
     ]
    },
    {
     "data": {
      "text/plain": [
       "'\\n[[ 329  186]\\n [ 172 1313]]\\n              precision    recall  f1-score   support\\n\\n    negative       0.66      0.64      0.65       515\\n    positive       0.88      0.88      0.88      1485\\n\\n    accuracy                           0.82      2000\\n   macro avg       0.77      0.76      0.76      2000\\nweighted avg       0.82      0.82      0.82      2000\\n\\naccuracy score:  0.821\\n'"
      ]
     },
     "execution_count": 163,
     "metadata": {},
     "output_type": "execute_result"
    }
   ],
   "source": [
    "# training score\n",
    "print(\"CART score - trainnig set: \",clf.score(X_train, y_train))\n",
    "print(\"CART score - test set: \",clf.score(X_test, y_test))\n",
    "print(confusion_matrix(y_test,clf_pred))\n",
    "print(classification_report(y_test,clf_pred))\n",
    "print(\"accuracy score: \",accuracy_score(y_test, clf_pred))\n",
    "\n",
    "\n",
    "\"\"\"\n",
    "[[ 329  186]\n",
    " [ 172 1313]]\n",
    "              precision    recall  f1-score   support\n",
    "\n",
    "    negative       0.66      0.64      0.65       515\n",
    "    positive       0.88      0.88      0.88      1485\n",
    "\n",
    "    accuracy                           0.82      2000\n",
    "   macro avg       0.77      0.76      0.76      2000\n",
    "weighted avg       0.82      0.82      0.82      2000\n",
    "\n",
    "accuracy score:  0.821\n",
    "\"\"\""
   ]
  },
  {
   "cell_type": "code",
   "execution_count": 168,
   "metadata": {},
   "outputs": [
    {
     "data": {
      "image/svg+xml": [
       "<?xml version=\"1.0\" encoding=\"UTF-8\" standalone=\"no\"?>\n",
       "<!DOCTYPE svg PUBLIC \"-//W3C//DTD SVG 1.1//EN\"\n",
       " \"http://www.w3.org/Graphics/SVG/1.1/DTD/svg11.dtd\">\n",
       "<!-- Generated by graphviz version 2.38.0 (20140413.2041)\n",
       " -->\n",
       "<!-- Title: Tree Pages: 1 -->\n",
       "<svg width=\"621pt\" height=\"356pt\"\n",
       " viewBox=\"0.00 0.00 621.00 356.00\" xmlns=\"http://www.w3.org/2000/svg\" xmlns:xlink=\"http://www.w3.org/1999/xlink\">\n",
       "<g id=\"graph0\" class=\"graph\" transform=\"scale(1 1) rotate(0) translate(4 352)\">\n",
       "<title>Tree</title>\n",
       "<polygon fill=\"white\" stroke=\"none\" points=\"-4,4 -4,-352 617,-352 617,4 -4,4\"/>\n",
       "<!-- 0 -->\n",
       "<g id=\"node1\" class=\"node\"><title>0</title>\n",
       "<polygon fill=\"#7cbeee\" stroke=\"black\" points=\"378,-348 246,-348 246,-280 378,-280 378,-348\"/>\n",
       "<text text-anchor=\"middle\" x=\"312\" y=\"-332.8\" font-family=\"Times,serif\" font-size=\"14.00\">great &lt;= 0.04</text>\n",
       "<text text-anchor=\"middle\" x=\"312\" y=\"-317.8\" font-family=\"Times,serif\" font-size=\"14.00\">gini = 0.377</text>\n",
       "<text text-anchor=\"middle\" x=\"312\" y=\"-302.8\" font-family=\"Times,serif\" font-size=\"14.00\">samples = 8000</text>\n",
       "<text text-anchor=\"middle\" x=\"312\" y=\"-287.8\" font-family=\"Times,serif\" font-size=\"14.00\">value = [2017, 5983]</text>\n",
       "</g>\n",
       "<!-- 1 -->\n",
       "<g id=\"node2\" class=\"node\"><title>1</title>\n",
       "<polygon fill=\"#99cdf2\" stroke=\"black\" points=\"305,-244 173,-244 173,-176 305,-176 305,-244\"/>\n",
       "<text text-anchor=\"middle\" x=\"239\" y=\"-228.8\" font-family=\"Times,serif\" font-size=\"14.00\">told &lt;= 0.035</text>\n",
       "<text text-anchor=\"middle\" x=\"239\" y=\"-213.8\" font-family=\"Times,serif\" font-size=\"14.00\">gini = 0.44</text>\n",
       "<text text-anchor=\"middle\" x=\"239\" y=\"-198.8\" font-family=\"Times,serif\" font-size=\"14.00\">samples = 5685</text>\n",
       "<text text-anchor=\"middle\" x=\"239\" y=\"-183.8\" font-family=\"Times,serif\" font-size=\"14.00\">value = [1860, 3825]</text>\n",
       "</g>\n",
       "<!-- 0&#45;&gt;1 -->\n",
       "<g id=\"edge1\" class=\"edge\"><title>0&#45;&gt;1</title>\n",
       "<path fill=\"none\" stroke=\"black\" d=\"M288.299,-279.884C282.052,-271.154 275.231,-261.625 268.711,-252.514\"/>\n",
       "<polygon fill=\"black\" stroke=\"black\" points=\"271.498,-250.394 262.832,-244.299 265.806,-254.468 271.498,-250.394\"/>\n",
       "<text text-anchor=\"middle\" x=\"258.745\" y=\"-265.263\" font-family=\"Times,serif\" font-size=\"14.00\">True</text>\n",
       "</g>\n",
       "<!-- 968 -->\n",
       "<g id=\"node9\" class=\"node\"><title>968</title>\n",
       "<polygon fill=\"#47a4e7\" stroke=\"black\" points=\"448.5,-244 323.5,-244 323.5,-176 448.5,-176 448.5,-244\"/>\n",
       "<text text-anchor=\"middle\" x=\"386\" y=\"-228.8\" font-family=\"Times,serif\" font-size=\"14.00\">ok &lt;= 0.041</text>\n",
       "<text text-anchor=\"middle\" x=\"386\" y=\"-213.8\" font-family=\"Times,serif\" font-size=\"14.00\">gini = 0.126</text>\n",
       "<text text-anchor=\"middle\" x=\"386\" y=\"-198.8\" font-family=\"Times,serif\" font-size=\"14.00\">samples = 2315</text>\n",
       "<text text-anchor=\"middle\" x=\"386\" y=\"-183.8\" font-family=\"Times,serif\" font-size=\"14.00\">value = [157, 2158]</text>\n",
       "</g>\n",
       "<!-- 0&#45;&gt;968 -->\n",
       "<g id=\"edge8\" class=\"edge\"><title>0&#45;&gt;968</title>\n",
       "<path fill=\"none\" stroke=\"black\" d=\"M336.026,-279.884C342.359,-271.154 349.272,-261.625 355.882,-252.514\"/>\n",
       "<polygon fill=\"black\" stroke=\"black\" points=\"358.802,-254.449 361.842,-244.299 353.136,-250.338 358.802,-254.449\"/>\n",
       "<text text-anchor=\"middle\" x=\"365.77\" y=\"-265.289\" font-family=\"Times,serif\" font-size=\"14.00\">False</text>\n",
       "</g>\n",
       "<!-- 2 -->\n",
       "<g id=\"node3\" class=\"node\"><title>2</title>\n",
       "<polygon fill=\"#8cc6f0\" stroke=\"black\" points=\"161,-140 29,-140 29,-72 161,-72 161,-140\"/>\n",
       "<text text-anchor=\"middle\" x=\"95\" y=\"-124.8\" font-family=\"Times,serif\" font-size=\"14.00\">worst &lt;= 0.02</text>\n",
       "<text text-anchor=\"middle\" x=\"95\" y=\"-109.8\" font-family=\"Times,serif\" font-size=\"14.00\">gini = 0.417</text>\n",
       "<text text-anchor=\"middle\" x=\"95\" y=\"-94.8\" font-family=\"Times,serif\" font-size=\"14.00\">samples = 5272</text>\n",
       "<text text-anchor=\"middle\" x=\"95\" y=\"-79.8\" font-family=\"Times,serif\" font-size=\"14.00\">value = [1559, 3713]</text>\n",
       "</g>\n",
       "<!-- 1&#45;&gt;2 -->\n",
       "<g id=\"edge2\" class=\"edge\"><title>1&#45;&gt;2</title>\n",
       "<path fill=\"none\" stroke=\"black\" d=\"M192.247,-175.884C178.918,-166.442 164.266,-156.064 150.471,-146.292\"/>\n",
       "<polygon fill=\"black\" stroke=\"black\" points=\"152.194,-143.223 142.011,-140.299 148.148,-148.936 152.194,-143.223\"/>\n",
       "</g>\n",
       "<!-- 883 -->\n",
       "<g id=\"node6\" class=\"node\"><title>883</title>\n",
       "<polygon fill=\"#efb083\" stroke=\"black\" points=\"302.5,-140 179.5,-140 179.5,-72 302.5,-72 302.5,-140\"/>\n",
       "<text text-anchor=\"middle\" x=\"241\" y=\"-124.8\" font-family=\"Times,serif\" font-size=\"14.00\">definitely &lt;= 0.045</text>\n",
       "<text text-anchor=\"middle\" x=\"241\" y=\"-109.8\" font-family=\"Times,serif\" font-size=\"14.00\">gini = 0.395</text>\n",
       "<text text-anchor=\"middle\" x=\"241\" y=\"-94.8\" font-family=\"Times,serif\" font-size=\"14.00\">samples = 413</text>\n",
       "<text text-anchor=\"middle\" x=\"241\" y=\"-79.8\" font-family=\"Times,serif\" font-size=\"14.00\">value = [301, 112]</text>\n",
       "</g>\n",
       "<!-- 1&#45;&gt;883 -->\n",
       "<g id=\"edge5\" class=\"edge\"><title>1&#45;&gt;883</title>\n",
       "<path fill=\"none\" stroke=\"black\" d=\"M239.649,-175.884C239.808,-167.778 239.981,-158.982 240.148,-150.472\"/>\n",
       "<polygon fill=\"black\" stroke=\"black\" points=\"243.65,-150.366 240.347,-140.299 236.652,-150.229 243.65,-150.366\"/>\n",
       "</g>\n",
       "<!-- 3 -->\n",
       "<g id=\"node4\" class=\"node\"><title>3</title>\n",
       "<polygon fill=\"#c0c0c0\" stroke=\"black\" points=\"54,-36 0,-36 0,-0 54,-0 54,-36\"/>\n",
       "<text text-anchor=\"middle\" x=\"27\" y=\"-14.3\" font-family=\"Times,serif\" font-size=\"14.00\">(...)</text>\n",
       "</g>\n",
       "<!-- 2&#45;&gt;3 -->\n",
       "<g id=\"edge3\" class=\"edge\"><title>2&#45;&gt;3</title>\n",
       "<path fill=\"none\" stroke=\"black\" d=\"M68.9039,-71.9961C61.6379,-62.8067 53.862,-52.9725 47.0058,-44.3014\"/>\n",
       "<polygon fill=\"black\" stroke=\"black\" points=\"49.7087,-42.0767 40.7608,-36.4034 44.2177,-46.4184 49.7087,-42.0767\"/>\n",
       "</g>\n",
       "<!-- 872 -->\n",
       "<g id=\"node5\" class=\"node\"><title>872</title>\n",
       "<polygon fill=\"#c0c0c0\" stroke=\"black\" points=\"126,-36 72,-36 72,-0 126,-0 126,-36\"/>\n",
       "<text text-anchor=\"middle\" x=\"99\" y=\"-14.3\" font-family=\"Times,serif\" font-size=\"14.00\">(...)</text>\n",
       "</g>\n",
       "<!-- 2&#45;&gt;872 -->\n",
       "<g id=\"edge4\" class=\"edge\"><title>2&#45;&gt;872</title>\n",
       "<path fill=\"none\" stroke=\"black\" d=\"M96.5351,-71.9961C96.9272,-63.5646 97.3446,-54.5902 97.7223,-46.4696\"/>\n",
       "<polygon fill=\"black\" stroke=\"black\" points=\"101.222,-46.5552 98.1905,-36.4034 94.2296,-46.2299 101.222,-46.5552\"/>\n",
       "</g>\n",
       "<!-- 884 -->\n",
       "<g id=\"node7\" class=\"node\"><title>884</title>\n",
       "<polygon fill=\"#c0c0c0\" stroke=\"black\" points=\"229,-36 175,-36 175,-0 229,-0 229,-36\"/>\n",
       "<text text-anchor=\"middle\" x=\"202\" y=\"-14.3\" font-family=\"Times,serif\" font-size=\"14.00\">(...)</text>\n",
       "</g>\n",
       "<!-- 883&#45;&gt;884 -->\n",
       "<g id=\"edge6\" class=\"edge\"><title>883&#45;&gt;884</title>\n",
       "<path fill=\"none\" stroke=\"black\" d=\"M226.033,-71.9961C222.081,-63.2804 217.865,-53.9846 214.086,-45.6514\"/>\n",
       "<polygon fill=\"black\" stroke=\"black\" points=\"217.21,-44.0651 209.892,-36.4034 210.835,-46.9562 217.21,-44.0651\"/>\n",
       "</g>\n",
       "<!-- 961 -->\n",
       "<g id=\"node8\" class=\"node\"><title>961</title>\n",
       "<polygon fill=\"#c0c0c0\" stroke=\"black\" points=\"301,-36 247,-36 247,-0 301,-0 301,-36\"/>\n",
       "<text text-anchor=\"middle\" x=\"274\" y=\"-14.3\" font-family=\"Times,serif\" font-size=\"14.00\">(...)</text>\n",
       "</g>\n",
       "<!-- 883&#45;&gt;961 -->\n",
       "<g id=\"edge7\" class=\"edge\"><title>883&#45;&gt;961</title>\n",
       "<path fill=\"none\" stroke=\"black\" d=\"M253.664,-71.9961C256.972,-63.3751 260.498,-54.1866 263.669,-45.9234\"/>\n",
       "<polygon fill=\"black\" stroke=\"black\" points=\"267.007,-46.9935 267.322,-36.4034 260.472,-44.4857 267.007,-46.9935\"/>\n",
       "</g>\n",
       "<!-- 969 -->\n",
       "<g id=\"node10\" class=\"node\"><title>969</title>\n",
       "<polygon fill=\"#46a3e7\" stroke=\"black\" points=\"447.5,-140 322.5,-140 322.5,-72 447.5,-72 447.5,-140\"/>\n",
       "<text text-anchor=\"middle\" x=\"385\" y=\"-124.8\" font-family=\"Times,serif\" font-size=\"14.00\">bland &lt;= 0.095</text>\n",
       "<text text-anchor=\"middle\" x=\"385\" y=\"-109.8\" font-family=\"Times,serif\" font-size=\"14.00\">gini = 0.112</text>\n",
       "<text text-anchor=\"middle\" x=\"385\" y=\"-94.8\" font-family=\"Times,serif\" font-size=\"14.00\">samples = 2261</text>\n",
       "<text text-anchor=\"middle\" x=\"385\" y=\"-79.8\" font-family=\"Times,serif\" font-size=\"14.00\">value = [135, 2126]</text>\n",
       "</g>\n",
       "<!-- 968&#45;&gt;969 -->\n",
       "<g id=\"edge9\" class=\"edge\"><title>968&#45;&gt;969</title>\n",
       "<path fill=\"none\" stroke=\"black\" d=\"M385.675,-175.884C385.596,-167.778 385.51,-158.982 385.426,-150.472\"/>\n",
       "<polygon fill=\"black\" stroke=\"black\" points=\"388.924,-150.265 385.326,-140.299 381.925,-150.333 388.924,-150.265\"/>\n",
       "</g>\n",
       "<!-- 1138 -->\n",
       "<g id=\"node13\" class=\"node\"><title>1138</title>\n",
       "<polygon fill=\"#c1e0f7\" stroke=\"black\" points=\"570.5,-140 465.5,-140 465.5,-72 570.5,-72 570.5,-140\"/>\n",
       "<text text-anchor=\"middle\" x=\"518\" y=\"-124.8\" font-family=\"Times,serif\" font-size=\"14.00\">last &lt;= 0.02</text>\n",
       "<text text-anchor=\"middle\" x=\"518\" y=\"-109.8\" font-family=\"Times,serif\" font-size=\"14.00\">gini = 0.483</text>\n",
       "<text text-anchor=\"middle\" x=\"518\" y=\"-94.8\" font-family=\"Times,serif\" font-size=\"14.00\">samples = 54</text>\n",
       "<text text-anchor=\"middle\" x=\"518\" y=\"-79.8\" font-family=\"Times,serif\" font-size=\"14.00\">value = [22, 32]</text>\n",
       "</g>\n",
       "<!-- 968&#45;&gt;1138 -->\n",
       "<g id=\"edge12\" class=\"edge\"><title>968&#45;&gt;1138</title>\n",
       "<path fill=\"none\" stroke=\"black\" d=\"M428.857,-175.884C440.96,-166.531 454.253,-156.259 466.794,-146.568\"/>\n",
       "<polygon fill=\"black\" stroke=\"black\" points=\"469.134,-149.183 474.907,-140.299 464.854,-143.644 469.134,-149.183\"/>\n",
       "</g>\n",
       "<!-- 970 -->\n",
       "<g id=\"node11\" class=\"node\"><title>970</title>\n",
       "<polygon fill=\"#c0c0c0\" stroke=\"black\" points=\"389,-36 335,-36 335,-0 389,-0 389,-36\"/>\n",
       "<text text-anchor=\"middle\" x=\"362\" y=\"-14.3\" font-family=\"Times,serif\" font-size=\"14.00\">(...)</text>\n",
       "</g>\n",
       "<!-- 969&#45;&gt;970 -->\n",
       "<g id=\"edge10\" class=\"edge\"><title>969&#45;&gt;970</title>\n",
       "<path fill=\"none\" stroke=\"black\" d=\"M376.173,-71.9961C373.893,-63.4699 371.464,-54.3885 369.273,-46.1962\"/>\n",
       "<polygon fill=\"black\" stroke=\"black\" points=\"372.619,-45.1596 366.654,-36.4034 365.857,-46.9682 372.619,-45.1596\"/>\n",
       "</g>\n",
       "<!-- 1131 -->\n",
       "<g id=\"node12\" class=\"node\"><title>1131</title>\n",
       "<polygon fill=\"#c0c0c0\" stroke=\"black\" points=\"461,-36 407,-36 407,-0 461,-0 461,-36\"/>\n",
       "<text text-anchor=\"middle\" x=\"434\" y=\"-14.3\" font-family=\"Times,serif\" font-size=\"14.00\">(...)</text>\n",
       "</g>\n",
       "<!-- 969&#45;&gt;1131 -->\n",
       "<g id=\"edge11\" class=\"edge\"><title>969&#45;&gt;1131</title>\n",
       "<path fill=\"none\" stroke=\"black\" d=\"M403.805,-71.9961C408.878,-63.0909 414.297,-53.5802 419.124,-45.1093\"/>\n",
       "<polygon fill=\"black\" stroke=\"black\" points=\"422.175,-46.8247 424.084,-36.4034 416.093,-43.3593 422.175,-46.8247\"/>\n",
       "</g>\n",
       "<!-- 1139 -->\n",
       "<g id=\"node14\" class=\"node\"><title>1139</title>\n",
       "<polygon fill=\"#c0c0c0\" stroke=\"black\" points=\"541,-36 487,-36 487,-0 541,-0 541,-36\"/>\n",
       "<text text-anchor=\"middle\" x=\"514\" y=\"-14.3\" font-family=\"Times,serif\" font-size=\"14.00\">(...)</text>\n",
       "</g>\n",
       "<!-- 1138&#45;&gt;1139 -->\n",
       "<g id=\"edge13\" class=\"edge\"><title>1138&#45;&gt;1139</title>\n",
       "<path fill=\"none\" stroke=\"black\" d=\"M516.465,-71.9961C516.073,-63.5646 515.655,-54.5902 515.278,-46.4696\"/>\n",
       "<polygon fill=\"black\" stroke=\"black\" points=\"518.77,-46.2299 514.809,-36.4034 511.778,-46.5552 518.77,-46.2299\"/>\n",
       "</g>\n",
       "<!-- 1154 -->\n",
       "<g id=\"node15\" class=\"node\"><title>1154</title>\n",
       "<polygon fill=\"#c0c0c0\" stroke=\"black\" points=\"613,-36 559,-36 559,-0 613,-0 613,-36\"/>\n",
       "<text text-anchor=\"middle\" x=\"586\" y=\"-14.3\" font-family=\"Times,serif\" font-size=\"14.00\">(...)</text>\n",
       "</g>\n",
       "<!-- 1138&#45;&gt;1154 -->\n",
       "<g id=\"edge14\" class=\"edge\"><title>1138&#45;&gt;1154</title>\n",
       "<path fill=\"none\" stroke=\"black\" d=\"M544.096,-71.9961C551.362,-62.8067 559.138,-52.9725 565.994,-44.3014\"/>\n",
       "<polygon fill=\"black\" stroke=\"black\" points=\"568.782,-46.4184 572.239,-36.4034 563.291,-42.0767 568.782,-46.4184\"/>\n",
       "</g>\n",
       "</g>\n",
       "</svg>\n"
      ],
      "text/plain": [
       "<graphviz.files.Source at 0x7f66b89bf160>"
      ]
     },
     "execution_count": 168,
     "metadata": {},
     "output_type": "execute_result"
    }
   ],
   "source": [
    "#Visualize the tree\n",
    "import graphviz\n",
    "\n",
    "dot_data = tree.export_graphviz(clf, out_file=None, \n",
    "                                feature_names=vectorizer.get_feature_names(),  \n",
    "                                filled=True, max_depth=2)\n",
    "graphviz.Source(dot_data, format=\"png\")"
   ]
  },
  {
   "cell_type": "code",
   "execution_count": 157,
   "metadata": {},
   "outputs": [
    {
     "data": {
      "image/png": "[encoded data removed]",
      "text/plain": [
       "<Figure size 648x432 with 2 Axes>"
      ]
     },
     "metadata": {},
     "output_type": "display_data"
    }
   ],
   "source": [
    "# define data\n",
    "data = confusion_matrix(y_test,clf_pred)\n",
    " \n",
    "# plot confusion matrix\n",
    "plot_confusion_matrix(data, labels, \"confusion_matrix.png\")"
   ]
  },
  {
   "cell_type": "markdown",
   "metadata": {},
   "source": [
    "### 3. Random Forest"
   ]
  },
  {
   "cell_type": "code",
   "execution_count": 145,
   "metadata": {},
   "outputs": [
    {
     "data": {
      "text/plain": [
       "RandomForestClassifier(bootstrap=True, ccp_alpha=0.0, class_weight=None,\n",
       "                       criterion='gini', max_depth=None, max_features='auto',\n",
       "                       max_leaf_nodes=None, max_samples=None,\n",
       "                       min_impurity_decrease=0.0, min_impurity_split=None,\n",
       "                       min_samples_leaf=1, min_samples_split=2,\n",
       "                       min_weight_fraction_leaf=0.0, n_estimators=200,\n",
       "                       n_jobs=None, oob_score=False, random_state=0, verbose=0,\n",
       "                       warm_start=False)"
      ]
     },
     "execution_count": 145,
     "metadata": {},
     "output_type": "execute_result"
    }
   ],
   "source": [
    "#Build a Random Forest classifier model\n",
    "rf_model = RandomForestClassifier(n_estimators=200, random_state=0)\n",
    "rf_model.fit(X_train, y_train)"
   ]
  },
  {
   "cell_type": "code",
   "execution_count": 146,
   "metadata": {},
   "outputs": [],
   "source": [
    "# Predicting the test set\n",
    "predictions = text_classifier.predict(X_test)"
   ]
  },
  {
   "cell_type": "code",
   "execution_count": 147,
   "metadata": {},
   "outputs": [
    {
     "name": "stdout",
     "output_type": "stream",
     "text": [
      "[[ 312  203]\n",
      " [  22 1463]]\n",
      "              precision    recall  f1-score   support\n",
      "\n",
      "    negative       0.93      0.61      0.73       515\n",
      "    positive       0.88      0.99      0.93      1485\n",
      "\n",
      "    accuracy                           0.89      2000\n",
      "   macro avg       0.91      0.80      0.83      2000\n",
      "weighted avg       0.89      0.89      0.88      2000\n",
      "\n",
      "accuracy score:  0.8875\n"
     ]
    },
    {
     "data": {
      "text/plain": [
       "'\\n[[ 312  203]\\n [  22 1463]]\\n              precision    recall  f1-score   support\\n\\n    negative       0.93      0.61      0.73       515\\n    positive       0.88      0.99      0.93      1485\\n\\n    accuracy                           0.89      2000\\n   macro avg       0.91      0.80      0.83      2000\\nweighted avg       0.89      0.89      0.88      2000\\n\\n0.8875\\n'"
      ]
     },
     "execution_count": 147,
     "metadata": {},
     "output_type": "execute_result"
    }
   ],
   "source": [
    "from sklearn.metrics import classification_report, confusion_matrix, accuracy_score\n",
    "\n",
    "print(\"RF score - trainnig set: \",rf_model.score(X_train, y_train))\n",
    "print(\"RF score - test set: \",rf_model.score(X_test, y_test))\n",
    "\n",
    "#training score\n",
    "print(confusion_matrix(y_test,predictions))\n",
    "print(classification_report(y_test,predictions))\n",
    "print(\"accuracy score: \",accuracy_score(y_test, predictions))\n",
    "\n",
    "\"\"\"\n",
    "[[ 312  203]\n",
    " [  22 1463]]\n",
    "              precision    recall  f1-score   support\n",
    "\n",
    "    negative       0.93      0.61      0.73       515\n",
    "    positive       0.88      0.99      0.93      1485\n",
    "\n",
    "    accuracy                           0.89      2000\n",
    "   macro avg       0.91      0.80      0.83      2000\n",
    "weighted avg       0.89      0.89      0.88      2000\n",
    "\n",
    "0.8875\n",
    "\"\"\""
   ]
  },
  {
   "cell_type": "code",
   "execution_count": 148,
   "metadata": {},
   "outputs": [
    {
     "data": {
      "image/png": "[encoded data removed]",
      "text/plain": [
       "<Figure size 648x432 with 2 Axes>"
      ]
     },
     "metadata": {},
     "output_type": "display_data"
    }
   ],
   "source": [
    "# define data\n",
    "data = confusion_matrix(y_test,predictions)\n",
    " \n",
    "# define labels\n",
    "labels = [\"Negative\", \"Positive\"]\n",
    "\n",
    "# plot confusion matrix\n",
    "plot_confusion_matrix(data, labels, \"confusion_matrix.png\")"
   ]
  },
  {
   "cell_type": "markdown",
   "metadata": {},
   "source": [
    "### 4. XGBoost"
   ]
  },
  {
   "cell_type": "code",
   "execution_count": 149,
   "metadata": {},
   "outputs": [
    {
     "name": "stdout",
     "output_type": "stream",
     "text": [
      "XGBoost score - trainnig set:  0.985875\n",
      "XGBoost score - test set:  0.9135\n",
      "[[ 396  119]\n",
      " [  54 1431]]\n",
      "              precision    recall  f1-score   support\n",
      "\n",
      "    negative       0.88      0.77      0.82       515\n",
      "    positive       0.92      0.96      0.94      1485\n",
      "\n",
      "    accuracy                           0.91      2000\n",
      "   macro avg       0.90      0.87      0.88      2000\n",
      "weighted avg       0.91      0.91      0.91      2000\n",
      "\n",
      "accuracy score:  0.9135\n"
     ]
    }
   ],
   "source": [
    "from xgboost import XGBClassifier\n",
    "from sklearn.metrics import mean_squared_error\n",
    "\n",
    "#Build XGB model\n",
    "xgb_model = XGBClassifier(random_state=1)\n",
    "xgb_model.fit(X_train, y_train)\n",
    "\n",
    "# Predicting the test set\n",
    "xgb_pred = xgb_model.predict(X_test)"
   ]
  },
  {
   "cell_type": "code",
   "execution_count": null,
   "metadata": {},
   "outputs": [],
   "source": [
    "#training score\n",
    "print(\"XGBoost score - trainnig set: \",xgb_model.score(X_train, y_train))\n",
    "print(\"XGBoost score - test set: \",xgb_model.score(X_test, y_test))\n",
    "\n",
    "print(confusion_matrix(y_test,xgb_pred))\n",
    "print(classification_report(y_test,xgb_pred))\n",
    "print(\"accuracy score: \",accuracy_score(y_test, xgb_pred))\n",
    "\n",
    "\"\"\"\n",
    "XGBoost score - trainnig set:  0.985875\n",
    "XGBoost score - test set:  0.9135\n",
    "[[ 396  119]\n",
    " [  54 1431]]\n",
    "              precision    recall  f1-score   support\n",
    "\n",
    "    negative       0.88      0.77      0.82       515\n",
    "    positive       0.92      0.96      0.94      1485\n",
    "\n",
    "    accuracy                           0.91      2000\n",
    "   macro avg       0.90      0.87      0.88      2000\n",
    "weighted avg       0.91      0.91      0.91      2000\n",
    "\n",
    "accuracy score:  0.9135\n",
    "\"\"\""
   ]
  },
  {
   "cell_type": "code",
   "execution_count": 150,
   "metadata": {
    "scrolled": true
   },
   "outputs": [
    {
     "data": {
      "image/png": "[encoded data removed]",
      "text/plain": [
       "<Figure size 648x432 with 2 Axes>"
      ]
     },
     "metadata": {},
     "output_type": "display_data"
    }
   ],
   "source": [
    "# define data\n",
    "data = confusion_matrix(y_test,XGB_pred)\n",
    "\n",
    "# plot confusion matrix\n",
    "plot_confusion_matrix(data, labels, \"confusion_matrix.png\")"
   ]
  },
  {
   "cell_type": "markdown",
   "metadata": {},
   "source": [
    "### 5. Multilayer Perceptron Classifier"
   ]
  },
  {
   "cell_type": "code",
   "execution_count": 151,
   "metadata": {},
   "outputs": [],
   "source": [
    "from sklearn.neural_network import MLPClassifier\n",
    "\n",
    "#multilayer perceptron classifier\n",
    "mlp = MLPClassifier()\n",
    "mlp.fit(X_train,y_train)\n",
    "\n",
    "# Predicting the test set\n",
    "mlp_pred = mlp.predict(X_test)"
   ]
  },
  {
   "cell_type": "code",
   "execution_count": 153,
   "metadata": {},
   "outputs": [
    {
     "name": "stdout",
     "output_type": "stream",
     "text": [
      "Confusion Matrix for Multilayer Perceptron Classifier:\n",
      "[[ 414  101]\n",
      " [  62 1423]]\n",
      "Classification Report:\n",
      "              precision    recall  f1-score   support\n",
      "\n",
      "    negative       0.87      0.80      0.84       515\n",
      "    positive       0.93      0.96      0.95      1485\n",
      "\n",
      "    accuracy                           0.92      2000\n",
      "   macro avg       0.90      0.88      0.89      2000\n",
      "weighted avg       0.92      0.92      0.92      2000\n",
      "\n",
      "accuracy score: 91.85\n"
     ]
    }
   ],
   "source": [
    "#training score\n",
    "print(\"Confusion Matrix for Multilayer Perceptron Classifier:\")\n",
    "print(confusion_matrix(y_test,mlp_pred))\n",
    "print(\"Classification Report:\")\n",
    "print(classification_report(y_test,mlp_pred))\n",
    "print(\"accuracy score:\",round(accuracy_score(y_test,mlp_pred)*100,2))\n",
    "\n",
    "\"\"\"\n",
    "Confusion Matrix for Multilayer Perceptron Classifier:\n",
    "[[ 414  101]\n",
    " [  62 1423]]\n",
    "Classification Report:\n",
    "              precision    recall  f1-score   support\n",
    "\n",
    "    negative       0.87      0.80      0.84       515\n",
    "    positive       0.93      0.96      0.95      1485\n",
    "\n",
    "    accuracy                           0.92      2000\n",
    "   macro avg       0.90      0.88      0.89      2000\n",
    "weighted avg       0.92      0.92      0.92      2000\n",
    "\n",
    "accuracy score: 91.85\n",
    "\"\"\""
   ]
  },
  {
   "cell_type": "code",
   "execution_count": 154,
   "metadata": {},
   "outputs": [
    {
     "data": {
      "image/png": "[encoded data removed]",
      "text/plain": [
       "<Figure size 648x432 with 2 Axes>"
      ]
     },
     "metadata": {},
     "output_type": "display_data"
    }
   ],
   "source": [
    "# define data\n",
    "data = confusion_matrix(y_test,mlp_pred)\n",
    "\n",
    "# plot confusion matrix\n",
    "plot_confusion_matrix(data, labels, \"confusion_matrix.png\")"
   ]
  },
  {
   "cell_type": "code",
   "execution_count": null,
   "metadata": {},
   "outputs": [],
   "source": []
  }
 ],
 "metadata": {
  "kernelspec": {
   "display_name": "Python 3",
   "language": "python",
   "name": "python3"
  },
  "language_info": {
   "codemirror_mode": {
    "name": "ipython",
    "version": 3
   },
   "file_extension": ".py",
   "mimetype": "text/x-python",
   "name": "python",
   "nbconvert_exporter": "python",
   "pygments_lexer": "ipython3",
   "version": "3.5.3"
  }
 },
 "nbformat": 4,
 "nbformat_minor": 4
}
