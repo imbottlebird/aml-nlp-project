{
 "cells": [
  {
   "cell_type": "markdown",
   "metadata": {
    "id": "PGnlRWvkY-2c"
   },
   "source": [
    "# Sentiment Analysis with BERT"
   ]
  },
  {
   "cell_type": "markdown",
   "metadata": {
    "id": "wmj22-TcZMef"
   },
   "source": [
    "## Setup\n",
    "\n",
    "We'll need [the Transformers library](https://huggingface.co/transformers/) by Hugging Face:"
   ]
  },
  {
   "cell_type": "code",
   "execution_count": 79,
   "metadata": {
    "id": "Kj_7Tz0-pK69"
   },
   "outputs": [],
   "source": [
    "!pip install -q -U watermark"
   ]
  },
  {
   "cell_type": "code",
   "execution_count": 80,
   "metadata": {
    "colab": {
     "base_uri": "https://localhost:8080/"
    },
    "id": "Jjsbi1u3QFEM",
    "outputId": "8bcb70fa-11a9-41fe-d860-af2dbf115331"
   },
   "outputs": [],
   "source": [
    "!pip install -qq transformers"
   ]
  },
  {
   "cell_type": "code",
   "execution_count": 81,
   "metadata": {
    "colab": {
     "base_uri": "https://localhost:8080/"
    },
    "id": "AJqoaFpVpoM8",
    "outputId": "9b287e7d-42b4-456f-d262-663a97687ef1"
   },
   "outputs": [
    {
     "name": "stdout",
     "output_type": "stream",
     "text": [
      "Python implementation: CPython\n",
      "Python version       : 3.7.8\n",
      "IPython version      : 7.18.1\n",
      "\n",
      "numpy       : 1.18.5\n",
      "pandas      : 1.1.3\n",
      "torch       : 1.4.0\n",
      "transformers: 3.5.1\n",
      "\n"
     ]
    }
   ],
   "source": [
    "%reload_ext watermark\n",
    "%watermark -v -p numpy,pandas,torch,transformers"
   ]
  },
  {
   "cell_type": "code",
   "execution_count": 82,
   "metadata": {
    "cellView": "form",
    "colab": {
     "base_uri": "https://localhost:8080/"
    },
    "id": "w68CZpOwFoly",
    "outputId": "3909323c-0965-4ff6-ece3-fda870dc2ff3"
   },
   "outputs": [
    {
     "data": {
      "text/plain": [
       "device(type='cpu')"
      ]
     },
     "execution_count": 82,
     "metadata": {},
     "output_type": "execute_result"
    }
   ],
   "source": [
    "#@title Setup & Config\n",
    "import transformers\n",
    "from transformers import BertModel, BertTokenizer, AdamW, get_linear_schedule_with_warmup\n",
    "import torch\n",
    "\n",
    "import numpy as np\n",
    "import pandas as pd\n",
    "import seaborn as sns\n",
    "from pylab import rcParams\n",
    "import matplotlib.pyplot as plt\n",
    "from matplotlib import rc\n",
    "from sklearn.model_selection import train_test_split\n",
    "from sklearn.metrics import confusion_matrix, classification_report\n",
    "from collections import defaultdict\n",
    "from textwrap import wrap\n",
    "\n",
    "from torch import nn, optim\n",
    "from torch.utils.data import Dataset, DataLoader\n",
    "import torch.nn.functional as F\n",
    "\n",
    "%matplotlib inline\n",
    "%config InlineBackend.figure_format='retina'\n",
    "\n",
    "sns.set(style='whitegrid', palette='muted', font_scale=1.2)\n",
    "\n",
    "HAPPY_COLORS_PALETTE = [\"#01BEFE\", \"#FFDD00\", \"#FF7D00\", \"#FF006D\", \"#ADFF02\", \"#8F00FF\"]\n",
    "\n",
    "sns.set_palette(sns.color_palette(HAPPY_COLORS_PALETTE))\n",
    "\n",
    "rcParams['figure.figsize'] = 12, 8\n",
    "\n",
    "RANDOM_SEED = 42\n",
    "np.random.seed(RANDOM_SEED)\n",
    "torch.manual_seed(RANDOM_SEED)\n",
    "\n",
    "device = torch.device(\"cpu\")\n",
    "device"
   ]
  },
  {
   "cell_type": "markdown",
   "metadata": {
    "id": "ufzPdoTtNikq"
   },
   "source": [
    "## Data Exploration"
   ]
  },
  {
   "cell_type": "code",
   "execution_count": 149,
   "metadata": {
    "colab": {
     "base_uri": "https://localhost:8080/",
     "height": 632
    },
    "id": "mUKLyKc7I6Qp",
    "outputId": "5bc66bbf-d004-4545-8b7c-87bf50fc0bc2"
   },
   "outputs": [
    {
     "data": {
      "text/html": [
       "<div>\n",
       "<style scoped>\n",
       "    .dataframe tbody tr th:only-of-type {\n",
       "        vertical-align: middle;\n",
       "    }\n",
       "\n",
       "    .dataframe tbody tr th {\n",
       "        vertical-align: top;\n",
       "    }\n",
       "\n",
       "    .dataframe thead th {\n",
       "        text-align: right;\n",
       "    }\n",
       "</style>\n",
       "<table border=\"1\" class=\"dataframe\">\n",
       "  <thead>\n",
       "    <tr style=\"text-align: right;\">\n",
       "      <th></th>\n",
       "      <th>business_id</th>\n",
       "      <th>gold_summ</th>\n",
       "      <th>gen_summ</th>\n",
       "      <th>review1</th>\n",
       "      <th>review2</th>\n",
       "      <th>review3</th>\n",
       "      <th>review4</th>\n",
       "      <th>review5</th>\n",
       "      <th>review6</th>\n",
       "      <th>review7</th>\n",
       "      <th>review8</th>\n",
       "    </tr>\n",
       "  </thead>\n",
       "  <tbody>\n",
       "    <tr>\n",
       "      <th>0</th>\n",
       "      <td>NWh0MGOPFAy7yElepNtIxg</td>\n",
       "      <td>The beauty of this place is that it has high q...</td>\n",
       "      <td>Love this place! I've been here three times no...</td>\n",
       "      <td>chopshop is the greatest versatile spot becaus...</td>\n",
       "      <td>i've recently found this charming new restaura...</td>\n",
       "      <td>poor quality food. steak sandwich with mushroo...</td>\n",
       "      <td>i love this place, everything tastes good and ...</td>\n",
       "      <td>perfect! real food. quality choices. fast. gre...</td>\n",
       "      <td>loved everything we ordered. we got a beet sal...</td>\n",
       "      <td>great spot. went there tonight for the first t...</td>\n",
       "      <td>had to go out to eat after eating a salad here...</td>\n",
       "    </tr>\n",
       "    <tr>\n",
       "      <th>1</th>\n",
       "      <td>Nbhpg1TbDwtMuyh9ZIPceA</td>\n",
       "      <td>This place is a small family owned Thai restau...</td>\n",
       "      <td>This place is fantastic! The food was deliciou...</td>\n",
       "      <td>it was okay but we were expecting more based o...</td>\n",
       "      <td>awesome little thai place! the food is amazing...</td>\n",
       "      <td>this was one random little thai restaurant tha...</td>\n",
       "      <td>i stumbled across this place by accident when ...</td>\n",
       "      <td>we got the thai fried rice, egg rolls and many...</td>\n",
       "      <td>this place was awful. i ordered tamarind duck ...</td>\n",
       "      <td>a little scary outside, inside a real gem. fam...</td>\n",
       "      <td>i had panang curry and j had thai spicy noddle...</td>\n",
       "    </tr>\n",
       "    <tr>\n",
       "      <th>2</th>\n",
       "      <td>Ohu6w8_RYE5KdHEWGdBjXQ</td>\n",
       "      <td>The Mesa Arts Center is a clean modern place t...</td>\n",
       "      <td>This is the second time I've been here and bot...</td>\n",
       "      <td>went to see our favorite artist last night (gr...</td>\n",
       "      <td>great place to see some interesting art, but o...</td>\n",
       "      <td>i love the mesa arts center. the concert halls...</td>\n",
       "      <td>my favorite theater in phoenix! relatively new...</td>\n",
       "      <td>no lie, i'd pay $20 more to see a concert here...</td>\n",
       "      <td>horrible seating very very disappointed at the...</td>\n",
       "      <td>been coming here for years. many shows here an...</td>\n",
       "      <td>mac is a great venue. matthew morrison was kin...</td>\n",
       "    </tr>\n",
       "    <tr>\n",
       "      <th>3</th>\n",
       "      <td>OkC86YtZ0Nm19my5F4GGrQ</td>\n",
       "      <td>Tartine is a nice place with a combination of ...</td>\n",
       "      <td>The food here is a little pricey but worth eve...</td>\n",
       "      <td>love the atmosphere of this place. it tends to...</td>\n",
       "      <td>amazing. excellent choice for lunch. baked bri...</td>\n",
       "      <td>we were greeted cordially and given a prime ou...</td>\n",
       "      <td>first time going here and i was impressed. ver...</td>\n",
       "      <td>my fiance and i really enjoyed eating here for...</td>\n",
       "      <td>i'm not sure why i was so hard with my first r...</td>\n",
       "      <td>i am not overwhelmed. been here twice and foun...</td>\n",
       "      <td>the best combination of atmosphere, food, and ...</td>\n",
       "    </tr>\n",
       "    <tr>\n",
       "      <th>4</th>\n",
       "      <td>Q2ZNaN3p8s_-XXjBWyY2qA</td>\n",
       "      <td>The service at Ruth's steakhouse is serviceabl...</td>\n",
       "      <td>Best meal I've ever had in a long time. The st...</td>\n",
       "      <td>first time at this restaurant. from the greeti...</td>\n",
       "      <td>it is great but compared to other ruth's chris...</td>\n",
       "      <td>hey everyone! ruth's chris steak house is sooo...</td>\n",
       "      <td>the best filet minion in toronto. super smooth...</td>\n",
       "      <td>had a top sirloin steak today with mushroom an...</td>\n",
       "      <td>got the filet with a side of mac and cheese. s...</td>\n",
       "      <td>if you blink you might miss this gem across th...</td>\n",
       "      <td>4 stars for the amazingly soft and tender stea...</td>\n",
       "    </tr>\n",
       "  </tbody>\n",
       "</table>\n",
       "</div>"
      ],
      "text/plain": [
       "              business_id                                          gold_summ  \\\n",
       "0  NWh0MGOPFAy7yElepNtIxg  The beauty of this place is that it has high q...   \n",
       "1  Nbhpg1TbDwtMuyh9ZIPceA  This place is a small family owned Thai restau...   \n",
       "2  Ohu6w8_RYE5KdHEWGdBjXQ  The Mesa Arts Center is a clean modern place t...   \n",
       "3  OkC86YtZ0Nm19my5F4GGrQ  Tartine is a nice place with a combination of ...   \n",
       "4  Q2ZNaN3p8s_-XXjBWyY2qA  The service at Ruth's steakhouse is serviceabl...   \n",
       "\n",
       "                                            gen_summ  \\\n",
       "0  Love this place! I've been here three times no...   \n",
       "1  This place is fantastic! The food was deliciou...   \n",
       "2  This is the second time I've been here and bot...   \n",
       "3  The food here is a little pricey but worth eve...   \n",
       "4  Best meal I've ever had in a long time. The st...   \n",
       "\n",
       "                                             review1  \\\n",
       "0  chopshop is the greatest versatile spot becaus...   \n",
       "1  it was okay but we were expecting more based o...   \n",
       "2  went to see our favorite artist last night (gr...   \n",
       "3  love the atmosphere of this place. it tends to...   \n",
       "4  first time at this restaurant. from the greeti...   \n",
       "\n",
       "                                             review2  \\\n",
       "0  i've recently found this charming new restaura...   \n",
       "1  awesome little thai place! the food is amazing...   \n",
       "2  great place to see some interesting art, but o...   \n",
       "3  amazing. excellent choice for lunch. baked bri...   \n",
       "4  it is great but compared to other ruth's chris...   \n",
       "\n",
       "                                             review3  \\\n",
       "0  poor quality food. steak sandwich with mushroo...   \n",
       "1  this was one random little thai restaurant tha...   \n",
       "2  i love the mesa arts center. the concert halls...   \n",
       "3  we were greeted cordially and given a prime ou...   \n",
       "4  hey everyone! ruth's chris steak house is sooo...   \n",
       "\n",
       "                                             review4  \\\n",
       "0  i love this place, everything tastes good and ...   \n",
       "1  i stumbled across this place by accident when ...   \n",
       "2  my favorite theater in phoenix! relatively new...   \n",
       "3  first time going here and i was impressed. ver...   \n",
       "4  the best filet minion in toronto. super smooth...   \n",
       "\n",
       "                                             review5  \\\n",
       "0  perfect! real food. quality choices. fast. gre...   \n",
       "1  we got the thai fried rice, egg rolls and many...   \n",
       "2  no lie, i'd pay $20 more to see a concert here...   \n",
       "3  my fiance and i really enjoyed eating here for...   \n",
       "4  had a top sirloin steak today with mushroom an...   \n",
       "\n",
       "                                             review6  \\\n",
       "0  loved everything we ordered. we got a beet sal...   \n",
       "1  this place was awful. i ordered tamarind duck ...   \n",
       "2  horrible seating very very disappointed at the...   \n",
       "3  i'm not sure why i was so hard with my first r...   \n",
       "4  got the filet with a side of mac and cheese. s...   \n",
       "\n",
       "                                             review7  \\\n",
       "0  great spot. went there tonight for the first t...   \n",
       "1  a little scary outside, inside a real gem. fam...   \n",
       "2  been coming here for years. many shows here an...   \n",
       "3  i am not overwhelmed. been here twice and foun...   \n",
       "4  if you blink you might miss this gem across th...   \n",
       "\n",
       "                                             review8  \n",
       "0  had to go out to eat after eating a salad here...  \n",
       "1  i had panang curry and j had thai spicy noddle...  \n",
       "2  mac is a great venue. matthew morrison was kin...  \n",
       "3  the best combination of atmosphere, food, and ...  \n",
       "4  4 stars for the amazingly soft and tender stea...  "
      ]
     },
     "execution_count": 149,
     "metadata": {},
     "output_type": "execute_result"
    }
   ],
   "source": [
    "df = pd.read_csv(\"all_outputs.csv\")\n",
    "df.head()"
   ]
  },
  {
   "cell_type": "code",
   "execution_count": 84,
   "metadata": {},
   "outputs": [
    {
     "data": {
      "text/html": [
       "<div>\n",
       "<style scoped>\n",
       "    .dataframe tbody tr th:only-of-type {\n",
       "        vertical-align: middle;\n",
       "    }\n",
       "\n",
       "    .dataframe tbody tr th {\n",
       "        vertical-align: top;\n",
       "    }\n",
       "\n",
       "    .dataframe thead th {\n",
       "        text-align: right;\n",
       "    }\n",
       "</style>\n",
       "<table border=\"1\" class=\"dataframe\">\n",
       "  <thead>\n",
       "    <tr style=\"text-align: right;\">\n",
       "      <th></th>\n",
       "      <th>review_id</th>\n",
       "      <th>user_id</th>\n",
       "      <th>business_id</th>\n",
       "      <th>stars</th>\n",
       "      <th>useful</th>\n",
       "      <th>funny</th>\n",
       "      <th>cool</th>\n",
       "      <th>text</th>\n",
       "      <th>date</th>\n",
       "      <th>sentiment</th>\n",
       "    </tr>\n",
       "  </thead>\n",
       "  <tbody>\n",
       "    <tr>\n",
       "      <th>29995</th>\n",
       "      <td>n7nJzWURyuiUSvzNXpBpVg</td>\n",
       "      <td>kB-0ik8Xtw3kwuN4WM81yQ</td>\n",
       "      <td>hcFSc0OHgZJybnjQBrL_8Q</td>\n",
       "      <td>4.0</td>\n",
       "      <td>0</td>\n",
       "      <td>0</td>\n",
       "      <td>0</td>\n",
       "      <td>As a noodle fan, it's good to go! The size per...</td>\n",
       "      <td>2017-08-01 20:18:17</td>\n",
       "      <td>positive</td>\n",
       "    </tr>\n",
       "    <tr>\n",
       "      <th>29996</th>\n",
       "      <td>FYsXeILs2nbwq2HutkDNyw</td>\n",
       "      <td>3Uv0dGI2IXJb2OUj8R2GJA</td>\n",
       "      <td>eoJfl5vG7X87QhcKb0nt5Q</td>\n",
       "      <td>4.0</td>\n",
       "      <td>5</td>\n",
       "      <td>3</td>\n",
       "      <td>3</td>\n",
       "      <td>This place is the Disneyland of beer.\\n\\nYou w...</td>\n",
       "      <td>2017-01-12 02:50:34</td>\n",
       "      <td>positive</td>\n",
       "    </tr>\n",
       "    <tr>\n",
       "      <th>29997</th>\n",
       "      <td>creE4zCXK7ZS0BihvVV9yg</td>\n",
       "      <td>6_OUuFht6DEC01zTU0bFrw</td>\n",
       "      <td>TEwzpsuLkAM6RZkUSApTHg</td>\n",
       "      <td>5.0</td>\n",
       "      <td>0</td>\n",
       "      <td>0</td>\n",
       "      <td>0</td>\n",
       "      <td>Jason is a rare breed, an honest mechanic who ...</td>\n",
       "      <td>2017-09-05 21:12:27</td>\n",
       "      <td>positive</td>\n",
       "    </tr>\n",
       "    <tr>\n",
       "      <th>29998</th>\n",
       "      <td>5RgrT8LArbmpZ1IedF_K1A</td>\n",
       "      <td>k4aO7Jy00yNbjl3YQ3KI-Q</td>\n",
       "      <td>DWGD9u3zqPTH8w4j5VUVsg</td>\n",
       "      <td>5.0</td>\n",
       "      <td>3</td>\n",
       "      <td>0</td>\n",
       "      <td>1</td>\n",
       "      <td>Dr Chamberlains team is terrific. I could not ...</td>\n",
       "      <td>2015-07-09 12:56:46</td>\n",
       "      <td>positive</td>\n",
       "    </tr>\n",
       "    <tr>\n",
       "      <th>29999</th>\n",
       "      <td>0hiC-taLnSZaqF3L-tyvsQ</td>\n",
       "      <td>KLxAVh_8DwgYLR14g-g3oQ</td>\n",
       "      <td>zpGCFAt_MydbQN4EsXee6w</td>\n",
       "      <td>5.0</td>\n",
       "      <td>0</td>\n",
       "      <td>0</td>\n",
       "      <td>1</td>\n",
       "      <td>I had a patient that recommended this place to...</td>\n",
       "      <td>2018-04-18 01:30:11</td>\n",
       "      <td>positive</td>\n",
       "    </tr>\n",
       "  </tbody>\n",
       "</table>\n",
       "</div>"
      ],
      "text/plain": [
       "                    review_id                 user_id             business_id  \\\n",
       "29995  n7nJzWURyuiUSvzNXpBpVg  kB-0ik8Xtw3kwuN4WM81yQ  hcFSc0OHgZJybnjQBrL_8Q   \n",
       "29996  FYsXeILs2nbwq2HutkDNyw  3Uv0dGI2IXJb2OUj8R2GJA  eoJfl5vG7X87QhcKb0nt5Q   \n",
       "29997  creE4zCXK7ZS0BihvVV9yg  6_OUuFht6DEC01zTU0bFrw  TEwzpsuLkAM6RZkUSApTHg   \n",
       "29998  5RgrT8LArbmpZ1IedF_K1A  k4aO7Jy00yNbjl3YQ3KI-Q  DWGD9u3zqPTH8w4j5VUVsg   \n",
       "29999  0hiC-taLnSZaqF3L-tyvsQ  KLxAVh_8DwgYLR14g-g3oQ  zpGCFAt_MydbQN4EsXee6w   \n",
       "\n",
       "       stars  useful  funny  cool  \\\n",
       "29995    4.0       0      0     0   \n",
       "29996    4.0       5      3     3   \n",
       "29997    5.0       0      0     0   \n",
       "29998    5.0       3      0     1   \n",
       "29999    5.0       0      0     1   \n",
       "\n",
       "                                                    text                 date  \\\n",
       "29995  As a noodle fan, it's good to go! The size per...  2017-08-01 20:18:17   \n",
       "29996  This place is the Disneyland of beer.\\n\\nYou w...  2017-01-12 02:50:34   \n",
       "29997  Jason is a rare breed, an honest mechanic who ...  2017-09-05 21:12:27   \n",
       "29998  Dr Chamberlains team is terrific. I could not ...  2015-07-09 12:56:46   \n",
       "29999  I had a patient that recommended this place to...  2018-04-18 01:30:11   \n",
       "\n",
       "      sentiment  \n",
       "29995  positive  \n",
       "29996  positive  \n",
       "29997  positive  \n",
       "29998  positive  \n",
       "29999  positive  "
      ]
     },
     "execution_count": 84,
     "metadata": {},
     "output_type": "execute_result"
    }
   ],
   "source": [
    "#df = df[['business_id','stars','text','sentiment']]\n",
    "df.tail()"
   ]
  },
  {
   "cell_type": "code",
   "execution_count": 85,
   "metadata": {
    "colab": {
     "base_uri": "https://localhost:8080/"
    },
    "id": "dB2jE6am7Dpo",
    "outputId": "4acf7fdb-5667-4631-b02f-22c2fbfdaed5"
   },
   "outputs": [
    {
     "data": {
      "text/plain": [
       "(30000, 10)"
      ]
     },
     "execution_count": 85,
     "metadata": {},
     "output_type": "execute_result"
    }
   ],
   "source": [
    "df.shape"
   ]
  },
  {
   "cell_type": "markdown",
   "metadata": {
    "id": "TWqVNHJbn10l"
   },
   "source": [
    "#### Check for missing values:"
   ]
  },
  {
   "cell_type": "code",
   "execution_count": 86,
   "metadata": {
    "colab": {
     "base_uri": "https://localhost:8080/"
    },
    "id": "VA_wGSLQLKCh",
    "outputId": "3c12b26d-17ea-4f4e-e8c2-aabb120a5c18"
   },
   "outputs": [
    {
     "name": "stdout",
     "output_type": "stream",
     "text": [
      "<class 'pandas.core.frame.DataFrame'>\n",
      "RangeIndex: 30000 entries, 0 to 29999\n",
      "Data columns (total 10 columns):\n",
      " #   Column       Non-Null Count  Dtype  \n",
      "---  ------       --------------  -----  \n",
      " 0   review_id    30000 non-null  object \n",
      " 1   user_id      30000 non-null  object \n",
      " 2   business_id  30000 non-null  object \n",
      " 3   stars        30000 non-null  float64\n",
      " 4   useful       30000 non-null  int64  \n",
      " 5   funny        30000 non-null  int64  \n",
      " 6   cool         30000 non-null  int64  \n",
      " 7   text         30000 non-null  object \n",
      " 8   date         30000 non-null  object \n",
      " 9   sentiment    30000 non-null  object \n",
      "dtypes: float64(1), int64(3), object(6)\n",
      "memory usage: 2.3+ MB\n"
     ]
    }
   ],
   "source": [
    "df.info()"
   ]
  },
  {
   "cell_type": "code",
   "execution_count": 87,
   "metadata": {},
   "outputs": [],
   "source": [
    "#drop NA in 'text'\n",
    "df = df.dropna(subset=['text'])"
   ]
  },
  {
   "cell_type": "code",
   "execution_count": 88,
   "metadata": {},
   "outputs": [
    {
     "name": "stdout",
     "output_type": "stream",
     "text": [
      "<class 'pandas.core.frame.DataFrame'>\n",
      "Int64Index: 30000 entries, 0 to 29999\n",
      "Data columns (total 10 columns):\n",
      " #   Column       Non-Null Count  Dtype  \n",
      "---  ------       --------------  -----  \n",
      " 0   review_id    30000 non-null  object \n",
      " 1   user_id      30000 non-null  object \n",
      " 2   business_id  30000 non-null  object \n",
      " 3   stars        30000 non-null  float64\n",
      " 4   useful       30000 non-null  int64  \n",
      " 5   funny        30000 non-null  int64  \n",
      " 6   cool         30000 non-null  int64  \n",
      " 7   text         30000 non-null  object \n",
      " 8   date         30000 non-null  object \n",
      " 9   sentiment    30000 non-null  object \n",
      "dtypes: float64(1), int64(3), object(6)\n",
      "memory usage: 2.5+ MB\n"
     ]
    }
   ],
   "source": [
    "df.info()"
   ]
  },
  {
   "cell_type": "markdown",
   "metadata": {
    "id": "H3cL_1qVn_6h"
   },
   "source": [
    "#### Equally sampled 200k from each sentiment to avoid class imbalance\n",
    "(stars <= 2 is negative; = 3 is neutral; >= 4 is positive)"
   ]
  },
  {
   "cell_type": "code",
   "execution_count": 89,
   "metadata": {
    "colab": {
     "base_uri": "https://localhost:8080/",
     "height": 560
    },
    "id": "Wwh_rW4Efhs3",
    "outputId": "7369c98b-793a-4265-ac59-641f8cec0b5e"
   },
   "outputs": [
    {
     "data": {
      "image/png": "[encoded data removed]",
      "text/plain": [
       "<Figure size 864x576 with 1 Axes>"
      ]
     },
     "metadata": {
      "image/png": {
       "height": 489,
       "width": 751
      }
     },
     "output_type": "display_data"
    }
   ],
   "source": [
    "sns.countplot()\n",
    "plt.xlabel('review score');"
   ]
  },
  {
   "cell_type": "code",
   "execution_count": 90,
   "metadata": {
    "id": "ei0xmdi1Chp0"
   },
   "outputs": [],
   "source": [
    "def to_sentiment(rating):\n",
    "  rating = int(rating)\n",
    "  if rating <= 2:\n",
    "    return 0\n",
    "  elif rating == 3:\n",
    "    return 1\n",
    "  else: \n",
    "    return 2\n",
    "\n",
    "df['sentiment'] = df.stars.apply(to_sentiment)"
   ]
  },
  {
   "cell_type": "code",
   "execution_count": 91,
   "metadata": {
    "id": "V-155O-SFSqE"
   },
   "outputs": [],
   "source": [
    "class_names = ['negative', 'neutral', 'positive']"
   ]
  },
  {
   "cell_type": "code",
   "execution_count": 92,
   "metadata": {
    "colab": {
     "base_uri": "https://localhost:8080/",
     "height": 560
    },
    "id": "y3tY3ECJDPaz",
    "outputId": "fb21c800-e1ea-4d1b-d765-a887ab8fdb94"
   },
   "outputs": [
    {
     "name": "stderr",
     "output_type": "stream",
     "text": [
      "/opt/conda/lib/python3.7/site-packages/seaborn/_decorators.py:43: FutureWarning: Pass the following variable as a keyword arg: x. From version 0.12, the only valid positional argument will be `data`, and passing other arguments without an explicit keyword will result in an error or misinterpretation.\n",
      "  FutureWarning\n"
     ]
    },
    {
     "data": {
      "image/png": "[encoded data removed]",
      "text/plain": [
       "<Figure size 864x576 with 1 Axes>"
      ]
     },
     "metadata": {
      "image/png": {
       "height": 489,
       "width": 753
      }
     },
     "output_type": "display_data"
    }
   ],
   "source": [
    "ax = sns.countplot(df.sentiment)\n",
    "plt.xlabel('review sentiment')\n",
    "ax.set_xticklabels(class_names);"
   ]
  },
  {
   "cell_type": "code",
   "execution_count": 93,
   "metadata": {},
   "outputs": [
    {
     "data": {
      "image/png": "[encoded data removed]",
      "text/plain": [
       "<Figure size 432x432 with 1 Axes>"
      ]
     },
     "metadata": {
      "image/png": {
       "height": 357,
       "width": 358
      }
     },
     "output_type": "display_data"
    }
   ],
   "source": [
    "#plot the sentiment distribution\n",
    "plt.figure(figsize=(6,6))\n",
    "df.sentiment.value_counts().plot(kind='pie', autopct='%1.0f%%')\n",
    "plt.title('Review Sentiments');"
   ]
  },
  {
   "cell_type": "code",
   "execution_count": 94,
   "metadata": {},
   "outputs": [
    {
     "data": {
      "text/html": [
       "<div>\n",
       "<style scoped>\n",
       "    .dataframe tbody tr th:only-of-type {\n",
       "        vertical-align: middle;\n",
       "    }\n",
       "\n",
       "    .dataframe tbody tr th {\n",
       "        vertical-align: top;\n",
       "    }\n",
       "\n",
       "    .dataframe thead th {\n",
       "        text-align: right;\n",
       "    }\n",
       "</style>\n",
       "<table border=\"1\" class=\"dataframe\">\n",
       "  <thead>\n",
       "    <tr style=\"text-align: right;\">\n",
       "      <th></th>\n",
       "      <th>review_id</th>\n",
       "      <th>user_id</th>\n",
       "      <th>business_id</th>\n",
       "      <th>stars</th>\n",
       "      <th>useful</th>\n",
       "      <th>funny</th>\n",
       "      <th>cool</th>\n",
       "      <th>text</th>\n",
       "      <th>date</th>\n",
       "      <th>sentiment</th>\n",
       "    </tr>\n",
       "  </thead>\n",
       "  <tbody>\n",
       "    <tr>\n",
       "      <th>0</th>\n",
       "      <td>B5lLAl-RsO6BakFE7nxUyw</td>\n",
       "      <td>cWPfwvb1ua66BXlxBexhQA</td>\n",
       "      <td>Y4OWm-XIXKBUkogYx7rh2w</td>\n",
       "      <td>1.0</td>\n",
       "      <td>1</td>\n",
       "      <td>0</td>\n",
       "      <td>0</td>\n",
       "      <td>The owner, THE OWNER, is about as rude as they...</td>\n",
       "      <td>2016-01-24 00:24:53</td>\n",
       "      <td>0</td>\n",
       "    </tr>\n",
       "    <tr>\n",
       "      <th>1</th>\n",
       "      <td>8RE9AAgyAYxiIIduVIMsLg</td>\n",
       "      <td>sug_nWZjo0IY-n8dMF6Baw</td>\n",
       "      <td>cNNOcuykCG0yNDzevqBKIg</td>\n",
       "      <td>1.0</td>\n",
       "      <td>0</td>\n",
       "      <td>0</td>\n",
       "      <td>0</td>\n",
       "      <td>Unless you want to eat barely cooked cold seaf...</td>\n",
       "      <td>2018-12-01 03:49:40</td>\n",
       "      <td>0</td>\n",
       "    </tr>\n",
       "    <tr>\n",
       "      <th>2</th>\n",
       "      <td>i3OquLmo4cS-EHvzy3A5Fg</td>\n",
       "      <td>M6uDHCxhZybBdngFuBmrHg</td>\n",
       "      <td>T0NKethAB-FFR05EeZCzuA</td>\n",
       "      <td>1.0</td>\n",
       "      <td>0</td>\n",
       "      <td>1</td>\n",
       "      <td>0</td>\n",
       "      <td>It's been a couple years since I got a whopper...</td>\n",
       "      <td>2012-06-21 21:16:12</td>\n",
       "      <td>0</td>\n",
       "    </tr>\n",
       "    <tr>\n",
       "      <th>3</th>\n",
       "      <td>x6gZKbwEunbpTVoTyQpd-g</td>\n",
       "      <td>3FIan7CB37o7XpGnS_12Zg</td>\n",
       "      <td>1NjYVJHmGDGrfTuuuZJncA</td>\n",
       "      <td>1.0</td>\n",
       "      <td>0</td>\n",
       "      <td>0</td>\n",
       "      <td>0</td>\n",
       "      <td>On line ordering has no method of changing ord...</td>\n",
       "      <td>2017-09-12 13:34:08</td>\n",
       "      <td>0</td>\n",
       "    </tr>\n",
       "    <tr>\n",
       "      <th>4</th>\n",
       "      <td>cmRGAidUbW9aHs3Jm7dE5Q</td>\n",
       "      <td>W1Nde0RcP1-eoEpesZjb_g</td>\n",
       "      <td>3PekkCkOZD7Pe3Q4owP3Pg</td>\n",
       "      <td>1.0</td>\n",
       "      <td>4</td>\n",
       "      <td>1</td>\n",
       "      <td>0</td>\n",
       "      <td>I asked to get the sleeves of my nice wool coa...</td>\n",
       "      <td>2013-09-24 19:55:54</td>\n",
       "      <td>0</td>\n",
       "    </tr>\n",
       "    <tr>\n",
       "      <th>...</th>\n",
       "      <td>...</td>\n",
       "      <td>...</td>\n",
       "      <td>...</td>\n",
       "      <td>...</td>\n",
       "      <td>...</td>\n",
       "      <td>...</td>\n",
       "      <td>...</td>\n",
       "      <td>...</td>\n",
       "      <td>...</td>\n",
       "      <td>...</td>\n",
       "    </tr>\n",
       "    <tr>\n",
       "      <th>29995</th>\n",
       "      <td>n7nJzWURyuiUSvzNXpBpVg</td>\n",
       "      <td>kB-0ik8Xtw3kwuN4WM81yQ</td>\n",
       "      <td>hcFSc0OHgZJybnjQBrL_8Q</td>\n",
       "      <td>4.0</td>\n",
       "      <td>0</td>\n",
       "      <td>0</td>\n",
       "      <td>0</td>\n",
       "      <td>As a noodle fan, it's good to go! The size per...</td>\n",
       "      <td>2017-08-01 20:18:17</td>\n",
       "      <td>2</td>\n",
       "    </tr>\n",
       "    <tr>\n",
       "      <th>29996</th>\n",
       "      <td>FYsXeILs2nbwq2HutkDNyw</td>\n",
       "      <td>3Uv0dGI2IXJb2OUj8R2GJA</td>\n",
       "      <td>eoJfl5vG7X87QhcKb0nt5Q</td>\n",
       "      <td>4.0</td>\n",
       "      <td>5</td>\n",
       "      <td>3</td>\n",
       "      <td>3</td>\n",
       "      <td>This place is the Disneyland of beer.\\n\\nYou w...</td>\n",
       "      <td>2017-01-12 02:50:34</td>\n",
       "      <td>2</td>\n",
       "    </tr>\n",
       "    <tr>\n",
       "      <th>29997</th>\n",
       "      <td>creE4zCXK7ZS0BihvVV9yg</td>\n",
       "      <td>6_OUuFht6DEC01zTU0bFrw</td>\n",
       "      <td>TEwzpsuLkAM6RZkUSApTHg</td>\n",
       "      <td>5.0</td>\n",
       "      <td>0</td>\n",
       "      <td>0</td>\n",
       "      <td>0</td>\n",
       "      <td>Jason is a rare breed, an honest mechanic who ...</td>\n",
       "      <td>2017-09-05 21:12:27</td>\n",
       "      <td>2</td>\n",
       "    </tr>\n",
       "    <tr>\n",
       "      <th>29998</th>\n",
       "      <td>5RgrT8LArbmpZ1IedF_K1A</td>\n",
       "      <td>k4aO7Jy00yNbjl3YQ3KI-Q</td>\n",
       "      <td>DWGD9u3zqPTH8w4j5VUVsg</td>\n",
       "      <td>5.0</td>\n",
       "      <td>3</td>\n",
       "      <td>0</td>\n",
       "      <td>1</td>\n",
       "      <td>Dr Chamberlains team is terrific. I could not ...</td>\n",
       "      <td>2015-07-09 12:56:46</td>\n",
       "      <td>2</td>\n",
       "    </tr>\n",
       "    <tr>\n",
       "      <th>29999</th>\n",
       "      <td>0hiC-taLnSZaqF3L-tyvsQ</td>\n",
       "      <td>KLxAVh_8DwgYLR14g-g3oQ</td>\n",
       "      <td>zpGCFAt_MydbQN4EsXee6w</td>\n",
       "      <td>5.0</td>\n",
       "      <td>0</td>\n",
       "      <td>0</td>\n",
       "      <td>1</td>\n",
       "      <td>I had a patient that recommended this place to...</td>\n",
       "      <td>2018-04-18 01:30:11</td>\n",
       "      <td>2</td>\n",
       "    </tr>\n",
       "  </tbody>\n",
       "</table>\n",
       "<p>30000 rows × 10 columns</p>\n",
       "</div>"
      ],
      "text/plain": [
       "                    review_id                 user_id             business_id  \\\n",
       "0      B5lLAl-RsO6BakFE7nxUyw  cWPfwvb1ua66BXlxBexhQA  Y4OWm-XIXKBUkogYx7rh2w   \n",
       "1      8RE9AAgyAYxiIIduVIMsLg  sug_nWZjo0IY-n8dMF6Baw  cNNOcuykCG0yNDzevqBKIg   \n",
       "2      i3OquLmo4cS-EHvzy3A5Fg  M6uDHCxhZybBdngFuBmrHg  T0NKethAB-FFR05EeZCzuA   \n",
       "3      x6gZKbwEunbpTVoTyQpd-g  3FIan7CB37o7XpGnS_12Zg  1NjYVJHmGDGrfTuuuZJncA   \n",
       "4      cmRGAidUbW9aHs3Jm7dE5Q  W1Nde0RcP1-eoEpesZjb_g  3PekkCkOZD7Pe3Q4owP3Pg   \n",
       "...                       ...                     ...                     ...   \n",
       "29995  n7nJzWURyuiUSvzNXpBpVg  kB-0ik8Xtw3kwuN4WM81yQ  hcFSc0OHgZJybnjQBrL_8Q   \n",
       "29996  FYsXeILs2nbwq2HutkDNyw  3Uv0dGI2IXJb2OUj8R2GJA  eoJfl5vG7X87QhcKb0nt5Q   \n",
       "29997  creE4zCXK7ZS0BihvVV9yg  6_OUuFht6DEC01zTU0bFrw  TEwzpsuLkAM6RZkUSApTHg   \n",
       "29998  5RgrT8LArbmpZ1IedF_K1A  k4aO7Jy00yNbjl3YQ3KI-Q  DWGD9u3zqPTH8w4j5VUVsg   \n",
       "29999  0hiC-taLnSZaqF3L-tyvsQ  KLxAVh_8DwgYLR14g-g3oQ  zpGCFAt_MydbQN4EsXee6w   \n",
       "\n",
       "       stars  useful  funny  cool  \\\n",
       "0        1.0       1      0     0   \n",
       "1        1.0       0      0     0   \n",
       "2        1.0       0      1     0   \n",
       "3        1.0       0      0     0   \n",
       "4        1.0       4      1     0   \n",
       "...      ...     ...    ...   ...   \n",
       "29995    4.0       0      0     0   \n",
       "29996    4.0       5      3     3   \n",
       "29997    5.0       0      0     0   \n",
       "29998    5.0       3      0     1   \n",
       "29999    5.0       0      0     1   \n",
       "\n",
       "                                                    text                 date  \\\n",
       "0      The owner, THE OWNER, is about as rude as they...  2016-01-24 00:24:53   \n",
       "1      Unless you want to eat barely cooked cold seaf...  2018-12-01 03:49:40   \n",
       "2      It's been a couple years since I got a whopper...  2012-06-21 21:16:12   \n",
       "3      On line ordering has no method of changing ord...  2017-09-12 13:34:08   \n",
       "4      I asked to get the sleeves of my nice wool coa...  2013-09-24 19:55:54   \n",
       "...                                                  ...                  ...   \n",
       "29995  As a noodle fan, it's good to go! The size per...  2017-08-01 20:18:17   \n",
       "29996  This place is the Disneyland of beer.\\n\\nYou w...  2017-01-12 02:50:34   \n",
       "29997  Jason is a rare breed, an honest mechanic who ...  2017-09-05 21:12:27   \n",
       "29998  Dr Chamberlains team is terrific. I could not ...  2015-07-09 12:56:46   \n",
       "29999  I had a patient that recommended this place to...  2018-04-18 01:30:11   \n",
       "\n",
       "       sentiment  \n",
       "0              0  \n",
       "1              0  \n",
       "2              0  \n",
       "3              0  \n",
       "4              0  \n",
       "...          ...  \n",
       "29995          2  \n",
       "29996          2  \n",
       "29997          2  \n",
       "29998          2  \n",
       "29999          2  \n",
       "\n",
       "[30000 rows x 10 columns]"
      ]
     },
     "execution_count": 94,
     "metadata": {},
     "output_type": "execute_result"
    }
   ],
   "source": [
    "df"
   ]
  },
  {
   "cell_type": "markdown",
   "metadata": {
    "id": "9aHyGuTFgyPO"
   },
   "source": [
    "## Data Preprocessing\n",
    "\n",
    "Here are the BERT requirements: \n",
    "\n",
    "- Add special tokens to separate sentences and do classification\n",
    "- Pass sequences of constant length (introduce padding)\n",
    "- Create array of 0s (pad token) and 1s (real token) called *attention mask*\n"
   ]
  },
  {
   "cell_type": "code",
   "execution_count": 95,
   "metadata": {
    "id": "E7Mj-0ne--5t"
   },
   "outputs": [],
   "source": [
    "PRE_TRAINED_MODEL_NAME = 'bert-base-cased'"
   ]
  },
  {
   "cell_type": "markdown",
   "metadata": {
    "id": "fMSr7C-F_sey"
   },
   "source": [
    "> You can use a cased and uncased version of BERT and tokenizer. uncased had better accuracy for our dataset."
   ]
  },
  {
   "cell_type": "markdown",
   "metadata": {
    "id": "NiLb-ltM-ZRz"
   },
   "source": [
    "Load a pre-trained [BertTokenizer](https://huggingface.co/transformers/model_doc/bert.html#berttokenizer):"
   ]
  },
  {
   "cell_type": "code",
   "execution_count": 96,
   "metadata": {
    "colab": {
     "base_uri": "https://localhost:8080/",
     "height": 66,
     "referenced_widgets": [
      "e304489df5d44f99a7304eaebcde9b00",
      "a32f72f726d54d23ab937be4b25e1ffb",
      "30c226ae25114465958da9b91229edf8",
      "a4d6f89542f34f0492332f6c993b77a4",
      "08f4f4fcf0334fb98bda2b635493408a",
      "3593d39c2a8f4e33a8e570e14385cbbe",
      "a42ac2212d0a4a0d9740ad6b679e51aa",
      "b3a86529a0b149e1b92982006c09c246"
     ]
    },
    "id": "H3AfJSZ8NNLF",
    "outputId": "adf9967f-9ab7-45e9-b01a-64243a440bf2"
   },
   "outputs": [],
   "source": [
    "tokenizer = BertTokenizer.from_pretrained(PRE_TRAINED_MODEL_NAME)"
   ]
  },
  {
   "cell_type": "code",
   "execution_count": 188,
   "metadata": {
    "id": "HZMitwrqm2eb"
   },
   "outputs": [],
   "source": [
    "sample_txt = \"poor quality food. steak sandwich with mushrooms had mushrooms than steak on it. steak was stone cold. i asked for a fresh one and it was so so. i didn't finish it. my girlfriends salad was called a 'chopped salad' the lumps of lettuce were never chopped. barely any chicken in it either. poor experience\""
   ]
  },
  {
   "cell_type": "markdown",
   "metadata": {
    "id": "yO2qBTVl_KPs"
   },
   "source": [
    "Some basic operations can convert the text to tokens and tokens to unique integers (ids):"
   ]
  },
  {
   "cell_type": "code",
   "execution_count": 189,
   "metadata": {
    "colab": {
     "base_uri": "https://localhost:8080/"
    },
    "id": "iTFhpHpsoWO7",
    "outputId": "354aa37e-10c5-45b1-8303-34c7b6038d1c"
   },
   "outputs": [
    {
     "name": "stdout",
     "output_type": "stream",
     "text": [
      " Sentence: poor quality food. steak sandwich with mushrooms had mushrooms than steak on it. steak was stone cold. i asked for a fresh one and it was so so. i didn't finish it. my girlfriends salad was called a 'chopped salad' the lumps of lettuce were never chopped. barely any chicken in it either. poor experience\n",
      "   Tokens: ['poor', 'quality', 'food', '.', 'steak', 'sandwich', 'with', 'mushroom', '##s', 'had', 'mushroom', '##s', 'than', 'steak', 'on', 'it', '.', 'steak', 'was', 'stone', 'cold', '.', 'i', 'asked', 'for', 'a', 'fresh', 'one', 'and', 'it', 'was', 'so', 'so', '.', 'i', 'didn', \"'\", 't', 'finish', 'it', '.', 'my', 'girlfriend', '##s', 'salad', 'was', 'called', 'a', \"'\", 'ch', '##opped', 'salad', \"'\", 'the', 'lump', '##s', 'of', 'let', '##tu', '##ce', 'were', 'never', 'ch', '##opped', '.', 'barely', 'any', 'chicken', 'in', 'it', 'either', '.', 'poor', 'experience']\n",
      "Token IDs: [2869, 3068, 2094, 119, 26704, 14327, 1114, 25590, 1116, 1125, 25590, 1116, 1190, 26704, 1113, 1122, 119, 26704, 1108, 2576, 2504, 119, 178, 1455, 1111, 170, 4489, 1141, 1105, 1122, 1108, 1177, 1177, 119, 178, 1238, 112, 189, 3146, 1122, 119, 1139, 6124, 1116, 19359, 1108, 1270, 170, 112, 22572, 23807, 19359, 112, 1103, 16401, 1116, 1104, 1519, 7926, 2093, 1127, 1309, 22572, 23807, 119, 3742, 1251, 9323, 1107, 1122, 1719, 119, 2869, 2541]\n"
     ]
    }
   ],
   "source": [
    "tokens = tokenizer.tokenize(sample_txt)\n",
    "token_ids = tokenizer.convert_tokens_to_ids(tokens)\n",
    "\n",
    "print(f' Sentence: {sample_txt}')\n",
    "print(f'   Tokens: {tokens}')\n",
    "print(f'Token IDs: {token_ids}')"
   ]
  },
  {
   "cell_type": "markdown",
   "metadata": {
    "id": "bzbbKLR8lZbu"
   },
   "source": [
    "### Special Tokens\n",
    "\n",
    "`[SEP]` - marker for ending of a sentence\n"
   ]
  },
  {
   "cell_type": "code",
   "execution_count": 190,
   "metadata": {
    "colab": {
     "base_uri": "https://localhost:8080/"
    },
    "id": "EXwz47bQvCbc",
    "outputId": "1d543cde-7857-4c72-94a8-dcad63fb43a0"
   },
   "outputs": [
    {
     "data": {
      "text/plain": [
       "('[SEP]', 102)"
      ]
     },
     "execution_count": 190,
     "metadata": {},
     "output_type": "execute_result"
    }
   ],
   "source": [
    "tokenizer.sep_token, tokenizer.sep_token_id"
   ]
  },
  {
   "cell_type": "markdown",
   "metadata": {
    "id": "Mip_eGeXwLFF"
   },
   "source": [
    "`[CLS]` - we must add this token to the start of each sentence, so BERT knows we're doing classification"
   ]
  },
  {
   "cell_type": "code",
   "execution_count": 191,
   "metadata": {
    "colab": {
     "base_uri": "https://localhost:8080/"
    },
    "id": "_6K4it5HwE6l",
    "outputId": "895e66db-f986-4c45-9335-bd016576d3da"
   },
   "outputs": [
    {
     "data": {
      "text/plain": [
       "('[CLS]', 101)"
      ]
     },
     "execution_count": 191,
     "metadata": {},
     "output_type": "execute_result"
    }
   ],
   "source": [
    "tokenizer.cls_token, tokenizer.cls_token_id"
   ]
  },
  {
   "cell_type": "markdown",
   "metadata": {
    "id": "Qi6O-yEY09gl"
   },
   "source": [
    "There is also a special token for padding:"
   ]
  },
  {
   "cell_type": "code",
   "execution_count": 192,
   "metadata": {
    "colab": {
     "base_uri": "https://localhost:8080/"
    },
    "id": "Vx7gD5xf1AFK",
    "outputId": "033c1b35-7e15-4259-def7-c5bc0172d99c"
   },
   "outputs": [
    {
     "data": {
      "text/plain": [
       "('[PAD]', 0)"
      ]
     },
     "execution_count": 192,
     "metadata": {},
     "output_type": "execute_result"
    }
   ],
   "source": [
    "tokenizer.pad_token, tokenizer.pad_token_id"
   ]
  },
  {
   "cell_type": "markdown",
   "metadata": {
    "id": "6GWCfijM0TWB"
   },
   "source": [
    "BERT understands tokens that were in the training set. Everything else can be encoded using the `[UNK]` (unknown) token:"
   ]
  },
  {
   "cell_type": "code",
   "execution_count": 193,
   "metadata": {
    "colab": {
     "base_uri": "https://localhost:8080/"
    },
    "id": "4cmfFsbEKQDT",
    "outputId": "5f040ca0-f595-483c-add3-b00ff9ed6e97"
   },
   "outputs": [
    {
     "data": {
      "text/plain": [
       "('[UNK]', 100)"
      ]
     },
     "execution_count": 193,
     "metadata": {},
     "output_type": "execute_result"
    }
   ],
   "source": [
    "tokenizer.unk_token, tokenizer.unk_token_id"
   ]
  },
  {
   "cell_type": "markdown",
   "metadata": {
    "id": "W9ap7jdL0LYU"
   },
   "source": [
    "All of that work can be done using the [`encode_plus()`](https://huggingface.co/transformers/main_classes/tokenizer.html#transformers.PreTrainedTokenizer.encode_plus) method:"
   ]
  },
  {
   "cell_type": "code",
   "execution_count": 194,
   "metadata": {
    "colab": {
     "base_uri": "https://localhost:8080/"
    },
    "id": "Vea9edaaxSPO",
    "outputId": "cbffde41-252f-4ff9-e16e-cd8a305e8c68"
   },
   "outputs": [
    {
     "name": "stderr",
     "output_type": "stream",
     "text": [
      "/opt/conda/lib/python3.7/site-packages/transformers/tokenization_utils_base.py:2022: FutureWarning: The `pad_to_max_length` argument is deprecated and will be removed in a future version, use `padding=True` or `padding='longest'` to pad to the longest sequence in the batch, or use `padding='max_length'` to pad to a max length. In this case, you can give a specific length with `max_length` (e.g. `max_length=45`) or leave max_length to None to pad to the maximal input size of the model (e.g. 512 for Bert).\n",
      "  FutureWarning,\n"
     ]
    },
    {
     "data": {
      "text/plain": [
       "dict_keys(['input_ids', 'attention_mask'])"
      ]
     },
     "execution_count": 194,
     "metadata": {},
     "output_type": "execute_result"
    }
   ],
   "source": [
    "encoding = tokenizer.encode_plus(\n",
    "  sample_txt,\n",
    "  max_length=32,\n",
    "  add_special_tokens=True, # Add '[CLS]' and '[SEP]'\n",
    "  return_token_type_ids=False,\n",
    "  pad_to_max_length=True,\n",
    "  return_attention_mask=True,\n",
    "  return_tensors='pt',  # Return PyTorch tensors\n",
    ")\n",
    "\n",
    "encoding.keys()"
   ]
  },
  {
   "cell_type": "markdown",
   "metadata": {
    "id": "sS69c8WvdOED"
   },
   "source": [
    "The token ids are now stored in a Tensor and padded to a length of 32:"
   ]
  },
  {
   "cell_type": "code",
   "execution_count": 195,
   "metadata": {
    "colab": {
     "base_uri": "https://localhost:8080/"
    },
    "id": "YzBmcOla0yQR",
    "outputId": "e6a64ab7-adec-4afc-811a-c47c67f4cc7a"
   },
   "outputs": [
    {
     "name": "stdout",
     "output_type": "stream",
     "text": [
      "32\n"
     ]
    },
    {
     "data": {
      "text/plain": [
       "tensor([  101,  2869,  3068,  2094,   119, 26704, 14327,  1114, 25590,  1116,\n",
       "         1125, 25590,  1116,  1190, 26704,  1113,  1122,   119, 26704,  1108,\n",
       "         2576,  2504,   119,   178,  1455,  1111,   170,  4489,  1141,  1105,\n",
       "         1122,   102])"
      ]
     },
     "execution_count": 195,
     "metadata": {},
     "output_type": "execute_result"
    }
   ],
   "source": [
    "print(len(encoding['input_ids'][0]))\n",
    "encoding['input_ids'][0]"
   ]
  },
  {
   "cell_type": "markdown",
   "metadata": {
    "id": "itAyVPsNdyc1"
   },
   "source": [
    "The attention mask has the same length:"
   ]
  },
  {
   "cell_type": "code",
   "execution_count": 196,
   "metadata": {
    "colab": {
     "base_uri": "https://localhost:8080/"
    },
    "id": "Wiv5LLiw03Ox",
    "outputId": "591fdbd3-550b-4f48-9c05-28c689785276"
   },
   "outputs": [
    {
     "name": "stdout",
     "output_type": "stream",
     "text": [
      "32\n"
     ]
    },
    {
     "data": {
      "text/plain": [
       "tensor([[1, 1, 1, 1, 1, 1, 1, 1, 1, 1, 1, 1, 1, 1, 1, 1, 1, 1, 1, 1, 1, 1, 1, 1,\n",
       "         1, 1, 1, 1, 1, 1, 1, 1]])"
      ]
     },
     "execution_count": 196,
     "metadata": {},
     "output_type": "execute_result"
    }
   ],
   "source": [
    "print(len(encoding['attention_mask'][0]))\n",
    "encoding['attention_mask']"
   ]
  },
  {
   "cell_type": "markdown",
   "metadata": {
    "id": "m1RvhC4jNHHy"
   },
   "source": [
    "We can inverse the tokenization to have a look at the special tokens:"
   ]
  },
  {
   "cell_type": "code",
   "execution_count": 197,
   "metadata": {
    "colab": {
     "base_uri": "https://localhost:8080/"
    },
    "id": "IagGoafKLUwW",
    "outputId": "59dbd784-7fe0-4378-ec97-f3c23b60e5b1"
   },
   "outputs": [
    {
     "data": {
      "text/plain": [
       "['[CLS]',\n",
       " 'poor',\n",
       " 'quality',\n",
       " 'food',\n",
       " '.',\n",
       " 'steak',\n",
       " 'sandwich',\n",
       " 'with',\n",
       " 'mushroom',\n",
       " '##s',\n",
       " 'had',\n",
       " 'mushroom',\n",
       " '##s',\n",
       " 'than',\n",
       " 'steak',\n",
       " 'on',\n",
       " 'it',\n",
       " '.',\n",
       " 'steak',\n",
       " 'was',\n",
       " 'stone',\n",
       " 'cold',\n",
       " '.',\n",
       " 'i',\n",
       " 'asked',\n",
       " 'for',\n",
       " 'a',\n",
       " 'fresh',\n",
       " 'one',\n",
       " 'and',\n",
       " 'it',\n",
       " '[SEP]']"
      ]
     },
     "execution_count": 197,
     "metadata": {},
     "output_type": "execute_result"
    }
   ],
   "source": [
    "tokenizer.convert_ids_to_tokens(encoding['input_ids'][0])"
   ]
  },
  {
   "cell_type": "markdown",
   "metadata": {
    "id": "waKjYxTDuaWt"
   },
   "source": [
    "### Choosing Sequence Length\n",
    "\n",
    "BERT works with fixed-length sequences."
   ]
  },
  {
   "cell_type": "code",
   "execution_count": 198,
   "metadata": {},
   "outputs": [],
   "source": [
    "#cutting the number of dataset into half\n",
    "#df_h = df.groupby('sentiment').apply(lambda df: df.sample(10000))"
   ]
  },
  {
   "cell_type": "code",
   "execution_count": 199,
   "metadata": {
    "id": "BUnE5CT9hbeZ"
   },
   "outputs": [
    {
     "ename": "AttributeError",
     "evalue": "'DataFrame' object has no attribute 'text'",
     "output_type": "error",
     "traceback": [
      "\u001b[0;31m---------------------------------------------------------------------------\u001b[0m",
      "\u001b[0;31mAttributeError\u001b[0m                            Traceback (most recent call last)",
      "\u001b[0;32m<ipython-input-199-68bcb65d0847>\u001b[0m in \u001b[0;36m<module>\u001b[0;34m\u001b[0m\n\u001b[1;32m      1\u001b[0m \u001b[0mtoken_lens\u001b[0m \u001b[0;34m=\u001b[0m \u001b[0;34m[\u001b[0m\u001b[0;34m]\u001b[0m\u001b[0;34m\u001b[0m\u001b[0;34m\u001b[0m\u001b[0m\n\u001b[1;32m      2\u001b[0m \u001b[0;34m\u001b[0m\u001b[0m\n\u001b[0;32m----> 3\u001b[0;31m \u001b[0;32mfor\u001b[0m \u001b[0mtxt\u001b[0m \u001b[0;32min\u001b[0m \u001b[0mdf\u001b[0m\u001b[0;34m.\u001b[0m\u001b[0mtext\u001b[0m\u001b[0;34m:\u001b[0m\u001b[0;34m\u001b[0m\u001b[0;34m\u001b[0m\u001b[0m\n\u001b[0m\u001b[1;32m      4\u001b[0m   \u001b[0mtokens\u001b[0m \u001b[0;34m=\u001b[0m \u001b[0mtokenizer\u001b[0m\u001b[0;34m.\u001b[0m\u001b[0mencode\u001b[0m\u001b[0;34m(\u001b[0m\u001b[0mtxt\u001b[0m\u001b[0;34m,\u001b[0m \u001b[0mmax_length\u001b[0m\u001b[0;34m=\u001b[0m\u001b[0;36m512\u001b[0m\u001b[0;34m)\u001b[0m\u001b[0;34m\u001b[0m\u001b[0;34m\u001b[0m\u001b[0m\n\u001b[1;32m      5\u001b[0m   \u001b[0mtoken_lens\u001b[0m\u001b[0;34m.\u001b[0m\u001b[0mappend\u001b[0m\u001b[0;34m(\u001b[0m\u001b[0mlen\u001b[0m\u001b[0;34m(\u001b[0m\u001b[0mtokens\u001b[0m\u001b[0;34m)\u001b[0m\u001b[0;34m)\u001b[0m\u001b[0;34m\u001b[0m\u001b[0;34m\u001b[0m\u001b[0m\n",
      "\u001b[0;32m/opt/conda/lib/python3.7/site-packages/pandas/core/generic.py\u001b[0m in \u001b[0;36m__getattr__\u001b[0;34m(self, name)\u001b[0m\n\u001b[1;32m   5137\u001b[0m             \u001b[0;32mif\u001b[0m \u001b[0mself\u001b[0m\u001b[0;34m.\u001b[0m\u001b[0m_info_axis\u001b[0m\u001b[0;34m.\u001b[0m\u001b[0m_can_hold_identifiers_and_holds_name\u001b[0m\u001b[0;34m(\u001b[0m\u001b[0mname\u001b[0m\u001b[0;34m)\u001b[0m\u001b[0;34m:\u001b[0m\u001b[0;34m\u001b[0m\u001b[0;34m\u001b[0m\u001b[0m\n\u001b[1;32m   5138\u001b[0m                 \u001b[0;32mreturn\u001b[0m \u001b[0mself\u001b[0m\u001b[0;34m[\u001b[0m\u001b[0mname\u001b[0m\u001b[0;34m]\u001b[0m\u001b[0;34m\u001b[0m\u001b[0;34m\u001b[0m\u001b[0m\n\u001b[0;32m-> 5139\u001b[0;31m             \u001b[0;32mreturn\u001b[0m \u001b[0mobject\u001b[0m\u001b[0;34m.\u001b[0m\u001b[0m__getattribute__\u001b[0m\u001b[0;34m(\u001b[0m\u001b[0mself\u001b[0m\u001b[0;34m,\u001b[0m \u001b[0mname\u001b[0m\u001b[0;34m)\u001b[0m\u001b[0;34m\u001b[0m\u001b[0;34m\u001b[0m\u001b[0m\n\u001b[0m\u001b[1;32m   5140\u001b[0m \u001b[0;34m\u001b[0m\u001b[0m\n\u001b[1;32m   5141\u001b[0m     \u001b[0;32mdef\u001b[0m \u001b[0m__setattr__\u001b[0m\u001b[0;34m(\u001b[0m\u001b[0mself\u001b[0m\u001b[0;34m,\u001b[0m \u001b[0mname\u001b[0m\u001b[0;34m:\u001b[0m \u001b[0mstr\u001b[0m\u001b[0;34m,\u001b[0m \u001b[0mvalue\u001b[0m\u001b[0;34m)\u001b[0m \u001b[0;34m->\u001b[0m \u001b[0;32mNone\u001b[0m\u001b[0;34m:\u001b[0m\u001b[0;34m\u001b[0m\u001b[0;34m\u001b[0m\u001b[0m\n",
      "\u001b[0;31mAttributeError\u001b[0m: 'DataFrame' object has no attribute 'text'"
     ]
    }
   ],
   "source": [
    "token_lens = []\n",
    "\n",
    "for txt in df.text:\n",
    "  tokens = tokenizer.encode(txt, max_length=512)\n",
    "  token_lens.append(len(tokens))"
   ]
  },
  {
   "cell_type": "markdown",
   "metadata": {
    "id": "tI4goUrHf6da"
   },
   "source": [
    "and plot the distribution:"
   ]
  },
  {
   "cell_type": "code",
   "execution_count": 109,
   "metadata": {
    "colab": {
     "base_uri": "https://localhost:8080/",
     "height": 560
    },
    "id": "SzE1j4jxmUtd",
    "outputId": "eba024ff-f1af-40d4-fd3b-6598083a49f2"
   },
   "outputs": [
    {
     "name": "stderr",
     "output_type": "stream",
     "text": [
      "/opt/conda/lib/python3.7/site-packages/seaborn/distributions.py:2551: FutureWarning: `distplot` is a deprecated function and will be removed in a future version. Please adapt your code to use either `displot` (a figure-level function with similar flexibility) or `histplot` (an axes-level function for histograms).\n",
      "  warnings.warn(msg, FutureWarning)\n"
     ]
    },
    {
     "data": {
      "image/png": "[encoded data removed]",
      "text/plain": [
       "<Figure size 864x576 with 1 Axes>"
      ]
     },
     "metadata": {
      "image/png": {
       "height": 489,
       "width": 761
      }
     },
     "output_type": "display_data"
    }
   ],
   "source": [
    "sns.distplot(token_lens)\n",
    "plt.xlim([0, 500]);\n",
    "plt.xlabel('Token count');"
   ]
  },
  {
   "cell_type": "markdown",
   "metadata": {
    "id": "oW6ajl30t6du"
   },
   "source": [
    "Most of the reviews seem to contain less than 300 tokens, so we'll choose a maximum length of 300."
   ]
  },
  {
   "cell_type": "code",
   "execution_count": 200,
   "metadata": {
    "id": "t7xSmJtLuoxW"
   },
   "outputs": [],
   "source": [
    "MAX_LEN = 300"
   ]
  },
  {
   "cell_type": "markdown",
   "metadata": {
    "id": "XvvcoU6nurHy"
   },
   "source": [
    "We have all building blocks required to create a PyTorch dataset."
   ]
  },
  {
   "cell_type": "code",
   "execution_count": 111,
   "metadata": {
    "id": "E2BPgRJ7YBK0"
   },
   "outputs": [],
   "source": [
    "class GPReviewDataset(Dataset):\n",
    "\n",
    "  def __init__(self, reviews, targets, tokenizer, max_len):\n",
    "    self.reviews = reviews\n",
    "    self.targets = targets\n",
    "    self.tokenizer = tokenizer\n",
    "    self.max_len = max_len\n",
    "  \n",
    "  def __len__(self):\n",
    "    return len(self.reviews)\n",
    "  \n",
    "  def __getitem__(self, item):\n",
    "    review = str(self.reviews[item])\n",
    "    target = self.targets[item]\n",
    "\n",
    "    encoding = self.tokenizer.encode_plus(\n",
    "      review,\n",
    "      add_special_tokens=True,\n",
    "      max_length=self.max_len,\n",
    "      return_token_type_ids=False,\n",
    "      pad_to_max_length=True,\n",
    "      return_attention_mask=True,\n",
    "      return_tensors='pt',\n",
    "    )\n",
    "\n",
    "    return {\n",
    "      'review_text': review,\n",
    "      'input_ids': encoding['input_ids'].flatten(),\n",
    "      'attention_mask': encoding['attention_mask'].flatten(),\n",
    "      'targets': torch.tensor(target, dtype=torch.long)\n",
    "    }"
   ]
  },
  {
   "cell_type": "markdown",
   "metadata": {
    "id": "x2uwsvCYqDJK"
   },
   "source": [
    "We also return the review texts, so it'll be easier to evaluate the predictions from our model. Let's split the data:"
   ]
  },
  {
   "cell_type": "code",
   "execution_count": 112,
   "metadata": {
    "id": "B-vWzoo81dvO"
   },
   "outputs": [],
   "source": [
    "df_train, df_test = train_test_split(df, test_size=0.2, random_state=RANDOM_SEED)\n",
    "df_val, df_test = train_test_split(df_test, test_size=0.5, random_state=RANDOM_SEED)"
   ]
  },
  {
   "cell_type": "code",
   "execution_count": 113,
   "metadata": {
    "colab": {
     "base_uri": "https://localhost:8080/"
    },
    "id": "xz3ZOQXVPCwh",
    "outputId": "ab7d55e4-4b99-4049-e241-c821495e28db"
   },
   "outputs": [
    {
     "data": {
      "text/plain": [
       "((24000, 10), (3000, 10), (3000, 10))"
      ]
     },
     "execution_count": 113,
     "metadata": {},
     "output_type": "execute_result"
    }
   ],
   "source": [
    "df_train.shape, df_val.shape, df_test.shape"
   ]
  },
  {
   "cell_type": "markdown",
   "metadata": {
    "id": "J4tQ1x-vqNab"
   },
   "source": [
    "We also need to create a couple of data loaders. Here's a helper function to do it:"
   ]
  },
  {
   "cell_type": "code",
   "execution_count": 114,
   "metadata": {
    "id": "KEGqcvkuOuTX"
   },
   "outputs": [],
   "source": [
    "def create_data_loader(df, tokenizer, max_len, batch_size):\n",
    "  ds = GPReviewDataset(\n",
    "    reviews=df.text.to_numpy(),\n",
    "    targets=df.sentiment.to_numpy(),\n",
    "    tokenizer=tokenizer,\n",
    "    max_len=max_len\n",
    "  )\n",
    "\n",
    "  return DataLoader(\n",
    "    ds,\n",
    "    batch_size=batch_size,\n",
    "    num_workers=4\n",
    "  )"
   ]
  },
  {
   "cell_type": "code",
   "execution_count": 115,
   "metadata": {
    "id": "vODDxMKsPHqI"
   },
   "outputs": [],
   "source": [
    "BATCH_SIZE = 16\n",
    "\n",
    "train_data_loader = create_data_loader(df_train, tokenizer, MAX_LEN, BATCH_SIZE)\n",
    "val_data_loader = create_data_loader(df_val, tokenizer, MAX_LEN, BATCH_SIZE)\n",
    "test_data_loader = create_data_loader(df_test, tokenizer, MAX_LEN, BATCH_SIZE)"
   ]
  },
  {
   "cell_type": "markdown",
   "metadata": {
    "id": "A6dlOptwqlhF"
   },
   "source": [
    "Let's have a look at an example batch from our training data loader:"
   ]
  },
  {
   "cell_type": "code",
   "execution_count": 116,
   "metadata": {
    "colab": {
     "base_uri": "https://localhost:8080/"
    },
    "id": "Y93ldSN47FeT",
    "outputId": "a20e881f-4990-4078-e832-ce6351d9ce17"
   },
   "outputs": [
    {
     "name": "stderr",
     "output_type": "stream",
     "text": [
      "/opt/conda/lib/python3.7/site-packages/transformers/tokenization_utils_base.py:2022: FutureWarning: The `pad_to_max_length` argument is deprecated and will be removed in a future version, use `padding=True` or `padding='longest'` to pad to the longest sequence in the batch, or use `padding='max_length'` to pad to a max length. In this case, you can give a specific length with `max_length` (e.g. `max_length=45`) or leave max_length to None to pad to the maximal input size of the model (e.g. 512 for Bert).\n",
      "  FutureWarning,\n",
      "/opt/conda/lib/python3.7/site-packages/transformers/tokenization_utils_base.py:2022: FutureWarning: The `pad_to_max_length` argument is deprecated and will be removed in a future version, use `padding=True` or `padding='longest'` to pad to the longest sequence in the batch, or use `padding='max_length'` to pad to a max length. In this case, you can give a specific length with `max_length` (e.g. `max_length=45`) or leave max_length to None to pad to the maximal input size of the model (e.g. 512 for Bert).\n",
      "  FutureWarning,\n",
      "/opt/conda/lib/python3.7/site-packages/transformers/tokenization_utils_base.py:2022: FutureWarning: The `pad_to_max_length` argument is deprecated and will be removed in a future version, use `padding=True` or `padding='longest'` to pad to the longest sequence in the batch, or use `padding='max_length'` to pad to a max length. In this case, you can give a specific length with `max_length` (e.g. `max_length=45`) or leave max_length to None to pad to the maximal input size of the model (e.g. 512 for Bert).\n",
      "  FutureWarning,\n",
      "/opt/conda/lib/python3.7/site-packages/transformers/tokenization_utils_base.py:2022: FutureWarning: The `pad_to_max_length` argument is deprecated and will be removed in a future version, use `padding=True` or `padding='longest'` to pad to the longest sequence in the batch, or use `padding='max_length'` to pad to a max length. In this case, you can give a specific length with `max_length` (e.g. `max_length=45`) or leave max_length to None to pad to the maximal input size of the model (e.g. 512 for Bert).\n",
      "  FutureWarning,\n"
     ]
    },
    {
     "data": {
      "text/plain": [
       "dict_keys(['review_text', 'input_ids', 'attention_mask', 'targets'])"
      ]
     },
     "execution_count": 116,
     "metadata": {},
     "output_type": "execute_result"
    }
   ],
   "source": [
    "data = next(iter(train_data_loader))\n",
    "data.keys()"
   ]
  },
  {
   "cell_type": "code",
   "execution_count": 117,
   "metadata": {
    "colab": {
     "base_uri": "https://localhost:8080/"
    },
    "id": "IdU4YVqb7N8M",
    "outputId": "63c0fd89-f945-44a6-837f-a20faf2540b7"
   },
   "outputs": [
    {
     "name": "stdout",
     "output_type": "stream",
     "text": [
      "torch.Size([16, 300])\n",
      "torch.Size([16, 300])\n",
      "torch.Size([16])\n"
     ]
    }
   ],
   "source": [
    "print(data['input_ids'].shape)\n",
    "print(data['attention_mask'].shape)\n",
    "print(data['targets'].shape)"
   ]
  },
  {
   "cell_type": "markdown",
   "metadata": {
    "id": "H63Y-TjyRC7S"
   },
   "source": [
    "## Sentiment Classification with BERT and Hugging Face"
   ]
  },
  {
   "cell_type": "markdown",
   "metadata": {
    "id": "440Nd31VTHER"
   },
   "source": [
    "We'll use the basic [BertModel](https://huggingface.co/transformers/model_doc/bert.html#bertmodel) and build our sentiment classifier on top of it. Let's load the model:"
   ]
  },
  {
   "cell_type": "code",
   "execution_count": 118,
   "metadata": {
    "colab": {
     "base_uri": "https://localhost:8080/",
     "height": 115,
     "referenced_widgets": [
      "f30f2a3b3ca54e0da9a1963bf136d26e",
      "3c00590c568e44228084e00ecc366f24",
      "4d359212d9a34ff9895f94f88a6a47c8",
      "9ad79dedd0064c4f8786f456cd98baeb",
      "92e50e5609e94ddea8635609178fac1f",
      "b9257f1d5ccb4896b9c4994dd6a3881a",
      "12e9a1a582f74bfc92ef423ee8b3069d",
      "0f7c038f465b464d94949c43e449deb3",
      "d5426f0f97934df49354e9d92976ebef",
      "83e306a783a246eb926131c0157d2f3f",
      "e68f01a50dd343deb05ce60826218e06",
      "6c9a5dd56767478b9262fda3041ac4ae",
      "2eff57b94a7b4883b807602ce5754c07",
      "183d2e7445984df18d7d4dbfc20066c4",
      "62764986444a4852a21e3ba454426539",
      "62c3b578971d49ceb4f0d1cfb45b43ca"
     ]
    },
    "id": "0P41FayISNRI",
    "outputId": "e76cd9e8-c37e-411f-d07d-0caa9b170784"
   },
   "outputs": [],
   "source": [
    "bert_model = BertModel.from_pretrained(PRE_TRAINED_MODEL_NAME)"
   ]
  },
  {
   "cell_type": "markdown",
   "metadata": {
    "id": "aFE7YSbFdY4t"
   },
   "source": [
    "And try to use it on the encoding of our sample text:"
   ]
  },
  {
   "cell_type": "code",
   "execution_count": 119,
   "metadata": {
    "id": "s1aoFxbQSn15"
   },
   "outputs": [],
   "source": [
    "last_hidden_state, pooled_output = bert_model(\n",
    "  input_ids=encoding['input_ids'], \n",
    "  attention_mask=encoding['attention_mask']\n",
    ")"
   ]
  },
  {
   "cell_type": "markdown",
   "metadata": {
    "id": "mLLu8zmqbaHV"
   },
   "source": [
    "The `last_hidden_state` is a sequence of hidden states of the last layer of the model. Obtaining the `pooled_output` is done by applying the [BertPooler](https://github.com/huggingface/transformers/blob/edf0582c0be87b60f94f41c659ea779876efc7be/src/transformers/modeling_bert.py#L426) on `last_hidden_state`:"
   ]
  },
  {
   "cell_type": "code",
   "execution_count": 120,
   "metadata": {
    "colab": {
     "base_uri": "https://localhost:8080/"
    },
    "id": "mUJHXNpIbcci",
    "outputId": "8fdd7dfa-9814-4238-adff-30ab4e71d8f1"
   },
   "outputs": [
    {
     "data": {
      "text/plain": [
       "torch.Size([1, 32, 768])"
      ]
     },
     "execution_count": 120,
     "metadata": {},
     "output_type": "execute_result"
    }
   ],
   "source": [
    "last_hidden_state.shape"
   ]
  },
  {
   "cell_type": "markdown",
   "metadata": {
    "id": "Q4dAot4zbz8k"
   },
   "source": [
    "We have the hidden state for each of our 32 tokens (the length of our example sequence). 768 is the number of hidden units in the feedforward-networks."
   ]
  },
  {
   "cell_type": "code",
   "execution_count": 121,
   "metadata": {
    "colab": {
     "base_uri": "https://localhost:8080/"
    },
    "id": "nsxB7Qy7b5YN",
    "outputId": "80d1dcfc-e3db-42af-ea6b-3b110d2969ba"
   },
   "outputs": [
    {
     "data": {
      "text/plain": [
       "768"
      ]
     },
     "execution_count": 121,
     "metadata": {},
     "output_type": "execute_result"
    }
   ],
   "source": [
    "bert_model.config.hidden_size"
   ]
  },
  {
   "cell_type": "markdown",
   "metadata": {
    "id": "wTKi8-rTd_j4"
   },
   "source": [
    "\n",
    "\n",
    "You can think of the `pooled_output` as a summary of the content, according to BERT."
   ]
  },
  {
   "cell_type": "code",
   "execution_count": 122,
   "metadata": {
    "colab": {
     "base_uri": "https://localhost:8080/"
    },
    "id": "2jIAtRhaSz9c",
    "outputId": "e6a509f8-4cf5-4f5e-e853-e73be3c26001"
   },
   "outputs": [
    {
     "data": {
      "text/plain": [
       "torch.Size([1, 768])"
      ]
     },
     "execution_count": 122,
     "metadata": {},
     "output_type": "execute_result"
    }
   ],
   "source": [
    "pooled_output.shape"
   ]
  },
  {
   "cell_type": "markdown",
   "metadata": {
    "id": "0o_NiS3WgOFf"
   },
   "source": [
    "We can create a classifier that uses the BERT model:"
   ]
  },
  {
   "cell_type": "code",
   "execution_count": 123,
   "metadata": {
    "id": "m_mRflxPl32F"
   },
   "outputs": [],
   "source": [
    "class SentimentClassifier(nn.Module):\n",
    "\n",
    "  def __init__(self, n_classes):\n",
    "    super(SentimentClassifier, self).__init__()\n",
    "    self.bert = BertModel.from_pretrained(PRE_TRAINED_MODEL_NAME)\n",
    "    self.drop = nn.Dropout(p=0.3)\n",
    "    self.out = nn.Linear(self.bert.config.hidden_size, n_classes)\n",
    "  \n",
    "  def forward(self, input_ids, attention_mask):\n",
    "    _, pooled_output = self.bert(\n",
    "      input_ids=input_ids,\n",
    "      attention_mask=attention_mask\n",
    "    )\n",
    "    output = self.drop(pooled_output)\n",
    "    return self.out(output)"
   ]
  },
  {
   "cell_type": "markdown",
   "metadata": {
    "id": "UJg8m3NQJahc"
   },
   "source": [
    "We use a dropout layer for some regularization and a fully-connected layer for our output. Note that we're returning the raw output of the last layer since that is required for the cross-entropy loss function in PyTorch to work.\n",
    "\n",
    "This should work like any other PyTorch model. Create an instance and move it to the GPU:"
   ]
  },
  {
   "cell_type": "code",
   "execution_count": 124,
   "metadata": {
    "id": "i0yQnuSFsjDp"
   },
   "outputs": [],
   "source": [
    "model = SentimentClassifier(len(class_names))\n",
    "model = model.to(device)"
   ]
  },
  {
   "cell_type": "markdown",
   "metadata": {
    "id": "VCPCFDLlKIQd"
   },
   "source": [
    "We'll move the example batch of our training data to the GPU:"
   ]
  },
  {
   "cell_type": "code",
   "execution_count": 125,
   "metadata": {
    "colab": {
     "base_uri": "https://localhost:8080/"
    },
    "id": "mz7p__CqdaMO",
    "outputId": "974a1d9a-0709-4b3d-f296-b679bcffc9a2"
   },
   "outputs": [
    {
     "name": "stdout",
     "output_type": "stream",
     "text": [
      "torch.Size([16, 300])\n",
      "torch.Size([16, 300])\n"
     ]
    }
   ],
   "source": [
    "input_ids = data['input_ids'].to(device)\n",
    "attention_mask = data['attention_mask'].to(device)\n",
    "\n",
    "print(input_ids.shape) # batch size x seq length\n",
    "print(attention_mask.shape) # batch size x seq length"
   ]
  },
  {
   "cell_type": "markdown",
   "metadata": {
    "id": "Hr1EgkEtKOIB"
   },
   "source": [
    "To get the predicted probabilities from our trained model, we'll apply the softmax function to the outputs:"
   ]
  },
  {
   "cell_type": "code",
   "execution_count": 126,
   "metadata": {
    "colab": {
     "base_uri": "https://localhost:8080/"
    },
    "id": "2rTCj46Zamry",
    "outputId": "9f7a6b25-c3e1-445f-a7b1-5ebeb7fb7ea4"
   },
   "outputs": [
    {
     "data": {
      "text/plain": [
       "tensor([[0.4853, 0.1905, 0.3242],\n",
       "        [0.4315, 0.1371, 0.4315],\n",
       "        [0.4749, 0.1266, 0.3986],\n",
       "        [0.5158, 0.0803, 0.4039],\n",
       "        [0.4294, 0.1582, 0.4123],\n",
       "        [0.4228, 0.1590, 0.4182],\n",
       "        [0.4304, 0.1336, 0.4360],\n",
       "        [0.3812, 0.1837, 0.4351],\n",
       "        [0.4268, 0.0864, 0.4868],\n",
       "        [0.5047, 0.1351, 0.3602],\n",
       "        [0.4709, 0.1761, 0.3530],\n",
       "        [0.3716, 0.1410, 0.4874],\n",
       "        [0.5433, 0.1136, 0.3431],\n",
       "        [0.3210, 0.2402, 0.4388],\n",
       "        [0.3470, 0.0705, 0.5825],\n",
       "        [0.6322, 0.1083, 0.2594]], grad_fn=<SoftmaxBackward>)"
      ]
     },
     "execution_count": 126,
     "metadata": {},
     "output_type": "execute_result"
    }
   ],
   "source": [
    "F.softmax(model(input_ids, attention_mask), dim=1)"
   ]
  },
  {
   "cell_type": "markdown",
   "metadata": {
    "id": "g9xikRdtRN1N"
   },
   "source": [
    "### Training"
   ]
  },
  {
   "cell_type": "markdown",
   "metadata": {
    "id": "76g7FV85H-T8"
   },
   "source": [
    "To reproduce the training procedure from the BERT paper, we'll use the [AdamW](https://huggingface.co/transformers/main_classes/optimizer_schedules.html#adamw) optimizer provided by Hugging Face. It corrects weight decay, so it's similar to the original paper. We'll also use a linear scheduler with no warmup steps:"
   ]
  },
  {
   "cell_type": "code",
   "execution_count": 127,
   "metadata": {
    "id": "5v-ArJ2fCCcU"
   },
   "outputs": [],
   "source": [
    "EPOCHS = 10\n",
    "\n",
    "optimizer = AdamW(model.parameters(), lr=2e-5, correct_bias=False)\n",
    "total_steps = len(train_data_loader) * EPOCHS\n",
    "\n",
    "scheduler = get_linear_schedule_with_warmup(\n",
    "  optimizer,\n",
    "  num_warmup_steps=0,\n",
    "  num_training_steps=total_steps\n",
    ")\n",
    "\n",
    "loss_fn = nn.CrossEntropyLoss().to(device)"
   ]
  },
  {
   "cell_type": "markdown",
   "metadata": {
    "id": "A8522g7JIu5J"
   },
   "source": [
    "The BERT authors have some recommendations for fine-tuning:\n",
    "\n",
    "- Batch size: 16, 32\n",
    "- Learning rate (Adam): 5e-5, 3e-5, 2e-5\n",
    "- Number of epochs: 2, 3, 4\n",
    "\n",
    "Note that increasing the batch size reduces the training time significantly, but gives you lower accuracy.\n",
    "\n",
    "Helper function for training our model for one epoch:"
   ]
  },
  {
   "cell_type": "code",
   "execution_count": 128,
   "metadata": {
    "id": "bzl9UhuNx1_Q"
   },
   "outputs": [],
   "source": [
    "def train_epoch(\n",
    "  model, \n",
    "  data_loader, \n",
    "  loss_fn, \n",
    "  optimizer, \n",
    "  device, \n",
    "  scheduler, \n",
    "  n_examples\n",
    "):\n",
    "  model = model.train()\n",
    "\n",
    "  losses = []\n",
    "  correct_predictions = 0\n",
    "  \n",
    "  for d in data_loader:\n",
    "    input_ids = d[\"input_ids\"].to(device)\n",
    "    attention_mask = d[\"attention_mask\"].to(device)\n",
    "    targets = d[\"targets\"].to(device)\n",
    "\n",
    "    outputs = model(\n",
    "      input_ids=input_ids,\n",
    "      attention_mask=attention_mask\n",
    "    )\n",
    "\n",
    "    _, preds = torch.max(outputs, dim=1)\n",
    "    loss = loss_fn(outputs, targets)\n",
    "\n",
    "    correct_predictions += torch.sum(preds == targets)\n",
    "    losses.append(loss.item())\n",
    "\n",
    "    loss.backward()\n",
    "    nn.utils.clip_grad_norm_(model.parameters(), max_norm=1.0)\n",
    "    optimizer.step()\n",
    "    scheduler.step()\n",
    "    optimizer.zero_grad()\n",
    "\n",
    "  return correct_predictions.double() / n_examples, np.mean(losses)"
   ]
  },
  {
   "cell_type": "markdown",
   "metadata": {
    "id": "E4PniYIte0fr"
   },
   "source": [
    "The scheduler gets called every time a batch is fed to the model. We're avoiding exploding gradients by clipping the gradients of the model using [clip_grad_norm_](https://pytorch.org/docs/stable/nn.html#clip-grad-norm).\n",
    "\n",
    "Let's write another one that helps us evaluate the model on a given data loader:"
   ]
  },
  {
   "cell_type": "code",
   "execution_count": 129,
   "metadata": {
    "id": "CXeRorVGIKre"
   },
   "outputs": [],
   "source": [
    "def eval_model(model, data_loader, loss_fn, device, n_examples):\n",
    "  model = model.eval()\n",
    "\n",
    "  losses = []\n",
    "  correct_predictions = 0\n",
    "\n",
    "  with torch.no_grad():\n",
    "    for d in data_loader:\n",
    "      input_ids = d[\"input_ids\"].to(device)\n",
    "      attention_mask = d[\"attention_mask\"].to(device)\n",
    "      targets = d[\"targets\"].to(device)\n",
    "\n",
    "      outputs = model(\n",
    "        input_ids=input_ids,\n",
    "        attention_mask=attention_mask\n",
    "      )\n",
    "      _, preds = torch.max(outputs, dim=1)\n",
    "\n",
    "      loss = loss_fn(outputs, targets)\n",
    "\n",
    "      correct_predictions += torch.sum(preds == targets)\n",
    "      losses.append(loss.item())\n",
    "\n",
    "  return correct_predictions.double() / n_examples, np.mean(losses)"
   ]
  },
  {
   "cell_type": "markdown",
   "metadata": {
    "id": "a_rdSDBHhhCh"
   },
   "source": [
    "Using those two, we can write our training loop. We'll also store the training history:"
   ]
  },
  {
   "cell_type": "code",
   "execution_count": null,
   "metadata": {
    "colab": {
     "base_uri": "https://localhost:8080/"
    },
    "id": "1zhHoFNsxufs",
    "outputId": "3c9c417a-9a2a-4827-8c6b-894f33d8c27b"
   },
   "outputs": [],
   "source": [
    "%%time\n",
    "\n",
    "history = defaultdict(list)\n",
    "best_accuracy = 0\n",
    "\n",
    "for epoch in range(EPOCHS):\n",
    "\n",
    "  print(f'Epoch {epoch + 1}/{EPOCHS}')\n",
    "  print('-' * 10)\n",
    "\n",
    "  train_acc, train_loss = train_epoch(\n",
    "    model,\n",
    "    train_data_loader,    \n",
    "    loss_fn, \n",
    "    optimizer, \n",
    "    device, \n",
    "    scheduler, \n",
    "    len(df_train)\n",
    "  )\n",
    "\n",
    "  print(f'Train loss {train_loss} accuracy {train_acc}')\n",
    "\n",
    "  val_acc, val_loss = eval_model(\n",
    "    model,\n",
    "    val_data_loader,\n",
    "    loss_fn, \n",
    "    device, \n",
    "    len(df_val)\n",
    "  )\n",
    "\n",
    "  print(f'Val   loss {val_loss} accuracy {val_acc}')\n",
    "  print()\n",
    "\n",
    "  history['train_acc'].append(train_acc)\n",
    "  history['train_loss'].append(train_loss)\n",
    "  history['val_acc'].append(val_acc)\n",
    "  history['val_loss'].append(val_loss)\n",
    "\n",
    "  if val_acc > best_accuracy:\n",
    "    torch.save(model.state_dict(), 'best_model_state.bin')\n",
    "    best_accuracy = val_acc"
   ]
  },
  {
   "cell_type": "markdown",
   "metadata": {
    "id": "4r8-5zWsiVur"
   },
   "source": [
    "Note that we're storing the state of the best model, indicated by the highest validation accuracy."
   ]
  },
  {
   "cell_type": "markdown",
   "metadata": {
    "id": "wLQf52c7fbzr"
   },
   "source": [
    "Training vs validation accuracy:"
   ]
  },
  {
   "cell_type": "code",
   "execution_count": null,
   "metadata": {
    "colab": {
     "base_uri": "https://localhost:8080/",
     "height": 523
    },
    "id": "-FWG7kBm372V",
    "outputId": "9dd7f8cf-8f36-4280-dfff-bdaa8b9b89f2"
   },
   "outputs": [],
   "source": [
    "plt.plot(history['train_acc'], label='train accuracy')\n",
    "plt.plot(history['val_acc'], label='validation accuracy')\n",
    "\n",
    "plt.title('Training history')\n",
    "plt.ylabel('Accuracy')\n",
    "plt.xlabel('Epoch')\n",
    "plt.legend()\n",
    "plt.ylim([0, 1]);"
   ]
  },
  {
   "cell_type": "markdown",
   "metadata": {
    "id": "ZsHqkLAuf8pv"
   },
   "source": [
    "Can load the trained model below:"
   ]
  },
  {
   "cell_type": "code",
   "execution_count": 134,
   "metadata": {
    "id": "zoGUH8VZ-pPQ"
   },
   "outputs": [
    {
     "data": {
      "text/plain": [
       "<All keys matched successfully>"
      ]
     },
     "execution_count": 134,
     "metadata": {},
     "output_type": "execute_result"
    }
   ],
   "source": [
    "#!gdown --id 1V8itWtowCYnb2Bc9KlK9SxGff9WwmogA\n",
    "\n",
    "model = SentimentClassifier(len(class_names))\n",
    "model.load_state_dict(torch.load('best_model_state_yelp.bin'))\n",
    "# model = model.to(device)\n",
    "#torch.save(model.state_dict(), 'best_model_state_yelp.bin')"
   ]
  },
  {
   "cell_type": "markdown",
   "metadata": {
    "id": "U3HZb3NWFtFf"
   },
   "source": [
    "## Evaluation\n",
    "\n",
    "Calculate the accuracy on the test data:"
   ]
  },
  {
   "cell_type": "code",
   "execution_count": 135,
   "metadata": {
    "colab": {
     "base_uri": "https://localhost:8080/",
     "height": 34
    },
    "id": "jS3gJ_qBEljD",
    "outputId": "21f968b6-fd29-4e74-dee0-8dc9eacd301e"
   },
   "outputs": [
    {
     "name": "stderr",
     "output_type": "stream",
     "text": [
      "/opt/conda/lib/python3.7/site-packages/transformers/tokenization_utils_base.py:2022: FutureWarning: The `pad_to_max_length` argument is deprecated and will be removed in a future version, use `padding=True` or `padding='longest'` to pad to the longest sequence in the batch, or use `padding='max_length'` to pad to a max length. In this case, you can give a specific length with `max_length` (e.g. `max_length=45`) or leave max_length to None to pad to the maximal input size of the model (e.g. 512 for Bert).\n",
      "  FutureWarning,\n",
      "/opt/conda/lib/python3.7/site-packages/transformers/tokenization_utils_base.py:2022: FutureWarning: The `pad_to_max_length` argument is deprecated and will be removed in a future version, use `padding=True` or `padding='longest'` to pad to the longest sequence in the batch, or use `padding='max_length'` to pad to a max length. In this case, you can give a specific length with `max_length` (e.g. `max_length=45`) or leave max_length to None to pad to the maximal input size of the model (e.g. 512 for Bert).\n",
      "  FutureWarning,\n",
      "/opt/conda/lib/python3.7/site-packages/transformers/tokenization_utils_base.py:2022: FutureWarning: The `pad_to_max_length` argument is deprecated and will be removed in a future version, use `padding=True` or `padding='longest'` to pad to the longest sequence in the batch, or use `padding='max_length'` to pad to a max length. In this case, you can give a specific length with `max_length` (e.g. `max_length=45`) or leave max_length to None to pad to the maximal input size of the model (e.g. 512 for Bert).\n",
      "  FutureWarning,\n",
      "/opt/conda/lib/python3.7/site-packages/transformers/tokenization_utils_base.py:2022: FutureWarning: The `pad_to_max_length` argument is deprecated and will be removed in a future version, use `padding=True` or `padding='longest'` to pad to the longest sequence in the batch, or use `padding='max_length'` to pad to a max length. In this case, you can give a specific length with `max_length` (e.g. `max_length=45`) or leave max_length to None to pad to the maximal input size of the model (e.g. 512 for Bert).\n",
      "  FutureWarning,\n"
     ]
    },
    {
     "data": {
      "text/plain": [
       "0.81"
      ]
     },
     "execution_count": 135,
     "metadata": {},
     "output_type": "execute_result"
    }
   ],
   "source": [
    "test_acc, _ = eval_model(\n",
    "  model,\n",
    "  test_data_loader,\n",
    "  loss_fn,\n",
    "  device,\n",
    "  len(df_test)\n",
    ")\n",
    "\n",
    "test_acc.item()"
   ]
  },
  {
   "cell_type": "markdown",
   "metadata": {
    "id": "mdQ7-ylCj8Gd"
   },
   "source": [
    "We'll define a helper function to get the predictions from our model:"
   ]
  },
  {
   "cell_type": "code",
   "execution_count": 136,
   "metadata": {
    "id": "EgR6MuNS8jr_"
   },
   "outputs": [],
   "source": [
    "def get_predictions(model, data_loader):\n",
    "  model = model.eval()\n",
    "  \n",
    "  review_texts = []\n",
    "  predictions = []\n",
    "  prediction_probs = []\n",
    "  real_values = []\n",
    "\n",
    "  with torch.no_grad():\n",
    "    for d in data_loader:\n",
    "\n",
    "      texts = d[\"review_text\"]\n",
    "      input_ids = d[\"input_ids\"].to(device)\n",
    "      attention_mask = d[\"attention_mask\"].to(device)\n",
    "      targets = d[\"targets\"].to(device)\n",
    "\n",
    "      outputs = model(\n",
    "        input_ids=input_ids,\n",
    "        attention_mask=attention_mask\n",
    "      )\n",
    "      _, preds = torch.max(outputs, dim=1)\n",
    "\n",
    "      probs = F.softmax(outputs, dim=1)\n",
    "\n",
    "      review_texts.extend(texts)\n",
    "      predictions.extend(preds)\n",
    "      prediction_probs.extend(probs)\n",
    "      real_values.extend(targets)\n",
    "\n",
    "  predictions = torch.stack(predictions).cpu()\n",
    "  prediction_probs = torch.stack(prediction_probs).cpu()\n",
    "  real_values = torch.stack(real_values).cpu()\n",
    "  return review_texts, predictions, prediction_probs, real_values"
   ]
  },
  {
   "cell_type": "markdown",
   "metadata": {
    "id": "dkbnBTI7kd_y"
   },
   "source": [
    "This is similar to the evaluation function, except that we're storing the text of the reviews and the predicted probabilities (by applying the softmax on the model outputs):"
   ]
  },
  {
   "cell_type": "code",
   "execution_count": 137,
   "metadata": {
    "id": "zHdPZr60-0c_"
   },
   "outputs": [
    {
     "name": "stderr",
     "output_type": "stream",
     "text": [
      "/opt/conda/lib/python3.7/site-packages/transformers/tokenization_utils_base.py:2022: FutureWarning: The `pad_to_max_length` argument is deprecated and will be removed in a future version, use `padding=True` or `padding='longest'` to pad to the longest sequence in the batch, or use `padding='max_length'` to pad to a max length. In this case, you can give a specific length with `max_length` (e.g. `max_length=45`) or leave max_length to None to pad to the maximal input size of the model (e.g. 512 for Bert).\n",
      "  FutureWarning,\n",
      "/opt/conda/lib/python3.7/site-packages/transformers/tokenization_utils_base.py:2022: FutureWarning: The `pad_to_max_length` argument is deprecated and will be removed in a future version, use `padding=True` or `padding='longest'` to pad to the longest sequence in the batch, or use `padding='max_length'` to pad to a max length. In this case, you can give a specific length with `max_length` (e.g. `max_length=45`) or leave max_length to None to pad to the maximal input size of the model (e.g. 512 for Bert).\n",
      "  FutureWarning,\n",
      "/opt/conda/lib/python3.7/site-packages/transformers/tokenization_utils_base.py:2022: FutureWarning: The `pad_to_max_length` argument is deprecated and will be removed in a future version, use `padding=True` or `padding='longest'` to pad to the longest sequence in the batch, or use `padding='max_length'` to pad to a max length. In this case, you can give a specific length with `max_length` (e.g. `max_length=45`) or leave max_length to None to pad to the maximal input size of the model (e.g. 512 for Bert).\n",
      "  FutureWarning,\n",
      "/opt/conda/lib/python3.7/site-packages/transformers/tokenization_utils_base.py:2022: FutureWarning: The `pad_to_max_length` argument is deprecated and will be removed in a future version, use `padding=True` or `padding='longest'` to pad to the longest sequence in the batch, or use `padding='max_length'` to pad to a max length. In this case, you can give a specific length with `max_length` (e.g. `max_length=45`) or leave max_length to None to pad to the maximal input size of the model (e.g. 512 for Bert).\n",
      "  FutureWarning,\n"
     ]
    }
   ],
   "source": [
    "y_review_texts, y_pred, y_pred_probs, y_test = get_predictions(\n",
    "  model,\n",
    "  test_data_loader\n",
    ")"
   ]
  },
  {
   "cell_type": "markdown",
   "metadata": {
    "id": "gVwoVij2lC7F"
   },
   "source": [
    "Let's have a look at the classification report"
   ]
  },
  {
   "cell_type": "code",
   "execution_count": 138,
   "metadata": {
    "colab": {
     "base_uri": "https://localhost:8080/",
     "height": 187
    },
    "id": "L8a9_8-ND3Is",
    "outputId": "9b2c48cc-b62e-41f3-dba5-af90457a37de"
   },
   "outputs": [
    {
     "name": "stdout",
     "output_type": "stream",
     "text": [
      "              precision    recall  f1-score   support\n",
      "\n",
      "    negative       0.85      0.83      0.84      1006\n",
      "     neutral       0.72      0.73      0.72       997\n",
      "    positive       0.87      0.87      0.87       997\n",
      "\n",
      "    accuracy                           0.81      3000\n",
      "   macro avg       0.81      0.81      0.81      3000\n",
      "weighted avg       0.81      0.81      0.81      3000\n",
      "\n"
     ]
    }
   ],
   "source": [
    "print(classification_report(y_test, y_pred, target_names=class_names))"
   ]
  },
  {
   "cell_type": "markdown",
   "metadata": {
    "id": "rFAekw3mmWUi"
   },
   "source": [
    "Looks like it is hard to classify neutral (3 stars) reviews.\n",
    "\n",
    "Confusion matrix:"
   ]
  },
  {
   "cell_type": "code",
   "execution_count": 214,
   "metadata": {
    "colab": {
     "base_uri": "https://localhost:8080/",
     "height": 533
    },
    "id": "6d1qxsc__DTh",
    "outputId": "14b8839c-4e14-430c-b185-46b09bd4231e"
   },
   "outputs": [
    {
     "data": {
      "image/png": "[encoded data removed]",
      "text/plain": [
       "<Figure size 864x576 with 2 Axes>"
      ]
     },
     "metadata": {
      "image/png": {
       "height": 516,
       "width": 725
      }
     },
     "output_type": "display_data"
    }
   ],
   "source": [
    "def show_confusion_matrix(confusion_matrix):\n",
    "  hmap = sns.heatmap(confusion_matrix, annot=True, fmt=\"d\", cmap=\"Blues\")\n",
    "  hmap.yaxis.set_ticklabels(hmap.yaxis.get_ticklabels(), rotation=0, ha='right')\n",
    "  hmap.xaxis.set_ticklabels(hmap.xaxis.get_ticklabels(), rotation=30, ha='right')\n",
    "  plt.ylabel('True sentiment')\n",
    "  plt.xlabel('Predicted sentiment');\n",
    "\n",
    "cm = confusion_matrix(y_test, y_pred)\n",
    "df_cm = pd.DataFrame(cm, index=class_names, columns=class_names)\n",
    "show_confusion_matrix(df_cm)"
   ]
  },
  {
   "cell_type": "markdown",
   "metadata": {
    "id": "wx0U7oNsnZ3A"
   },
   "source": [
    "This confirms that our model is having difficulty classifying neutral reviews. It mistakes those for negative and positive at a roughly equal frequency."
   ]
  },
  {
   "cell_type": "code",
   "execution_count": 143,
   "metadata": {
    "id": "iANBiY3sLo-K"
   },
   "outputs": [],
   "source": [
    "idx = 8\n",
    "\n",
    "review_text = y_review_texts[idx]\n",
    "true_sentiment = y_test[idx]\n",
    "pred_df = pd.DataFrame({\n",
    "  'class_names': class_names,\n",
    "  'values': y_pred_probs[idx]\n",
    "})"
   ]
  },
  {
   "cell_type": "code",
   "execution_count": 144,
   "metadata": {
    "colab": {
     "base_uri": "https://localhost:8080/",
     "height": 187
    },
    "id": "-8D0rb1yfnv4",
    "outputId": "3c2aa437-9c0d-4421-adf6-9d12e87f4a83"
   },
   "outputs": [
    {
     "name": "stdout",
     "output_type": "stream",
     "text": [
      "The worst and most disgusting food ever. The crispy noodles were\n",
      "smothered with extremely sweet yuck sauce. Pad Thai tasted like card\n",
      "Baird. And they are expensive. This I wouldn't eat if someone paid me\n",
      "to eat. Save your money and your taste buds. Stay away!\n",
      "\n",
      "True sentiment: negative\n"
     ]
    }
   ],
   "source": [
    "print(\"\\n\".join(wrap(review_text)))\n",
    "print()\n",
    "print(f'True sentiment: {class_names[true_sentiment]}')"
   ]
  },
  {
   "cell_type": "markdown",
   "metadata": {
    "id": "f7hj_IZFnn2X"
   },
   "source": [
    "Now we can look at the confidence of each sentiment of our model:"
   ]
  },
  {
   "cell_type": "code",
   "execution_count": 145,
   "metadata": {
    "colab": {
     "base_uri": "https://localhost:8080/",
     "height": 506
    },
    "id": "qj4d8lZyMkhf",
    "outputId": "3e1e4f5d-3ae0-41bd-8ddc-348e85c13e98"
   },
   "outputs": [
    {
     "data": {
      "image/png": "[encoded data removed]",
      "text/plain": [
       "<Figure size 864x576 with 1 Axes>"
      ]
     },
     "metadata": {
      "image/png": {
       "height": 489,
       "width": 779
      }
     },
     "output_type": "display_data"
    }
   ],
   "source": [
    "sns.barplot(x='values', y='class_names', data=pred_df, orient='h')\n",
    "plt.ylabel('sentiment')\n",
    "plt.xlabel('probability')\n",
    "plt.xlim([0, 1]);"
   ]
  },
  {
   "cell_type": "markdown",
   "metadata": {
    "id": "7WL5pDmvFyaU"
   },
   "source": [
    "### Predicting on Raw Text\n",
    "\n",
    "Predict the sentiment of some raw text:"
   ]
  },
  {
   "cell_type": "code",
   "execution_count": 146,
   "metadata": {},
   "outputs": [
    {
     "name": "stdout",
     "output_type": "stream",
     "text": [
      "<class 'pandas.core.frame.DataFrame'>\n",
      "Int64Index: 30000 entries, 0 to 29999\n",
      "Data columns (total 10 columns):\n",
      " #   Column       Non-Null Count  Dtype  \n",
      "---  ------       --------------  -----  \n",
      " 0   review_id    30000 non-null  object \n",
      " 1   user_id      30000 non-null  object \n",
      " 2   business_id  30000 non-null  object \n",
      " 3   stars        30000 non-null  float64\n",
      " 4   useful       30000 non-null  int64  \n",
      " 5   funny        30000 non-null  int64  \n",
      " 6   cool         30000 non-null  int64  \n",
      " 7   text         30000 non-null  object \n",
      " 8   date         30000 non-null  object \n",
      " 9   sentiment    30000 non-null  int64  \n",
      "dtypes: float64(1), int64(4), object(5)\n",
      "memory usage: 3.8+ MB\n"
     ]
    }
   ],
   "source": [
    "df.info()"
   ]
  },
  {
   "cell_type": "code",
   "execution_count": 245,
   "metadata": {
    "id": "QEPi7zQRsDhH"
   },
   "outputs": [],
   "source": [
    "df_output = df.copy()"
   ]
  },
  {
   "cell_type": "markdown",
   "metadata": {
    "id": "GaN4RnqMnxYw"
   },
   "source": [
    "We have to use the tokenizer to encode the text:"
   ]
  },
  {
   "cell_type": "code",
   "execution_count": 243,
   "metadata": {
    "id": "zA5Or4D2sLc9"
   },
   "outputs": [],
   "source": [
    "encoded_review = tokenizer.encode_plus(\n",
    "  review_text,\n",
    "  max_length=MAX_LEN,\n",
    "  add_special_tokens=True,\n",
    "  return_token_type_ids=False,\n",
    "  pad_to_max_length=True,\n",
    "  return_attention_mask=True,\n",
    "  return_tensors='pt',\n",
    ")"
   ]
  },
  {
   "cell_type": "code",
   "execution_count": null,
   "metadata": {},
   "outputs": [],
   "source": []
  },
  {
   "cell_type": "markdown",
   "metadata": {
    "id": "et8xlDrKpH60"
   },
   "source": [
    "Let's get the predictions from our model:"
   ]
  },
  {
   "cell_type": "code",
   "execution_count": 244,
   "metadata": {
    "colab": {
     "base_uri": "https://localhost:8080/",
     "height": 51
    },
    "id": "Qr_t3rUksumr",
    "outputId": "4a69d750-c56a-40c1-822a-0b3e7df16b3e"
   },
   "outputs": [
    {
     "name": "stdout",
     "output_type": "stream",
     "text": [
      "Review text: i am not overwhelmed. been here twice and found the food to be just ok. had the strip steak (38 $) on my most recent visit. good flavor but the meat was tough. my daughter loves the ambiance so we will be back.\n",
      "Sentiment  : neutral\n"
     ]
    }
   ],
   "source": [
    "input_ids = encoded_review['input_ids'].to(device)\n",
    "attention_mask = encoded_review['attention_mask'].to(device)\n",
    "\n",
    "output = model(input_ids, attention_mask)\n",
    "_, prediction = torch.max(output, dim=1)\n",
    "\n",
    "print(f'Review text: {review_text}')\n",
    "print(f'Sentiment  : {class_names[prediction]}')"
   ]
  },
  {
   "cell_type": "code",
   "execution_count": 267,
   "metadata": {},
   "outputs": [
    {
     "name": "stderr",
     "output_type": "stream",
     "text": [
      "/opt/conda/lib/python3.7/site-packages/transformers/tokenization_utils_base.py:2022: FutureWarning: The `pad_to_max_length` argument is deprecated and will be removed in a future version, use `padding=True` or `padding='longest'` to pad to the longest sequence in the batch, or use `padding='max_length'` to pad to a max length. In this case, you can give a specific length with `max_length` (e.g. `max_length=45`) or leave max_length to None to pad to the maximal input size of the model (e.g. 512 for Bert).\n",
      "  FutureWarning,\n"
     ]
    }
   ],
   "source": [
    "for i in range(70):\n",
    "    review_text = df_output.review8[i]\n",
    "\n",
    "    encoded_review = tokenizer.encode_plus(\n",
    "      review_text,\n",
    "      max_length=MAX_LEN,\n",
    "      add_special_tokens=True,\n",
    "      return_token_type_ids=False,\n",
    "      pad_to_max_length=True,\n",
    "      return_attention_mask=True,\n",
    "      return_tensors='pt',\n",
    "    )\n",
    "\n",
    "    input_ids = encoded_review['input_ids'].to(device)\n",
    "    attention_mask = encoded_review['attention_mask'].to(device)\n",
    "\n",
    "    output = model(input_ids, attention_mask)\n",
    "    _, prediction = torch.max(output, dim=1)\n",
    "    \n",
    "    df_output.review8[i] = class_names[prediction]"
   ]
  },
  {
   "cell_type": "code",
   "execution_count": 300,
   "metadata": {},
   "outputs": [],
   "source": [
    "df_test = df_output.copy()"
   ]
  },
  {
   "cell_type": "code",
   "execution_count": 282,
   "metadata": {},
   "outputs": [
    {
     "ename": "AttributeError",
     "evalue": "'Styler' object has no attribute 'style'",
     "output_type": "error",
     "traceback": [
      "\u001b[0;31m---------------------------------------------------------------------------\u001b[0m",
      "\u001b[0;31mAttributeError\u001b[0m                            Traceback (most recent call last)",
      "\u001b[0;32m<ipython-input-282-96329bba0533>\u001b[0m in \u001b[0;36m<module>\u001b[0;34m\u001b[0m\n\u001b[0;32m----> 1\u001b[0;31m \u001b[0mdf_output\u001b[0m \u001b[0;34m=\u001b[0m \u001b[0mdf_output\u001b[0m\u001b[0;34m.\u001b[0m\u001b[0mstyle\u001b[0m\u001b[0;34m.\u001b[0m\u001b[0mapplymap\u001b[0m\u001b[0;34m(\u001b[0m\u001b[0;32mlambda\u001b[0m \u001b[0mx\u001b[0m\u001b[0;34m:\u001b[0m \u001b[0;34m'background-color : red'\u001b[0m \u001b[0;32mif\u001b[0m \u001b[0mx\u001b[0m \u001b[0;34m==\u001b[0m \u001b[0;34m'negative'\u001b[0m \u001b[0;32melse\u001b[0m \u001b[0;34m''\u001b[0m\u001b[0;34m)\u001b[0m\u001b[0;34m\u001b[0m\u001b[0;34m\u001b[0m\u001b[0m\n\u001b[0m",
      "\u001b[0;31mAttributeError\u001b[0m: 'Styler' object has no attribute 'style'"
     ]
    }
   ],
   "source": [
    "df_style = df_output.style.applymap(lambda x: 'background-color : red' if x == 'negative' else '')"
   ]
  },
  {
   "cell_type": "code",
   "execution_count": null,
   "metadata": {},
   "outputs": [],
   "source": [
    "def apply_formatting(col):\n",
    "    if col.name == 'positive':\n",
    "        return ['background-color: skyblue' if c > 50 else '' for c in col.values]\n",
    "    if col.name == 'b':\n",
    "        return ['background-color: green' if c > 10 else '' for c in col.values]\n",
    "    if col.name == 'c':\n",
    "        return ['background-color: blue' if c > 30 else '' for c in col.values]\n",
    "\n",
    "data = pd.DataFrame(\n",
    "    np.random.randint(0, 100, 30).reshape(10, 3), columns=['a', 'b', 'c'])\n",
    "\n",
    "data.style.apply(apply_formatting) "
   ]
  },
  {
   "cell_type": "code",
   "execution_count": 358,
   "metadata": {},
   "outputs": [
    {
     "data": {
      "text/html": [
       "<div>\n",
       "<style scoped>\n",
       "    .dataframe tbody tr th:only-of-type {\n",
       "        vertical-align: middle;\n",
       "    }\n",
       "\n",
       "    .dataframe tbody tr th {\n",
       "        vertical-align: top;\n",
       "    }\n",
       "\n",
       "    .dataframe thead th {\n",
       "        text-align: right;\n",
       "    }\n",
       "</style>\n",
       "<table border=\"1\" class=\"dataframe\">\n",
       "  <thead>\n",
       "    <tr style=\"text-align: right;\">\n",
       "      <th></th>\n",
       "      <th>business_id</th>\n",
       "      <th>gold_summ</th>\n",
       "      <th>gen_summ</th>\n",
       "      <th>review1</th>\n",
       "      <th>review2</th>\n",
       "      <th>review3</th>\n",
       "      <th>review4</th>\n",
       "      <th>review5</th>\n",
       "      <th>review6</th>\n",
       "      <th>review7</th>\n",
       "      <th>review8</th>\n",
       "    </tr>\n",
       "  </thead>\n",
       "  <tbody>\n",
       "    <tr>\n",
       "      <th>0</th>\n",
       "      <td>NWh0MGOPFAy7yElepNtIxg</td>\n",
       "      <td>The beauty of this place is that it has high q...</td>\n",
       "      <td>Love this place! I've been here three times no...</td>\n",
       "      <td>chopshop is the greatest versatile spot becaus...</td>\n",
       "      <td>i've recently found this charming new restaura...</td>\n",
       "      <td>negative</td>\n",
       "      <td>i love this place, everything tastes good and ...</td>\n",
       "      <td>perfect! real food. quality choices. fast. gre...</td>\n",
       "      <td>loved everything we ordered. we got a beet sal...</td>\n",
       "      <td>great spot. went there tonight for the first t...</td>\n",
       "      <td>had to go out to eat after eating a salad here...</td>\n",
       "    </tr>\n",
       "    <tr>\n",
       "      <th>1</th>\n",
       "      <td>Nbhpg1TbDwtMuyh9ZIPceA</td>\n",
       "      <td>This place is a small family owned Thai restau...</td>\n",
       "      <td>This place is fantastic! The food was deliciou...</td>\n",
       "      <td>it was okay but we were expecting more based o...</td>\n",
       "      <td>awesome little thai place! the food is amazing...</td>\n",
       "      <td>positive</td>\n",
       "      <td>i stumbled across this place by accident when ...</td>\n",
       "      <td>we got the thai fried rice, egg rolls and many...</td>\n",
       "      <td>this place was awful. i ordered tamarind duck ...</td>\n",
       "      <td>a little scary outside, inside a real gem. fam...</td>\n",
       "      <td>i had panang curry and j had thai spicy noddle...</td>\n",
       "    </tr>\n",
       "    <tr>\n",
       "      <th>2</th>\n",
       "      <td>Ohu6w8_RYE5KdHEWGdBjXQ</td>\n",
       "      <td>The Mesa Arts Center is a clean modern place t...</td>\n",
       "      <td>This is the second time I've been here and bot...</td>\n",
       "      <td>went to see our favorite artist last night (gr...</td>\n",
       "      <td>great place to see some interesting art, but o...</td>\n",
       "      <td>positive</td>\n",
       "      <td>my favorite theater in phoenix! relatively new...</td>\n",
       "      <td>no lie, i'd pay $20 more to see a concert here...</td>\n",
       "      <td>horrible seating very very disappointed at the...</td>\n",
       "      <td>been coming here for years. many shows here an...</td>\n",
       "      <td>mac is a great venue. matthew morrison was kin...</td>\n",
       "    </tr>\n",
       "    <tr>\n",
       "      <th>3</th>\n",
       "      <td>OkC86YtZ0Nm19my5F4GGrQ</td>\n",
       "      <td>Tartine is a nice place with a combination of ...</td>\n",
       "      <td>The food here is a little pricey but worth eve...</td>\n",
       "      <td>love the atmosphere of this place. it tends to...</td>\n",
       "      <td>amazing. excellent choice for lunch. baked bri...</td>\n",
       "      <td>positive</td>\n",
       "      <td>first time going here and i was impressed. ver...</td>\n",
       "      <td>my fiance and i really enjoyed eating here for...</td>\n",
       "      <td>i'm not sure why i was so hard with my first r...</td>\n",
       "      <td>i am not overwhelmed. been here twice and foun...</td>\n",
       "      <td>the best combination of atmosphere, food, and ...</td>\n",
       "    </tr>\n",
       "    <tr>\n",
       "      <th>4</th>\n",
       "      <td>Q2ZNaN3p8s_-XXjBWyY2qA</td>\n",
       "      <td>The service at Ruth's steakhouse is serviceabl...</td>\n",
       "      <td>Best meal I've ever had in a long time. The st...</td>\n",
       "      <td>first time at this restaurant. from the greeti...</td>\n",
       "      <td>it is great but compared to other ruth's chris...</td>\n",
       "      <td>positive</td>\n",
       "      <td>the best filet minion in toronto. super smooth...</td>\n",
       "      <td>had a top sirloin steak today with mushroom an...</td>\n",
       "      <td>got the filet with a side of mac and cheese. s...</td>\n",
       "      <td>if you blink you might miss this gem across th...</td>\n",
       "      <td>4 stars for the amazingly soft and tender stea...</td>\n",
       "    </tr>\n",
       "    <tr>\n",
       "      <th>...</th>\n",
       "      <td>...</td>\n",
       "      <td>...</td>\n",
       "      <td>...</td>\n",
       "      <td>...</td>\n",
       "      <td>...</td>\n",
       "      <td>...</td>\n",
       "      <td>...</td>\n",
       "      <td>...</td>\n",
       "      <td>...</td>\n",
       "      <td>...</td>\n",
       "      <td>...</td>\n",
       "    </tr>\n",
       "    <tr>\n",
       "      <th>65</th>\n",
       "      <td>ypSAad4wGe3Uh0N6dgVxaw</td>\n",
       "      <td>This is a great Porche dealer, highly recommen...</td>\n",
       "      <td>These guys are the best I've ever had in my li...</td>\n",
       "      <td>excellent dealership that prides itself on ser...</td>\n",
       "      <td>mgr dave and salesman kevin campbell made the ...</td>\n",
       "      <td>positive</td>\n",
       "      <td>the salesman ian was too good to take my porsc...</td>\n",
       "      <td>just bought a porsche panamera s and absolutel...</td>\n",
       "      <td>family has purchased a total of 3 purchases wi...</td>\n",
       "      <td>the best customer service ever! my son wanted ...</td>\n",
       "      <td>kevin campbell exceeded my expectations! his k...</td>\n",
       "    </tr>\n",
       "    <tr>\n",
       "      <th>66</th>\n",
       "      <td>zHAR8MmCbjrkNnLGm1ozEQ</td>\n",
       "      <td>The food here is served fast and fresh, but it...</td>\n",
       "      <td>It's a Mexican restaurant, but the food is del...</td>\n",
       "      <td>food was good but a little expensive for a div...</td>\n",
       "      <td>goes to show that just because a restaurant ha...</td>\n",
       "      <td>positive</td>\n",
       "      <td>ordered through uber eats. got 2 chicken enchi...</td>\n",
       "      <td>this place is very delicious. i've had the chi...</td>\n",
       "      <td>came here for the steak fries after reading th...</td>\n",
       "      <td>the wife and i moved to area from san diego. h...</td>\n",
       "      <td>rivas mexican grill sin duda alguna lo recomie...</td>\n",
       "    </tr>\n",
       "    <tr>\n",
       "      <th>67</th>\n",
       "      <td>zJzkL4VHHksVVGepR1IAGw</td>\n",
       "      <td>The food at this restaurant is generally well-...</td>\n",
       "      <td>The food here is amazing! Service was attentiv...</td>\n",
       "      <td>went to have brunch for mother's day and found...</td>\n",
       "      <td>my boyfriend loved this restaurant although we...</td>\n",
       "      <td>neutral</td>\n",
       "      <td>food here is really good however i will say th...</td>\n",
       "      <td>i do like this place, the food is great, but t...</td>\n",
       "      <td>the food was delicious! the wait staff really ...</td>\n",
       "      <td>sweet, spicy and get outta here delicious &lt;UNK...</td>\n",
       "      <td>halifax donair all the way. back room for a re...</td>\n",
       "    </tr>\n",
       "    <tr>\n",
       "      <th>68</th>\n",
       "      <td>zSQs_cDOOyjnTHREy9yRfQ</td>\n",
       "      <td>This place has a salsa bar that features a wid...</td>\n",
       "      <td>This is one of my favorite places to eat. The ...</td>\n",
       "      <td>after living in tucson for many years, i am al...</td>\n",
       "      <td>this place was ok. you can't go wrong with a v...</td>\n",
       "      <td>positive</td>\n",
       "      <td>i have eaten at fresco three times. the first ...</td>\n",
       "      <td>i ordered the water street with chicken. i got...</td>\n",
       "      <td>i had a quesadilla. it was one of the best i h...</td>\n",
       "      <td>this is a nice spot that offers gluten free op...</td>\n",
       "      <td>i asked the girl at the counter what was best....</td>\n",
       "    </tr>\n",
       "    <tr>\n",
       "      <th>69</th>\n",
       "      <td>zvB0Vzhomsodw_iQ7FHY1Q</td>\n",
       "      <td>The BBQ here is highly recommended. The ribs, ...</td>\n",
       "      <td>This place is the best BBQ I've ever had in my...</td>\n",
       "      <td>omg.... a must. we stopped by after puro cigar...</td>\n",
       "      <td>sadly, was not impressed. sunday brunch, ribs ...</td>\n",
       "      <td>positive</td>\n",
       "      <td>food was terrific and the spicy barbecue sauce...</td>\n",
       "      <td>wonderful food, must try bbq beans, crinkle cu...</td>\n",
       "      <td>went to west alley &lt;UNK&gt; night and we were ver...</td>\n",
       "      <td>this place is totally legit barbecue! everythi...</td>\n",
       "      <td>the best bbq i have had in a long time! since ...</td>\n",
       "    </tr>\n",
       "  </tbody>\n",
       "</table>\n",
       "<p>70 rows × 11 columns</p>\n",
       "</div>"
      ],
      "text/plain": [
       "               business_id                                          gold_summ  \\\n",
       "0   NWh0MGOPFAy7yElepNtIxg  The beauty of this place is that it has high q...   \n",
       "1   Nbhpg1TbDwtMuyh9ZIPceA  This place is a small family owned Thai restau...   \n",
       "2   Ohu6w8_RYE5KdHEWGdBjXQ  The Mesa Arts Center is a clean modern place t...   \n",
       "3   OkC86YtZ0Nm19my5F4GGrQ  Tartine is a nice place with a combination of ...   \n",
       "4   Q2ZNaN3p8s_-XXjBWyY2qA  The service at Ruth's steakhouse is serviceabl...   \n",
       "..                     ...                                                ...   \n",
       "65  ypSAad4wGe3Uh0N6dgVxaw  This is a great Porche dealer, highly recommen...   \n",
       "66  zHAR8MmCbjrkNnLGm1ozEQ  The food here is served fast and fresh, but it...   \n",
       "67  zJzkL4VHHksVVGepR1IAGw  The food at this restaurant is generally well-...   \n",
       "68  zSQs_cDOOyjnTHREy9yRfQ  This place has a salsa bar that features a wid...   \n",
       "69  zvB0Vzhomsodw_iQ7FHY1Q  The BBQ here is highly recommended. The ribs, ...   \n",
       "\n",
       "                                             gen_summ  \\\n",
       "0   Love this place! I've been here three times no...   \n",
       "1   This place is fantastic! The food was deliciou...   \n",
       "2   This is the second time I've been here and bot...   \n",
       "3   The food here is a little pricey but worth eve...   \n",
       "4   Best meal I've ever had in a long time. The st...   \n",
       "..                                                ...   \n",
       "65  These guys are the best I've ever had in my li...   \n",
       "66  It's a Mexican restaurant, but the food is del...   \n",
       "67  The food here is amazing! Service was attentiv...   \n",
       "68  This is one of my favorite places to eat. The ...   \n",
       "69  This place is the best BBQ I've ever had in my...   \n",
       "\n",
       "                                              review1  \\\n",
       "0   chopshop is the greatest versatile spot becaus...   \n",
       "1   it was okay but we were expecting more based o...   \n",
       "2   went to see our favorite artist last night (gr...   \n",
       "3   love the atmosphere of this place. it tends to...   \n",
       "4   first time at this restaurant. from the greeti...   \n",
       "..                                                ...   \n",
       "65  excellent dealership that prides itself on ser...   \n",
       "66  food was good but a little expensive for a div...   \n",
       "67  went to have brunch for mother's day and found...   \n",
       "68  after living in tucson for many years, i am al...   \n",
       "69  omg.... a must. we stopped by after puro cigar...   \n",
       "\n",
       "                                              review2   review3  \\\n",
       "0   i've recently found this charming new restaura...  negative   \n",
       "1   awesome little thai place! the food is amazing...  positive   \n",
       "2   great place to see some interesting art, but o...  positive   \n",
       "3   amazing. excellent choice for lunch. baked bri...  positive   \n",
       "4   it is great but compared to other ruth's chris...  positive   \n",
       "..                                                ...       ...   \n",
       "65  mgr dave and salesman kevin campbell made the ...  positive   \n",
       "66  goes to show that just because a restaurant ha...  positive   \n",
       "67  my boyfriend loved this restaurant although we...   neutral   \n",
       "68  this place was ok. you can't go wrong with a v...  positive   \n",
       "69  sadly, was not impressed. sunday brunch, ribs ...  positive   \n",
       "\n",
       "                                              review4  \\\n",
       "0   i love this place, everything tastes good and ...   \n",
       "1   i stumbled across this place by accident when ...   \n",
       "2   my favorite theater in phoenix! relatively new...   \n",
       "3   first time going here and i was impressed. ver...   \n",
       "4   the best filet minion in toronto. super smooth...   \n",
       "..                                                ...   \n",
       "65  the salesman ian was too good to take my porsc...   \n",
       "66  ordered through uber eats. got 2 chicken enchi...   \n",
       "67  food here is really good however i will say th...   \n",
       "68  i have eaten at fresco three times. the first ...   \n",
       "69  food was terrific and the spicy barbecue sauce...   \n",
       "\n",
       "                                              review5  \\\n",
       "0   perfect! real food. quality choices. fast. gre...   \n",
       "1   we got the thai fried rice, egg rolls and many...   \n",
       "2   no lie, i'd pay $20 more to see a concert here...   \n",
       "3   my fiance and i really enjoyed eating here for...   \n",
       "4   had a top sirloin steak today with mushroom an...   \n",
       "..                                                ...   \n",
       "65  just bought a porsche panamera s and absolutel...   \n",
       "66  this place is very delicious. i've had the chi...   \n",
       "67  i do like this place, the food is great, but t...   \n",
       "68  i ordered the water street with chicken. i got...   \n",
       "69  wonderful food, must try bbq beans, crinkle cu...   \n",
       "\n",
       "                                              review6  \\\n",
       "0   loved everything we ordered. we got a beet sal...   \n",
       "1   this place was awful. i ordered tamarind duck ...   \n",
       "2   horrible seating very very disappointed at the...   \n",
       "3   i'm not sure why i was so hard with my first r...   \n",
       "4   got the filet with a side of mac and cheese. s...   \n",
       "..                                                ...   \n",
       "65  family has purchased a total of 3 purchases wi...   \n",
       "66  came here for the steak fries after reading th...   \n",
       "67  the food was delicious! the wait staff really ...   \n",
       "68  i had a quesadilla. it was one of the best i h...   \n",
       "69  went to west alley <UNK> night and we were ver...   \n",
       "\n",
       "                                              review7  \\\n",
       "0   great spot. went there tonight for the first t...   \n",
       "1   a little scary outside, inside a real gem. fam...   \n",
       "2   been coming here for years. many shows here an...   \n",
       "3   i am not overwhelmed. been here twice and foun...   \n",
       "4   if you blink you might miss this gem across th...   \n",
       "..                                                ...   \n",
       "65  the best customer service ever! my son wanted ...   \n",
       "66  the wife and i moved to area from san diego. h...   \n",
       "67  sweet, spicy and get outta here delicious <UNK...   \n",
       "68  this is a nice spot that offers gluten free op...   \n",
       "69  this place is totally legit barbecue! everythi...   \n",
       "\n",
       "                                              review8  \n",
       "0   had to go out to eat after eating a salad here...  \n",
       "1   i had panang curry and j had thai spicy noddle...  \n",
       "2   mac is a great venue. matthew morrison was kin...  \n",
       "3   the best combination of atmosphere, food, and ...  \n",
       "4   4 stars for the amazingly soft and tender stea...  \n",
       "..                                                ...  \n",
       "65  kevin campbell exceeded my expectations! his k...  \n",
       "66  rivas mexican grill sin duda alguna lo recomie...  \n",
       "67  halifax donair all the way. back room for a re...  \n",
       "68  i asked the girl at the counter what was best....  \n",
       "69  the best bbq i have had in a long time! since ...  \n",
       "\n",
       "[70 rows x 11 columns]"
      ]
     },
     "execution_count": 358,
     "metadata": {},
     "output_type": "execute_result"
    }
   ],
   "source": [
    "df"
   ]
  },
  {
   "cell_type": "code",
   "execution_count": 311,
   "metadata": {},
   "outputs": [],
   "source": [
    "df_test = df_test.applymap(lambda x: 0 if x == 'negative' else x)\n",
    "\n",
    "#condition = [(df_test['stars']>=4), (df_pre['stars']<=2), (df_pre['stars']==3)]\n",
    "#values = ['positive','negative','neutral']\n",
    "#df_pre['sentiment']=np.select(condition, values)\n",
    "#df_pre"
   ]
  },
  {
   "cell_type": "code",
   "execution_count": 353,
   "metadata": {},
   "outputs": [
    {
     "name": "stdout",
     "output_type": "stream",
     "text": [
      "[1.5, 1.625, 1.25, 1.625, 1.625, 1.0, 1.75, 1.625, 1.125, 1.125, 1.75, 1.625, 0.75, 1.625, 1.375, 1.375, 1.625, 1.875, 1.875, 1.375, 0.75, 1.25, 1.125, 1.125, 1.0, 1.875, 1.25, 2.0, 0.875, 1.625, 1.25, 1.375, 2.0, 1.625, 1.0, 1.625, 0.875, 1.5, 1.375, 1.75, 2.0, 1.875, 1.125, 1.625, 1.75, 0.875, 1.25, 1.875, 1.5, 0.25, 1.75, 1.125, 2.0, 1.75, 1.625, 1.25, 1.375, 1.375, 2.0, 1.5, 1.75, 2.0, 0.5, 1.5, 1.625, 1.75, 1.0, 1.375, 1.5, 1.625]\n"
     ]
    }
   ],
   "source": [
    "avg = []\n",
    "for i in range(70):\n",
    "    avg.append(sum(df_test.iloc[i,3:11])/8)\n",
    "    \n",
    "print(avg)\n",
    "\n",
    "\n",
    "df_test.insert(loc=3, column='avergage', value=avg)"
   ]
  },
  {
   "cell_type": "code",
   "execution_count": 401,
   "metadata": {},
   "outputs": [
    {
     "name": "stdout",
     "output_type": "stream",
     "text": [
      "\n",
      "Modified Stlying DataFrame:\n"
     ]
    },
    {
     "data": {
      "text/html": [
       "<style>div.output_scroll { height: 60em; }</style>"
      ],
      "text/plain": [
       "<IPython.core.display.HTML object>"
      ]
     },
     "metadata": {},
     "output_type": "display_data"
    },
    {
     "data": {
      "text/html": [
       "<style  type=\"text/css\" >\n",
       "#T_0d050410_33d2_11eb_b18d_42010aa40002row0_col1,#T_0d050410_33d2_11eb_b18d_42010aa40002row0_col2,#T_0d050410_33d2_11eb_b18d_42010aa40002row0_col4,#T_0d050410_33d2_11eb_b18d_42010aa40002row0_col5,#T_0d050410_33d2_11eb_b18d_42010aa40002row0_col7,#T_0d050410_33d2_11eb_b18d_42010aa40002row0_col8,#T_0d050410_33d2_11eb_b18d_42010aa40002row0_col9,#T_0d050410_33d2_11eb_b18d_42010aa40002row0_col10,#T_0d050410_33d2_11eb_b18d_42010aa40002row1_col1,#T_0d050410_33d2_11eb_b18d_42010aa40002row1_col2,#T_0d050410_33d2_11eb_b18d_42010aa40002row1_col5,#T_0d050410_33d2_11eb_b18d_42010aa40002row1_col6,#T_0d050410_33d2_11eb_b18d_42010aa40002row1_col7,#T_0d050410_33d2_11eb_b18d_42010aa40002row1_col8,#T_0d050410_33d2_11eb_b18d_42010aa40002row1_col10,#T_0d050410_33d2_11eb_b18d_42010aa40002row1_col11,#T_0d050410_33d2_11eb_b18d_42010aa40002row2_col1,#T_0d050410_33d2_11eb_b18d_42010aa40002row2_col2,#T_0d050410_33d2_11eb_b18d_42010aa40002row2_col6,#T_0d050410_33d2_11eb_b18d_42010aa40002row2_col7,#T_0d050410_33d2_11eb_b18d_42010aa40002row2_col10,#T_0d050410_33d2_11eb_b18d_42010aa40002row3_col1,#T_0d050410_33d2_11eb_b18d_42010aa40002row3_col2,#T_0d050410_33d2_11eb_b18d_42010aa40002row3_col5,#T_0d050410_33d2_11eb_b18d_42010aa40002row3_col6,#T_0d050410_33d2_11eb_b18d_42010aa40002row3_col7,#T_0d050410_33d2_11eb_b18d_42010aa40002row3_col8,#T_0d050410_33d2_11eb_b18d_42010aa40002row3_col11,#T_0d050410_33d2_11eb_b18d_42010aa40002row4_col2,#T_0d050410_33d2_11eb_b18d_42010aa40002row4_col4,#T_0d050410_33d2_11eb_b18d_42010aa40002row4_col6,#T_0d050410_33d2_11eb_b18d_42010aa40002row4_col8,#T_0d050410_33d2_11eb_b18d_42010aa40002row4_col10,#T_0d050410_33d2_11eb_b18d_42010aa40002row4_col11,#T_0d050410_33d2_11eb_b18d_42010aa40002row5_col5,#T_0d050410_33d2_11eb_b18d_42010aa40002row5_col10,#T_0d050410_33d2_11eb_b18d_42010aa40002row5_col11,#T_0d050410_33d2_11eb_b18d_42010aa40002row6_col1,#T_0d050410_33d2_11eb_b18d_42010aa40002row6_col2,#T_0d050410_33d2_11eb_b18d_42010aa40002row6_col5,#T_0d050410_33d2_11eb_b18d_42010aa40002row6_col6,#T_0d050410_33d2_11eb_b18d_42010aa40002row6_col7,#T_0d050410_33d2_11eb_b18d_42010aa40002row6_col8,#T_0d050410_33d2_11eb_b18d_42010aa40002row6_col9,#T_0d050410_33d2_11eb_b18d_42010aa40002row6_col10,#T_0d050410_33d2_11eb_b18d_42010aa40002row7_col1,#T_0d050410_33d2_11eb_b18d_42010aa40002row7_col2,#T_0d050410_33d2_11eb_b18d_42010aa40002row7_col4,#T_0d050410_33d2_11eb_b18d_42010aa40002row7_col7,#T_0d050410_33d2_11eb_b18d_42010aa40002row7_col8,#T_0d050410_33d2_11eb_b18d_42010aa40002row7_col10,#T_0d050410_33d2_11eb_b18d_42010aa40002row7_col11,#T_0d050410_33d2_11eb_b18d_42010aa40002row8_col2,#T_0d050410_33d2_11eb_b18d_42010aa40002row8_col5,#T_0d050410_33d2_11eb_b18d_42010aa40002row8_col6,#T_0d050410_33d2_11eb_b18d_42010aa40002row8_col7,#T_0d050410_33d2_11eb_b18d_42010aa40002row9_col2,#T_0d050410_33d2_11eb_b18d_42010aa40002row9_col5,#T_0d050410_33d2_11eb_b18d_42010aa40002row9_col6,#T_0d050410_33d2_11eb_b18d_42010aa40002row9_col7,#T_0d050410_33d2_11eb_b18d_42010aa40002row9_col10,#T_0d050410_33d2_11eb_b18d_42010aa40002row10_col1,#T_0d050410_33d2_11eb_b18d_42010aa40002row10_col2,#T_0d050410_33d2_11eb_b18d_42010aa40002row10_col4,#T_0d050410_33d2_11eb_b18d_42010aa40002row10_col5,#T_0d050410_33d2_11eb_b18d_42010aa40002row10_col7,#T_0d050410_33d2_11eb_b18d_42010aa40002row10_col8,#T_0d050410_33d2_11eb_b18d_42010aa40002row10_col9,#T_0d050410_33d2_11eb_b18d_42010aa40002row10_col11,#T_0d050410_33d2_11eb_b18d_42010aa40002row11_col1,#T_0d050410_33d2_11eb_b18d_42010aa40002row11_col2,#T_0d050410_33d2_11eb_b18d_42010aa40002row11_col4,#T_0d050410_33d2_11eb_b18d_42010aa40002row11_col5,#T_0d050410_33d2_11eb_b18d_42010aa40002row11_col6,#T_0d050410_33d2_11eb_b18d_42010aa40002row11_col8,#T_0d050410_33d2_11eb_b18d_42010aa40002row11_col9,#T_0d050410_33d2_11eb_b18d_42010aa40002row11_col10,#T_0d050410_33d2_11eb_b18d_42010aa40002row12_col9,#T_0d050410_33d2_11eb_b18d_42010aa40002row12_col11,#T_0d050410_33d2_11eb_b18d_42010aa40002row13_col1,#T_0d050410_33d2_11eb_b18d_42010aa40002row13_col2,#T_0d050410_33d2_11eb_b18d_42010aa40002row13_col4,#T_0d050410_33d2_11eb_b18d_42010aa40002row13_col6,#T_0d050410_33d2_11eb_b18d_42010aa40002row13_col8,#T_0d050410_33d2_11eb_b18d_42010aa40002row13_col9,#T_0d050410_33d2_11eb_b18d_42010aa40002row13_col10,#T_0d050410_33d2_11eb_b18d_42010aa40002row13_col11,#T_0d050410_33d2_11eb_b18d_42010aa40002row14_col2,#T_0d050410_33d2_11eb_b18d_42010aa40002row14_col4,#T_0d050410_33d2_11eb_b18d_42010aa40002row14_col5,#T_0d050410_33d2_11eb_b18d_42010aa40002row14_col9,#T_0d050410_33d2_11eb_b18d_42010aa40002row14_col11,#T_0d050410_33d2_11eb_b18d_42010aa40002row15_col1,#T_0d050410_33d2_11eb_b18d_42010aa40002row15_col2,#T_0d050410_33d2_11eb_b18d_42010aa40002row15_col5,#T_0d050410_33d2_11eb_b18d_42010aa40002row15_col9,#T_0d050410_33d2_11eb_b18d_42010aa40002row15_col10,#T_0d050410_33d2_11eb_b18d_42010aa40002row15_col11,#T_0d050410_33d2_11eb_b18d_42010aa40002row16_col2,#T_0d050410_33d2_11eb_b18d_42010aa40002row16_col4,#T_0d050410_33d2_11eb_b18d_42010aa40002row16_col5,#T_0d050410_33d2_11eb_b18d_42010aa40002row16_col6,#T_0d050410_33d2_11eb_b18d_42010aa40002row16_col7,#T_0d050410_33d2_11eb_b18d_42010aa40002row16_col8,#T_0d050410_33d2_11eb_b18d_42010aa40002row16_col9,#T_0d050410_33d2_11eb_b18d_42010aa40002row17_col1,#T_0d050410_33d2_11eb_b18d_42010aa40002row17_col2,#T_0d050410_33d2_11eb_b18d_42010aa40002row17_col4,#T_0d050410_33d2_11eb_b18d_42010aa40002row17_col5,#T_0d050410_33d2_11eb_b18d_42010aa40002row17_col7,#T_0d050410_33d2_11eb_b18d_42010aa40002row17_col8,#T_0d050410_33d2_11eb_b18d_42010aa40002row17_col9,#T_0d050410_33d2_11eb_b18d_42010aa40002row17_col10,#T_0d050410_33d2_11eb_b18d_42010aa40002row17_col11,#T_0d050410_33d2_11eb_b18d_42010aa40002row18_col1,#T_0d050410_33d2_11eb_b18d_42010aa40002row18_col2,#T_0d050410_33d2_11eb_b18d_42010aa40002row18_col4,#T_0d050410_33d2_11eb_b18d_42010aa40002row18_col5,#T_0d050410_33d2_11eb_b18d_42010aa40002row18_col6,#T_0d050410_33d2_11eb_b18d_42010aa40002row18_col7,#T_0d050410_33d2_11eb_b18d_42010aa40002row18_col8,#T_0d050410_33d2_11eb_b18d_42010aa40002row18_col9,#T_0d050410_33d2_11eb_b18d_42010aa40002row18_col11,#T_0d050410_33d2_11eb_b18d_42010aa40002row19_col4,#T_0d050410_33d2_11eb_b18d_42010aa40002row19_col5,#T_0d050410_33d2_11eb_b18d_42010aa40002row19_col11,#T_0d050410_33d2_11eb_b18d_42010aa40002row20_col2,#T_0d050410_33d2_11eb_b18d_42010aa40002row20_col6,#T_0d050410_33d2_11eb_b18d_42010aa40002row20_col7,#T_0d050410_33d2_11eb_b18d_42010aa40002row21_col2,#T_0d050410_33d2_11eb_b18d_42010aa40002row21_col4,#T_0d050410_33d2_11eb_b18d_42010aa40002row21_col5,#T_0d050410_33d2_11eb_b18d_42010aa40002row21_col6,#T_0d050410_33d2_11eb_b18d_42010aa40002row21_col8,#T_0d050410_33d2_11eb_b18d_42010aa40002row21_col10,#T_0d050410_33d2_11eb_b18d_42010aa40002row22_col2,#T_0d050410_33d2_11eb_b18d_42010aa40002row22_col5,#T_0d050410_33d2_11eb_b18d_42010aa40002row22_col6,#T_0d050410_33d2_11eb_b18d_42010aa40002row22_col9,#T_0d050410_33d2_11eb_b18d_42010aa40002row22_col11,#T_0d050410_33d2_11eb_b18d_42010aa40002row23_col2,#T_0d050410_33d2_11eb_b18d_42010aa40002row23_col4,#T_0d050410_33d2_11eb_b18d_42010aa40002row23_col5,#T_0d050410_33d2_11eb_b18d_42010aa40002row23_col10,#T_0d050410_33d2_11eb_b18d_42010aa40002row23_col11,#T_0d050410_33d2_11eb_b18d_42010aa40002row24_col1,#T_0d050410_33d2_11eb_b18d_42010aa40002row24_col2,#T_0d050410_33d2_11eb_b18d_42010aa40002row24_col5,#T_0d050410_33d2_11eb_b18d_42010aa40002row24_col11,#T_0d050410_33d2_11eb_b18d_42010aa40002row25_col1,#T_0d050410_33d2_11eb_b18d_42010aa40002row25_col2,#T_0d050410_33d2_11eb_b18d_42010aa40002row25_col5,#T_0d050410_33d2_11eb_b18d_42010aa40002row25_col6,#T_0d050410_33d2_11eb_b18d_42010aa40002row25_col7,#T_0d050410_33d2_11eb_b18d_42010aa40002row25_col8,#T_0d050410_33d2_11eb_b18d_42010aa40002row25_col9,#T_0d050410_33d2_11eb_b18d_42010aa40002row25_col10,#T_0d050410_33d2_11eb_b18d_42010aa40002row25_col11,#T_0d050410_33d2_11eb_b18d_42010aa40002row26_col2,#T_0d050410_33d2_11eb_b18d_42010aa40002row26_col5,#T_0d050410_33d2_11eb_b18d_42010aa40002row26_col6,#T_0d050410_33d2_11eb_b18d_42010aa40002row26_col8,#T_0d050410_33d2_11eb_b18d_42010aa40002row26_col9,#T_0d050410_33d2_11eb_b18d_42010aa40002row26_col11,#T_0d050410_33d2_11eb_b18d_42010aa40002row27_col1,#T_0d050410_33d2_11eb_b18d_42010aa40002row27_col2,#T_0d050410_33d2_11eb_b18d_42010aa40002row27_col3,#T_0d050410_33d2_11eb_b18d_42010aa40002row27_col4,#T_0d050410_33d2_11eb_b18d_42010aa40002row27_col5,#T_0d050410_33d2_11eb_b18d_42010aa40002row27_col6,#T_0d050410_33d2_11eb_b18d_42010aa40002row27_col7,#T_0d050410_33d2_11eb_b18d_42010aa40002row27_col8,#T_0d050410_33d2_11eb_b18d_42010aa40002row27_col9,#T_0d050410_33d2_11eb_b18d_42010aa40002row27_col10,#T_0d050410_33d2_11eb_b18d_42010aa40002row27_col11,#T_0d050410_33d2_11eb_b18d_42010aa40002row28_col8,#T_0d050410_33d2_11eb_b18d_42010aa40002row29_col2,#T_0d050410_33d2_11eb_b18d_42010aa40002row29_col5,#T_0d050410_33d2_11eb_b18d_42010aa40002row29_col6,#T_0d050410_33d2_11eb_b18d_42010aa40002row29_col8,#T_0d050410_33d2_11eb_b18d_42010aa40002row29_col9,#T_0d050410_33d2_11eb_b18d_42010aa40002row29_col10,#T_0d050410_33d2_11eb_b18d_42010aa40002row29_col11,#T_0d050410_33d2_11eb_b18d_42010aa40002row30_col1,#T_0d050410_33d2_11eb_b18d_42010aa40002row30_col2,#T_0d050410_33d2_11eb_b18d_42010aa40002row30_col4,#T_0d050410_33d2_11eb_b18d_42010aa40002row30_col5,#T_0d050410_33d2_11eb_b18d_42010aa40002row30_col7,#T_0d050410_33d2_11eb_b18d_42010aa40002row30_col8,#T_0d050410_33d2_11eb_b18d_42010aa40002row30_col9,#T_0d050410_33d2_11eb_b18d_42010aa40002row31_col1,#T_0d050410_33d2_11eb_b18d_42010aa40002row31_col2,#T_0d050410_33d2_11eb_b18d_42010aa40002row31_col4,#T_0d050410_33d2_11eb_b18d_42010aa40002row31_col5,#T_0d050410_33d2_11eb_b18d_42010aa40002row31_col6,#T_0d050410_33d2_11eb_b18d_42010aa40002row31_col7,#T_0d050410_33d2_11eb_b18d_42010aa40002row32_col1,#T_0d050410_33d2_11eb_b18d_42010aa40002row32_col2,#T_0d050410_33d2_11eb_b18d_42010aa40002row32_col3,#T_0d050410_33d2_11eb_b18d_42010aa40002row32_col4,#T_0d050410_33d2_11eb_b18d_42010aa40002row32_col5,#T_0d050410_33d2_11eb_b18d_42010aa40002row32_col6,#T_0d050410_33d2_11eb_b18d_42010aa40002row32_col7,#T_0d050410_33d2_11eb_b18d_42010aa40002row32_col8,#T_0d050410_33d2_11eb_b18d_42010aa40002row32_col9,#T_0d050410_33d2_11eb_b18d_42010aa40002row32_col10,#T_0d050410_33d2_11eb_b18d_42010aa40002row32_col11,#T_0d050410_33d2_11eb_b18d_42010aa40002row33_col2,#T_0d050410_33d2_11eb_b18d_42010aa40002row33_col4,#T_0d050410_33d2_11eb_b18d_42010aa40002row33_col5,#T_0d050410_33d2_11eb_b18d_42010aa40002row33_col7,#T_0d050410_33d2_11eb_b18d_42010aa40002row33_col9,#T_0d050410_33d2_11eb_b18d_42010aa40002row33_col10,#T_0d050410_33d2_11eb_b18d_42010aa40002row33_col11,#T_0d050410_33d2_11eb_b18d_42010aa40002row34_col2,#T_0d050410_33d2_11eb_b18d_42010aa40002row34_col7,#T_0d050410_33d2_11eb_b18d_42010aa40002row34_col8,#T_0d050410_33d2_11eb_b18d_42010aa40002row34_col11,#T_0d050410_33d2_11eb_b18d_42010aa40002row35_col1,#T_0d050410_33d2_11eb_b18d_42010aa40002row35_col2,#T_0d050410_33d2_11eb_b18d_42010aa40002row35_col5,#T_0d050410_33d2_11eb_b18d_42010aa40002row35_col6,#T_0d050410_33d2_11eb_b18d_42010aa40002row35_col8,#T_0d050410_33d2_11eb_b18d_42010aa40002row35_col9,#T_0d050410_33d2_11eb_b18d_42010aa40002row35_col10,#T_0d050410_33d2_11eb_b18d_42010aa40002row35_col11,#T_0d050410_33d2_11eb_b18d_42010aa40002row36_col4,#T_0d050410_33d2_11eb_b18d_42010aa40002row36_col5,#T_0d050410_33d2_11eb_b18d_42010aa40002row36_col8,#T_0d050410_33d2_11eb_b18d_42010aa40002row37_col1,#T_0d050410_33d2_11eb_b18d_42010aa40002row37_col2,#T_0d050410_33d2_11eb_b18d_42010aa40002row37_col4,#T_0d050410_33d2_11eb_b18d_42010aa40002row37_col5,#T_0d050410_33d2_11eb_b18d_42010aa40002row37_col8,#T_0d050410_33d2_11eb_b18d_42010aa40002row37_col11,#T_0d050410_33d2_11eb_b18d_42010aa40002row38_col1,#T_0d050410_33d2_11eb_b18d_42010aa40002row38_col2,#T_0d050410_33d2_11eb_b18d_42010aa40002row38_col4,#T_0d050410_33d2_11eb_b18d_42010aa40002row38_col5,#T_0d050410_33d2_11eb_b18d_42010aa40002row38_col6,#T_0d050410_33d2_11eb_b18d_42010aa40002row38_col7,#T_0d050410_33d2_11eb_b18d_42010aa40002row38_col11,#T_0d050410_33d2_11eb_b18d_42010aa40002row39_col1,#T_0d050410_33d2_11eb_b18d_42010aa40002row39_col2,#T_0d050410_33d2_11eb_b18d_42010aa40002row39_col4,#T_0d050410_33d2_11eb_b18d_42010aa40002row39_col5,#T_0d050410_33d2_11eb_b18d_42010aa40002row39_col6,#T_0d050410_33d2_11eb_b18d_42010aa40002row39_col7,#T_0d050410_33d2_11eb_b18d_42010aa40002row39_col8,#T_0d050410_33d2_11eb_b18d_42010aa40002row39_col10,#T_0d050410_33d2_11eb_b18d_42010aa40002row39_col11,#T_0d050410_33d2_11eb_b18d_42010aa40002row40_col1,#T_0d050410_33d2_11eb_b18d_42010aa40002row40_col2,#T_0d050410_33d2_11eb_b18d_42010aa40002row40_col3,#T_0d050410_33d2_11eb_b18d_42010aa40002row40_col4,#T_0d050410_33d2_11eb_b18d_42010aa40002row40_col5,#T_0d050410_33d2_11eb_b18d_42010aa40002row40_col6,#T_0d050410_33d2_11eb_b18d_42010aa40002row40_col7,#T_0d050410_33d2_11eb_b18d_42010aa40002row40_col8,#T_0d050410_33d2_11eb_b18d_42010aa40002row40_col9,#T_0d050410_33d2_11eb_b18d_42010aa40002row40_col10,#T_0d050410_33d2_11eb_b18d_42010aa40002row40_col11,#T_0d050410_33d2_11eb_b18d_42010aa40002row41_col1,#T_0d050410_33d2_11eb_b18d_42010aa40002row41_col2,#T_0d050410_33d2_11eb_b18d_42010aa40002row41_col5,#T_0d050410_33d2_11eb_b18d_42010aa40002row41_col6,#T_0d050410_33d2_11eb_b18d_42010aa40002row41_col7,#T_0d050410_33d2_11eb_b18d_42010aa40002row41_col8,#T_0d050410_33d2_11eb_b18d_42010aa40002row41_col9,#T_0d050410_33d2_11eb_b18d_42010aa40002row41_col10,#T_0d050410_33d2_11eb_b18d_42010aa40002row41_col11,#T_0d050410_33d2_11eb_b18d_42010aa40002row42_col1,#T_0d050410_33d2_11eb_b18d_42010aa40002row42_col2,#T_0d050410_33d2_11eb_b18d_42010aa40002row42_col5,#T_0d050410_33d2_11eb_b18d_42010aa40002row42_col6,#T_0d050410_33d2_11eb_b18d_42010aa40002row42_col8,#T_0d050410_33d2_11eb_b18d_42010aa40002row42_col9,#T_0d050410_33d2_11eb_b18d_42010aa40002row43_col1,#T_0d050410_33d2_11eb_b18d_42010aa40002row43_col2,#T_0d050410_33d2_11eb_b18d_42010aa40002row43_col4,#T_0d050410_33d2_11eb_b18d_42010aa40002row43_col5,#T_0d050410_33d2_11eb_b18d_42010aa40002row43_col7,#T_0d050410_33d2_11eb_b18d_42010aa40002row43_col9,#T_0d050410_33d2_11eb_b18d_42010aa40002row43_col10,#T_0d050410_33d2_11eb_b18d_42010aa40002row43_col11,#T_0d050410_33d2_11eb_b18d_42010aa40002row44_col1,#T_0d050410_33d2_11eb_b18d_42010aa40002row44_col2,#T_0d050410_33d2_11eb_b18d_42010aa40002row44_col4,#T_0d050410_33d2_11eb_b18d_42010aa40002row44_col5,#T_0d050410_33d2_11eb_b18d_42010aa40002row44_col6,#T_0d050410_33d2_11eb_b18d_42010aa40002row44_col7,#T_0d050410_33d2_11eb_b18d_42010aa40002row44_col8,#T_0d050410_33d2_11eb_b18d_42010aa40002row44_col9,#T_0d050410_33d2_11eb_b18d_42010aa40002row44_col10,#T_0d050410_33d2_11eb_b18d_42010aa40002row45_col5,#T_0d050410_33d2_11eb_b18d_42010aa40002row45_col6,#T_0d050410_33d2_11eb_b18d_42010aa40002row45_col10,#T_0d050410_33d2_11eb_b18d_42010aa40002row46_col2,#T_0d050410_33d2_11eb_b18d_42010aa40002row46_col4,#T_0d050410_33d2_11eb_b18d_42010aa40002row46_col6,#T_0d050410_33d2_11eb_b18d_42010aa40002row46_col7,#T_0d050410_33d2_11eb_b18d_42010aa40002row47_col1,#T_0d050410_33d2_11eb_b18d_42010aa40002row47_col2,#T_0d050410_33d2_11eb_b18d_42010aa40002row47_col4,#T_0d050410_33d2_11eb_b18d_42010aa40002row47_col5,#T_0d050410_33d2_11eb_b18d_42010aa40002row47_col6,#T_0d050410_33d2_11eb_b18d_42010aa40002row47_col7,#T_0d050410_33d2_11eb_b18d_42010aa40002row47_col8,#T_0d050410_33d2_11eb_b18d_42010aa40002row47_col9,#T_0d050410_33d2_11eb_b18d_42010aa40002row47_col10,#T_0d050410_33d2_11eb_b18d_42010aa40002row48_col2,#T_0d050410_33d2_11eb_b18d_42010aa40002row48_col4,#T_0d050410_33d2_11eb_b18d_42010aa40002row48_col8,#T_0d050410_33d2_11eb_b18d_42010aa40002row48_col9,#T_0d050410_33d2_11eb_b18d_42010aa40002row48_col10,#T_0d050410_33d2_11eb_b18d_42010aa40002row48_col11,#T_0d050410_33d2_11eb_b18d_42010aa40002row49_col10,#T_0d050410_33d2_11eb_b18d_42010aa40002row50_col1,#T_0d050410_33d2_11eb_b18d_42010aa40002row50_col2,#T_0d050410_33d2_11eb_b18d_42010aa40002row50_col4,#T_0d050410_33d2_11eb_b18d_42010aa40002row50_col5,#T_0d050410_33d2_11eb_b18d_42010aa40002row50_col6,#T_0d050410_33d2_11eb_b18d_42010aa40002row50_col7,#T_0d050410_33d2_11eb_b18d_42010aa40002row50_col10,#T_0d050410_33d2_11eb_b18d_42010aa40002row50_col11,#T_0d050410_33d2_11eb_b18d_42010aa40002row51_col6,#T_0d050410_33d2_11eb_b18d_42010aa40002row51_col8,#T_0d050410_33d2_11eb_b18d_42010aa40002row51_col9,#T_0d050410_33d2_11eb_b18d_42010aa40002row51_col11,#T_0d050410_33d2_11eb_b18d_42010aa40002row52_col1,#T_0d050410_33d2_11eb_b18d_42010aa40002row52_col2,#T_0d050410_33d2_11eb_b18d_42010aa40002row52_col3,#T_0d050410_33d2_11eb_b18d_42010aa40002row52_col4,#T_0d050410_33d2_11eb_b18d_42010aa40002row52_col5,#T_0d050410_33d2_11eb_b18d_42010aa40002row52_col6,#T_0d050410_33d2_11eb_b18d_42010aa40002row52_col7,#T_0d050410_33d2_11eb_b18d_42010aa40002row52_col8,#T_0d050410_33d2_11eb_b18d_42010aa40002row52_col9,#T_0d050410_33d2_11eb_b18d_42010aa40002row52_col10,#T_0d050410_33d2_11eb_b18d_42010aa40002row52_col11,#T_0d050410_33d2_11eb_b18d_42010aa40002row53_col1,#T_0d050410_33d2_11eb_b18d_42010aa40002row53_col2,#T_0d050410_33d2_11eb_b18d_42010aa40002row53_col4,#T_0d050410_33d2_11eb_b18d_42010aa40002row53_col5,#T_0d050410_33d2_11eb_b18d_42010aa40002row53_col6,#T_0d050410_33d2_11eb_b18d_42010aa40002row53_col8,#T_0d050410_33d2_11eb_b18d_42010aa40002row53_col9,#T_0d050410_33d2_11eb_b18d_42010aa40002row53_col10,#T_0d050410_33d2_11eb_b18d_42010aa40002row53_col11,#T_0d050410_33d2_11eb_b18d_42010aa40002row54_col1,#T_0d050410_33d2_11eb_b18d_42010aa40002row54_col2,#T_0d050410_33d2_11eb_b18d_42010aa40002row54_col4,#T_0d050410_33d2_11eb_b18d_42010aa40002row54_col5,#T_0d050410_33d2_11eb_b18d_42010aa40002row54_col6,#T_0d050410_33d2_11eb_b18d_42010aa40002row54_col8,#T_0d050410_33d2_11eb_b18d_42010aa40002row54_col10,#T_0d050410_33d2_11eb_b18d_42010aa40002row55_col6,#T_0d050410_33d2_11eb_b18d_42010aa40002row55_col7,#T_0d050410_33d2_11eb_b18d_42010aa40002row55_col10,#T_0d050410_33d2_11eb_b18d_42010aa40002row55_col11,#T_0d050410_33d2_11eb_b18d_42010aa40002row56_col1,#T_0d050410_33d2_11eb_b18d_42010aa40002row56_col2,#T_0d050410_33d2_11eb_b18d_42010aa40002row56_col6,#T_0d050410_33d2_11eb_b18d_42010aa40002row56_col7,#T_0d050410_33d2_11eb_b18d_42010aa40002row56_col8,#T_0d050410_33d2_11eb_b18d_42010aa40002row56_col9,#T_0d050410_33d2_11eb_b18d_42010aa40002row56_col10,#T_0d050410_33d2_11eb_b18d_42010aa40002row57_col2,#T_0d050410_33d2_11eb_b18d_42010aa40002row57_col5,#T_0d050410_33d2_11eb_b18d_42010aa40002row57_col6,#T_0d050410_33d2_11eb_b18d_42010aa40002row57_col7,#T_0d050410_33d2_11eb_b18d_42010aa40002row57_col9,#T_0d050410_33d2_11eb_b18d_42010aa40002row57_col11,#T_0d050410_33d2_11eb_b18d_42010aa40002row58_col1,#T_0d050410_33d2_11eb_b18d_42010aa40002row58_col2,#T_0d050410_33d2_11eb_b18d_42010aa40002row58_col3,#T_0d050410_33d2_11eb_b18d_42010aa40002row58_col4,#T_0d050410_33d2_11eb_b18d_42010aa40002row58_col5,#T_0d050410_33d2_11eb_b18d_42010aa40002row58_col6,#T_0d050410_33d2_11eb_b18d_42010aa40002row58_col7,#T_0d050410_33d2_11eb_b18d_42010aa40002row58_col8,#T_0d050410_33d2_11eb_b18d_42010aa40002row58_col9,#T_0d050410_33d2_11eb_b18d_42010aa40002row58_col10,#T_0d050410_33d2_11eb_b18d_42010aa40002row58_col11,#T_0d050410_33d2_11eb_b18d_42010aa40002row59_col1,#T_0d050410_33d2_11eb_b18d_42010aa40002row59_col2,#T_0d050410_33d2_11eb_b18d_42010aa40002row59_col4,#T_0d050410_33d2_11eb_b18d_42010aa40002row59_col5,#T_0d050410_33d2_11eb_b18d_42010aa40002row59_col6,#T_0d050410_33d2_11eb_b18d_42010aa40002row59_col7,#T_0d050410_33d2_11eb_b18d_42010aa40002row59_col8,#T_0d050410_33d2_11eb_b18d_42010aa40002row59_col11,#T_0d050410_33d2_11eb_b18d_42010aa40002row60_col1,#T_0d050410_33d2_11eb_b18d_42010aa40002row60_col2,#T_0d050410_33d2_11eb_b18d_42010aa40002row60_col4,#T_0d050410_33d2_11eb_b18d_42010aa40002row60_col5,#T_0d050410_33d2_11eb_b18d_42010aa40002row60_col6,#T_0d050410_33d2_11eb_b18d_42010aa40002row60_col7,#T_0d050410_33d2_11eb_b18d_42010aa40002row60_col8,#T_0d050410_33d2_11eb_b18d_42010aa40002row60_col10,#T_0d050410_33d2_11eb_b18d_42010aa40002row61_col1,#T_0d050410_33d2_11eb_b18d_42010aa40002row61_col2,#T_0d050410_33d2_11eb_b18d_42010aa40002row61_col3,#T_0d050410_33d2_11eb_b18d_42010aa40002row61_col4,#T_0d050410_33d2_11eb_b18d_42010aa40002row61_col5,#T_0d050410_33d2_11eb_b18d_42010aa40002row61_col6,#T_0d050410_33d2_11eb_b18d_42010aa40002row61_col7,#T_0d050410_33d2_11eb_b18d_42010aa40002row61_col8,#T_0d050410_33d2_11eb_b18d_42010aa40002row61_col9,#T_0d050410_33d2_11eb_b18d_42010aa40002row61_col10,#T_0d050410_33d2_11eb_b18d_42010aa40002row61_col11,#T_0d050410_33d2_11eb_b18d_42010aa40002row62_col10,#T_0d050410_33d2_11eb_b18d_42010aa40002row62_col11,#T_0d050410_33d2_11eb_b18d_42010aa40002row63_col1,#T_0d050410_33d2_11eb_b18d_42010aa40002row63_col2,#T_0d050410_33d2_11eb_b18d_42010aa40002row63_col5,#T_0d050410_33d2_11eb_b18d_42010aa40002row63_col6,#T_0d050410_33d2_11eb_b18d_42010aa40002row63_col8,#T_0d050410_33d2_11eb_b18d_42010aa40002row63_col9,#T_0d050410_33d2_11eb_b18d_42010aa40002row63_col10,#T_0d050410_33d2_11eb_b18d_42010aa40002row63_col11,#T_0d050410_33d2_11eb_b18d_42010aa40002row64_col1,#T_0d050410_33d2_11eb_b18d_42010aa40002row64_col2,#T_0d050410_33d2_11eb_b18d_42010aa40002row64_col4,#T_0d050410_33d2_11eb_b18d_42010aa40002row64_col6,#T_0d050410_33d2_11eb_b18d_42010aa40002row64_col8,#T_0d050410_33d2_11eb_b18d_42010aa40002row64_col9,#T_0d050410_33d2_11eb_b18d_42010aa40002row64_col11,#T_0d050410_33d2_11eb_b18d_42010aa40002row65_col1,#T_0d050410_33d2_11eb_b18d_42010aa40002row65_col2,#T_0d050410_33d2_11eb_b18d_42010aa40002row65_col4,#T_0d050410_33d2_11eb_b18d_42010aa40002row65_col5,#T_0d050410_33d2_11eb_b18d_42010aa40002row65_col6,#T_0d050410_33d2_11eb_b18d_42010aa40002row65_col8,#T_0d050410_33d2_11eb_b18d_42010aa40002row65_col9,#T_0d050410_33d2_11eb_b18d_42010aa40002row65_col10,#T_0d050410_33d2_11eb_b18d_42010aa40002row65_col11,#T_0d050410_33d2_11eb_b18d_42010aa40002row66_col2,#T_0d050410_33d2_11eb_b18d_42010aa40002row66_col6,#T_0d050410_33d2_11eb_b18d_42010aa40002row66_col8,#T_0d050410_33d2_11eb_b18d_42010aa40002row67_col2,#T_0d050410_33d2_11eb_b18d_42010aa40002row67_col4,#T_0d050410_33d2_11eb_b18d_42010aa40002row67_col9,#T_0d050410_33d2_11eb_b18d_42010aa40002row67_col10,#T_0d050410_33d2_11eb_b18d_42010aa40002row67_col11,#T_0d050410_33d2_11eb_b18d_42010aa40002row68_col2,#T_0d050410_33d2_11eb_b18d_42010aa40002row68_col4,#T_0d050410_33d2_11eb_b18d_42010aa40002row68_col6,#T_0d050410_33d2_11eb_b18d_42010aa40002row68_col7,#T_0d050410_33d2_11eb_b18d_42010aa40002row68_col9,#T_0d050410_33d2_11eb_b18d_42010aa40002row68_col10,#T_0d050410_33d2_11eb_b18d_42010aa40002row68_col11,#T_0d050410_33d2_11eb_b18d_42010aa40002row69_col1,#T_0d050410_33d2_11eb_b18d_42010aa40002row69_col2,#T_0d050410_33d2_11eb_b18d_42010aa40002row69_col4,#T_0d050410_33d2_11eb_b18d_42010aa40002row69_col6,#T_0d050410_33d2_11eb_b18d_42010aa40002row69_col8,#T_0d050410_33d2_11eb_b18d_42010aa40002row69_col9,#T_0d050410_33d2_11eb_b18d_42010aa40002row69_col10,#T_0d050410_33d2_11eb_b18d_42010aa40002row69_col11{\n",
       "            background-color:  #6698ff;\n",
       "            color:  #000000;\n",
       "            background-color:  blue;\n",
       "        }#T_0d050410_33d2_11eb_b18d_42010aa40002row0_col3,#T_0d050410_33d2_11eb_b18d_42010aa40002row37_col3,#T_0d050410_33d2_11eb_b18d_42010aa40002row48_col3,#T_0d050410_33d2_11eb_b18d_42010aa40002row59_col3,#T_0d050410_33d2_11eb_b18d_42010aa40002row63_col3,#T_0d050410_33d2_11eb_b18d_42010aa40002row68_col3{\n",
       "            background-color:  #8db1fb;\n",
       "            color:  #000000;\n",
       "        }#T_0d050410_33d2_11eb_b18d_42010aa40002row0_col6,#T_0d050410_33d2_11eb_b18d_42010aa40002row0_col11,#T_0d050410_33d2_11eb_b18d_42010aa40002row1_col9,#T_0d050410_33d2_11eb_b18d_42010aa40002row2_col9,#T_0d050410_33d2_11eb_b18d_42010aa40002row5_col1,#T_0d050410_33d2_11eb_b18d_42010aa40002row5_col2,#T_0d050410_33d2_11eb_b18d_42010aa40002row5_col6,#T_0d050410_33d2_11eb_b18d_42010aa40002row5_col8,#T_0d050410_33d2_11eb_b18d_42010aa40002row5_col9,#T_0d050410_33d2_11eb_b18d_42010aa40002row8_col10,#T_0d050410_33d2_11eb_b18d_42010aa40002row8_col11,#T_0d050410_33d2_11eb_b18d_42010aa40002row9_col4,#T_0d050410_33d2_11eb_b18d_42010aa40002row9_col9,#T_0d050410_33d2_11eb_b18d_42010aa40002row9_col11,#T_0d050410_33d2_11eb_b18d_42010aa40002row11_col11,#T_0d050410_33d2_11eb_b18d_42010aa40002row12_col2,#T_0d050410_33d2_11eb_b18d_42010aa40002row12_col5,#T_0d050410_33d2_11eb_b18d_42010aa40002row12_col6,#T_0d050410_33d2_11eb_b18d_42010aa40002row12_col8,#T_0d050410_33d2_11eb_b18d_42010aa40002row12_col10,#T_0d050410_33d2_11eb_b18d_42010aa40002row13_col7,#T_0d050410_33d2_11eb_b18d_42010aa40002row14_col7,#T_0d050410_33d2_11eb_b18d_42010aa40002row15_col8,#T_0d050410_33d2_11eb_b18d_42010aa40002row16_col11,#T_0d050410_33d2_11eb_b18d_42010aa40002row20_col4,#T_0d050410_33d2_11eb_b18d_42010aa40002row20_col5,#T_0d050410_33d2_11eb_b18d_42010aa40002row20_col10,#T_0d050410_33d2_11eb_b18d_42010aa40002row20_col11,#T_0d050410_33d2_11eb_b18d_42010aa40002row21_col7,#T_0d050410_33d2_11eb_b18d_42010aa40002row21_col9,#T_0d050410_33d2_11eb_b18d_42010aa40002row21_col11,#T_0d050410_33d2_11eb_b18d_42010aa40002row22_col7,#T_0d050410_33d2_11eb_b18d_42010aa40002row22_col8,#T_0d050410_33d2_11eb_b18d_42010aa40002row22_col10,#T_0d050410_33d2_11eb_b18d_42010aa40002row23_col6,#T_0d050410_33d2_11eb_b18d_42010aa40002row23_col7,#T_0d050410_33d2_11eb_b18d_42010aa40002row23_col9,#T_0d050410_33d2_11eb_b18d_42010aa40002row24_col4,#T_0d050410_33d2_11eb_b18d_42010aa40002row24_col9,#T_0d050410_33d2_11eb_b18d_42010aa40002row26_col4,#T_0d050410_33d2_11eb_b18d_42010aa40002row26_col7,#T_0d050410_33d2_11eb_b18d_42010aa40002row26_col10,#T_0d050410_33d2_11eb_b18d_42010aa40002row28_col2,#T_0d050410_33d2_11eb_b18d_42010aa40002row28_col6,#T_0d050410_33d2_11eb_b18d_42010aa40002row28_col7,#T_0d050410_33d2_11eb_b18d_42010aa40002row29_col4,#T_0d050410_33d2_11eb_b18d_42010aa40002row30_col6,#T_0d050410_33d2_11eb_b18d_42010aa40002row30_col10,#T_0d050410_33d2_11eb_b18d_42010aa40002row30_col11,#T_0d050410_33d2_11eb_b18d_42010aa40002row31_col11,#T_0d050410_33d2_11eb_b18d_42010aa40002row33_col6,#T_0d050410_33d2_11eb_b18d_42010aa40002row34_col4,#T_0d050410_33d2_11eb_b18d_42010aa40002row34_col5,#T_0d050410_33d2_11eb_b18d_42010aa40002row34_col10,#T_0d050410_33d2_11eb_b18d_42010aa40002row35_col7,#T_0d050410_33d2_11eb_b18d_42010aa40002row36_col1,#T_0d050410_33d2_11eb_b18d_42010aa40002row36_col2,#T_0d050410_33d2_11eb_b18d_42010aa40002row36_col6,#T_0d050410_33d2_11eb_b18d_42010aa40002row36_col7,#T_0d050410_33d2_11eb_b18d_42010aa40002row36_col10,#T_0d050410_33d2_11eb_b18d_42010aa40002row36_col11,#T_0d050410_33d2_11eb_b18d_42010aa40002row38_col8,#T_0d050410_33d2_11eb_b18d_42010aa40002row38_col10,#T_0d050410_33d2_11eb_b18d_42010aa40002row39_col9,#T_0d050410_33d2_11eb_b18d_42010aa40002row42_col7,#T_0d050410_33d2_11eb_b18d_42010aa40002row42_col10,#T_0d050410_33d2_11eb_b18d_42010aa40002row42_col11,#T_0d050410_33d2_11eb_b18d_42010aa40002row43_col8,#T_0d050410_33d2_11eb_b18d_42010aa40002row44_col11,#T_0d050410_33d2_11eb_b18d_42010aa40002row45_col1,#T_0d050410_33d2_11eb_b18d_42010aa40002row45_col2,#T_0d050410_33d2_11eb_b18d_42010aa40002row45_col4,#T_0d050410_33d2_11eb_b18d_42010aa40002row45_col8,#T_0d050410_33d2_11eb_b18d_42010aa40002row45_col9,#T_0d050410_33d2_11eb_b18d_42010aa40002row45_col11,#T_0d050410_33d2_11eb_b18d_42010aa40002row46_col1,#T_0d050410_33d2_11eb_b18d_42010aa40002row46_col5,#T_0d050410_33d2_11eb_b18d_42010aa40002row48_col6,#T_0d050410_33d2_11eb_b18d_42010aa40002row49_col1,#T_0d050410_33d2_11eb_b18d_42010aa40002row49_col2,#T_0d050410_33d2_11eb_b18d_42010aa40002row49_col3,#T_0d050410_33d2_11eb_b18d_42010aa40002row49_col4,#T_0d050410_33d2_11eb_b18d_42010aa40002row49_col5,#T_0d050410_33d2_11eb_b18d_42010aa40002row49_col6,#T_0d050410_33d2_11eb_b18d_42010aa40002row49_col7,#T_0d050410_33d2_11eb_b18d_42010aa40002row49_col8,#T_0d050410_33d2_11eb_b18d_42010aa40002row49_col9,#T_0d050410_33d2_11eb_b18d_42010aa40002row49_col11,#T_0d050410_33d2_11eb_b18d_42010aa40002row51_col2,#T_0d050410_33d2_11eb_b18d_42010aa40002row51_col4,#T_0d050410_33d2_11eb_b18d_42010aa40002row51_col7,#T_0d050410_33d2_11eb_b18d_42010aa40002row51_col10,#T_0d050410_33d2_11eb_b18d_42010aa40002row53_col7,#T_0d050410_33d2_11eb_b18d_42010aa40002row55_col4,#T_0d050410_33d2_11eb_b18d_42010aa40002row55_col5,#T_0d050410_33d2_11eb_b18d_42010aa40002row56_col4,#T_0d050410_33d2_11eb_b18d_42010aa40002row56_col11,#T_0d050410_33d2_11eb_b18d_42010aa40002row57_col4,#T_0d050410_33d2_11eb_b18d_42010aa40002row57_col8,#T_0d050410_33d2_11eb_b18d_42010aa40002row59_col9,#T_0d050410_33d2_11eb_b18d_42010aa40002row59_col10,#T_0d050410_33d2_11eb_b18d_42010aa40002row62_col1,#T_0d050410_33d2_11eb_b18d_42010aa40002row62_col2,#T_0d050410_33d2_11eb_b18d_42010aa40002row62_col4,#T_0d050410_33d2_11eb_b18d_42010aa40002row62_col5,#T_0d050410_33d2_11eb_b18d_42010aa40002row62_col6,#T_0d050410_33d2_11eb_b18d_42010aa40002row62_col7,#T_0d050410_33d2_11eb_b18d_42010aa40002row62_col8,#T_0d050410_33d2_11eb_b18d_42010aa40002row62_col9,#T_0d050410_33d2_11eb_b18d_42010aa40002row63_col4,#T_0d050410_33d2_11eb_b18d_42010aa40002row63_col7,#T_0d050410_33d2_11eb_b18d_42010aa40002row65_col7,#T_0d050410_33d2_11eb_b18d_42010aa40002row66_col10,#T_0d050410_33d2_11eb_b18d_42010aa40002row66_col11,#T_0d050410_33d2_11eb_b18d_42010aa40002row67_col5,#T_0d050410_33d2_11eb_b18d_42010aa40002row68_col5,#T_0d050410_33d2_11eb_b18d_42010aa40002row68_col8,#T_0d050410_33d2_11eb_b18d_42010aa40002row69_col5{\n",
       "            background-color:  #f0f1f3;\n",
       "            color:  #000000;\n",
       "            background-color:  #F9966B;\n",
       "        }#T_0d050410_33d2_11eb_b18d_42010aa40002row1_col3,#T_0d050410_33d2_11eb_b18d_42010aa40002row3_col3,#T_0d050410_33d2_11eb_b18d_42010aa40002row4_col3,#T_0d050410_33d2_11eb_b18d_42010aa40002row7_col3,#T_0d050410_33d2_11eb_b18d_42010aa40002row11_col3,#T_0d050410_33d2_11eb_b18d_42010aa40002row13_col3,#T_0d050410_33d2_11eb_b18d_42010aa40002row16_col3,#T_0d050410_33d2_11eb_b18d_42010aa40002row29_col3,#T_0d050410_33d2_11eb_b18d_42010aa40002row33_col3,#T_0d050410_33d2_11eb_b18d_42010aa40002row35_col3,#T_0d050410_33d2_11eb_b18d_42010aa40002row43_col3,#T_0d050410_33d2_11eb_b18d_42010aa40002row54_col3,#T_0d050410_33d2_11eb_b18d_42010aa40002row64_col3,#T_0d050410_33d2_11eb_b18d_42010aa40002row69_col3{\n",
       "            background-color:  #83abfc;\n",
       "            color:  #000000;\n",
       "        }#T_0d050410_33d2_11eb_b18d_42010aa40002row1_col4,#T_0d050410_33d2_11eb_b18d_42010aa40002row2_col4,#T_0d050410_33d2_11eb_b18d_42010aa40002row2_col5,#T_0d050410_33d2_11eb_b18d_42010aa40002row2_col8,#T_0d050410_33d2_11eb_b18d_42010aa40002row2_col11,#T_0d050410_33d2_11eb_b18d_42010aa40002row3_col4,#T_0d050410_33d2_11eb_b18d_42010aa40002row3_col9,#T_0d050410_33d2_11eb_b18d_42010aa40002row3_col10,#T_0d050410_33d2_11eb_b18d_42010aa40002row4_col1,#T_0d050410_33d2_11eb_b18d_42010aa40002row4_col5,#T_0d050410_33d2_11eb_b18d_42010aa40002row4_col7,#T_0d050410_33d2_11eb_b18d_42010aa40002row4_col9,#T_0d050410_33d2_11eb_b18d_42010aa40002row5_col4,#T_0d050410_33d2_11eb_b18d_42010aa40002row5_col7,#T_0d050410_33d2_11eb_b18d_42010aa40002row6_col4,#T_0d050410_33d2_11eb_b18d_42010aa40002row6_col11,#T_0d050410_33d2_11eb_b18d_42010aa40002row7_col5,#T_0d050410_33d2_11eb_b18d_42010aa40002row7_col6,#T_0d050410_33d2_11eb_b18d_42010aa40002row7_col9,#T_0d050410_33d2_11eb_b18d_42010aa40002row8_col1,#T_0d050410_33d2_11eb_b18d_42010aa40002row8_col3,#T_0d050410_33d2_11eb_b18d_42010aa40002row8_col4,#T_0d050410_33d2_11eb_b18d_42010aa40002row8_col8,#T_0d050410_33d2_11eb_b18d_42010aa40002row8_col9,#T_0d050410_33d2_11eb_b18d_42010aa40002row9_col1,#T_0d050410_33d2_11eb_b18d_42010aa40002row9_col3,#T_0d050410_33d2_11eb_b18d_42010aa40002row9_col8,#T_0d050410_33d2_11eb_b18d_42010aa40002row10_col6,#T_0d050410_33d2_11eb_b18d_42010aa40002row10_col10,#T_0d050410_33d2_11eb_b18d_42010aa40002row11_col7,#T_0d050410_33d2_11eb_b18d_42010aa40002row12_col1,#T_0d050410_33d2_11eb_b18d_42010aa40002row12_col4,#T_0d050410_33d2_11eb_b18d_42010aa40002row12_col7,#T_0d050410_33d2_11eb_b18d_42010aa40002row13_col5,#T_0d050410_33d2_11eb_b18d_42010aa40002row14_col1,#T_0d050410_33d2_11eb_b18d_42010aa40002row14_col6,#T_0d050410_33d2_11eb_b18d_42010aa40002row14_col8,#T_0d050410_33d2_11eb_b18d_42010aa40002row14_col10,#T_0d050410_33d2_11eb_b18d_42010aa40002row15_col4,#T_0d050410_33d2_11eb_b18d_42010aa40002row15_col6,#T_0d050410_33d2_11eb_b18d_42010aa40002row15_col7,#T_0d050410_33d2_11eb_b18d_42010aa40002row16_col1,#T_0d050410_33d2_11eb_b18d_42010aa40002row16_col10,#T_0d050410_33d2_11eb_b18d_42010aa40002row17_col6,#T_0d050410_33d2_11eb_b18d_42010aa40002row18_col10,#T_0d050410_33d2_11eb_b18d_42010aa40002row19_col1,#T_0d050410_33d2_11eb_b18d_42010aa40002row19_col2,#T_0d050410_33d2_11eb_b18d_42010aa40002row19_col6,#T_0d050410_33d2_11eb_b18d_42010aa40002row19_col7,#T_0d050410_33d2_11eb_b18d_42010aa40002row19_col8,#T_0d050410_33d2_11eb_b18d_42010aa40002row19_col9,#T_0d050410_33d2_11eb_b18d_42010aa40002row19_col10,#T_0d050410_33d2_11eb_b18d_42010aa40002row20_col1,#T_0d050410_33d2_11eb_b18d_42010aa40002row20_col8,#T_0d050410_33d2_11eb_b18d_42010aa40002row20_col9,#T_0d050410_33d2_11eb_b18d_42010aa40002row21_col1,#T_0d050410_33d2_11eb_b18d_42010aa40002row22_col1,#T_0d050410_33d2_11eb_b18d_42010aa40002row22_col3,#T_0d050410_33d2_11eb_b18d_42010aa40002row22_col4,#T_0d050410_33d2_11eb_b18d_42010aa40002row23_col1,#T_0d050410_33d2_11eb_b18d_42010aa40002row23_col3,#T_0d050410_33d2_11eb_b18d_42010aa40002row23_col8,#T_0d050410_33d2_11eb_b18d_42010aa40002row24_col6,#T_0d050410_33d2_11eb_b18d_42010aa40002row24_col7,#T_0d050410_33d2_11eb_b18d_42010aa40002row24_col8,#T_0d050410_33d2_11eb_b18d_42010aa40002row24_col10,#T_0d050410_33d2_11eb_b18d_42010aa40002row25_col4,#T_0d050410_33d2_11eb_b18d_42010aa40002row26_col1,#T_0d050410_33d2_11eb_b18d_42010aa40002row28_col1,#T_0d050410_33d2_11eb_b18d_42010aa40002row28_col4,#T_0d050410_33d2_11eb_b18d_42010aa40002row28_col5,#T_0d050410_33d2_11eb_b18d_42010aa40002row28_col9,#T_0d050410_33d2_11eb_b18d_42010aa40002row28_col10,#T_0d050410_33d2_11eb_b18d_42010aa40002row28_col11,#T_0d050410_33d2_11eb_b18d_42010aa40002row29_col1,#T_0d050410_33d2_11eb_b18d_42010aa40002row29_col7,#T_0d050410_33d2_11eb_b18d_42010aa40002row31_col8,#T_0d050410_33d2_11eb_b18d_42010aa40002row31_col9,#T_0d050410_33d2_11eb_b18d_42010aa40002row31_col10,#T_0d050410_33d2_11eb_b18d_42010aa40002row33_col1,#T_0d050410_33d2_11eb_b18d_42010aa40002row33_col8,#T_0d050410_33d2_11eb_b18d_42010aa40002row34_col1,#T_0d050410_33d2_11eb_b18d_42010aa40002row34_col6,#T_0d050410_33d2_11eb_b18d_42010aa40002row34_col9,#T_0d050410_33d2_11eb_b18d_42010aa40002row35_col4,#T_0d050410_33d2_11eb_b18d_42010aa40002row36_col9,#T_0d050410_33d2_11eb_b18d_42010aa40002row37_col6,#T_0d050410_33d2_11eb_b18d_42010aa40002row37_col7,#T_0d050410_33d2_11eb_b18d_42010aa40002row37_col9,#T_0d050410_33d2_11eb_b18d_42010aa40002row37_col10,#T_0d050410_33d2_11eb_b18d_42010aa40002row38_col9,#T_0d050410_33d2_11eb_b18d_42010aa40002row41_col4,#T_0d050410_33d2_11eb_b18d_42010aa40002row42_col3,#T_0d050410_33d2_11eb_b18d_42010aa40002row42_col4,#T_0d050410_33d2_11eb_b18d_42010aa40002row43_col6,#T_0d050410_33d2_11eb_b18d_42010aa40002row45_col7,#T_0d050410_33d2_11eb_b18d_42010aa40002row46_col8,#T_0d050410_33d2_11eb_b18d_42010aa40002row46_col9,#T_0d050410_33d2_11eb_b18d_42010aa40002row46_col10,#T_0d050410_33d2_11eb_b18d_42010aa40002row46_col11,#T_0d050410_33d2_11eb_b18d_42010aa40002row47_col11,#T_0d050410_33d2_11eb_b18d_42010aa40002row48_col1,#T_0d050410_33d2_11eb_b18d_42010aa40002row48_col5,#T_0d050410_33d2_11eb_b18d_42010aa40002row48_col7,#T_0d050410_33d2_11eb_b18d_42010aa40002row50_col8,#T_0d050410_33d2_11eb_b18d_42010aa40002row50_col9,#T_0d050410_33d2_11eb_b18d_42010aa40002row51_col1,#T_0d050410_33d2_11eb_b18d_42010aa40002row51_col3,#T_0d050410_33d2_11eb_b18d_42010aa40002row51_col5,#T_0d050410_33d2_11eb_b18d_42010aa40002row54_col7,#T_0d050410_33d2_11eb_b18d_42010aa40002row54_col9,#T_0d050410_33d2_11eb_b18d_42010aa40002row54_col11,#T_0d050410_33d2_11eb_b18d_42010aa40002row55_col1,#T_0d050410_33d2_11eb_b18d_42010aa40002row55_col2,#T_0d050410_33d2_11eb_b18d_42010aa40002row55_col8,#T_0d050410_33d2_11eb_b18d_42010aa40002row55_col9,#T_0d050410_33d2_11eb_b18d_42010aa40002row56_col5,#T_0d050410_33d2_11eb_b18d_42010aa40002row57_col1,#T_0d050410_33d2_11eb_b18d_42010aa40002row57_col10,#T_0d050410_33d2_11eb_b18d_42010aa40002row60_col9,#T_0d050410_33d2_11eb_b18d_42010aa40002row60_col11,#T_0d050410_33d2_11eb_b18d_42010aa40002row64_col5,#T_0d050410_33d2_11eb_b18d_42010aa40002row64_col7,#T_0d050410_33d2_11eb_b18d_42010aa40002row64_col10,#T_0d050410_33d2_11eb_b18d_42010aa40002row66_col1,#T_0d050410_33d2_11eb_b18d_42010aa40002row66_col4,#T_0d050410_33d2_11eb_b18d_42010aa40002row66_col5,#T_0d050410_33d2_11eb_b18d_42010aa40002row66_col7,#T_0d050410_33d2_11eb_b18d_42010aa40002row66_col9,#T_0d050410_33d2_11eb_b18d_42010aa40002row67_col1,#T_0d050410_33d2_11eb_b18d_42010aa40002row67_col6,#T_0d050410_33d2_11eb_b18d_42010aa40002row67_col7,#T_0d050410_33d2_11eb_b18d_42010aa40002row67_col8,#T_0d050410_33d2_11eb_b18d_42010aa40002row68_col1,#T_0d050410_33d2_11eb_b18d_42010aa40002row69_col7{\n",
       "            background-color:  #abc4f9;\n",
       "            color:  #000000;\n",
       "        }#T_0d050410_33d2_11eb_b18d_42010aa40002row2_col3,#T_0d050410_33d2_11eb_b18d_42010aa40002row21_col3,#T_0d050410_33d2_11eb_b18d_42010aa40002row26_col3,#T_0d050410_33d2_11eb_b18d_42010aa40002row30_col3,#T_0d050410_33d2_11eb_b18d_42010aa40002row46_col3,#T_0d050410_33d2_11eb_b18d_42010aa40002row55_col3{\n",
       "            background-color:  #a1befa;\n",
       "            color:  #000000;\n",
       "        }#T_0d050410_33d2_11eb_b18d_42010aa40002row5_col3,#T_0d050410_33d2_11eb_b18d_42010aa40002row24_col3,#T_0d050410_33d2_11eb_b18d_42010aa40002row34_col3,#T_0d050410_33d2_11eb_b18d_42010aa40002row66_col3{\n",
       "            background-color:  #b5cbf8;\n",
       "            color:  #000000;\n",
       "        }#T_0d050410_33d2_11eb_b18d_42010aa40002row6_col3,#T_0d050410_33d2_11eb_b18d_42010aa40002row10_col3,#T_0d050410_33d2_11eb_b18d_42010aa40002row39_col3,#T_0d050410_33d2_11eb_b18d_42010aa40002row44_col3,#T_0d050410_33d2_11eb_b18d_42010aa40002row50_col3,#T_0d050410_33d2_11eb_b18d_42010aa40002row53_col3,#T_0d050410_33d2_11eb_b18d_42010aa40002row60_col3,#T_0d050410_33d2_11eb_b18d_42010aa40002row65_col3{\n",
       "            background-color:  #79a5fd;\n",
       "            color:  #000000;\n",
       "        }#T_0d050410_33d2_11eb_b18d_42010aa40002row12_col3,#T_0d050410_33d2_11eb_b18d_42010aa40002row20_col3{\n",
       "            background-color:  #c8d7f6;\n",
       "            color:  #000000;\n",
       "        }#T_0d050410_33d2_11eb_b18d_42010aa40002row14_col3,#T_0d050410_33d2_11eb_b18d_42010aa40002row15_col3,#T_0d050410_33d2_11eb_b18d_42010aa40002row19_col3,#T_0d050410_33d2_11eb_b18d_42010aa40002row31_col3,#T_0d050410_33d2_11eb_b18d_42010aa40002row38_col3,#T_0d050410_33d2_11eb_b18d_42010aa40002row56_col3,#T_0d050410_33d2_11eb_b18d_42010aa40002row57_col3,#T_0d050410_33d2_11eb_b18d_42010aa40002row67_col3{\n",
       "            background-color:  #97b8fb;\n",
       "            color:  #000000;\n",
       "        }#T_0d050410_33d2_11eb_b18d_42010aa40002row17_col3,#T_0d050410_33d2_11eb_b18d_42010aa40002row18_col3,#T_0d050410_33d2_11eb_b18d_42010aa40002row25_col3,#T_0d050410_33d2_11eb_b18d_42010aa40002row41_col3,#T_0d050410_33d2_11eb_b18d_42010aa40002row47_col3{\n",
       "            background-color:  #709efe;\n",
       "            color:  #000000;\n",
       "        }#T_0d050410_33d2_11eb_b18d_42010aa40002row28_col3,#T_0d050410_33d2_11eb_b18d_42010aa40002row36_col3,#T_0d050410_33d2_11eb_b18d_42010aa40002row45_col3{\n",
       "            background-color:  #bfd1f7;\n",
       "            color:  #000000;\n",
       "        }#T_0d050410_33d2_11eb_b18d_42010aa40002row62_col3{\n",
       "            background-color:  #dce4f4;\n",
       "            color:  #000000;\n",
       "        }</style><table id=\"T_0d050410_33d2_11eb_b18d_42010aa40002\" ><thead>    <tr>        <th class=\"blank level0\" ></th>        <th class=\"col_heading level0 col0\" >business_id</th>        <th class=\"col_heading level0 col1\" >gold_summ</th>        <th class=\"col_heading level0 col2\" >gen_summ</th>        <th class=\"col_heading level0 col3\" >avergage</th>        <th class=\"col_heading level0 col4\" >review1</th>        <th class=\"col_heading level0 col5\" >review2</th>        <th class=\"col_heading level0 col6\" >review3</th>        <th class=\"col_heading level0 col7\" >review4</th>        <th class=\"col_heading level0 col8\" >review5</th>        <th class=\"col_heading level0 col9\" >review6</th>        <th class=\"col_heading level0 col10\" >review7</th>        <th class=\"col_heading level0 col11\" >review8</th>    </tr></thead><tbody>\n",
       "                <tr>\n",
       "                        <th id=\"T_0d050410_33d2_11eb_b18d_42010aa40002level0_row0\" class=\"row_heading level0 row0\" >0</th>\n",
       "                        <td id=\"T_0d050410_33d2_11eb_b18d_42010aa40002row0_col0\" class=\"data row0 col0\" >NWh0MGOPFAy7yElepNtIxg</td>\n",
       "                        <td id=\"T_0d050410_33d2_11eb_b18d_42010aa40002row0_col1\" class=\"data row0 col1\" >2</td>\n",
       "                        <td id=\"T_0d050410_33d2_11eb_b18d_42010aa40002row0_col2\" class=\"data row0 col2\" >2</td>\n",
       "                        <td id=\"T_0d050410_33d2_11eb_b18d_42010aa40002row0_col3\" class=\"data row0 col3\" >1.50</td>\n",
       "                        <td id=\"T_0d050410_33d2_11eb_b18d_42010aa40002row0_col4\" class=\"data row0 col4\" >2</td>\n",
       "                        <td id=\"T_0d050410_33d2_11eb_b18d_42010aa40002row0_col5\" class=\"data row0 col5\" >2</td>\n",
       "                        <td id=\"T_0d050410_33d2_11eb_b18d_42010aa40002row0_col6\" class=\"data row0 col6\" >0</td>\n",
       "                        <td id=\"T_0d050410_33d2_11eb_b18d_42010aa40002row0_col7\" class=\"data row0 col7\" >2</td>\n",
       "                        <td id=\"T_0d050410_33d2_11eb_b18d_42010aa40002row0_col8\" class=\"data row0 col8\" >2</td>\n",
       "                        <td id=\"T_0d050410_33d2_11eb_b18d_42010aa40002row0_col9\" class=\"data row0 col9\" >2</td>\n",
       "                        <td id=\"T_0d050410_33d2_11eb_b18d_42010aa40002row0_col10\" class=\"data row0 col10\" >2</td>\n",
       "                        <td id=\"T_0d050410_33d2_11eb_b18d_42010aa40002row0_col11\" class=\"data row0 col11\" >0</td>\n",
       "            </tr>\n",
       "            <tr>\n",
       "                        <th id=\"T_0d050410_33d2_11eb_b18d_42010aa40002level0_row1\" class=\"row_heading level0 row1\" >1</th>\n",
       "                        <td id=\"T_0d050410_33d2_11eb_b18d_42010aa40002row1_col0\" class=\"data row1 col0\" >Nbhpg1TbDwtMuyh9ZIPceA</td>\n",
       "                        <td id=\"T_0d050410_33d2_11eb_b18d_42010aa40002row1_col1\" class=\"data row1 col1\" >2</td>\n",
       "                        <td id=\"T_0d050410_33d2_11eb_b18d_42010aa40002row1_col2\" class=\"data row1 col2\" >2</td>\n",
       "                        <td id=\"T_0d050410_33d2_11eb_b18d_42010aa40002row1_col3\" class=\"data row1 col3\" >1.62</td>\n",
       "                        <td id=\"T_0d050410_33d2_11eb_b18d_42010aa40002row1_col4\" class=\"data row1 col4\" >1</td>\n",
       "                        <td id=\"T_0d050410_33d2_11eb_b18d_42010aa40002row1_col5\" class=\"data row1 col5\" >2</td>\n",
       "                        <td id=\"T_0d050410_33d2_11eb_b18d_42010aa40002row1_col6\" class=\"data row1 col6\" >2</td>\n",
       "                        <td id=\"T_0d050410_33d2_11eb_b18d_42010aa40002row1_col7\" class=\"data row1 col7\" >2</td>\n",
       "                        <td id=\"T_0d050410_33d2_11eb_b18d_42010aa40002row1_col8\" class=\"data row1 col8\" >2</td>\n",
       "                        <td id=\"T_0d050410_33d2_11eb_b18d_42010aa40002row1_col9\" class=\"data row1 col9\" >0</td>\n",
       "                        <td id=\"T_0d050410_33d2_11eb_b18d_42010aa40002row1_col10\" class=\"data row1 col10\" >2</td>\n",
       "                        <td id=\"T_0d050410_33d2_11eb_b18d_42010aa40002row1_col11\" class=\"data row1 col11\" >2</td>\n",
       "            </tr>\n",
       "            <tr>\n",
       "                        <th id=\"T_0d050410_33d2_11eb_b18d_42010aa40002level0_row2\" class=\"row_heading level0 row2\" >2</th>\n",
       "                        <td id=\"T_0d050410_33d2_11eb_b18d_42010aa40002row2_col0\" class=\"data row2 col0\" >Ohu6w8_RYE5KdHEWGdBjXQ</td>\n",
       "                        <td id=\"T_0d050410_33d2_11eb_b18d_42010aa40002row2_col1\" class=\"data row2 col1\" >2</td>\n",
       "                        <td id=\"T_0d050410_33d2_11eb_b18d_42010aa40002row2_col2\" class=\"data row2 col2\" >2</td>\n",
       "                        <td id=\"T_0d050410_33d2_11eb_b18d_42010aa40002row2_col3\" class=\"data row2 col3\" >1.25</td>\n",
       "                        <td id=\"T_0d050410_33d2_11eb_b18d_42010aa40002row2_col4\" class=\"data row2 col4\" >1</td>\n",
       "                        <td id=\"T_0d050410_33d2_11eb_b18d_42010aa40002row2_col5\" class=\"data row2 col5\" >1</td>\n",
       "                        <td id=\"T_0d050410_33d2_11eb_b18d_42010aa40002row2_col6\" class=\"data row2 col6\" >2</td>\n",
       "                        <td id=\"T_0d050410_33d2_11eb_b18d_42010aa40002row2_col7\" class=\"data row2 col7\" >2</td>\n",
       "                        <td id=\"T_0d050410_33d2_11eb_b18d_42010aa40002row2_col8\" class=\"data row2 col8\" >1</td>\n",
       "                        <td id=\"T_0d050410_33d2_11eb_b18d_42010aa40002row2_col9\" class=\"data row2 col9\" >0</td>\n",
       "                        <td id=\"T_0d050410_33d2_11eb_b18d_42010aa40002row2_col10\" class=\"data row2 col10\" >2</td>\n",
       "                        <td id=\"T_0d050410_33d2_11eb_b18d_42010aa40002row2_col11\" class=\"data row2 col11\" >1</td>\n",
       "            </tr>\n",
       "            <tr>\n",
       "                        <th id=\"T_0d050410_33d2_11eb_b18d_42010aa40002level0_row3\" class=\"row_heading level0 row3\" >3</th>\n",
       "                        <td id=\"T_0d050410_33d2_11eb_b18d_42010aa40002row3_col0\" class=\"data row3 col0\" >OkC86YtZ0Nm19my5F4GGrQ</td>\n",
       "                        <td id=\"T_0d050410_33d2_11eb_b18d_42010aa40002row3_col1\" class=\"data row3 col1\" >2</td>\n",
       "                        <td id=\"T_0d050410_33d2_11eb_b18d_42010aa40002row3_col2\" class=\"data row3 col2\" >2</td>\n",
       "                        <td id=\"T_0d050410_33d2_11eb_b18d_42010aa40002row3_col3\" class=\"data row3 col3\" >1.62</td>\n",
       "                        <td id=\"T_0d050410_33d2_11eb_b18d_42010aa40002row3_col4\" class=\"data row3 col4\" >1</td>\n",
       "                        <td id=\"T_0d050410_33d2_11eb_b18d_42010aa40002row3_col5\" class=\"data row3 col5\" >2</td>\n",
       "                        <td id=\"T_0d050410_33d2_11eb_b18d_42010aa40002row3_col6\" class=\"data row3 col6\" >2</td>\n",
       "                        <td id=\"T_0d050410_33d2_11eb_b18d_42010aa40002row3_col7\" class=\"data row3 col7\" >2</td>\n",
       "                        <td id=\"T_0d050410_33d2_11eb_b18d_42010aa40002row3_col8\" class=\"data row3 col8\" >2</td>\n",
       "                        <td id=\"T_0d050410_33d2_11eb_b18d_42010aa40002row3_col9\" class=\"data row3 col9\" >1</td>\n",
       "                        <td id=\"T_0d050410_33d2_11eb_b18d_42010aa40002row3_col10\" class=\"data row3 col10\" >1</td>\n",
       "                        <td id=\"T_0d050410_33d2_11eb_b18d_42010aa40002row3_col11\" class=\"data row3 col11\" >2</td>\n",
       "            </tr>\n",
       "            <tr>\n",
       "                        <th id=\"T_0d050410_33d2_11eb_b18d_42010aa40002level0_row4\" class=\"row_heading level0 row4\" >4</th>\n",
       "                        <td id=\"T_0d050410_33d2_11eb_b18d_42010aa40002row4_col0\" class=\"data row4 col0\" >Q2ZNaN3p8s_-XXjBWyY2qA</td>\n",
       "                        <td id=\"T_0d050410_33d2_11eb_b18d_42010aa40002row4_col1\" class=\"data row4 col1\" >1</td>\n",
       "                        <td id=\"T_0d050410_33d2_11eb_b18d_42010aa40002row4_col2\" class=\"data row4 col2\" >2</td>\n",
       "                        <td id=\"T_0d050410_33d2_11eb_b18d_42010aa40002row4_col3\" class=\"data row4 col3\" >1.62</td>\n",
       "                        <td id=\"T_0d050410_33d2_11eb_b18d_42010aa40002row4_col4\" class=\"data row4 col4\" >2</td>\n",
       "                        <td id=\"T_0d050410_33d2_11eb_b18d_42010aa40002row4_col5\" class=\"data row4 col5\" >1</td>\n",
       "                        <td id=\"T_0d050410_33d2_11eb_b18d_42010aa40002row4_col6\" class=\"data row4 col6\" >2</td>\n",
       "                        <td id=\"T_0d050410_33d2_11eb_b18d_42010aa40002row4_col7\" class=\"data row4 col7\" >1</td>\n",
       "                        <td id=\"T_0d050410_33d2_11eb_b18d_42010aa40002row4_col8\" class=\"data row4 col8\" >2</td>\n",
       "                        <td id=\"T_0d050410_33d2_11eb_b18d_42010aa40002row4_col9\" class=\"data row4 col9\" >1</td>\n",
       "                        <td id=\"T_0d050410_33d2_11eb_b18d_42010aa40002row4_col10\" class=\"data row4 col10\" >2</td>\n",
       "                        <td id=\"T_0d050410_33d2_11eb_b18d_42010aa40002row4_col11\" class=\"data row4 col11\" >2</td>\n",
       "            </tr>\n",
       "            <tr>\n",
       "                        <th id=\"T_0d050410_33d2_11eb_b18d_42010aa40002level0_row5\" class=\"row_heading level0 row5\" >5</th>\n",
       "                        <td id=\"T_0d050410_33d2_11eb_b18d_42010aa40002row5_col0\" class=\"data row5 col0\" >QNfh79NwsNnl-AngRhg2ww</td>\n",
       "                        <td id=\"T_0d050410_33d2_11eb_b18d_42010aa40002row5_col1\" class=\"data row5 col1\" >0</td>\n",
       "                        <td id=\"T_0d050410_33d2_11eb_b18d_42010aa40002row5_col2\" class=\"data row5 col2\" >0</td>\n",
       "                        <td id=\"T_0d050410_33d2_11eb_b18d_42010aa40002row5_col3\" class=\"data row5 col3\" >1.00</td>\n",
       "                        <td id=\"T_0d050410_33d2_11eb_b18d_42010aa40002row5_col4\" class=\"data row5 col4\" >1</td>\n",
       "                        <td id=\"T_0d050410_33d2_11eb_b18d_42010aa40002row5_col5\" class=\"data row5 col5\" >2</td>\n",
       "                        <td id=\"T_0d050410_33d2_11eb_b18d_42010aa40002row5_col6\" class=\"data row5 col6\" >0</td>\n",
       "                        <td id=\"T_0d050410_33d2_11eb_b18d_42010aa40002row5_col7\" class=\"data row5 col7\" >1</td>\n",
       "                        <td id=\"T_0d050410_33d2_11eb_b18d_42010aa40002row5_col8\" class=\"data row5 col8\" >0</td>\n",
       "                        <td id=\"T_0d050410_33d2_11eb_b18d_42010aa40002row5_col9\" class=\"data row5 col9\" >0</td>\n",
       "                        <td id=\"T_0d050410_33d2_11eb_b18d_42010aa40002row5_col10\" class=\"data row5 col10\" >2</td>\n",
       "                        <td id=\"T_0d050410_33d2_11eb_b18d_42010aa40002row5_col11\" class=\"data row5 col11\" >2</td>\n",
       "            </tr>\n",
       "            <tr>\n",
       "                        <th id=\"T_0d050410_33d2_11eb_b18d_42010aa40002level0_row6\" class=\"row_heading level0 row6\" >6</th>\n",
       "                        <td id=\"T_0d050410_33d2_11eb_b18d_42010aa40002row6_col0\" class=\"data row6 col0\" >QUs_7nqxo0xYE-KazHlx5A</td>\n",
       "                        <td id=\"T_0d050410_33d2_11eb_b18d_42010aa40002row6_col1\" class=\"data row6 col1\" >2</td>\n",
       "                        <td id=\"T_0d050410_33d2_11eb_b18d_42010aa40002row6_col2\" class=\"data row6 col2\" >2</td>\n",
       "                        <td id=\"T_0d050410_33d2_11eb_b18d_42010aa40002row6_col3\" class=\"data row6 col3\" >1.75</td>\n",
       "                        <td id=\"T_0d050410_33d2_11eb_b18d_42010aa40002row6_col4\" class=\"data row6 col4\" >1</td>\n",
       "                        <td id=\"T_0d050410_33d2_11eb_b18d_42010aa40002row6_col5\" class=\"data row6 col5\" >2</td>\n",
       "                        <td id=\"T_0d050410_33d2_11eb_b18d_42010aa40002row6_col6\" class=\"data row6 col6\" >2</td>\n",
       "                        <td id=\"T_0d050410_33d2_11eb_b18d_42010aa40002row6_col7\" class=\"data row6 col7\" >2</td>\n",
       "                        <td id=\"T_0d050410_33d2_11eb_b18d_42010aa40002row6_col8\" class=\"data row6 col8\" >2</td>\n",
       "                        <td id=\"T_0d050410_33d2_11eb_b18d_42010aa40002row6_col9\" class=\"data row6 col9\" >2</td>\n",
       "                        <td id=\"T_0d050410_33d2_11eb_b18d_42010aa40002row6_col10\" class=\"data row6 col10\" >2</td>\n",
       "                        <td id=\"T_0d050410_33d2_11eb_b18d_42010aa40002row6_col11\" class=\"data row6 col11\" >1</td>\n",
       "            </tr>\n",
       "            <tr>\n",
       "                        <th id=\"T_0d050410_33d2_11eb_b18d_42010aa40002level0_row7\" class=\"row_heading level0 row7\" >7</th>\n",
       "                        <td id=\"T_0d050410_33d2_11eb_b18d_42010aa40002row7_col0\" class=\"data row7 col0\" >Q_BDMqf4tLrS_44g38dqXQ</td>\n",
       "                        <td id=\"T_0d050410_33d2_11eb_b18d_42010aa40002row7_col1\" class=\"data row7 col1\" >2</td>\n",
       "                        <td id=\"T_0d050410_33d2_11eb_b18d_42010aa40002row7_col2\" class=\"data row7 col2\" >2</td>\n",
       "                        <td id=\"T_0d050410_33d2_11eb_b18d_42010aa40002row7_col3\" class=\"data row7 col3\" >1.62</td>\n",
       "                        <td id=\"T_0d050410_33d2_11eb_b18d_42010aa40002row7_col4\" class=\"data row7 col4\" >2</td>\n",
       "                        <td id=\"T_0d050410_33d2_11eb_b18d_42010aa40002row7_col5\" class=\"data row7 col5\" >1</td>\n",
       "                        <td id=\"T_0d050410_33d2_11eb_b18d_42010aa40002row7_col6\" class=\"data row7 col6\" >1</td>\n",
       "                        <td id=\"T_0d050410_33d2_11eb_b18d_42010aa40002row7_col7\" class=\"data row7 col7\" >2</td>\n",
       "                        <td id=\"T_0d050410_33d2_11eb_b18d_42010aa40002row7_col8\" class=\"data row7 col8\" >2</td>\n",
       "                        <td id=\"T_0d050410_33d2_11eb_b18d_42010aa40002row7_col9\" class=\"data row7 col9\" >1</td>\n",
       "                        <td id=\"T_0d050410_33d2_11eb_b18d_42010aa40002row7_col10\" class=\"data row7 col10\" >2</td>\n",
       "                        <td id=\"T_0d050410_33d2_11eb_b18d_42010aa40002row7_col11\" class=\"data row7 col11\" >2</td>\n",
       "            </tr>\n",
       "            <tr>\n",
       "                        <th id=\"T_0d050410_33d2_11eb_b18d_42010aa40002level0_row8\" class=\"row_heading level0 row8\" >8</th>\n",
       "                        <td id=\"T_0d050410_33d2_11eb_b18d_42010aa40002row8_col0\" class=\"data row8 col0\" >REM8BezFuK4MQ6j2k1I7-Q</td>\n",
       "                        <td id=\"T_0d050410_33d2_11eb_b18d_42010aa40002row8_col1\" class=\"data row8 col1\" >1</td>\n",
       "                        <td id=\"T_0d050410_33d2_11eb_b18d_42010aa40002row8_col2\" class=\"data row8 col2\" >2</td>\n",
       "                        <td id=\"T_0d050410_33d2_11eb_b18d_42010aa40002row8_col3\" class=\"data row8 col3\" >1.12</td>\n",
       "                        <td id=\"T_0d050410_33d2_11eb_b18d_42010aa40002row8_col4\" class=\"data row8 col4\" >1</td>\n",
       "                        <td id=\"T_0d050410_33d2_11eb_b18d_42010aa40002row8_col5\" class=\"data row8 col5\" >2</td>\n",
       "                        <td id=\"T_0d050410_33d2_11eb_b18d_42010aa40002row8_col6\" class=\"data row8 col6\" >2</td>\n",
       "                        <td id=\"T_0d050410_33d2_11eb_b18d_42010aa40002row8_col7\" class=\"data row8 col7\" >2</td>\n",
       "                        <td id=\"T_0d050410_33d2_11eb_b18d_42010aa40002row8_col8\" class=\"data row8 col8\" >1</td>\n",
       "                        <td id=\"T_0d050410_33d2_11eb_b18d_42010aa40002row8_col9\" class=\"data row8 col9\" >1</td>\n",
       "                        <td id=\"T_0d050410_33d2_11eb_b18d_42010aa40002row8_col10\" class=\"data row8 col10\" >0</td>\n",
       "                        <td id=\"T_0d050410_33d2_11eb_b18d_42010aa40002row8_col11\" class=\"data row8 col11\" >0</td>\n",
       "            </tr>\n",
       "            <tr>\n",
       "                        <th id=\"T_0d050410_33d2_11eb_b18d_42010aa40002level0_row9\" class=\"row_heading level0 row9\" >9</th>\n",
       "                        <td id=\"T_0d050410_33d2_11eb_b18d_42010aa40002row9_col0\" class=\"data row9 col0\" >RRpHuoXpxcuLk4LdB_YrOg</td>\n",
       "                        <td id=\"T_0d050410_33d2_11eb_b18d_42010aa40002row9_col1\" class=\"data row9 col1\" >1</td>\n",
       "                        <td id=\"T_0d050410_33d2_11eb_b18d_42010aa40002row9_col2\" class=\"data row9 col2\" >2</td>\n",
       "                        <td id=\"T_0d050410_33d2_11eb_b18d_42010aa40002row9_col3\" class=\"data row9 col3\" >1.12</td>\n",
       "                        <td id=\"T_0d050410_33d2_11eb_b18d_42010aa40002row9_col4\" class=\"data row9 col4\" >0</td>\n",
       "                        <td id=\"T_0d050410_33d2_11eb_b18d_42010aa40002row9_col5\" class=\"data row9 col5\" >2</td>\n",
       "                        <td id=\"T_0d050410_33d2_11eb_b18d_42010aa40002row9_col6\" class=\"data row9 col6\" >2</td>\n",
       "                        <td id=\"T_0d050410_33d2_11eb_b18d_42010aa40002row9_col7\" class=\"data row9 col7\" >2</td>\n",
       "                        <td id=\"T_0d050410_33d2_11eb_b18d_42010aa40002row9_col8\" class=\"data row9 col8\" >1</td>\n",
       "                        <td id=\"T_0d050410_33d2_11eb_b18d_42010aa40002row9_col9\" class=\"data row9 col9\" >0</td>\n",
       "                        <td id=\"T_0d050410_33d2_11eb_b18d_42010aa40002row9_col10\" class=\"data row9 col10\" >2</td>\n",
       "                        <td id=\"T_0d050410_33d2_11eb_b18d_42010aa40002row9_col11\" class=\"data row9 col11\" >0</td>\n",
       "            </tr>\n",
       "            <tr>\n",
       "                        <th id=\"T_0d050410_33d2_11eb_b18d_42010aa40002level0_row10\" class=\"row_heading level0 row10\" >10</th>\n",
       "                        <td id=\"T_0d050410_33d2_11eb_b18d_42010aa40002row10_col0\" class=\"data row10 col0\" >RqOgBMpKYdsEOmBVmFXe3g</td>\n",
       "                        <td id=\"T_0d050410_33d2_11eb_b18d_42010aa40002row10_col1\" class=\"data row10 col1\" >2</td>\n",
       "                        <td id=\"T_0d050410_33d2_11eb_b18d_42010aa40002row10_col2\" class=\"data row10 col2\" >2</td>\n",
       "                        <td id=\"T_0d050410_33d2_11eb_b18d_42010aa40002row10_col3\" class=\"data row10 col3\" >1.75</td>\n",
       "                        <td id=\"T_0d050410_33d2_11eb_b18d_42010aa40002row10_col4\" class=\"data row10 col4\" >2</td>\n",
       "                        <td id=\"T_0d050410_33d2_11eb_b18d_42010aa40002row10_col5\" class=\"data row10 col5\" >2</td>\n",
       "                        <td id=\"T_0d050410_33d2_11eb_b18d_42010aa40002row10_col6\" class=\"data row10 col6\" >1</td>\n",
       "                        <td id=\"T_0d050410_33d2_11eb_b18d_42010aa40002row10_col7\" class=\"data row10 col7\" >2</td>\n",
       "                        <td id=\"T_0d050410_33d2_11eb_b18d_42010aa40002row10_col8\" class=\"data row10 col8\" >2</td>\n",
       "                        <td id=\"T_0d050410_33d2_11eb_b18d_42010aa40002row10_col9\" class=\"data row10 col9\" >2</td>\n",
       "                        <td id=\"T_0d050410_33d2_11eb_b18d_42010aa40002row10_col10\" class=\"data row10 col10\" >1</td>\n",
       "                        <td id=\"T_0d050410_33d2_11eb_b18d_42010aa40002row10_col11\" class=\"data row10 col11\" >2</td>\n",
       "            </tr>\n",
       "            <tr>\n",
       "                        <th id=\"T_0d050410_33d2_11eb_b18d_42010aa40002level0_row11\" class=\"row_heading level0 row11\" >11</th>\n",
       "                        <td id=\"T_0d050410_33d2_11eb_b18d_42010aa40002row11_col0\" class=\"data row11 col0\" >ST_MJ4xq1GYSoc3LfgMFnQ</td>\n",
       "                        <td id=\"T_0d050410_33d2_11eb_b18d_42010aa40002row11_col1\" class=\"data row11 col1\" >2</td>\n",
       "                        <td id=\"T_0d050410_33d2_11eb_b18d_42010aa40002row11_col2\" class=\"data row11 col2\" >2</td>\n",
       "                        <td id=\"T_0d050410_33d2_11eb_b18d_42010aa40002row11_col3\" class=\"data row11 col3\" >1.62</td>\n",
       "                        <td id=\"T_0d050410_33d2_11eb_b18d_42010aa40002row11_col4\" class=\"data row11 col4\" >2</td>\n",
       "                        <td id=\"T_0d050410_33d2_11eb_b18d_42010aa40002row11_col5\" class=\"data row11 col5\" >2</td>\n",
       "                        <td id=\"T_0d050410_33d2_11eb_b18d_42010aa40002row11_col6\" class=\"data row11 col6\" >2</td>\n",
       "                        <td id=\"T_0d050410_33d2_11eb_b18d_42010aa40002row11_col7\" class=\"data row11 col7\" >1</td>\n",
       "                        <td id=\"T_0d050410_33d2_11eb_b18d_42010aa40002row11_col8\" class=\"data row11 col8\" >2</td>\n",
       "                        <td id=\"T_0d050410_33d2_11eb_b18d_42010aa40002row11_col9\" class=\"data row11 col9\" >2</td>\n",
       "                        <td id=\"T_0d050410_33d2_11eb_b18d_42010aa40002row11_col10\" class=\"data row11 col10\" >2</td>\n",
       "                        <td id=\"T_0d050410_33d2_11eb_b18d_42010aa40002row11_col11\" class=\"data row11 col11\" >0</td>\n",
       "            </tr>\n",
       "            <tr>\n",
       "                        <th id=\"T_0d050410_33d2_11eb_b18d_42010aa40002level0_row12\" class=\"row_heading level0 row12\" >12</th>\n",
       "                        <td id=\"T_0d050410_33d2_11eb_b18d_42010aa40002row12_col0\" class=\"data row12 col0\" >Tz3lmsFCS1e8rUkXuHW9mw</td>\n",
       "                        <td id=\"T_0d050410_33d2_11eb_b18d_42010aa40002row12_col1\" class=\"data row12 col1\" >1</td>\n",
       "                        <td id=\"T_0d050410_33d2_11eb_b18d_42010aa40002row12_col2\" class=\"data row12 col2\" >0</td>\n",
       "                        <td id=\"T_0d050410_33d2_11eb_b18d_42010aa40002row12_col3\" class=\"data row12 col3\" >0.75</td>\n",
       "                        <td id=\"T_0d050410_33d2_11eb_b18d_42010aa40002row12_col4\" class=\"data row12 col4\" >1</td>\n",
       "                        <td id=\"T_0d050410_33d2_11eb_b18d_42010aa40002row12_col5\" class=\"data row12 col5\" >0</td>\n",
       "                        <td id=\"T_0d050410_33d2_11eb_b18d_42010aa40002row12_col6\" class=\"data row12 col6\" >0</td>\n",
       "                        <td id=\"T_0d050410_33d2_11eb_b18d_42010aa40002row12_col7\" class=\"data row12 col7\" >1</td>\n",
       "                        <td id=\"T_0d050410_33d2_11eb_b18d_42010aa40002row12_col8\" class=\"data row12 col8\" >0</td>\n",
       "                        <td id=\"T_0d050410_33d2_11eb_b18d_42010aa40002row12_col9\" class=\"data row12 col9\" >2</td>\n",
       "                        <td id=\"T_0d050410_33d2_11eb_b18d_42010aa40002row12_col10\" class=\"data row12 col10\" >0</td>\n",
       "                        <td id=\"T_0d050410_33d2_11eb_b18d_42010aa40002row12_col11\" class=\"data row12 col11\" >2</td>\n",
       "            </tr>\n",
       "            <tr>\n",
       "                        <th id=\"T_0d050410_33d2_11eb_b18d_42010aa40002level0_row13\" class=\"row_heading level0 row13\" >13</th>\n",
       "                        <td id=\"T_0d050410_33d2_11eb_b18d_42010aa40002row13_col0\" class=\"data row13 col0\" >UFvLouGNq5q3w-0Ud_HP7w</td>\n",
       "                        <td id=\"T_0d050410_33d2_11eb_b18d_42010aa40002row13_col1\" class=\"data row13 col1\" >2</td>\n",
       "                        <td id=\"T_0d050410_33d2_11eb_b18d_42010aa40002row13_col2\" class=\"data row13 col2\" >2</td>\n",
       "                        <td id=\"T_0d050410_33d2_11eb_b18d_42010aa40002row13_col3\" class=\"data row13 col3\" >1.62</td>\n",
       "                        <td id=\"T_0d050410_33d2_11eb_b18d_42010aa40002row13_col4\" class=\"data row13 col4\" >2</td>\n",
       "                        <td id=\"T_0d050410_33d2_11eb_b18d_42010aa40002row13_col5\" class=\"data row13 col5\" >1</td>\n",
       "                        <td id=\"T_0d050410_33d2_11eb_b18d_42010aa40002row13_col6\" class=\"data row13 col6\" >2</td>\n",
       "                        <td id=\"T_0d050410_33d2_11eb_b18d_42010aa40002row13_col7\" class=\"data row13 col7\" >0</td>\n",
       "                        <td id=\"T_0d050410_33d2_11eb_b18d_42010aa40002row13_col8\" class=\"data row13 col8\" >2</td>\n",
       "                        <td id=\"T_0d050410_33d2_11eb_b18d_42010aa40002row13_col9\" class=\"data row13 col9\" >2</td>\n",
       "                        <td id=\"T_0d050410_33d2_11eb_b18d_42010aa40002row13_col10\" class=\"data row13 col10\" >2</td>\n",
       "                        <td id=\"T_0d050410_33d2_11eb_b18d_42010aa40002row13_col11\" class=\"data row13 col11\" >2</td>\n",
       "            </tr>\n",
       "            <tr>\n",
       "                        <th id=\"T_0d050410_33d2_11eb_b18d_42010aa40002level0_row14\" class=\"row_heading level0 row14\" >14</th>\n",
       "                        <td id=\"T_0d050410_33d2_11eb_b18d_42010aa40002row14_col0\" class=\"data row14 col0\" >UJevx59U-bi6fRADCSa7LQ</td>\n",
       "                        <td id=\"T_0d050410_33d2_11eb_b18d_42010aa40002row14_col1\" class=\"data row14 col1\" >1</td>\n",
       "                        <td id=\"T_0d050410_33d2_11eb_b18d_42010aa40002row14_col2\" class=\"data row14 col2\" >2</td>\n",
       "                        <td id=\"T_0d050410_33d2_11eb_b18d_42010aa40002row14_col3\" class=\"data row14 col3\" >1.38</td>\n",
       "                        <td id=\"T_0d050410_33d2_11eb_b18d_42010aa40002row14_col4\" class=\"data row14 col4\" >2</td>\n",
       "                        <td id=\"T_0d050410_33d2_11eb_b18d_42010aa40002row14_col5\" class=\"data row14 col5\" >2</td>\n",
       "                        <td id=\"T_0d050410_33d2_11eb_b18d_42010aa40002row14_col6\" class=\"data row14 col6\" >1</td>\n",
       "                        <td id=\"T_0d050410_33d2_11eb_b18d_42010aa40002row14_col7\" class=\"data row14 col7\" >0</td>\n",
       "                        <td id=\"T_0d050410_33d2_11eb_b18d_42010aa40002row14_col8\" class=\"data row14 col8\" >1</td>\n",
       "                        <td id=\"T_0d050410_33d2_11eb_b18d_42010aa40002row14_col9\" class=\"data row14 col9\" >2</td>\n",
       "                        <td id=\"T_0d050410_33d2_11eb_b18d_42010aa40002row14_col10\" class=\"data row14 col10\" >1</td>\n",
       "                        <td id=\"T_0d050410_33d2_11eb_b18d_42010aa40002row14_col11\" class=\"data row14 col11\" >2</td>\n",
       "            </tr>\n",
       "            <tr>\n",
       "                        <th id=\"T_0d050410_33d2_11eb_b18d_42010aa40002level0_row15\" class=\"row_heading level0 row15\" >15</th>\n",
       "                        <td id=\"T_0d050410_33d2_11eb_b18d_42010aa40002row15_col0\" class=\"data row15 col0\" >UpEVdq_euH-5mqCIgUAd2Q</td>\n",
       "                        <td id=\"T_0d050410_33d2_11eb_b18d_42010aa40002row15_col1\" class=\"data row15 col1\" >2</td>\n",
       "                        <td id=\"T_0d050410_33d2_11eb_b18d_42010aa40002row15_col2\" class=\"data row15 col2\" >2</td>\n",
       "                        <td id=\"T_0d050410_33d2_11eb_b18d_42010aa40002row15_col3\" class=\"data row15 col3\" >1.38</td>\n",
       "                        <td id=\"T_0d050410_33d2_11eb_b18d_42010aa40002row15_col4\" class=\"data row15 col4\" >1</td>\n",
       "                        <td id=\"T_0d050410_33d2_11eb_b18d_42010aa40002row15_col5\" class=\"data row15 col5\" >2</td>\n",
       "                        <td id=\"T_0d050410_33d2_11eb_b18d_42010aa40002row15_col6\" class=\"data row15 col6\" >1</td>\n",
       "                        <td id=\"T_0d050410_33d2_11eb_b18d_42010aa40002row15_col7\" class=\"data row15 col7\" >1</td>\n",
       "                        <td id=\"T_0d050410_33d2_11eb_b18d_42010aa40002row15_col8\" class=\"data row15 col8\" >0</td>\n",
       "                        <td id=\"T_0d050410_33d2_11eb_b18d_42010aa40002row15_col9\" class=\"data row15 col9\" >2</td>\n",
       "                        <td id=\"T_0d050410_33d2_11eb_b18d_42010aa40002row15_col10\" class=\"data row15 col10\" >2</td>\n",
       "                        <td id=\"T_0d050410_33d2_11eb_b18d_42010aa40002row15_col11\" class=\"data row15 col11\" >2</td>\n",
       "            </tr>\n",
       "            <tr>\n",
       "                        <th id=\"T_0d050410_33d2_11eb_b18d_42010aa40002level0_row16\" class=\"row_heading level0 row16\" >16</th>\n",
       "                        <td id=\"T_0d050410_33d2_11eb_b18d_42010aa40002row16_col0\" class=\"data row16 col0\" >UsJYr7l0fOaQZG223BbpeA</td>\n",
       "                        <td id=\"T_0d050410_33d2_11eb_b18d_42010aa40002row16_col1\" class=\"data row16 col1\" >1</td>\n",
       "                        <td id=\"T_0d050410_33d2_11eb_b18d_42010aa40002row16_col2\" class=\"data row16 col2\" >2</td>\n",
       "                        <td id=\"T_0d050410_33d2_11eb_b18d_42010aa40002row16_col3\" class=\"data row16 col3\" >1.62</td>\n",
       "                        <td id=\"T_0d050410_33d2_11eb_b18d_42010aa40002row16_col4\" class=\"data row16 col4\" >2</td>\n",
       "                        <td id=\"T_0d050410_33d2_11eb_b18d_42010aa40002row16_col5\" class=\"data row16 col5\" >2</td>\n",
       "                        <td id=\"T_0d050410_33d2_11eb_b18d_42010aa40002row16_col6\" class=\"data row16 col6\" >2</td>\n",
       "                        <td id=\"T_0d050410_33d2_11eb_b18d_42010aa40002row16_col7\" class=\"data row16 col7\" >2</td>\n",
       "                        <td id=\"T_0d050410_33d2_11eb_b18d_42010aa40002row16_col8\" class=\"data row16 col8\" >2</td>\n",
       "                        <td id=\"T_0d050410_33d2_11eb_b18d_42010aa40002row16_col9\" class=\"data row16 col9\" >2</td>\n",
       "                        <td id=\"T_0d050410_33d2_11eb_b18d_42010aa40002row16_col10\" class=\"data row16 col10\" >1</td>\n",
       "                        <td id=\"T_0d050410_33d2_11eb_b18d_42010aa40002row16_col11\" class=\"data row16 col11\" >0</td>\n",
       "            </tr>\n",
       "            <tr>\n",
       "                        <th id=\"T_0d050410_33d2_11eb_b18d_42010aa40002level0_row17\" class=\"row_heading level0 row17\" >17</th>\n",
       "                        <td id=\"T_0d050410_33d2_11eb_b18d_42010aa40002row17_col0\" class=\"data row17 col0\" >UuO28w986H0CO_HJluQmew</td>\n",
       "                        <td id=\"T_0d050410_33d2_11eb_b18d_42010aa40002row17_col1\" class=\"data row17 col1\" >2</td>\n",
       "                        <td id=\"T_0d050410_33d2_11eb_b18d_42010aa40002row17_col2\" class=\"data row17 col2\" >2</td>\n",
       "                        <td id=\"T_0d050410_33d2_11eb_b18d_42010aa40002row17_col3\" class=\"data row17 col3\" >1.88</td>\n",
       "                        <td id=\"T_0d050410_33d2_11eb_b18d_42010aa40002row17_col4\" class=\"data row17 col4\" >2</td>\n",
       "                        <td id=\"T_0d050410_33d2_11eb_b18d_42010aa40002row17_col5\" class=\"data row17 col5\" >2</td>\n",
       "                        <td id=\"T_0d050410_33d2_11eb_b18d_42010aa40002row17_col6\" class=\"data row17 col6\" >1</td>\n",
       "                        <td id=\"T_0d050410_33d2_11eb_b18d_42010aa40002row17_col7\" class=\"data row17 col7\" >2</td>\n",
       "                        <td id=\"T_0d050410_33d2_11eb_b18d_42010aa40002row17_col8\" class=\"data row17 col8\" >2</td>\n",
       "                        <td id=\"T_0d050410_33d2_11eb_b18d_42010aa40002row17_col9\" class=\"data row17 col9\" >2</td>\n",
       "                        <td id=\"T_0d050410_33d2_11eb_b18d_42010aa40002row17_col10\" class=\"data row17 col10\" >2</td>\n",
       "                        <td id=\"T_0d050410_33d2_11eb_b18d_42010aa40002row17_col11\" class=\"data row17 col11\" >2</td>\n",
       "            </tr>\n",
       "            <tr>\n",
       "                        <th id=\"T_0d050410_33d2_11eb_b18d_42010aa40002level0_row18\" class=\"row_heading level0 row18\" >18</th>\n",
       "                        <td id=\"T_0d050410_33d2_11eb_b18d_42010aa40002row18_col0\" class=\"data row18 col0\" >VVeT1XqQYwrB_fbp3efdUg</td>\n",
       "                        <td id=\"T_0d050410_33d2_11eb_b18d_42010aa40002row18_col1\" class=\"data row18 col1\" >2</td>\n",
       "                        <td id=\"T_0d050410_33d2_11eb_b18d_42010aa40002row18_col2\" class=\"data row18 col2\" >2</td>\n",
       "                        <td id=\"T_0d050410_33d2_11eb_b18d_42010aa40002row18_col3\" class=\"data row18 col3\" >1.88</td>\n",
       "                        <td id=\"T_0d050410_33d2_11eb_b18d_42010aa40002row18_col4\" class=\"data row18 col4\" >2</td>\n",
       "                        <td id=\"T_0d050410_33d2_11eb_b18d_42010aa40002row18_col5\" class=\"data row18 col5\" >2</td>\n",
       "                        <td id=\"T_0d050410_33d2_11eb_b18d_42010aa40002row18_col6\" class=\"data row18 col6\" >2</td>\n",
       "                        <td id=\"T_0d050410_33d2_11eb_b18d_42010aa40002row18_col7\" class=\"data row18 col7\" >2</td>\n",
       "                        <td id=\"T_0d050410_33d2_11eb_b18d_42010aa40002row18_col8\" class=\"data row18 col8\" >2</td>\n",
       "                        <td id=\"T_0d050410_33d2_11eb_b18d_42010aa40002row18_col9\" class=\"data row18 col9\" >2</td>\n",
       "                        <td id=\"T_0d050410_33d2_11eb_b18d_42010aa40002row18_col10\" class=\"data row18 col10\" >1</td>\n",
       "                        <td id=\"T_0d050410_33d2_11eb_b18d_42010aa40002row18_col11\" class=\"data row18 col11\" >2</td>\n",
       "            </tr>\n",
       "            <tr>\n",
       "                        <th id=\"T_0d050410_33d2_11eb_b18d_42010aa40002level0_row19\" class=\"row_heading level0 row19\" >19</th>\n",
       "                        <td id=\"T_0d050410_33d2_11eb_b18d_42010aa40002row19_col0\" class=\"data row19 col0\" >VgGO13Fx7dQj4zg3IuVDLw</td>\n",
       "                        <td id=\"T_0d050410_33d2_11eb_b18d_42010aa40002row19_col1\" class=\"data row19 col1\" >1</td>\n",
       "                        <td id=\"T_0d050410_33d2_11eb_b18d_42010aa40002row19_col2\" class=\"data row19 col2\" >1</td>\n",
       "                        <td id=\"T_0d050410_33d2_11eb_b18d_42010aa40002row19_col3\" class=\"data row19 col3\" >1.38</td>\n",
       "                        <td id=\"T_0d050410_33d2_11eb_b18d_42010aa40002row19_col4\" class=\"data row19 col4\" >2</td>\n",
       "                        <td id=\"T_0d050410_33d2_11eb_b18d_42010aa40002row19_col5\" class=\"data row19 col5\" >2</td>\n",
       "                        <td id=\"T_0d050410_33d2_11eb_b18d_42010aa40002row19_col6\" class=\"data row19 col6\" >1</td>\n",
       "                        <td id=\"T_0d050410_33d2_11eb_b18d_42010aa40002row19_col7\" class=\"data row19 col7\" >1</td>\n",
       "                        <td id=\"T_0d050410_33d2_11eb_b18d_42010aa40002row19_col8\" class=\"data row19 col8\" >1</td>\n",
       "                        <td id=\"T_0d050410_33d2_11eb_b18d_42010aa40002row19_col9\" class=\"data row19 col9\" >1</td>\n",
       "                        <td id=\"T_0d050410_33d2_11eb_b18d_42010aa40002row19_col10\" class=\"data row19 col10\" >1</td>\n",
       "                        <td id=\"T_0d050410_33d2_11eb_b18d_42010aa40002row19_col11\" class=\"data row19 col11\" >2</td>\n",
       "            </tr>\n",
       "            <tr>\n",
       "                        <th id=\"T_0d050410_33d2_11eb_b18d_42010aa40002level0_row20\" class=\"row_heading level0 row20\" >20</th>\n",
       "                        <td id=\"T_0d050410_33d2_11eb_b18d_42010aa40002row20_col0\" class=\"data row20 col0\" >ZqmUmrXkwihgPFjMCYh_Mg</td>\n",
       "                        <td id=\"T_0d050410_33d2_11eb_b18d_42010aa40002row20_col1\" class=\"data row20 col1\" >1</td>\n",
       "                        <td id=\"T_0d050410_33d2_11eb_b18d_42010aa40002row20_col2\" class=\"data row20 col2\" >2</td>\n",
       "                        <td id=\"T_0d050410_33d2_11eb_b18d_42010aa40002row20_col3\" class=\"data row20 col3\" >0.75</td>\n",
       "                        <td id=\"T_0d050410_33d2_11eb_b18d_42010aa40002row20_col4\" class=\"data row20 col4\" >0</td>\n",
       "                        <td id=\"T_0d050410_33d2_11eb_b18d_42010aa40002row20_col5\" class=\"data row20 col5\" >0</td>\n",
       "                        <td id=\"T_0d050410_33d2_11eb_b18d_42010aa40002row20_col6\" class=\"data row20 col6\" >2</td>\n",
       "                        <td id=\"T_0d050410_33d2_11eb_b18d_42010aa40002row20_col7\" class=\"data row20 col7\" >2</td>\n",
       "                        <td id=\"T_0d050410_33d2_11eb_b18d_42010aa40002row20_col8\" class=\"data row20 col8\" >1</td>\n",
       "                        <td id=\"T_0d050410_33d2_11eb_b18d_42010aa40002row20_col9\" class=\"data row20 col9\" >1</td>\n",
       "                        <td id=\"T_0d050410_33d2_11eb_b18d_42010aa40002row20_col10\" class=\"data row20 col10\" >0</td>\n",
       "                        <td id=\"T_0d050410_33d2_11eb_b18d_42010aa40002row20_col11\" class=\"data row20 col11\" >0</td>\n",
       "            </tr>\n",
       "            <tr>\n",
       "                        <th id=\"T_0d050410_33d2_11eb_b18d_42010aa40002level0_row21\" class=\"row_heading level0 row21\" >21</th>\n",
       "                        <td id=\"T_0d050410_33d2_11eb_b18d_42010aa40002row21_col0\" class=\"data row21 col0\" >a48qF4Tjwooc0GYNPzipNg</td>\n",
       "                        <td id=\"T_0d050410_33d2_11eb_b18d_42010aa40002row21_col1\" class=\"data row21 col1\" >1</td>\n",
       "                        <td id=\"T_0d050410_33d2_11eb_b18d_42010aa40002row21_col2\" class=\"data row21 col2\" >2</td>\n",
       "                        <td id=\"T_0d050410_33d2_11eb_b18d_42010aa40002row21_col3\" class=\"data row21 col3\" >1.25</td>\n",
       "                        <td id=\"T_0d050410_33d2_11eb_b18d_42010aa40002row21_col4\" class=\"data row21 col4\" >2</td>\n",
       "                        <td id=\"T_0d050410_33d2_11eb_b18d_42010aa40002row21_col5\" class=\"data row21 col5\" >2</td>\n",
       "                        <td id=\"T_0d050410_33d2_11eb_b18d_42010aa40002row21_col6\" class=\"data row21 col6\" >2</td>\n",
       "                        <td id=\"T_0d050410_33d2_11eb_b18d_42010aa40002row21_col7\" class=\"data row21 col7\" >0</td>\n",
       "                        <td id=\"T_0d050410_33d2_11eb_b18d_42010aa40002row21_col8\" class=\"data row21 col8\" >2</td>\n",
       "                        <td id=\"T_0d050410_33d2_11eb_b18d_42010aa40002row21_col9\" class=\"data row21 col9\" >0</td>\n",
       "                        <td id=\"T_0d050410_33d2_11eb_b18d_42010aa40002row21_col10\" class=\"data row21 col10\" >2</td>\n",
       "                        <td id=\"T_0d050410_33d2_11eb_b18d_42010aa40002row21_col11\" class=\"data row21 col11\" >0</td>\n",
       "            </tr>\n",
       "            <tr>\n",
       "                        <th id=\"T_0d050410_33d2_11eb_b18d_42010aa40002level0_row22\" class=\"row_heading level0 row22\" >22</th>\n",
       "                        <td id=\"T_0d050410_33d2_11eb_b18d_42010aa40002row22_col0\" class=\"data row22 col0\" >avTIDv9lJHiNcg3mcwTxqg</td>\n",
       "                        <td id=\"T_0d050410_33d2_11eb_b18d_42010aa40002row22_col1\" class=\"data row22 col1\" >1</td>\n",
       "                        <td id=\"T_0d050410_33d2_11eb_b18d_42010aa40002row22_col2\" class=\"data row22 col2\" >2</td>\n",
       "                        <td id=\"T_0d050410_33d2_11eb_b18d_42010aa40002row22_col3\" class=\"data row22 col3\" >1.12</td>\n",
       "                        <td id=\"T_0d050410_33d2_11eb_b18d_42010aa40002row22_col4\" class=\"data row22 col4\" >1</td>\n",
       "                        <td id=\"T_0d050410_33d2_11eb_b18d_42010aa40002row22_col5\" class=\"data row22 col5\" >2</td>\n",
       "                        <td id=\"T_0d050410_33d2_11eb_b18d_42010aa40002row22_col6\" class=\"data row22 col6\" >2</td>\n",
       "                        <td id=\"T_0d050410_33d2_11eb_b18d_42010aa40002row22_col7\" class=\"data row22 col7\" >0</td>\n",
       "                        <td id=\"T_0d050410_33d2_11eb_b18d_42010aa40002row22_col8\" class=\"data row22 col8\" >0</td>\n",
       "                        <td id=\"T_0d050410_33d2_11eb_b18d_42010aa40002row22_col9\" class=\"data row22 col9\" >2</td>\n",
       "                        <td id=\"T_0d050410_33d2_11eb_b18d_42010aa40002row22_col10\" class=\"data row22 col10\" >0</td>\n",
       "                        <td id=\"T_0d050410_33d2_11eb_b18d_42010aa40002row22_col11\" class=\"data row22 col11\" >2</td>\n",
       "            </tr>\n",
       "            <tr>\n",
       "                        <th id=\"T_0d050410_33d2_11eb_b18d_42010aa40002level0_row23\" class=\"row_heading level0 row23\" >23</th>\n",
       "                        <td id=\"T_0d050410_33d2_11eb_b18d_42010aa40002row23_col0\" class=\"data row23 col0\" >av_-ePHJwSSqMtTQbNoL7g</td>\n",
       "                        <td id=\"T_0d050410_33d2_11eb_b18d_42010aa40002row23_col1\" class=\"data row23 col1\" >1</td>\n",
       "                        <td id=\"T_0d050410_33d2_11eb_b18d_42010aa40002row23_col2\" class=\"data row23 col2\" >2</td>\n",
       "                        <td id=\"T_0d050410_33d2_11eb_b18d_42010aa40002row23_col3\" class=\"data row23 col3\" >1.12</td>\n",
       "                        <td id=\"T_0d050410_33d2_11eb_b18d_42010aa40002row23_col4\" class=\"data row23 col4\" >2</td>\n",
       "                        <td id=\"T_0d050410_33d2_11eb_b18d_42010aa40002row23_col5\" class=\"data row23 col5\" >2</td>\n",
       "                        <td id=\"T_0d050410_33d2_11eb_b18d_42010aa40002row23_col6\" class=\"data row23 col6\" >0</td>\n",
       "                        <td id=\"T_0d050410_33d2_11eb_b18d_42010aa40002row23_col7\" class=\"data row23 col7\" >0</td>\n",
       "                        <td id=\"T_0d050410_33d2_11eb_b18d_42010aa40002row23_col8\" class=\"data row23 col8\" >1</td>\n",
       "                        <td id=\"T_0d050410_33d2_11eb_b18d_42010aa40002row23_col9\" class=\"data row23 col9\" >0</td>\n",
       "                        <td id=\"T_0d050410_33d2_11eb_b18d_42010aa40002row23_col10\" class=\"data row23 col10\" >2</td>\n",
       "                        <td id=\"T_0d050410_33d2_11eb_b18d_42010aa40002row23_col11\" class=\"data row23 col11\" >2</td>\n",
       "            </tr>\n",
       "            <tr>\n",
       "                        <th id=\"T_0d050410_33d2_11eb_b18d_42010aa40002level0_row24\" class=\"row_heading level0 row24\" >24</th>\n",
       "                        <td id=\"T_0d050410_33d2_11eb_b18d_42010aa40002row24_col0\" class=\"data row24 col0\" >bCrMHwCLZzyKsAUOiAL0OA</td>\n",
       "                        <td id=\"T_0d050410_33d2_11eb_b18d_42010aa40002row24_col1\" class=\"data row24 col1\" >2</td>\n",
       "                        <td id=\"T_0d050410_33d2_11eb_b18d_42010aa40002row24_col2\" class=\"data row24 col2\" >2</td>\n",
       "                        <td id=\"T_0d050410_33d2_11eb_b18d_42010aa40002row24_col3\" class=\"data row24 col3\" >1.00</td>\n",
       "                        <td id=\"T_0d050410_33d2_11eb_b18d_42010aa40002row24_col4\" class=\"data row24 col4\" >0</td>\n",
       "                        <td id=\"T_0d050410_33d2_11eb_b18d_42010aa40002row24_col5\" class=\"data row24 col5\" >2</td>\n",
       "                        <td id=\"T_0d050410_33d2_11eb_b18d_42010aa40002row24_col6\" class=\"data row24 col6\" >1</td>\n",
       "                        <td id=\"T_0d050410_33d2_11eb_b18d_42010aa40002row24_col7\" class=\"data row24 col7\" >1</td>\n",
       "                        <td id=\"T_0d050410_33d2_11eb_b18d_42010aa40002row24_col8\" class=\"data row24 col8\" >1</td>\n",
       "                        <td id=\"T_0d050410_33d2_11eb_b18d_42010aa40002row24_col9\" class=\"data row24 col9\" >0</td>\n",
       "                        <td id=\"T_0d050410_33d2_11eb_b18d_42010aa40002row24_col10\" class=\"data row24 col10\" >1</td>\n",
       "                        <td id=\"T_0d050410_33d2_11eb_b18d_42010aa40002row24_col11\" class=\"data row24 col11\" >2</td>\n",
       "            </tr>\n",
       "            <tr>\n",
       "                        <th id=\"T_0d050410_33d2_11eb_b18d_42010aa40002level0_row25\" class=\"row_heading level0 row25\" >25</th>\n",
       "                        <td id=\"T_0d050410_33d2_11eb_b18d_42010aa40002row25_col0\" class=\"data row25 col0\" >bGaMzx2PcwzhYBX9Gn7_hg</td>\n",
       "                        <td id=\"T_0d050410_33d2_11eb_b18d_42010aa40002row25_col1\" class=\"data row25 col1\" >2</td>\n",
       "                        <td id=\"T_0d050410_33d2_11eb_b18d_42010aa40002row25_col2\" class=\"data row25 col2\" >2</td>\n",
       "                        <td id=\"T_0d050410_33d2_11eb_b18d_42010aa40002row25_col3\" class=\"data row25 col3\" >1.88</td>\n",
       "                        <td id=\"T_0d050410_33d2_11eb_b18d_42010aa40002row25_col4\" class=\"data row25 col4\" >1</td>\n",
       "                        <td id=\"T_0d050410_33d2_11eb_b18d_42010aa40002row25_col5\" class=\"data row25 col5\" >2</td>\n",
       "                        <td id=\"T_0d050410_33d2_11eb_b18d_42010aa40002row25_col6\" class=\"data row25 col6\" >2</td>\n",
       "                        <td id=\"T_0d050410_33d2_11eb_b18d_42010aa40002row25_col7\" class=\"data row25 col7\" >2</td>\n",
       "                        <td id=\"T_0d050410_33d2_11eb_b18d_42010aa40002row25_col8\" class=\"data row25 col8\" >2</td>\n",
       "                        <td id=\"T_0d050410_33d2_11eb_b18d_42010aa40002row25_col9\" class=\"data row25 col9\" >2</td>\n",
       "                        <td id=\"T_0d050410_33d2_11eb_b18d_42010aa40002row25_col10\" class=\"data row25 col10\" >2</td>\n",
       "                        <td id=\"T_0d050410_33d2_11eb_b18d_42010aa40002row25_col11\" class=\"data row25 col11\" >2</td>\n",
       "            </tr>\n",
       "            <tr>\n",
       "                        <th id=\"T_0d050410_33d2_11eb_b18d_42010aa40002level0_row26\" class=\"row_heading level0 row26\" >26</th>\n",
       "                        <td id=\"T_0d050410_33d2_11eb_b18d_42010aa40002row26_col0\" class=\"data row26 col0\" >bMrYaaAy62ppdS09na0RgQ</td>\n",
       "                        <td id=\"T_0d050410_33d2_11eb_b18d_42010aa40002row26_col1\" class=\"data row26 col1\" >1</td>\n",
       "                        <td id=\"T_0d050410_33d2_11eb_b18d_42010aa40002row26_col2\" class=\"data row26 col2\" >2</td>\n",
       "                        <td id=\"T_0d050410_33d2_11eb_b18d_42010aa40002row26_col3\" class=\"data row26 col3\" >1.25</td>\n",
       "                        <td id=\"T_0d050410_33d2_11eb_b18d_42010aa40002row26_col4\" class=\"data row26 col4\" >0</td>\n",
       "                        <td id=\"T_0d050410_33d2_11eb_b18d_42010aa40002row26_col5\" class=\"data row26 col5\" >2</td>\n",
       "                        <td id=\"T_0d050410_33d2_11eb_b18d_42010aa40002row26_col6\" class=\"data row26 col6\" >2</td>\n",
       "                        <td id=\"T_0d050410_33d2_11eb_b18d_42010aa40002row26_col7\" class=\"data row26 col7\" >0</td>\n",
       "                        <td id=\"T_0d050410_33d2_11eb_b18d_42010aa40002row26_col8\" class=\"data row26 col8\" >2</td>\n",
       "                        <td id=\"T_0d050410_33d2_11eb_b18d_42010aa40002row26_col9\" class=\"data row26 col9\" >2</td>\n",
       "                        <td id=\"T_0d050410_33d2_11eb_b18d_42010aa40002row26_col10\" class=\"data row26 col10\" >0</td>\n",
       "                        <td id=\"T_0d050410_33d2_11eb_b18d_42010aa40002row26_col11\" class=\"data row26 col11\" >2</td>\n",
       "            </tr>\n",
       "            <tr>\n",
       "                        <th id=\"T_0d050410_33d2_11eb_b18d_42010aa40002level0_row27\" class=\"row_heading level0 row27\" >27</th>\n",
       "                        <td id=\"T_0d050410_33d2_11eb_b18d_42010aa40002row27_col0\" class=\"data row27 col0\" >chU-VggYf4LpWqEMdbgisQ</td>\n",
       "                        <td id=\"T_0d050410_33d2_11eb_b18d_42010aa40002row27_col1\" class=\"data row27 col1\" >2</td>\n",
       "                        <td id=\"T_0d050410_33d2_11eb_b18d_42010aa40002row27_col2\" class=\"data row27 col2\" >2</td>\n",
       "                        <td id=\"T_0d050410_33d2_11eb_b18d_42010aa40002row27_col3\" class=\"data row27 col3\" >2.00</td>\n",
       "                        <td id=\"T_0d050410_33d2_11eb_b18d_42010aa40002row27_col4\" class=\"data row27 col4\" >2</td>\n",
       "                        <td id=\"T_0d050410_33d2_11eb_b18d_42010aa40002row27_col5\" class=\"data row27 col5\" >2</td>\n",
       "                        <td id=\"T_0d050410_33d2_11eb_b18d_42010aa40002row27_col6\" class=\"data row27 col6\" >2</td>\n",
       "                        <td id=\"T_0d050410_33d2_11eb_b18d_42010aa40002row27_col7\" class=\"data row27 col7\" >2</td>\n",
       "                        <td id=\"T_0d050410_33d2_11eb_b18d_42010aa40002row27_col8\" class=\"data row27 col8\" >2</td>\n",
       "                        <td id=\"T_0d050410_33d2_11eb_b18d_42010aa40002row27_col9\" class=\"data row27 col9\" >2</td>\n",
       "                        <td id=\"T_0d050410_33d2_11eb_b18d_42010aa40002row27_col10\" class=\"data row27 col10\" >2</td>\n",
       "                        <td id=\"T_0d050410_33d2_11eb_b18d_42010aa40002row27_col11\" class=\"data row27 col11\" >2</td>\n",
       "            </tr>\n",
       "            <tr>\n",
       "                        <th id=\"T_0d050410_33d2_11eb_b18d_42010aa40002level0_row28\" class=\"row_heading level0 row28\" >28</th>\n",
       "                        <td id=\"T_0d050410_33d2_11eb_b18d_42010aa40002row28_col0\" class=\"data row28 col0\" >dsIHIXyAl_ldqkd8QekvTQ</td>\n",
       "                        <td id=\"T_0d050410_33d2_11eb_b18d_42010aa40002row28_col1\" class=\"data row28 col1\" >1</td>\n",
       "                        <td id=\"T_0d050410_33d2_11eb_b18d_42010aa40002row28_col2\" class=\"data row28 col2\" >0</td>\n",
       "                        <td id=\"T_0d050410_33d2_11eb_b18d_42010aa40002row28_col3\" class=\"data row28 col3\" >0.88</td>\n",
       "                        <td id=\"T_0d050410_33d2_11eb_b18d_42010aa40002row28_col4\" class=\"data row28 col4\" >1</td>\n",
       "                        <td id=\"T_0d050410_33d2_11eb_b18d_42010aa40002row28_col5\" class=\"data row28 col5\" >1</td>\n",
       "                        <td id=\"T_0d050410_33d2_11eb_b18d_42010aa40002row28_col6\" class=\"data row28 col6\" >0</td>\n",
       "                        <td id=\"T_0d050410_33d2_11eb_b18d_42010aa40002row28_col7\" class=\"data row28 col7\" >0</td>\n",
       "                        <td id=\"T_0d050410_33d2_11eb_b18d_42010aa40002row28_col8\" class=\"data row28 col8\" >2</td>\n",
       "                        <td id=\"T_0d050410_33d2_11eb_b18d_42010aa40002row28_col9\" class=\"data row28 col9\" >1</td>\n",
       "                        <td id=\"T_0d050410_33d2_11eb_b18d_42010aa40002row28_col10\" class=\"data row28 col10\" >1</td>\n",
       "                        <td id=\"T_0d050410_33d2_11eb_b18d_42010aa40002row28_col11\" class=\"data row28 col11\" >1</td>\n",
       "            </tr>\n",
       "            <tr>\n",
       "                        <th id=\"T_0d050410_33d2_11eb_b18d_42010aa40002level0_row29\" class=\"row_heading level0 row29\" >29</th>\n",
       "                        <td id=\"T_0d050410_33d2_11eb_b18d_42010aa40002row29_col0\" class=\"data row29 col0\" >ffA8x9O0jGP5DkpTiT4NcA</td>\n",
       "                        <td id=\"T_0d050410_33d2_11eb_b18d_42010aa40002row29_col1\" class=\"data row29 col1\" >1</td>\n",
       "                        <td id=\"T_0d050410_33d2_11eb_b18d_42010aa40002row29_col2\" class=\"data row29 col2\" >2</td>\n",
       "                        <td id=\"T_0d050410_33d2_11eb_b18d_42010aa40002row29_col3\" class=\"data row29 col3\" >1.62</td>\n",
       "                        <td id=\"T_0d050410_33d2_11eb_b18d_42010aa40002row29_col4\" class=\"data row29 col4\" >0</td>\n",
       "                        <td id=\"T_0d050410_33d2_11eb_b18d_42010aa40002row29_col5\" class=\"data row29 col5\" >2</td>\n",
       "                        <td id=\"T_0d050410_33d2_11eb_b18d_42010aa40002row29_col6\" class=\"data row29 col6\" >2</td>\n",
       "                        <td id=\"T_0d050410_33d2_11eb_b18d_42010aa40002row29_col7\" class=\"data row29 col7\" >1</td>\n",
       "                        <td id=\"T_0d050410_33d2_11eb_b18d_42010aa40002row29_col8\" class=\"data row29 col8\" >2</td>\n",
       "                        <td id=\"T_0d050410_33d2_11eb_b18d_42010aa40002row29_col9\" class=\"data row29 col9\" >2</td>\n",
       "                        <td id=\"T_0d050410_33d2_11eb_b18d_42010aa40002row29_col10\" class=\"data row29 col10\" >2</td>\n",
       "                        <td id=\"T_0d050410_33d2_11eb_b18d_42010aa40002row29_col11\" class=\"data row29 col11\" >2</td>\n",
       "            </tr>\n",
       "            <tr>\n",
       "                        <th id=\"T_0d050410_33d2_11eb_b18d_42010aa40002level0_row30\" class=\"row_heading level0 row30\" >30</th>\n",
       "                        <td id=\"T_0d050410_33d2_11eb_b18d_42010aa40002row30_col0\" class=\"data row30 col0\" >gUQXksFGvShjSl7Xil41bQ</td>\n",
       "                        <td id=\"T_0d050410_33d2_11eb_b18d_42010aa40002row30_col1\" class=\"data row30 col1\" >2</td>\n",
       "                        <td id=\"T_0d050410_33d2_11eb_b18d_42010aa40002row30_col2\" class=\"data row30 col2\" >2</td>\n",
       "                        <td id=\"T_0d050410_33d2_11eb_b18d_42010aa40002row30_col3\" class=\"data row30 col3\" >1.25</td>\n",
       "                        <td id=\"T_0d050410_33d2_11eb_b18d_42010aa40002row30_col4\" class=\"data row30 col4\" >2</td>\n",
       "                        <td id=\"T_0d050410_33d2_11eb_b18d_42010aa40002row30_col5\" class=\"data row30 col5\" >2</td>\n",
       "                        <td id=\"T_0d050410_33d2_11eb_b18d_42010aa40002row30_col6\" class=\"data row30 col6\" >0</td>\n",
       "                        <td id=\"T_0d050410_33d2_11eb_b18d_42010aa40002row30_col7\" class=\"data row30 col7\" >2</td>\n",
       "                        <td id=\"T_0d050410_33d2_11eb_b18d_42010aa40002row30_col8\" class=\"data row30 col8\" >2</td>\n",
       "                        <td id=\"T_0d050410_33d2_11eb_b18d_42010aa40002row30_col9\" class=\"data row30 col9\" >2</td>\n",
       "                        <td id=\"T_0d050410_33d2_11eb_b18d_42010aa40002row30_col10\" class=\"data row30 col10\" >0</td>\n",
       "                        <td id=\"T_0d050410_33d2_11eb_b18d_42010aa40002row30_col11\" class=\"data row30 col11\" >0</td>\n",
       "            </tr>\n",
       "            <tr>\n",
       "                        <th id=\"T_0d050410_33d2_11eb_b18d_42010aa40002level0_row31\" class=\"row_heading level0 row31\" >31</th>\n",
       "                        <td id=\"T_0d050410_33d2_11eb_b18d_42010aa40002row31_col0\" class=\"data row31 col0\" >gsGxpk5uhy1XvaUSOrWTug</td>\n",
       "                        <td id=\"T_0d050410_33d2_11eb_b18d_42010aa40002row31_col1\" class=\"data row31 col1\" >2</td>\n",
       "                        <td id=\"T_0d050410_33d2_11eb_b18d_42010aa40002row31_col2\" class=\"data row31 col2\" >2</td>\n",
       "                        <td id=\"T_0d050410_33d2_11eb_b18d_42010aa40002row31_col3\" class=\"data row31 col3\" >1.38</td>\n",
       "                        <td id=\"T_0d050410_33d2_11eb_b18d_42010aa40002row31_col4\" class=\"data row31 col4\" >2</td>\n",
       "                        <td id=\"T_0d050410_33d2_11eb_b18d_42010aa40002row31_col5\" class=\"data row31 col5\" >2</td>\n",
       "                        <td id=\"T_0d050410_33d2_11eb_b18d_42010aa40002row31_col6\" class=\"data row31 col6\" >2</td>\n",
       "                        <td id=\"T_0d050410_33d2_11eb_b18d_42010aa40002row31_col7\" class=\"data row31 col7\" >2</td>\n",
       "                        <td id=\"T_0d050410_33d2_11eb_b18d_42010aa40002row31_col8\" class=\"data row31 col8\" >1</td>\n",
       "                        <td id=\"T_0d050410_33d2_11eb_b18d_42010aa40002row31_col9\" class=\"data row31 col9\" >1</td>\n",
       "                        <td id=\"T_0d050410_33d2_11eb_b18d_42010aa40002row31_col10\" class=\"data row31 col10\" >1</td>\n",
       "                        <td id=\"T_0d050410_33d2_11eb_b18d_42010aa40002row31_col11\" class=\"data row31 col11\" >0</td>\n",
       "            </tr>\n",
       "            <tr>\n",
       "                        <th id=\"T_0d050410_33d2_11eb_b18d_42010aa40002level0_row32\" class=\"row_heading level0 row32\" >32</th>\n",
       "                        <td id=\"T_0d050410_33d2_11eb_b18d_42010aa40002row32_col0\" class=\"data row32 col0\" >i4hvmTd4RH9HvOyG8ndYGw</td>\n",
       "                        <td id=\"T_0d050410_33d2_11eb_b18d_42010aa40002row32_col1\" class=\"data row32 col1\" >2</td>\n",
       "                        <td id=\"T_0d050410_33d2_11eb_b18d_42010aa40002row32_col2\" class=\"data row32 col2\" >2</td>\n",
       "                        <td id=\"T_0d050410_33d2_11eb_b18d_42010aa40002row32_col3\" class=\"data row32 col3\" >2.00</td>\n",
       "                        <td id=\"T_0d050410_33d2_11eb_b18d_42010aa40002row32_col4\" class=\"data row32 col4\" >2</td>\n",
       "                        <td id=\"T_0d050410_33d2_11eb_b18d_42010aa40002row32_col5\" class=\"data row32 col5\" >2</td>\n",
       "                        <td id=\"T_0d050410_33d2_11eb_b18d_42010aa40002row32_col6\" class=\"data row32 col6\" >2</td>\n",
       "                        <td id=\"T_0d050410_33d2_11eb_b18d_42010aa40002row32_col7\" class=\"data row32 col7\" >2</td>\n",
       "                        <td id=\"T_0d050410_33d2_11eb_b18d_42010aa40002row32_col8\" class=\"data row32 col8\" >2</td>\n",
       "                        <td id=\"T_0d050410_33d2_11eb_b18d_42010aa40002row32_col9\" class=\"data row32 col9\" >2</td>\n",
       "                        <td id=\"T_0d050410_33d2_11eb_b18d_42010aa40002row32_col10\" class=\"data row32 col10\" >2</td>\n",
       "                        <td id=\"T_0d050410_33d2_11eb_b18d_42010aa40002row32_col11\" class=\"data row32 col11\" >2</td>\n",
       "            </tr>\n",
       "            <tr>\n",
       "                        <th id=\"T_0d050410_33d2_11eb_b18d_42010aa40002level0_row33\" class=\"row_heading level0 row33\" >33</th>\n",
       "                        <td id=\"T_0d050410_33d2_11eb_b18d_42010aa40002row33_col0\" class=\"data row33 col0\" >iLxG2Oo8HNSZFvJvba4W6g</td>\n",
       "                        <td id=\"T_0d050410_33d2_11eb_b18d_42010aa40002row33_col1\" class=\"data row33 col1\" >1</td>\n",
       "                        <td id=\"T_0d050410_33d2_11eb_b18d_42010aa40002row33_col2\" class=\"data row33 col2\" >2</td>\n",
       "                        <td id=\"T_0d050410_33d2_11eb_b18d_42010aa40002row33_col3\" class=\"data row33 col3\" >1.62</td>\n",
       "                        <td id=\"T_0d050410_33d2_11eb_b18d_42010aa40002row33_col4\" class=\"data row33 col4\" >2</td>\n",
       "                        <td id=\"T_0d050410_33d2_11eb_b18d_42010aa40002row33_col5\" class=\"data row33 col5\" >2</td>\n",
       "                        <td id=\"T_0d050410_33d2_11eb_b18d_42010aa40002row33_col6\" class=\"data row33 col6\" >0</td>\n",
       "                        <td id=\"T_0d050410_33d2_11eb_b18d_42010aa40002row33_col7\" class=\"data row33 col7\" >2</td>\n",
       "                        <td id=\"T_0d050410_33d2_11eb_b18d_42010aa40002row33_col8\" class=\"data row33 col8\" >1</td>\n",
       "                        <td id=\"T_0d050410_33d2_11eb_b18d_42010aa40002row33_col9\" class=\"data row33 col9\" >2</td>\n",
       "                        <td id=\"T_0d050410_33d2_11eb_b18d_42010aa40002row33_col10\" class=\"data row33 col10\" >2</td>\n",
       "                        <td id=\"T_0d050410_33d2_11eb_b18d_42010aa40002row33_col11\" class=\"data row33 col11\" >2</td>\n",
       "            </tr>\n",
       "            <tr>\n",
       "                        <th id=\"T_0d050410_33d2_11eb_b18d_42010aa40002level0_row34\" class=\"row_heading level0 row34\" >34</th>\n",
       "                        <td id=\"T_0d050410_33d2_11eb_b18d_42010aa40002row34_col0\" class=\"data row34 col0\" >ikI3t6meCr4_DpHHZs6N2w</td>\n",
       "                        <td id=\"T_0d050410_33d2_11eb_b18d_42010aa40002row34_col1\" class=\"data row34 col1\" >1</td>\n",
       "                        <td id=\"T_0d050410_33d2_11eb_b18d_42010aa40002row34_col2\" class=\"data row34 col2\" >2</td>\n",
       "                        <td id=\"T_0d050410_33d2_11eb_b18d_42010aa40002row34_col3\" class=\"data row34 col3\" >1.00</td>\n",
       "                        <td id=\"T_0d050410_33d2_11eb_b18d_42010aa40002row34_col4\" class=\"data row34 col4\" >0</td>\n",
       "                        <td id=\"T_0d050410_33d2_11eb_b18d_42010aa40002row34_col5\" class=\"data row34 col5\" >0</td>\n",
       "                        <td id=\"T_0d050410_33d2_11eb_b18d_42010aa40002row34_col6\" class=\"data row34 col6\" >1</td>\n",
       "                        <td id=\"T_0d050410_33d2_11eb_b18d_42010aa40002row34_col7\" class=\"data row34 col7\" >2</td>\n",
       "                        <td id=\"T_0d050410_33d2_11eb_b18d_42010aa40002row34_col8\" class=\"data row34 col8\" >2</td>\n",
       "                        <td id=\"T_0d050410_33d2_11eb_b18d_42010aa40002row34_col9\" class=\"data row34 col9\" >1</td>\n",
       "                        <td id=\"T_0d050410_33d2_11eb_b18d_42010aa40002row34_col10\" class=\"data row34 col10\" >0</td>\n",
       "                        <td id=\"T_0d050410_33d2_11eb_b18d_42010aa40002row34_col11\" class=\"data row34 col11\" >2</td>\n",
       "            </tr>\n",
       "            <tr>\n",
       "                        <th id=\"T_0d050410_33d2_11eb_b18d_42010aa40002level0_row35\" class=\"row_heading level0 row35\" >35</th>\n",
       "                        <td id=\"T_0d050410_33d2_11eb_b18d_42010aa40002row35_col0\" class=\"data row35 col0\" >jLTJw1Gm9Q9KG-iS2PWkpA</td>\n",
       "                        <td id=\"T_0d050410_33d2_11eb_b18d_42010aa40002row35_col1\" class=\"data row35 col1\" >2</td>\n",
       "                        <td id=\"T_0d050410_33d2_11eb_b18d_42010aa40002row35_col2\" class=\"data row35 col2\" >2</td>\n",
       "                        <td id=\"T_0d050410_33d2_11eb_b18d_42010aa40002row35_col3\" class=\"data row35 col3\" >1.62</td>\n",
       "                        <td id=\"T_0d050410_33d2_11eb_b18d_42010aa40002row35_col4\" class=\"data row35 col4\" >1</td>\n",
       "                        <td id=\"T_0d050410_33d2_11eb_b18d_42010aa40002row35_col5\" class=\"data row35 col5\" >2</td>\n",
       "                        <td id=\"T_0d050410_33d2_11eb_b18d_42010aa40002row35_col6\" class=\"data row35 col6\" >2</td>\n",
       "                        <td id=\"T_0d050410_33d2_11eb_b18d_42010aa40002row35_col7\" class=\"data row35 col7\" >0</td>\n",
       "                        <td id=\"T_0d050410_33d2_11eb_b18d_42010aa40002row35_col8\" class=\"data row35 col8\" >2</td>\n",
       "                        <td id=\"T_0d050410_33d2_11eb_b18d_42010aa40002row35_col9\" class=\"data row35 col9\" >2</td>\n",
       "                        <td id=\"T_0d050410_33d2_11eb_b18d_42010aa40002row35_col10\" class=\"data row35 col10\" >2</td>\n",
       "                        <td id=\"T_0d050410_33d2_11eb_b18d_42010aa40002row35_col11\" class=\"data row35 col11\" >2</td>\n",
       "            </tr>\n",
       "            <tr>\n",
       "                        <th id=\"T_0d050410_33d2_11eb_b18d_42010aa40002level0_row36\" class=\"row_heading level0 row36\" >36</th>\n",
       "                        <td id=\"T_0d050410_33d2_11eb_b18d_42010aa40002row36_col0\" class=\"data row36 col0\" >joTw5858fDh3Y_rF0NDOsg</td>\n",
       "                        <td id=\"T_0d050410_33d2_11eb_b18d_42010aa40002row36_col1\" class=\"data row36 col1\" >0</td>\n",
       "                        <td id=\"T_0d050410_33d2_11eb_b18d_42010aa40002row36_col2\" class=\"data row36 col2\" >0</td>\n",
       "                        <td id=\"T_0d050410_33d2_11eb_b18d_42010aa40002row36_col3\" class=\"data row36 col3\" >0.88</td>\n",
       "                        <td id=\"T_0d050410_33d2_11eb_b18d_42010aa40002row36_col4\" class=\"data row36 col4\" >2</td>\n",
       "                        <td id=\"T_0d050410_33d2_11eb_b18d_42010aa40002row36_col5\" class=\"data row36 col5\" >2</td>\n",
       "                        <td id=\"T_0d050410_33d2_11eb_b18d_42010aa40002row36_col6\" class=\"data row36 col6\" >0</td>\n",
       "                        <td id=\"T_0d050410_33d2_11eb_b18d_42010aa40002row36_col7\" class=\"data row36 col7\" >0</td>\n",
       "                        <td id=\"T_0d050410_33d2_11eb_b18d_42010aa40002row36_col8\" class=\"data row36 col8\" >2</td>\n",
       "                        <td id=\"T_0d050410_33d2_11eb_b18d_42010aa40002row36_col9\" class=\"data row36 col9\" >1</td>\n",
       "                        <td id=\"T_0d050410_33d2_11eb_b18d_42010aa40002row36_col10\" class=\"data row36 col10\" >0</td>\n",
       "                        <td id=\"T_0d050410_33d2_11eb_b18d_42010aa40002row36_col11\" class=\"data row36 col11\" >0</td>\n",
       "            </tr>\n",
       "            <tr>\n",
       "                        <th id=\"T_0d050410_33d2_11eb_b18d_42010aa40002level0_row37\" class=\"row_heading level0 row37\" >37</th>\n",
       "                        <td id=\"T_0d050410_33d2_11eb_b18d_42010aa40002row37_col0\" class=\"data row37 col0\" >k9RUMKASTB6QZ-NkfnN8Fg</td>\n",
       "                        <td id=\"T_0d050410_33d2_11eb_b18d_42010aa40002row37_col1\" class=\"data row37 col1\" >2</td>\n",
       "                        <td id=\"T_0d050410_33d2_11eb_b18d_42010aa40002row37_col2\" class=\"data row37 col2\" >2</td>\n",
       "                        <td id=\"T_0d050410_33d2_11eb_b18d_42010aa40002row37_col3\" class=\"data row37 col3\" >1.50</td>\n",
       "                        <td id=\"T_0d050410_33d2_11eb_b18d_42010aa40002row37_col4\" class=\"data row37 col4\" >2</td>\n",
       "                        <td id=\"T_0d050410_33d2_11eb_b18d_42010aa40002row37_col5\" class=\"data row37 col5\" >2</td>\n",
       "                        <td id=\"T_0d050410_33d2_11eb_b18d_42010aa40002row37_col6\" class=\"data row37 col6\" >1</td>\n",
       "                        <td id=\"T_0d050410_33d2_11eb_b18d_42010aa40002row37_col7\" class=\"data row37 col7\" >1</td>\n",
       "                        <td id=\"T_0d050410_33d2_11eb_b18d_42010aa40002row37_col8\" class=\"data row37 col8\" >2</td>\n",
       "                        <td id=\"T_0d050410_33d2_11eb_b18d_42010aa40002row37_col9\" class=\"data row37 col9\" >1</td>\n",
       "                        <td id=\"T_0d050410_33d2_11eb_b18d_42010aa40002row37_col10\" class=\"data row37 col10\" >1</td>\n",
       "                        <td id=\"T_0d050410_33d2_11eb_b18d_42010aa40002row37_col11\" class=\"data row37 col11\" >2</td>\n",
       "            </tr>\n",
       "            <tr>\n",
       "                        <th id=\"T_0d050410_33d2_11eb_b18d_42010aa40002level0_row38\" class=\"row_heading level0 row38\" >38</th>\n",
       "                        <td id=\"T_0d050410_33d2_11eb_b18d_42010aa40002row38_col0\" class=\"data row38 col0\" >kUuMZR8fPZjiCVcwPoNKlg</td>\n",
       "                        <td id=\"T_0d050410_33d2_11eb_b18d_42010aa40002row38_col1\" class=\"data row38 col1\" >2</td>\n",
       "                        <td id=\"T_0d050410_33d2_11eb_b18d_42010aa40002row38_col2\" class=\"data row38 col2\" >2</td>\n",
       "                        <td id=\"T_0d050410_33d2_11eb_b18d_42010aa40002row38_col3\" class=\"data row38 col3\" >1.38</td>\n",
       "                        <td id=\"T_0d050410_33d2_11eb_b18d_42010aa40002row38_col4\" class=\"data row38 col4\" >2</td>\n",
       "                        <td id=\"T_0d050410_33d2_11eb_b18d_42010aa40002row38_col5\" class=\"data row38 col5\" >2</td>\n",
       "                        <td id=\"T_0d050410_33d2_11eb_b18d_42010aa40002row38_col6\" class=\"data row38 col6\" >2</td>\n",
       "                        <td id=\"T_0d050410_33d2_11eb_b18d_42010aa40002row38_col7\" class=\"data row38 col7\" >2</td>\n",
       "                        <td id=\"T_0d050410_33d2_11eb_b18d_42010aa40002row38_col8\" class=\"data row38 col8\" >0</td>\n",
       "                        <td id=\"T_0d050410_33d2_11eb_b18d_42010aa40002row38_col9\" class=\"data row38 col9\" >1</td>\n",
       "                        <td id=\"T_0d050410_33d2_11eb_b18d_42010aa40002row38_col10\" class=\"data row38 col10\" >0</td>\n",
       "                        <td id=\"T_0d050410_33d2_11eb_b18d_42010aa40002row38_col11\" class=\"data row38 col11\" >2</td>\n",
       "            </tr>\n",
       "            <tr>\n",
       "                        <th id=\"T_0d050410_33d2_11eb_b18d_42010aa40002level0_row39\" class=\"row_heading level0 row39\" >39</th>\n",
       "                        <td id=\"T_0d050410_33d2_11eb_b18d_42010aa40002row39_col0\" class=\"data row39 col0\" >keJGpYownJ-j2zQJ5huvqg</td>\n",
       "                        <td id=\"T_0d050410_33d2_11eb_b18d_42010aa40002row39_col1\" class=\"data row39 col1\" >2</td>\n",
       "                        <td id=\"T_0d050410_33d2_11eb_b18d_42010aa40002row39_col2\" class=\"data row39 col2\" >2</td>\n",
       "                        <td id=\"T_0d050410_33d2_11eb_b18d_42010aa40002row39_col3\" class=\"data row39 col3\" >1.75</td>\n",
       "                        <td id=\"T_0d050410_33d2_11eb_b18d_42010aa40002row39_col4\" class=\"data row39 col4\" >2</td>\n",
       "                        <td id=\"T_0d050410_33d2_11eb_b18d_42010aa40002row39_col5\" class=\"data row39 col5\" >2</td>\n",
       "                        <td id=\"T_0d050410_33d2_11eb_b18d_42010aa40002row39_col6\" class=\"data row39 col6\" >2</td>\n",
       "                        <td id=\"T_0d050410_33d2_11eb_b18d_42010aa40002row39_col7\" class=\"data row39 col7\" >2</td>\n",
       "                        <td id=\"T_0d050410_33d2_11eb_b18d_42010aa40002row39_col8\" class=\"data row39 col8\" >2</td>\n",
       "                        <td id=\"T_0d050410_33d2_11eb_b18d_42010aa40002row39_col9\" class=\"data row39 col9\" >0</td>\n",
       "                        <td id=\"T_0d050410_33d2_11eb_b18d_42010aa40002row39_col10\" class=\"data row39 col10\" >2</td>\n",
       "                        <td id=\"T_0d050410_33d2_11eb_b18d_42010aa40002row39_col11\" class=\"data row39 col11\" >2</td>\n",
       "            </tr>\n",
       "            <tr>\n",
       "                        <th id=\"T_0d050410_33d2_11eb_b18d_42010aa40002level0_row40\" class=\"row_heading level0 row40\" >40</th>\n",
       "                        <td id=\"T_0d050410_33d2_11eb_b18d_42010aa40002row40_col0\" class=\"data row40 col0\" >lC1bj0QhHp8cyzUtvrmeBQ</td>\n",
       "                        <td id=\"T_0d050410_33d2_11eb_b18d_42010aa40002row40_col1\" class=\"data row40 col1\" >2</td>\n",
       "                        <td id=\"T_0d050410_33d2_11eb_b18d_42010aa40002row40_col2\" class=\"data row40 col2\" >2</td>\n",
       "                        <td id=\"T_0d050410_33d2_11eb_b18d_42010aa40002row40_col3\" class=\"data row40 col3\" >2.00</td>\n",
       "                        <td id=\"T_0d050410_33d2_11eb_b18d_42010aa40002row40_col4\" class=\"data row40 col4\" >2</td>\n",
       "                        <td id=\"T_0d050410_33d2_11eb_b18d_42010aa40002row40_col5\" class=\"data row40 col5\" >2</td>\n",
       "                        <td id=\"T_0d050410_33d2_11eb_b18d_42010aa40002row40_col6\" class=\"data row40 col6\" >2</td>\n",
       "                        <td id=\"T_0d050410_33d2_11eb_b18d_42010aa40002row40_col7\" class=\"data row40 col7\" >2</td>\n",
       "                        <td id=\"T_0d050410_33d2_11eb_b18d_42010aa40002row40_col8\" class=\"data row40 col8\" >2</td>\n",
       "                        <td id=\"T_0d050410_33d2_11eb_b18d_42010aa40002row40_col9\" class=\"data row40 col9\" >2</td>\n",
       "                        <td id=\"T_0d050410_33d2_11eb_b18d_42010aa40002row40_col10\" class=\"data row40 col10\" >2</td>\n",
       "                        <td id=\"T_0d050410_33d2_11eb_b18d_42010aa40002row40_col11\" class=\"data row40 col11\" >2</td>\n",
       "            </tr>\n",
       "            <tr>\n",
       "                        <th id=\"T_0d050410_33d2_11eb_b18d_42010aa40002level0_row41\" class=\"row_heading level0 row41\" >41</th>\n",
       "                        <td id=\"T_0d050410_33d2_11eb_b18d_42010aa40002row41_col0\" class=\"data row41 col0\" >mBeZ3dQzUPV60Oa26k3qHw</td>\n",
       "                        <td id=\"T_0d050410_33d2_11eb_b18d_42010aa40002row41_col1\" class=\"data row41 col1\" >2</td>\n",
       "                        <td id=\"T_0d050410_33d2_11eb_b18d_42010aa40002row41_col2\" class=\"data row41 col2\" >2</td>\n",
       "                        <td id=\"T_0d050410_33d2_11eb_b18d_42010aa40002row41_col3\" class=\"data row41 col3\" >1.88</td>\n",
       "                        <td id=\"T_0d050410_33d2_11eb_b18d_42010aa40002row41_col4\" class=\"data row41 col4\" >1</td>\n",
       "                        <td id=\"T_0d050410_33d2_11eb_b18d_42010aa40002row41_col5\" class=\"data row41 col5\" >2</td>\n",
       "                        <td id=\"T_0d050410_33d2_11eb_b18d_42010aa40002row41_col6\" class=\"data row41 col6\" >2</td>\n",
       "                        <td id=\"T_0d050410_33d2_11eb_b18d_42010aa40002row41_col7\" class=\"data row41 col7\" >2</td>\n",
       "                        <td id=\"T_0d050410_33d2_11eb_b18d_42010aa40002row41_col8\" class=\"data row41 col8\" >2</td>\n",
       "                        <td id=\"T_0d050410_33d2_11eb_b18d_42010aa40002row41_col9\" class=\"data row41 col9\" >2</td>\n",
       "                        <td id=\"T_0d050410_33d2_11eb_b18d_42010aa40002row41_col10\" class=\"data row41 col10\" >2</td>\n",
       "                        <td id=\"T_0d050410_33d2_11eb_b18d_42010aa40002row41_col11\" class=\"data row41 col11\" >2</td>\n",
       "            </tr>\n",
       "            <tr>\n",
       "                        <th id=\"T_0d050410_33d2_11eb_b18d_42010aa40002level0_row42\" class=\"row_heading level0 row42\" >42</th>\n",
       "                        <td id=\"T_0d050410_33d2_11eb_b18d_42010aa40002row42_col0\" class=\"data row42 col0\" >mSibSn9jCe8zKNyPOhyysg</td>\n",
       "                        <td id=\"T_0d050410_33d2_11eb_b18d_42010aa40002row42_col1\" class=\"data row42 col1\" >2</td>\n",
       "                        <td id=\"T_0d050410_33d2_11eb_b18d_42010aa40002row42_col2\" class=\"data row42 col2\" >2</td>\n",
       "                        <td id=\"T_0d050410_33d2_11eb_b18d_42010aa40002row42_col3\" class=\"data row42 col3\" >1.12</td>\n",
       "                        <td id=\"T_0d050410_33d2_11eb_b18d_42010aa40002row42_col4\" class=\"data row42 col4\" >1</td>\n",
       "                        <td id=\"T_0d050410_33d2_11eb_b18d_42010aa40002row42_col5\" class=\"data row42 col5\" >2</td>\n",
       "                        <td id=\"T_0d050410_33d2_11eb_b18d_42010aa40002row42_col6\" class=\"data row42 col6\" >2</td>\n",
       "                        <td id=\"T_0d050410_33d2_11eb_b18d_42010aa40002row42_col7\" class=\"data row42 col7\" >0</td>\n",
       "                        <td id=\"T_0d050410_33d2_11eb_b18d_42010aa40002row42_col8\" class=\"data row42 col8\" >2</td>\n",
       "                        <td id=\"T_0d050410_33d2_11eb_b18d_42010aa40002row42_col9\" class=\"data row42 col9\" >2</td>\n",
       "                        <td id=\"T_0d050410_33d2_11eb_b18d_42010aa40002row42_col10\" class=\"data row42 col10\" >0</td>\n",
       "                        <td id=\"T_0d050410_33d2_11eb_b18d_42010aa40002row42_col11\" class=\"data row42 col11\" >0</td>\n",
       "            </tr>\n",
       "            <tr>\n",
       "                        <th id=\"T_0d050410_33d2_11eb_b18d_42010aa40002level0_row43\" class=\"row_heading level0 row43\" >43</th>\n",
       "                        <td id=\"T_0d050410_33d2_11eb_b18d_42010aa40002row43_col0\" class=\"data row43 col0\" >mhMhYsmJB4t0-ok1ABvNBg</td>\n",
       "                        <td id=\"T_0d050410_33d2_11eb_b18d_42010aa40002row43_col1\" class=\"data row43 col1\" >2</td>\n",
       "                        <td id=\"T_0d050410_33d2_11eb_b18d_42010aa40002row43_col2\" class=\"data row43 col2\" >2</td>\n",
       "                        <td id=\"T_0d050410_33d2_11eb_b18d_42010aa40002row43_col3\" class=\"data row43 col3\" >1.62</td>\n",
       "                        <td id=\"T_0d050410_33d2_11eb_b18d_42010aa40002row43_col4\" class=\"data row43 col4\" >2</td>\n",
       "                        <td id=\"T_0d050410_33d2_11eb_b18d_42010aa40002row43_col5\" class=\"data row43 col5\" >2</td>\n",
       "                        <td id=\"T_0d050410_33d2_11eb_b18d_42010aa40002row43_col6\" class=\"data row43 col6\" >1</td>\n",
       "                        <td id=\"T_0d050410_33d2_11eb_b18d_42010aa40002row43_col7\" class=\"data row43 col7\" >2</td>\n",
       "                        <td id=\"T_0d050410_33d2_11eb_b18d_42010aa40002row43_col8\" class=\"data row43 col8\" >0</td>\n",
       "                        <td id=\"T_0d050410_33d2_11eb_b18d_42010aa40002row43_col9\" class=\"data row43 col9\" >2</td>\n",
       "                        <td id=\"T_0d050410_33d2_11eb_b18d_42010aa40002row43_col10\" class=\"data row43 col10\" >2</td>\n",
       "                        <td id=\"T_0d050410_33d2_11eb_b18d_42010aa40002row43_col11\" class=\"data row43 col11\" >2</td>\n",
       "            </tr>\n",
       "            <tr>\n",
       "                        <th id=\"T_0d050410_33d2_11eb_b18d_42010aa40002level0_row44\" class=\"row_heading level0 row44\" >44</th>\n",
       "                        <td id=\"T_0d050410_33d2_11eb_b18d_42010aa40002row44_col0\" class=\"data row44 col0\" >mmKrNeBIIevuNljAWVNgXg</td>\n",
       "                        <td id=\"T_0d050410_33d2_11eb_b18d_42010aa40002row44_col1\" class=\"data row44 col1\" >2</td>\n",
       "                        <td id=\"T_0d050410_33d2_11eb_b18d_42010aa40002row44_col2\" class=\"data row44 col2\" >2</td>\n",
       "                        <td id=\"T_0d050410_33d2_11eb_b18d_42010aa40002row44_col3\" class=\"data row44 col3\" >1.75</td>\n",
       "                        <td id=\"T_0d050410_33d2_11eb_b18d_42010aa40002row44_col4\" class=\"data row44 col4\" >2</td>\n",
       "                        <td id=\"T_0d050410_33d2_11eb_b18d_42010aa40002row44_col5\" class=\"data row44 col5\" >2</td>\n",
       "                        <td id=\"T_0d050410_33d2_11eb_b18d_42010aa40002row44_col6\" class=\"data row44 col6\" >2</td>\n",
       "                        <td id=\"T_0d050410_33d2_11eb_b18d_42010aa40002row44_col7\" class=\"data row44 col7\" >2</td>\n",
       "                        <td id=\"T_0d050410_33d2_11eb_b18d_42010aa40002row44_col8\" class=\"data row44 col8\" >2</td>\n",
       "                        <td id=\"T_0d050410_33d2_11eb_b18d_42010aa40002row44_col9\" class=\"data row44 col9\" >2</td>\n",
       "                        <td id=\"T_0d050410_33d2_11eb_b18d_42010aa40002row44_col10\" class=\"data row44 col10\" >2</td>\n",
       "                        <td id=\"T_0d050410_33d2_11eb_b18d_42010aa40002row44_col11\" class=\"data row44 col11\" >0</td>\n",
       "            </tr>\n",
       "            <tr>\n",
       "                        <th id=\"T_0d050410_33d2_11eb_b18d_42010aa40002level0_row45\" class=\"row_heading level0 row45\" >45</th>\n",
       "                        <td id=\"T_0d050410_33d2_11eb_b18d_42010aa40002row45_col0\" class=\"data row45 col0\" >nGuhjKrZjqvB2xodGo7m7Q</td>\n",
       "                        <td id=\"T_0d050410_33d2_11eb_b18d_42010aa40002row45_col1\" class=\"data row45 col1\" >0</td>\n",
       "                        <td id=\"T_0d050410_33d2_11eb_b18d_42010aa40002row45_col2\" class=\"data row45 col2\" >0</td>\n",
       "                        <td id=\"T_0d050410_33d2_11eb_b18d_42010aa40002row45_col3\" class=\"data row45 col3\" >0.88</td>\n",
       "                        <td id=\"T_0d050410_33d2_11eb_b18d_42010aa40002row45_col4\" class=\"data row45 col4\" >0</td>\n",
       "                        <td id=\"T_0d050410_33d2_11eb_b18d_42010aa40002row45_col5\" class=\"data row45 col5\" >2</td>\n",
       "                        <td id=\"T_0d050410_33d2_11eb_b18d_42010aa40002row45_col6\" class=\"data row45 col6\" >2</td>\n",
       "                        <td id=\"T_0d050410_33d2_11eb_b18d_42010aa40002row45_col7\" class=\"data row45 col7\" >1</td>\n",
       "                        <td id=\"T_0d050410_33d2_11eb_b18d_42010aa40002row45_col8\" class=\"data row45 col8\" >0</td>\n",
       "                        <td id=\"T_0d050410_33d2_11eb_b18d_42010aa40002row45_col9\" class=\"data row45 col9\" >0</td>\n",
       "                        <td id=\"T_0d050410_33d2_11eb_b18d_42010aa40002row45_col10\" class=\"data row45 col10\" >2</td>\n",
       "                        <td id=\"T_0d050410_33d2_11eb_b18d_42010aa40002row45_col11\" class=\"data row45 col11\" >0</td>\n",
       "            </tr>\n",
       "            <tr>\n",
       "                        <th id=\"T_0d050410_33d2_11eb_b18d_42010aa40002level0_row46\" class=\"row_heading level0 row46\" >46</th>\n",
       "                        <td id=\"T_0d050410_33d2_11eb_b18d_42010aa40002row46_col0\" class=\"data row46 col0\" >nm9aJr7qQadbkTP6lnXB1Q</td>\n",
       "                        <td id=\"T_0d050410_33d2_11eb_b18d_42010aa40002row46_col1\" class=\"data row46 col1\" >0</td>\n",
       "                        <td id=\"T_0d050410_33d2_11eb_b18d_42010aa40002row46_col2\" class=\"data row46 col2\" >2</td>\n",
       "                        <td id=\"T_0d050410_33d2_11eb_b18d_42010aa40002row46_col3\" class=\"data row46 col3\" >1.25</td>\n",
       "                        <td id=\"T_0d050410_33d2_11eb_b18d_42010aa40002row46_col4\" class=\"data row46 col4\" >2</td>\n",
       "                        <td id=\"T_0d050410_33d2_11eb_b18d_42010aa40002row46_col5\" class=\"data row46 col5\" >0</td>\n",
       "                        <td id=\"T_0d050410_33d2_11eb_b18d_42010aa40002row46_col6\" class=\"data row46 col6\" >2</td>\n",
       "                        <td id=\"T_0d050410_33d2_11eb_b18d_42010aa40002row46_col7\" class=\"data row46 col7\" >2</td>\n",
       "                        <td id=\"T_0d050410_33d2_11eb_b18d_42010aa40002row46_col8\" class=\"data row46 col8\" >1</td>\n",
       "                        <td id=\"T_0d050410_33d2_11eb_b18d_42010aa40002row46_col9\" class=\"data row46 col9\" >1</td>\n",
       "                        <td id=\"T_0d050410_33d2_11eb_b18d_42010aa40002row46_col10\" class=\"data row46 col10\" >1</td>\n",
       "                        <td id=\"T_0d050410_33d2_11eb_b18d_42010aa40002row46_col11\" class=\"data row46 col11\" >1</td>\n",
       "            </tr>\n",
       "            <tr>\n",
       "                        <th id=\"T_0d050410_33d2_11eb_b18d_42010aa40002level0_row47\" class=\"row_heading level0 row47\" >47</th>\n",
       "                        <td id=\"T_0d050410_33d2_11eb_b18d_42010aa40002row47_col0\" class=\"data row47 col0\" >o2O4qWlo4O0aI5oEZsUHBQ</td>\n",
       "                        <td id=\"T_0d050410_33d2_11eb_b18d_42010aa40002row47_col1\" class=\"data row47 col1\" >2</td>\n",
       "                        <td id=\"T_0d050410_33d2_11eb_b18d_42010aa40002row47_col2\" class=\"data row47 col2\" >2</td>\n",
       "                        <td id=\"T_0d050410_33d2_11eb_b18d_42010aa40002row47_col3\" class=\"data row47 col3\" >1.88</td>\n",
       "                        <td id=\"T_0d050410_33d2_11eb_b18d_42010aa40002row47_col4\" class=\"data row47 col4\" >2</td>\n",
       "                        <td id=\"T_0d050410_33d2_11eb_b18d_42010aa40002row47_col5\" class=\"data row47 col5\" >2</td>\n",
       "                        <td id=\"T_0d050410_33d2_11eb_b18d_42010aa40002row47_col6\" class=\"data row47 col6\" >2</td>\n",
       "                        <td id=\"T_0d050410_33d2_11eb_b18d_42010aa40002row47_col7\" class=\"data row47 col7\" >2</td>\n",
       "                        <td id=\"T_0d050410_33d2_11eb_b18d_42010aa40002row47_col8\" class=\"data row47 col8\" >2</td>\n",
       "                        <td id=\"T_0d050410_33d2_11eb_b18d_42010aa40002row47_col9\" class=\"data row47 col9\" >2</td>\n",
       "                        <td id=\"T_0d050410_33d2_11eb_b18d_42010aa40002row47_col10\" class=\"data row47 col10\" >2</td>\n",
       "                        <td id=\"T_0d050410_33d2_11eb_b18d_42010aa40002row47_col11\" class=\"data row47 col11\" >1</td>\n",
       "            </tr>\n",
       "            <tr>\n",
       "                        <th id=\"T_0d050410_33d2_11eb_b18d_42010aa40002level0_row48\" class=\"row_heading level0 row48\" >48</th>\n",
       "                        <td id=\"T_0d050410_33d2_11eb_b18d_42010aa40002row48_col0\" class=\"data row48 col0\" >oAq3-dXyDT3k4Mluc1ftTA</td>\n",
       "                        <td id=\"T_0d050410_33d2_11eb_b18d_42010aa40002row48_col1\" class=\"data row48 col1\" >1</td>\n",
       "                        <td id=\"T_0d050410_33d2_11eb_b18d_42010aa40002row48_col2\" class=\"data row48 col2\" >2</td>\n",
       "                        <td id=\"T_0d050410_33d2_11eb_b18d_42010aa40002row48_col3\" class=\"data row48 col3\" >1.50</td>\n",
       "                        <td id=\"T_0d050410_33d2_11eb_b18d_42010aa40002row48_col4\" class=\"data row48 col4\" >2</td>\n",
       "                        <td id=\"T_0d050410_33d2_11eb_b18d_42010aa40002row48_col5\" class=\"data row48 col5\" >1</td>\n",
       "                        <td id=\"T_0d050410_33d2_11eb_b18d_42010aa40002row48_col6\" class=\"data row48 col6\" >0</td>\n",
       "                        <td id=\"T_0d050410_33d2_11eb_b18d_42010aa40002row48_col7\" class=\"data row48 col7\" >1</td>\n",
       "                        <td id=\"T_0d050410_33d2_11eb_b18d_42010aa40002row48_col8\" class=\"data row48 col8\" >2</td>\n",
       "                        <td id=\"T_0d050410_33d2_11eb_b18d_42010aa40002row48_col9\" class=\"data row48 col9\" >2</td>\n",
       "                        <td id=\"T_0d050410_33d2_11eb_b18d_42010aa40002row48_col10\" class=\"data row48 col10\" >2</td>\n",
       "                        <td id=\"T_0d050410_33d2_11eb_b18d_42010aa40002row48_col11\" class=\"data row48 col11\" >2</td>\n",
       "            </tr>\n",
       "            <tr>\n",
       "                        <th id=\"T_0d050410_33d2_11eb_b18d_42010aa40002level0_row49\" class=\"row_heading level0 row49\" >49</th>\n",
       "                        <td id=\"T_0d050410_33d2_11eb_b18d_42010aa40002row49_col0\" class=\"data row49 col0\" >oDM09XMN-FG0ii_gdVMrTw</td>\n",
       "                        <td id=\"T_0d050410_33d2_11eb_b18d_42010aa40002row49_col1\" class=\"data row49 col1\" >0</td>\n",
       "                        <td id=\"T_0d050410_33d2_11eb_b18d_42010aa40002row49_col2\" class=\"data row49 col2\" >0</td>\n",
       "                        <td id=\"T_0d050410_33d2_11eb_b18d_42010aa40002row49_col3\" class=\"data row49 col3\" >0.25</td>\n",
       "                        <td id=\"T_0d050410_33d2_11eb_b18d_42010aa40002row49_col4\" class=\"data row49 col4\" >0</td>\n",
       "                        <td id=\"T_0d050410_33d2_11eb_b18d_42010aa40002row49_col5\" class=\"data row49 col5\" >0</td>\n",
       "                        <td id=\"T_0d050410_33d2_11eb_b18d_42010aa40002row49_col6\" class=\"data row49 col6\" >0</td>\n",
       "                        <td id=\"T_0d050410_33d2_11eb_b18d_42010aa40002row49_col7\" class=\"data row49 col7\" >0</td>\n",
       "                        <td id=\"T_0d050410_33d2_11eb_b18d_42010aa40002row49_col8\" class=\"data row49 col8\" >0</td>\n",
       "                        <td id=\"T_0d050410_33d2_11eb_b18d_42010aa40002row49_col9\" class=\"data row49 col9\" >0</td>\n",
       "                        <td id=\"T_0d050410_33d2_11eb_b18d_42010aa40002row49_col10\" class=\"data row49 col10\" >2</td>\n",
       "                        <td id=\"T_0d050410_33d2_11eb_b18d_42010aa40002row49_col11\" class=\"data row49 col11\" >0</td>\n",
       "            </tr>\n",
       "            <tr>\n",
       "                        <th id=\"T_0d050410_33d2_11eb_b18d_42010aa40002level0_row50\" class=\"row_heading level0 row50\" >50</th>\n",
       "                        <td id=\"T_0d050410_33d2_11eb_b18d_42010aa40002row50_col0\" class=\"data row50 col0\" >oM6TsEcgj4i9McivZnu5EA</td>\n",
       "                        <td id=\"T_0d050410_33d2_11eb_b18d_42010aa40002row50_col1\" class=\"data row50 col1\" >2</td>\n",
       "                        <td id=\"T_0d050410_33d2_11eb_b18d_42010aa40002row50_col2\" class=\"data row50 col2\" >2</td>\n",
       "                        <td id=\"T_0d050410_33d2_11eb_b18d_42010aa40002row50_col3\" class=\"data row50 col3\" >1.75</td>\n",
       "                        <td id=\"T_0d050410_33d2_11eb_b18d_42010aa40002row50_col4\" class=\"data row50 col4\" >2</td>\n",
       "                        <td id=\"T_0d050410_33d2_11eb_b18d_42010aa40002row50_col5\" class=\"data row50 col5\" >2</td>\n",
       "                        <td id=\"T_0d050410_33d2_11eb_b18d_42010aa40002row50_col6\" class=\"data row50 col6\" >2</td>\n",
       "                        <td id=\"T_0d050410_33d2_11eb_b18d_42010aa40002row50_col7\" class=\"data row50 col7\" >2</td>\n",
       "                        <td id=\"T_0d050410_33d2_11eb_b18d_42010aa40002row50_col8\" class=\"data row50 col8\" >1</td>\n",
       "                        <td id=\"T_0d050410_33d2_11eb_b18d_42010aa40002row50_col9\" class=\"data row50 col9\" >1</td>\n",
       "                        <td id=\"T_0d050410_33d2_11eb_b18d_42010aa40002row50_col10\" class=\"data row50 col10\" >2</td>\n",
       "                        <td id=\"T_0d050410_33d2_11eb_b18d_42010aa40002row50_col11\" class=\"data row50 col11\" >2</td>\n",
       "            </tr>\n",
       "            <tr>\n",
       "                        <th id=\"T_0d050410_33d2_11eb_b18d_42010aa40002level0_row51\" class=\"row_heading level0 row51\" >51</th>\n",
       "                        <td id=\"T_0d050410_33d2_11eb_b18d_42010aa40002row51_col0\" class=\"data row51 col0\" >on5wA9xgE-HZyBp19-yxsg</td>\n",
       "                        <td id=\"T_0d050410_33d2_11eb_b18d_42010aa40002row51_col1\" class=\"data row51 col1\" >1</td>\n",
       "                        <td id=\"T_0d050410_33d2_11eb_b18d_42010aa40002row51_col2\" class=\"data row51 col2\" >0</td>\n",
       "                        <td id=\"T_0d050410_33d2_11eb_b18d_42010aa40002row51_col3\" class=\"data row51 col3\" >1.12</td>\n",
       "                        <td id=\"T_0d050410_33d2_11eb_b18d_42010aa40002row51_col4\" class=\"data row51 col4\" >0</td>\n",
       "                        <td id=\"T_0d050410_33d2_11eb_b18d_42010aa40002row51_col5\" class=\"data row51 col5\" >1</td>\n",
       "                        <td id=\"T_0d050410_33d2_11eb_b18d_42010aa40002row51_col6\" class=\"data row51 col6\" >2</td>\n",
       "                        <td id=\"T_0d050410_33d2_11eb_b18d_42010aa40002row51_col7\" class=\"data row51 col7\" >0</td>\n",
       "                        <td id=\"T_0d050410_33d2_11eb_b18d_42010aa40002row51_col8\" class=\"data row51 col8\" >2</td>\n",
       "                        <td id=\"T_0d050410_33d2_11eb_b18d_42010aa40002row51_col9\" class=\"data row51 col9\" >2</td>\n",
       "                        <td id=\"T_0d050410_33d2_11eb_b18d_42010aa40002row51_col10\" class=\"data row51 col10\" >0</td>\n",
       "                        <td id=\"T_0d050410_33d2_11eb_b18d_42010aa40002row51_col11\" class=\"data row51 col11\" >2</td>\n",
       "            </tr>\n",
       "            <tr>\n",
       "                        <th id=\"T_0d050410_33d2_11eb_b18d_42010aa40002level0_row52\" class=\"row_heading level0 row52\" >52</th>\n",
       "                        <td id=\"T_0d050410_33d2_11eb_b18d_42010aa40002row52_col0\" class=\"data row52 col0\" >os_m94NtcG7JQg095WdggQ</td>\n",
       "                        <td id=\"T_0d050410_33d2_11eb_b18d_42010aa40002row52_col1\" class=\"data row52 col1\" >2</td>\n",
       "                        <td id=\"T_0d050410_33d2_11eb_b18d_42010aa40002row52_col2\" class=\"data row52 col2\" >2</td>\n",
       "                        <td id=\"T_0d050410_33d2_11eb_b18d_42010aa40002row52_col3\" class=\"data row52 col3\" >2.00</td>\n",
       "                        <td id=\"T_0d050410_33d2_11eb_b18d_42010aa40002row52_col4\" class=\"data row52 col4\" >2</td>\n",
       "                        <td id=\"T_0d050410_33d2_11eb_b18d_42010aa40002row52_col5\" class=\"data row52 col5\" >2</td>\n",
       "                        <td id=\"T_0d050410_33d2_11eb_b18d_42010aa40002row52_col6\" class=\"data row52 col6\" >2</td>\n",
       "                        <td id=\"T_0d050410_33d2_11eb_b18d_42010aa40002row52_col7\" class=\"data row52 col7\" >2</td>\n",
       "                        <td id=\"T_0d050410_33d2_11eb_b18d_42010aa40002row52_col8\" class=\"data row52 col8\" >2</td>\n",
       "                        <td id=\"T_0d050410_33d2_11eb_b18d_42010aa40002row52_col9\" class=\"data row52 col9\" >2</td>\n",
       "                        <td id=\"T_0d050410_33d2_11eb_b18d_42010aa40002row52_col10\" class=\"data row52 col10\" >2</td>\n",
       "                        <td id=\"T_0d050410_33d2_11eb_b18d_42010aa40002row52_col11\" class=\"data row52 col11\" >2</td>\n",
       "            </tr>\n",
       "            <tr>\n",
       "                        <th id=\"T_0d050410_33d2_11eb_b18d_42010aa40002level0_row53\" class=\"row_heading level0 row53\" >53</th>\n",
       "                        <td id=\"T_0d050410_33d2_11eb_b18d_42010aa40002row53_col0\" class=\"data row53 col0\" >p0bg7la5-gaUJyBDjuOCxA</td>\n",
       "                        <td id=\"T_0d050410_33d2_11eb_b18d_42010aa40002row53_col1\" class=\"data row53 col1\" >2</td>\n",
       "                        <td id=\"T_0d050410_33d2_11eb_b18d_42010aa40002row53_col2\" class=\"data row53 col2\" >2</td>\n",
       "                        <td id=\"T_0d050410_33d2_11eb_b18d_42010aa40002row53_col3\" class=\"data row53 col3\" >1.75</td>\n",
       "                        <td id=\"T_0d050410_33d2_11eb_b18d_42010aa40002row53_col4\" class=\"data row53 col4\" >2</td>\n",
       "                        <td id=\"T_0d050410_33d2_11eb_b18d_42010aa40002row53_col5\" class=\"data row53 col5\" >2</td>\n",
       "                        <td id=\"T_0d050410_33d2_11eb_b18d_42010aa40002row53_col6\" class=\"data row53 col6\" >2</td>\n",
       "                        <td id=\"T_0d050410_33d2_11eb_b18d_42010aa40002row53_col7\" class=\"data row53 col7\" >0</td>\n",
       "                        <td id=\"T_0d050410_33d2_11eb_b18d_42010aa40002row53_col8\" class=\"data row53 col8\" >2</td>\n",
       "                        <td id=\"T_0d050410_33d2_11eb_b18d_42010aa40002row53_col9\" class=\"data row53 col9\" >2</td>\n",
       "                        <td id=\"T_0d050410_33d2_11eb_b18d_42010aa40002row53_col10\" class=\"data row53 col10\" >2</td>\n",
       "                        <td id=\"T_0d050410_33d2_11eb_b18d_42010aa40002row53_col11\" class=\"data row53 col11\" >2</td>\n",
       "            </tr>\n",
       "            <tr>\n",
       "                        <th id=\"T_0d050410_33d2_11eb_b18d_42010aa40002level0_row54\" class=\"row_heading level0 row54\" >54</th>\n",
       "                        <td id=\"T_0d050410_33d2_11eb_b18d_42010aa40002row54_col0\" class=\"data row54 col0\" >p3cBYY8Tov5TOaXV2aY-wA</td>\n",
       "                        <td id=\"T_0d050410_33d2_11eb_b18d_42010aa40002row54_col1\" class=\"data row54 col1\" >2</td>\n",
       "                        <td id=\"T_0d050410_33d2_11eb_b18d_42010aa40002row54_col2\" class=\"data row54 col2\" >2</td>\n",
       "                        <td id=\"T_0d050410_33d2_11eb_b18d_42010aa40002row54_col3\" class=\"data row54 col3\" >1.62</td>\n",
       "                        <td id=\"T_0d050410_33d2_11eb_b18d_42010aa40002row54_col4\" class=\"data row54 col4\" >2</td>\n",
       "                        <td id=\"T_0d050410_33d2_11eb_b18d_42010aa40002row54_col5\" class=\"data row54 col5\" >2</td>\n",
       "                        <td id=\"T_0d050410_33d2_11eb_b18d_42010aa40002row54_col6\" class=\"data row54 col6\" >2</td>\n",
       "                        <td id=\"T_0d050410_33d2_11eb_b18d_42010aa40002row54_col7\" class=\"data row54 col7\" >1</td>\n",
       "                        <td id=\"T_0d050410_33d2_11eb_b18d_42010aa40002row54_col8\" class=\"data row54 col8\" >2</td>\n",
       "                        <td id=\"T_0d050410_33d2_11eb_b18d_42010aa40002row54_col9\" class=\"data row54 col9\" >1</td>\n",
       "                        <td id=\"T_0d050410_33d2_11eb_b18d_42010aa40002row54_col10\" class=\"data row54 col10\" >2</td>\n",
       "                        <td id=\"T_0d050410_33d2_11eb_b18d_42010aa40002row54_col11\" class=\"data row54 col11\" >1</td>\n",
       "            </tr>\n",
       "            <tr>\n",
       "                        <th id=\"T_0d050410_33d2_11eb_b18d_42010aa40002level0_row55\" class=\"row_heading level0 row55\" >55</th>\n",
       "                        <td id=\"T_0d050410_33d2_11eb_b18d_42010aa40002row55_col0\" class=\"data row55 col0\" >pLPV7vybH3FMnT-Um7IQhQ</td>\n",
       "                        <td id=\"T_0d050410_33d2_11eb_b18d_42010aa40002row55_col1\" class=\"data row55 col1\" >1</td>\n",
       "                        <td id=\"T_0d050410_33d2_11eb_b18d_42010aa40002row55_col2\" class=\"data row55 col2\" >1</td>\n",
       "                        <td id=\"T_0d050410_33d2_11eb_b18d_42010aa40002row55_col3\" class=\"data row55 col3\" >1.25</td>\n",
       "                        <td id=\"T_0d050410_33d2_11eb_b18d_42010aa40002row55_col4\" class=\"data row55 col4\" >0</td>\n",
       "                        <td id=\"T_0d050410_33d2_11eb_b18d_42010aa40002row55_col5\" class=\"data row55 col5\" >0</td>\n",
       "                        <td id=\"T_0d050410_33d2_11eb_b18d_42010aa40002row55_col6\" class=\"data row55 col6\" >2</td>\n",
       "                        <td id=\"T_0d050410_33d2_11eb_b18d_42010aa40002row55_col7\" class=\"data row55 col7\" >2</td>\n",
       "                        <td id=\"T_0d050410_33d2_11eb_b18d_42010aa40002row55_col8\" class=\"data row55 col8\" >1</td>\n",
       "                        <td id=\"T_0d050410_33d2_11eb_b18d_42010aa40002row55_col9\" class=\"data row55 col9\" >1</td>\n",
       "                        <td id=\"T_0d050410_33d2_11eb_b18d_42010aa40002row55_col10\" class=\"data row55 col10\" >2</td>\n",
       "                        <td id=\"T_0d050410_33d2_11eb_b18d_42010aa40002row55_col11\" class=\"data row55 col11\" >2</td>\n",
       "            </tr>\n",
       "            <tr>\n",
       "                        <th id=\"T_0d050410_33d2_11eb_b18d_42010aa40002level0_row56\" class=\"row_heading level0 row56\" >56</th>\n",
       "                        <td id=\"T_0d050410_33d2_11eb_b18d_42010aa40002row56_col0\" class=\"data row56 col0\" >qSa3L7cy8Gju4ZLs50ycag</td>\n",
       "                        <td id=\"T_0d050410_33d2_11eb_b18d_42010aa40002row56_col1\" class=\"data row56 col1\" >2</td>\n",
       "                        <td id=\"T_0d050410_33d2_11eb_b18d_42010aa40002row56_col2\" class=\"data row56 col2\" >2</td>\n",
       "                        <td id=\"T_0d050410_33d2_11eb_b18d_42010aa40002row56_col3\" class=\"data row56 col3\" >1.38</td>\n",
       "                        <td id=\"T_0d050410_33d2_11eb_b18d_42010aa40002row56_col4\" class=\"data row56 col4\" >0</td>\n",
       "                        <td id=\"T_0d050410_33d2_11eb_b18d_42010aa40002row56_col5\" class=\"data row56 col5\" >1</td>\n",
       "                        <td id=\"T_0d050410_33d2_11eb_b18d_42010aa40002row56_col6\" class=\"data row56 col6\" >2</td>\n",
       "                        <td id=\"T_0d050410_33d2_11eb_b18d_42010aa40002row56_col7\" class=\"data row56 col7\" >2</td>\n",
       "                        <td id=\"T_0d050410_33d2_11eb_b18d_42010aa40002row56_col8\" class=\"data row56 col8\" >2</td>\n",
       "                        <td id=\"T_0d050410_33d2_11eb_b18d_42010aa40002row56_col9\" class=\"data row56 col9\" >2</td>\n",
       "                        <td id=\"T_0d050410_33d2_11eb_b18d_42010aa40002row56_col10\" class=\"data row56 col10\" >2</td>\n",
       "                        <td id=\"T_0d050410_33d2_11eb_b18d_42010aa40002row56_col11\" class=\"data row56 col11\" >0</td>\n",
       "            </tr>\n",
       "            <tr>\n",
       "                        <th id=\"T_0d050410_33d2_11eb_b18d_42010aa40002level0_row57\" class=\"row_heading level0 row57\" >57</th>\n",
       "                        <td id=\"T_0d050410_33d2_11eb_b18d_42010aa40002row57_col0\" class=\"data row57 col0\" >rkF_WvWIHqM1TfYtoPTvNw</td>\n",
       "                        <td id=\"T_0d050410_33d2_11eb_b18d_42010aa40002row57_col1\" class=\"data row57 col1\" >1</td>\n",
       "                        <td id=\"T_0d050410_33d2_11eb_b18d_42010aa40002row57_col2\" class=\"data row57 col2\" >2</td>\n",
       "                        <td id=\"T_0d050410_33d2_11eb_b18d_42010aa40002row57_col3\" class=\"data row57 col3\" >1.38</td>\n",
       "                        <td id=\"T_0d050410_33d2_11eb_b18d_42010aa40002row57_col4\" class=\"data row57 col4\" >0</td>\n",
       "                        <td id=\"T_0d050410_33d2_11eb_b18d_42010aa40002row57_col5\" class=\"data row57 col5\" >2</td>\n",
       "                        <td id=\"T_0d050410_33d2_11eb_b18d_42010aa40002row57_col6\" class=\"data row57 col6\" >2</td>\n",
       "                        <td id=\"T_0d050410_33d2_11eb_b18d_42010aa40002row57_col7\" class=\"data row57 col7\" >2</td>\n",
       "                        <td id=\"T_0d050410_33d2_11eb_b18d_42010aa40002row57_col8\" class=\"data row57 col8\" >0</td>\n",
       "                        <td id=\"T_0d050410_33d2_11eb_b18d_42010aa40002row57_col9\" class=\"data row57 col9\" >2</td>\n",
       "                        <td id=\"T_0d050410_33d2_11eb_b18d_42010aa40002row57_col10\" class=\"data row57 col10\" >1</td>\n",
       "                        <td id=\"T_0d050410_33d2_11eb_b18d_42010aa40002row57_col11\" class=\"data row57 col11\" >2</td>\n",
       "            </tr>\n",
       "            <tr>\n",
       "                        <th id=\"T_0d050410_33d2_11eb_b18d_42010aa40002level0_row58\" class=\"row_heading level0 row58\" >58</th>\n",
       "                        <td id=\"T_0d050410_33d2_11eb_b18d_42010aa40002row58_col0\" class=\"data row58 col0\" >sOgjPmk_1j1ldcVIBaVOjw</td>\n",
       "                        <td id=\"T_0d050410_33d2_11eb_b18d_42010aa40002row58_col1\" class=\"data row58 col1\" >2</td>\n",
       "                        <td id=\"T_0d050410_33d2_11eb_b18d_42010aa40002row58_col2\" class=\"data row58 col2\" >2</td>\n",
       "                        <td id=\"T_0d050410_33d2_11eb_b18d_42010aa40002row58_col3\" class=\"data row58 col3\" >2.00</td>\n",
       "                        <td id=\"T_0d050410_33d2_11eb_b18d_42010aa40002row58_col4\" class=\"data row58 col4\" >2</td>\n",
       "                        <td id=\"T_0d050410_33d2_11eb_b18d_42010aa40002row58_col5\" class=\"data row58 col5\" >2</td>\n",
       "                        <td id=\"T_0d050410_33d2_11eb_b18d_42010aa40002row58_col6\" class=\"data row58 col6\" >2</td>\n",
       "                        <td id=\"T_0d050410_33d2_11eb_b18d_42010aa40002row58_col7\" class=\"data row58 col7\" >2</td>\n",
       "                        <td id=\"T_0d050410_33d2_11eb_b18d_42010aa40002row58_col8\" class=\"data row58 col8\" >2</td>\n",
       "                        <td id=\"T_0d050410_33d2_11eb_b18d_42010aa40002row58_col9\" class=\"data row58 col9\" >2</td>\n",
       "                        <td id=\"T_0d050410_33d2_11eb_b18d_42010aa40002row58_col10\" class=\"data row58 col10\" >2</td>\n",
       "                        <td id=\"T_0d050410_33d2_11eb_b18d_42010aa40002row58_col11\" class=\"data row58 col11\" >2</td>\n",
       "            </tr>\n",
       "            <tr>\n",
       "                        <th id=\"T_0d050410_33d2_11eb_b18d_42010aa40002level0_row59\" class=\"row_heading level0 row59\" >59</th>\n",
       "                        <td id=\"T_0d050410_33d2_11eb_b18d_42010aa40002row59_col0\" class=\"data row59 col0\" >thYC66m1cYM-uQSkMQePZQ</td>\n",
       "                        <td id=\"T_0d050410_33d2_11eb_b18d_42010aa40002row59_col1\" class=\"data row59 col1\" >2</td>\n",
       "                        <td id=\"T_0d050410_33d2_11eb_b18d_42010aa40002row59_col2\" class=\"data row59 col2\" >2</td>\n",
       "                        <td id=\"T_0d050410_33d2_11eb_b18d_42010aa40002row59_col3\" class=\"data row59 col3\" >1.50</td>\n",
       "                        <td id=\"T_0d050410_33d2_11eb_b18d_42010aa40002row59_col4\" class=\"data row59 col4\" >2</td>\n",
       "                        <td id=\"T_0d050410_33d2_11eb_b18d_42010aa40002row59_col5\" class=\"data row59 col5\" >2</td>\n",
       "                        <td id=\"T_0d050410_33d2_11eb_b18d_42010aa40002row59_col6\" class=\"data row59 col6\" >2</td>\n",
       "                        <td id=\"T_0d050410_33d2_11eb_b18d_42010aa40002row59_col7\" class=\"data row59 col7\" >2</td>\n",
       "                        <td id=\"T_0d050410_33d2_11eb_b18d_42010aa40002row59_col8\" class=\"data row59 col8\" >2</td>\n",
       "                        <td id=\"T_0d050410_33d2_11eb_b18d_42010aa40002row59_col9\" class=\"data row59 col9\" >0</td>\n",
       "                        <td id=\"T_0d050410_33d2_11eb_b18d_42010aa40002row59_col10\" class=\"data row59 col10\" >0</td>\n",
       "                        <td id=\"T_0d050410_33d2_11eb_b18d_42010aa40002row59_col11\" class=\"data row59 col11\" >2</td>\n",
       "            </tr>\n",
       "            <tr>\n",
       "                        <th id=\"T_0d050410_33d2_11eb_b18d_42010aa40002level0_row60\" class=\"row_heading level0 row60\" >60</th>\n",
       "                        <td id=\"T_0d050410_33d2_11eb_b18d_42010aa40002row60_col0\" class=\"data row60 col0\" >tuCLe8Rose9TzqDw21ycIA</td>\n",
       "                        <td id=\"T_0d050410_33d2_11eb_b18d_42010aa40002row60_col1\" class=\"data row60 col1\" >2</td>\n",
       "                        <td id=\"T_0d050410_33d2_11eb_b18d_42010aa40002row60_col2\" class=\"data row60 col2\" >2</td>\n",
       "                        <td id=\"T_0d050410_33d2_11eb_b18d_42010aa40002row60_col3\" class=\"data row60 col3\" >1.75</td>\n",
       "                        <td id=\"T_0d050410_33d2_11eb_b18d_42010aa40002row60_col4\" class=\"data row60 col4\" >2</td>\n",
       "                        <td id=\"T_0d050410_33d2_11eb_b18d_42010aa40002row60_col5\" class=\"data row60 col5\" >2</td>\n",
       "                        <td id=\"T_0d050410_33d2_11eb_b18d_42010aa40002row60_col6\" class=\"data row60 col6\" >2</td>\n",
       "                        <td id=\"T_0d050410_33d2_11eb_b18d_42010aa40002row60_col7\" class=\"data row60 col7\" >2</td>\n",
       "                        <td id=\"T_0d050410_33d2_11eb_b18d_42010aa40002row60_col8\" class=\"data row60 col8\" >2</td>\n",
       "                        <td id=\"T_0d050410_33d2_11eb_b18d_42010aa40002row60_col9\" class=\"data row60 col9\" >1</td>\n",
       "                        <td id=\"T_0d050410_33d2_11eb_b18d_42010aa40002row60_col10\" class=\"data row60 col10\" >2</td>\n",
       "                        <td id=\"T_0d050410_33d2_11eb_b18d_42010aa40002row60_col11\" class=\"data row60 col11\" >1</td>\n",
       "            </tr>\n",
       "            <tr>\n",
       "                        <th id=\"T_0d050410_33d2_11eb_b18d_42010aa40002level0_row61\" class=\"row_heading level0 row61\" >61</th>\n",
       "                        <td id=\"T_0d050410_33d2_11eb_b18d_42010aa40002row61_col0\" class=\"data row61 col0\" >v3AXp8DPMgwpy4DX4DDZNw</td>\n",
       "                        <td id=\"T_0d050410_33d2_11eb_b18d_42010aa40002row61_col1\" class=\"data row61 col1\" >2</td>\n",
       "                        <td id=\"T_0d050410_33d2_11eb_b18d_42010aa40002row61_col2\" class=\"data row61 col2\" >2</td>\n",
       "                        <td id=\"T_0d050410_33d2_11eb_b18d_42010aa40002row61_col3\" class=\"data row61 col3\" >2.00</td>\n",
       "                        <td id=\"T_0d050410_33d2_11eb_b18d_42010aa40002row61_col4\" class=\"data row61 col4\" >2</td>\n",
       "                        <td id=\"T_0d050410_33d2_11eb_b18d_42010aa40002row61_col5\" class=\"data row61 col5\" >2</td>\n",
       "                        <td id=\"T_0d050410_33d2_11eb_b18d_42010aa40002row61_col6\" class=\"data row61 col6\" >2</td>\n",
       "                        <td id=\"T_0d050410_33d2_11eb_b18d_42010aa40002row61_col7\" class=\"data row61 col7\" >2</td>\n",
       "                        <td id=\"T_0d050410_33d2_11eb_b18d_42010aa40002row61_col8\" class=\"data row61 col8\" >2</td>\n",
       "                        <td id=\"T_0d050410_33d2_11eb_b18d_42010aa40002row61_col9\" class=\"data row61 col9\" >2</td>\n",
       "                        <td id=\"T_0d050410_33d2_11eb_b18d_42010aa40002row61_col10\" class=\"data row61 col10\" >2</td>\n",
       "                        <td id=\"T_0d050410_33d2_11eb_b18d_42010aa40002row61_col11\" class=\"data row61 col11\" >2</td>\n",
       "            </tr>\n",
       "            <tr>\n",
       "                        <th id=\"T_0d050410_33d2_11eb_b18d_42010aa40002level0_row62\" class=\"row_heading level0 row62\" >62</th>\n",
       "                        <td id=\"T_0d050410_33d2_11eb_b18d_42010aa40002row62_col0\" class=\"data row62 col0\" >wAUUgvSJqKdx6x7Lzy79Og</td>\n",
       "                        <td id=\"T_0d050410_33d2_11eb_b18d_42010aa40002row62_col1\" class=\"data row62 col1\" >0</td>\n",
       "                        <td id=\"T_0d050410_33d2_11eb_b18d_42010aa40002row62_col2\" class=\"data row62 col2\" >0</td>\n",
       "                        <td id=\"T_0d050410_33d2_11eb_b18d_42010aa40002row62_col3\" class=\"data row62 col3\" >0.50</td>\n",
       "                        <td id=\"T_0d050410_33d2_11eb_b18d_42010aa40002row62_col4\" class=\"data row62 col4\" >0</td>\n",
       "                        <td id=\"T_0d050410_33d2_11eb_b18d_42010aa40002row62_col5\" class=\"data row62 col5\" >0</td>\n",
       "                        <td id=\"T_0d050410_33d2_11eb_b18d_42010aa40002row62_col6\" class=\"data row62 col6\" >0</td>\n",
       "                        <td id=\"T_0d050410_33d2_11eb_b18d_42010aa40002row62_col7\" class=\"data row62 col7\" >0</td>\n",
       "                        <td id=\"T_0d050410_33d2_11eb_b18d_42010aa40002row62_col8\" class=\"data row62 col8\" >0</td>\n",
       "                        <td id=\"T_0d050410_33d2_11eb_b18d_42010aa40002row62_col9\" class=\"data row62 col9\" >0</td>\n",
       "                        <td id=\"T_0d050410_33d2_11eb_b18d_42010aa40002row62_col10\" class=\"data row62 col10\" >2</td>\n",
       "                        <td id=\"T_0d050410_33d2_11eb_b18d_42010aa40002row62_col11\" class=\"data row62 col11\" >2</td>\n",
       "            </tr>\n",
       "            <tr>\n",
       "                        <th id=\"T_0d050410_33d2_11eb_b18d_42010aa40002level0_row63\" class=\"row_heading level0 row63\" >63</th>\n",
       "                        <td id=\"T_0d050410_33d2_11eb_b18d_42010aa40002row63_col0\" class=\"data row63 col0\" >xDFk4SbJiRXlUuuL1Ic6GA</td>\n",
       "                        <td id=\"T_0d050410_33d2_11eb_b18d_42010aa40002row63_col1\" class=\"data row63 col1\" >2</td>\n",
       "                        <td id=\"T_0d050410_33d2_11eb_b18d_42010aa40002row63_col2\" class=\"data row63 col2\" >2</td>\n",
       "                        <td id=\"T_0d050410_33d2_11eb_b18d_42010aa40002row63_col3\" class=\"data row63 col3\" >1.50</td>\n",
       "                        <td id=\"T_0d050410_33d2_11eb_b18d_42010aa40002row63_col4\" class=\"data row63 col4\" >0</td>\n",
       "                        <td id=\"T_0d050410_33d2_11eb_b18d_42010aa40002row63_col5\" class=\"data row63 col5\" >2</td>\n",
       "                        <td id=\"T_0d050410_33d2_11eb_b18d_42010aa40002row63_col6\" class=\"data row63 col6\" >2</td>\n",
       "                        <td id=\"T_0d050410_33d2_11eb_b18d_42010aa40002row63_col7\" class=\"data row63 col7\" >0</td>\n",
       "                        <td id=\"T_0d050410_33d2_11eb_b18d_42010aa40002row63_col8\" class=\"data row63 col8\" >2</td>\n",
       "                        <td id=\"T_0d050410_33d2_11eb_b18d_42010aa40002row63_col9\" class=\"data row63 col9\" >2</td>\n",
       "                        <td id=\"T_0d050410_33d2_11eb_b18d_42010aa40002row63_col10\" class=\"data row63 col10\" >2</td>\n",
       "                        <td id=\"T_0d050410_33d2_11eb_b18d_42010aa40002row63_col11\" class=\"data row63 col11\" >2</td>\n",
       "            </tr>\n",
       "            <tr>\n",
       "                        <th id=\"T_0d050410_33d2_11eb_b18d_42010aa40002level0_row64\" class=\"row_heading level0 row64\" >64</th>\n",
       "                        <td id=\"T_0d050410_33d2_11eb_b18d_42010aa40002row64_col0\" class=\"data row64 col0\" >y3EkxHO-qPODtzs_D6E7Rw</td>\n",
       "                        <td id=\"T_0d050410_33d2_11eb_b18d_42010aa40002row64_col1\" class=\"data row64 col1\" >2</td>\n",
       "                        <td id=\"T_0d050410_33d2_11eb_b18d_42010aa40002row64_col2\" class=\"data row64 col2\" >2</td>\n",
       "                        <td id=\"T_0d050410_33d2_11eb_b18d_42010aa40002row64_col3\" class=\"data row64 col3\" >1.62</td>\n",
       "                        <td id=\"T_0d050410_33d2_11eb_b18d_42010aa40002row64_col4\" class=\"data row64 col4\" >2</td>\n",
       "                        <td id=\"T_0d050410_33d2_11eb_b18d_42010aa40002row64_col5\" class=\"data row64 col5\" >1</td>\n",
       "                        <td id=\"T_0d050410_33d2_11eb_b18d_42010aa40002row64_col6\" class=\"data row64 col6\" >2</td>\n",
       "                        <td id=\"T_0d050410_33d2_11eb_b18d_42010aa40002row64_col7\" class=\"data row64 col7\" >1</td>\n",
       "                        <td id=\"T_0d050410_33d2_11eb_b18d_42010aa40002row64_col8\" class=\"data row64 col8\" >2</td>\n",
       "                        <td id=\"T_0d050410_33d2_11eb_b18d_42010aa40002row64_col9\" class=\"data row64 col9\" >2</td>\n",
       "                        <td id=\"T_0d050410_33d2_11eb_b18d_42010aa40002row64_col10\" class=\"data row64 col10\" >1</td>\n",
       "                        <td id=\"T_0d050410_33d2_11eb_b18d_42010aa40002row64_col11\" class=\"data row64 col11\" >2</td>\n",
       "            </tr>\n",
       "            <tr>\n",
       "                        <th id=\"T_0d050410_33d2_11eb_b18d_42010aa40002level0_row65\" class=\"row_heading level0 row65\" >65</th>\n",
       "                        <td id=\"T_0d050410_33d2_11eb_b18d_42010aa40002row65_col0\" class=\"data row65 col0\" >ypSAad4wGe3Uh0N6dgVxaw</td>\n",
       "                        <td id=\"T_0d050410_33d2_11eb_b18d_42010aa40002row65_col1\" class=\"data row65 col1\" >2</td>\n",
       "                        <td id=\"T_0d050410_33d2_11eb_b18d_42010aa40002row65_col2\" class=\"data row65 col2\" >2</td>\n",
       "                        <td id=\"T_0d050410_33d2_11eb_b18d_42010aa40002row65_col3\" class=\"data row65 col3\" >1.75</td>\n",
       "                        <td id=\"T_0d050410_33d2_11eb_b18d_42010aa40002row65_col4\" class=\"data row65 col4\" >2</td>\n",
       "                        <td id=\"T_0d050410_33d2_11eb_b18d_42010aa40002row65_col5\" class=\"data row65 col5\" >2</td>\n",
       "                        <td id=\"T_0d050410_33d2_11eb_b18d_42010aa40002row65_col6\" class=\"data row65 col6\" >2</td>\n",
       "                        <td id=\"T_0d050410_33d2_11eb_b18d_42010aa40002row65_col7\" class=\"data row65 col7\" >0</td>\n",
       "                        <td id=\"T_0d050410_33d2_11eb_b18d_42010aa40002row65_col8\" class=\"data row65 col8\" >2</td>\n",
       "                        <td id=\"T_0d050410_33d2_11eb_b18d_42010aa40002row65_col9\" class=\"data row65 col9\" >2</td>\n",
       "                        <td id=\"T_0d050410_33d2_11eb_b18d_42010aa40002row65_col10\" class=\"data row65 col10\" >2</td>\n",
       "                        <td id=\"T_0d050410_33d2_11eb_b18d_42010aa40002row65_col11\" class=\"data row65 col11\" >2</td>\n",
       "            </tr>\n",
       "            <tr>\n",
       "                        <th id=\"T_0d050410_33d2_11eb_b18d_42010aa40002level0_row66\" class=\"row_heading level0 row66\" >66</th>\n",
       "                        <td id=\"T_0d050410_33d2_11eb_b18d_42010aa40002row66_col0\" class=\"data row66 col0\" >zHAR8MmCbjrkNnLGm1ozEQ</td>\n",
       "                        <td id=\"T_0d050410_33d2_11eb_b18d_42010aa40002row66_col1\" class=\"data row66 col1\" >1</td>\n",
       "                        <td id=\"T_0d050410_33d2_11eb_b18d_42010aa40002row66_col2\" class=\"data row66 col2\" >2</td>\n",
       "                        <td id=\"T_0d050410_33d2_11eb_b18d_42010aa40002row66_col3\" class=\"data row66 col3\" >1.00</td>\n",
       "                        <td id=\"T_0d050410_33d2_11eb_b18d_42010aa40002row66_col4\" class=\"data row66 col4\" >1</td>\n",
       "                        <td id=\"T_0d050410_33d2_11eb_b18d_42010aa40002row66_col5\" class=\"data row66 col5\" >1</td>\n",
       "                        <td id=\"T_0d050410_33d2_11eb_b18d_42010aa40002row66_col6\" class=\"data row66 col6\" >2</td>\n",
       "                        <td id=\"T_0d050410_33d2_11eb_b18d_42010aa40002row66_col7\" class=\"data row66 col7\" >1</td>\n",
       "                        <td id=\"T_0d050410_33d2_11eb_b18d_42010aa40002row66_col8\" class=\"data row66 col8\" >2</td>\n",
       "                        <td id=\"T_0d050410_33d2_11eb_b18d_42010aa40002row66_col9\" class=\"data row66 col9\" >1</td>\n",
       "                        <td id=\"T_0d050410_33d2_11eb_b18d_42010aa40002row66_col10\" class=\"data row66 col10\" >0</td>\n",
       "                        <td id=\"T_0d050410_33d2_11eb_b18d_42010aa40002row66_col11\" class=\"data row66 col11\" >0</td>\n",
       "            </tr>\n",
       "            <tr>\n",
       "                        <th id=\"T_0d050410_33d2_11eb_b18d_42010aa40002level0_row67\" class=\"row_heading level0 row67\" >67</th>\n",
       "                        <td id=\"T_0d050410_33d2_11eb_b18d_42010aa40002row67_col0\" class=\"data row67 col0\" >zJzkL4VHHksVVGepR1IAGw</td>\n",
       "                        <td id=\"T_0d050410_33d2_11eb_b18d_42010aa40002row67_col1\" class=\"data row67 col1\" >1</td>\n",
       "                        <td id=\"T_0d050410_33d2_11eb_b18d_42010aa40002row67_col2\" class=\"data row67 col2\" >2</td>\n",
       "                        <td id=\"T_0d050410_33d2_11eb_b18d_42010aa40002row67_col3\" class=\"data row67 col3\" >1.38</td>\n",
       "                        <td id=\"T_0d050410_33d2_11eb_b18d_42010aa40002row67_col4\" class=\"data row67 col4\" >2</td>\n",
       "                        <td id=\"T_0d050410_33d2_11eb_b18d_42010aa40002row67_col5\" class=\"data row67 col5\" >0</td>\n",
       "                        <td id=\"T_0d050410_33d2_11eb_b18d_42010aa40002row67_col6\" class=\"data row67 col6\" >1</td>\n",
       "                        <td id=\"T_0d050410_33d2_11eb_b18d_42010aa40002row67_col7\" class=\"data row67 col7\" >1</td>\n",
       "                        <td id=\"T_0d050410_33d2_11eb_b18d_42010aa40002row67_col8\" class=\"data row67 col8\" >1</td>\n",
       "                        <td id=\"T_0d050410_33d2_11eb_b18d_42010aa40002row67_col9\" class=\"data row67 col9\" >2</td>\n",
       "                        <td id=\"T_0d050410_33d2_11eb_b18d_42010aa40002row67_col10\" class=\"data row67 col10\" >2</td>\n",
       "                        <td id=\"T_0d050410_33d2_11eb_b18d_42010aa40002row67_col11\" class=\"data row67 col11\" >2</td>\n",
       "            </tr>\n",
       "            <tr>\n",
       "                        <th id=\"T_0d050410_33d2_11eb_b18d_42010aa40002level0_row68\" class=\"row_heading level0 row68\" >68</th>\n",
       "                        <td id=\"T_0d050410_33d2_11eb_b18d_42010aa40002row68_col0\" class=\"data row68 col0\" >zSQs_cDOOyjnTHREy9yRfQ</td>\n",
       "                        <td id=\"T_0d050410_33d2_11eb_b18d_42010aa40002row68_col1\" class=\"data row68 col1\" >1</td>\n",
       "                        <td id=\"T_0d050410_33d2_11eb_b18d_42010aa40002row68_col2\" class=\"data row68 col2\" >2</td>\n",
       "                        <td id=\"T_0d050410_33d2_11eb_b18d_42010aa40002row68_col3\" class=\"data row68 col3\" >1.50</td>\n",
       "                        <td id=\"T_0d050410_33d2_11eb_b18d_42010aa40002row68_col4\" class=\"data row68 col4\" >2</td>\n",
       "                        <td id=\"T_0d050410_33d2_11eb_b18d_42010aa40002row68_col5\" class=\"data row68 col5\" >0</td>\n",
       "                        <td id=\"T_0d050410_33d2_11eb_b18d_42010aa40002row68_col6\" class=\"data row68 col6\" >2</td>\n",
       "                        <td id=\"T_0d050410_33d2_11eb_b18d_42010aa40002row68_col7\" class=\"data row68 col7\" >2</td>\n",
       "                        <td id=\"T_0d050410_33d2_11eb_b18d_42010aa40002row68_col8\" class=\"data row68 col8\" >0</td>\n",
       "                        <td id=\"T_0d050410_33d2_11eb_b18d_42010aa40002row68_col9\" class=\"data row68 col9\" >2</td>\n",
       "                        <td id=\"T_0d050410_33d2_11eb_b18d_42010aa40002row68_col10\" class=\"data row68 col10\" >2</td>\n",
       "                        <td id=\"T_0d050410_33d2_11eb_b18d_42010aa40002row68_col11\" class=\"data row68 col11\" >2</td>\n",
       "            </tr>\n",
       "            <tr>\n",
       "                        <th id=\"T_0d050410_33d2_11eb_b18d_42010aa40002level0_row69\" class=\"row_heading level0 row69\" >69</th>\n",
       "                        <td id=\"T_0d050410_33d2_11eb_b18d_42010aa40002row69_col0\" class=\"data row69 col0\" >zvB0Vzhomsodw_iQ7FHY1Q</td>\n",
       "                        <td id=\"T_0d050410_33d2_11eb_b18d_42010aa40002row69_col1\" class=\"data row69 col1\" >2</td>\n",
       "                        <td id=\"T_0d050410_33d2_11eb_b18d_42010aa40002row69_col2\" class=\"data row69 col2\" >2</td>\n",
       "                        <td id=\"T_0d050410_33d2_11eb_b18d_42010aa40002row69_col3\" class=\"data row69 col3\" >1.62</td>\n",
       "                        <td id=\"T_0d050410_33d2_11eb_b18d_42010aa40002row69_col4\" class=\"data row69 col4\" >2</td>\n",
       "                        <td id=\"T_0d050410_33d2_11eb_b18d_42010aa40002row69_col5\" class=\"data row69 col5\" >0</td>\n",
       "                        <td id=\"T_0d050410_33d2_11eb_b18d_42010aa40002row69_col6\" class=\"data row69 col6\" >2</td>\n",
       "                        <td id=\"T_0d050410_33d2_11eb_b18d_42010aa40002row69_col7\" class=\"data row69 col7\" >1</td>\n",
       "                        <td id=\"T_0d050410_33d2_11eb_b18d_42010aa40002row69_col8\" class=\"data row69 col8\" >2</td>\n",
       "                        <td id=\"T_0d050410_33d2_11eb_b18d_42010aa40002row69_col9\" class=\"data row69 col9\" >2</td>\n",
       "                        <td id=\"T_0d050410_33d2_11eb_b18d_42010aa40002row69_col10\" class=\"data row69 col10\" >2</td>\n",
       "                        <td id=\"T_0d050410_33d2_11eb_b18d_42010aa40002row69_col11\" class=\"data row69 col11\" >2</td>\n",
       "            </tr>\n",
       "    </tbody></table>"
      ],
      "text/plain": [
       "<pandas.io.formats.style.Styler at 0x7fd0395ed190>"
      ]
     },
     "execution_count": 401,
     "metadata": {},
     "output_type": "execute_result"
    }
   ],
   "source": [
    "import seaborn as sns \n",
    "  \n",
    "# Declaring the cm variable by the  \n",
    "# color palette from seaborn \n",
    "cm = sns.light_palette(\"#6698FF\", as_cmap=True) \n",
    "  \n",
    "# Visualizing the DataFrame with set precision \n",
    "print(\"\\nModified Stlying DataFrame:\") \n",
    "from IPython.core.display import display, HTML\n",
    "display(HTML(\"<style>div.output_scroll { height: 60em; }</style>\"))\n",
    "\n",
    "df_test.style.background_gradient(cmap=cm).set_precision(2).highlight_null('red').highlight_min(axis=0, color='#F9966B').highlight_max(axis=0, color='blue')"
   ]
  },
  {
   "cell_type": "code",
   "execution_count": 363,
   "metadata": {},
   "outputs": [
    {
     "name": "stdout",
     "output_type": "stream",
     "text": [
      "0.3375\n"
     ]
    }
   ],
   "source": [
    "import numpy as np\n",
    "\n",
    "sum=0\n",
    "for i in range (70):\n",
    "    sum += np.square(df_test.gen_summ[i]-df_test.avergage[i])\n",
    "    \n",
    "print(sum/70)"
   ]
  },
  {
   "cell_type": "code",
   "execution_count": 364,
   "metadata": {},
   "outputs": [
    {
     "name": "stdout",
     "output_type": "stream",
     "text": [
      "0.2125\n"
     ]
    }
   ],
   "source": [
    "sum=0\n",
    "for i in range (70):\n",
    "    sum += np.square(df_test.gold_summ[i]-df_test.avergage[i])\n",
    "    \n",
    "print(sum/70)"
   ]
  },
  {
   "cell_type": "markdown",
   "metadata": {
    "id": "PVhwzq7bpPRl"
   },
   "source": []
  },
  {
   "cell_type": "markdown",
   "metadata": {
    "id": "Wf39tauBa2V2"
   },
   "source": [
    "## References\n",
    "\n",
    "- [BERT: Pre-training of Deep Bidirectional Transformers for Language Understanding](https://arxiv.org/abs/1810.04805)\n",
    "- [L11 Language Models - Alec Radford (OpenAI)](https://www.youtube.com/watch?v=BnpB3GrpsfM)\n",
    "- [The Illustrated BERT, ELMo, and co.](https://jalammar.github.io/illustrated-bert/)\n",
    "- [BERT Fine-Tuning Tutorial with PyTorch](https://mccormickml.com/2019/07/22/BERT-fine-tuning/)\n",
    "- [How to Fine-Tune BERT for Text Classification?](https://arxiv.org/pdf/1905.05583.pdf)\n",
    "- [Huggingface Transformers](https://huggingface.co/transformers/)\n",
    "- [BERT Explained: State of the art language model for NLP](https://towardsdatascience.com/bert-explained-state-of-the-art-language-model-for-nlp-f8b21a9b6270)\n",
    "- [Read the tutorial](https://www.curiousily.com/posts/sentiment-analysis-with-bert-and-hugging-face-using-pytorch-and-python/)"
   ]
  },
  {
   "cell_type": "code",
   "execution_count": null,
   "metadata": {},
   "outputs": [],
   "source": []
  }
 ],
 "metadata": {
  "accelerator": "GPU",
  "colab": {
   "collapsed_sections": [],
   "name": "08.sentiment-analysis-with-bert.ipynb",
   "provenance": []
  },
  "kernelspec": {
   "display_name": "Python 3",
   "language": "python",
   "name": "python3"
  },
  "language_info": {
   "codemirror_mode": {
    "name": "ipython",
    "version": 3
   },
   "file_extension": ".py",
   "mimetype": "text/x-python",
   "name": "python",
   "nbconvert_exporter": "python",
   "pygments_lexer": "ipython3",
   "version": "3.7.8"
  },
  "widgets": {
   "application/vnd.jupyter.widget-state+json": {
    "08f4f4fcf0334fb98bda2b635493408a": {
     "model_module": "@jupyter-widgets/controls",
     "model_name": "ProgressStyleModel",
     "state": {
      "_model_module": "@jupyter-widgets/controls",
      "_model_module_version": "1.5.0",
      "_model_name": "ProgressStyleModel",
      "_view_count": null,
      "_view_module": "@jupyter-widgets/base",
      "_view_module_version": "1.2.0",
      "_view_name": "StyleView",
      "bar_color": null,
      "description_width": "initial"
     }
    },
    "0f7c038f465b464d94949c43e449deb3": {
     "model_module": "@jupyter-widgets/base",
     "model_name": "LayoutModel",
     "state": {
      "_model_module": "@jupyter-widgets/base",
      "_model_module_version": "1.2.0",
      "_model_name": "LayoutModel",
      "_view_count": null,
      "_view_module": "@jupyter-widgets/base",
      "_view_module_version": "1.2.0",
      "_view_name": "LayoutView",
      "align_content": null,
      "align_items": null,
      "align_self": null,
      "border": null,
      "bottom": null,
      "display": null,
      "flex": null,
      "flex_flow": null,
      "grid_area": null,
      "grid_auto_columns": null,
      "grid_auto_flow": null,
      "grid_auto_rows": null,
      "grid_column": null,
      "grid_gap": null,
      "grid_row": null,
      "grid_template_areas": null,
      "grid_template_columns": null,
      "grid_template_rows": null,
      "height": null,
      "justify_content": null,
      "justify_items": null,
      "left": null,
      "margin": null,
      "max_height": null,
      "max_width": null,
      "min_height": null,
      "min_width": null,
      "object_fit": null,
      "object_position": null,
      "order": null,
      "overflow": null,
      "overflow_x": null,
      "overflow_y": null,
      "padding": null,
      "right": null,
      "top": null,
      "visibility": null,
      "width": null
     }
    },
    "12e9a1a582f74bfc92ef423ee8b3069d": {
     "model_module": "@jupyter-widgets/controls",
     "model_name": "DescriptionStyleModel",
     "state": {
      "_model_module": "@jupyter-widgets/controls",
      "_model_module_version": "1.5.0",
      "_model_name": "DescriptionStyleModel",
      "_view_count": null,
      "_view_module": "@jupyter-widgets/base",
      "_view_module_version": "1.2.0",
      "_view_name": "StyleView",
      "description_width": ""
     }
    },
    "183d2e7445984df18d7d4dbfc20066c4": {
     "model_module": "@jupyter-widgets/base",
     "model_name": "LayoutModel",
     "state": {
      "_model_module": "@jupyter-widgets/base",
      "_model_module_version": "1.2.0",
      "_model_name": "LayoutModel",
      "_view_count": null,
      "_view_module": "@jupyter-widgets/base",
      "_view_module_version": "1.2.0",
      "_view_name": "LayoutView",
      "align_content": null,
      "align_items": null,
      "align_self": null,
      "border": null,
      "bottom": null,
      "display": null,
      "flex": null,
      "flex_flow": null,
      "grid_area": null,
      "grid_auto_columns": null,
      "grid_auto_flow": null,
      "grid_auto_rows": null,
      "grid_column": null,
      "grid_gap": null,
      "grid_row": null,
      "grid_template_areas": null,
      "grid_template_columns": null,
      "grid_template_rows": null,
      "height": null,
      "justify_content": null,
      "justify_items": null,
      "left": null,
      "margin": null,
      "max_height": null,
      "max_width": null,
      "min_height": null,
      "min_width": null,
      "object_fit": null,
      "object_position": null,
      "order": null,
      "overflow": null,
      "overflow_x": null,
      "overflow_y": null,
      "padding": null,
      "right": null,
      "top": null,
      "visibility": null,
      "width": null
     }
    },
    "2eff57b94a7b4883b807602ce5754c07": {
     "model_module": "@jupyter-widgets/controls",
     "model_name": "ProgressStyleModel",
     "state": {
      "_model_module": "@jupyter-widgets/controls",
      "_model_module_version": "1.5.0",
      "_model_name": "ProgressStyleModel",
      "_view_count": null,
      "_view_module": "@jupyter-widgets/base",
      "_view_module_version": "1.2.0",
      "_view_name": "StyleView",
      "bar_color": null,
      "description_width": "initial"
     }
    },
    "30c226ae25114465958da9b91229edf8": {
     "model_module": "@jupyter-widgets/controls",
     "model_name": "FloatProgressModel",
     "state": {
      "_dom_classes": [],
      "_model_module": "@jupyter-widgets/controls",
      "_model_module_version": "1.5.0",
      "_model_name": "FloatProgressModel",
      "_view_count": null,
      "_view_module": "@jupyter-widgets/controls",
      "_view_module_version": "1.5.0",
      "_view_name": "ProgressView",
      "bar_style": "success",
      "description": "Downloading: 100%",
      "description_tooltip": null,
      "layout": "IPY_MODEL_3593d39c2a8f4e33a8e570e14385cbbe",
      "max": 213450,
      "min": 0,
      "orientation": "horizontal",
      "style": "IPY_MODEL_08f4f4fcf0334fb98bda2b635493408a",
      "value": 213450
     }
    },
    "3593d39c2a8f4e33a8e570e14385cbbe": {
     "model_module": "@jupyter-widgets/base",
     "model_name": "LayoutModel",
     "state": {
      "_model_module": "@jupyter-widgets/base",
      "_model_module_version": "1.2.0",
      "_model_name": "LayoutModel",
      "_view_count": null,
      "_view_module": "@jupyter-widgets/base",
      "_view_module_version": "1.2.0",
      "_view_name": "LayoutView",
      "align_content": null,
      "align_items": null,
      "align_self": null,
      "border": null,
      "bottom": null,
      "display": null,
      "flex": null,
      "flex_flow": null,
      "grid_area": null,
      "grid_auto_columns": null,
      "grid_auto_flow": null,
      "grid_auto_rows": null,
      "grid_column": null,
      "grid_gap": null,
      "grid_row": null,
      "grid_template_areas": null,
      "grid_template_columns": null,
      "grid_template_rows": null,
      "height": null,
      "justify_content": null,
      "justify_items": null,
      "left": null,
      "margin": null,
      "max_height": null,
      "max_width": null,
      "min_height": null,
      "min_width": null,
      "object_fit": null,
      "object_position": null,
      "order": null,
      "overflow": null,
      "overflow_x": null,
      "overflow_y": null,
      "padding": null,
      "right": null,
      "top": null,
      "visibility": null,
      "width": null
     }
    },
    "3c00590c568e44228084e00ecc366f24": {
     "model_module": "@jupyter-widgets/base",
     "model_name": "LayoutModel",
     "state": {
      "_model_module": "@jupyter-widgets/base",
      "_model_module_version": "1.2.0",
      "_model_name": "LayoutModel",
      "_view_count": null,
      "_view_module": "@jupyter-widgets/base",
      "_view_module_version": "1.2.0",
      "_view_name": "LayoutView",
      "align_content": null,
      "align_items": null,
      "align_self": null,
      "border": null,
      "bottom": null,
      "display": null,
      "flex": null,
      "flex_flow": null,
      "grid_area": null,
      "grid_auto_columns": null,
      "grid_auto_flow": null,
      "grid_auto_rows": null,
      "grid_column": null,
      "grid_gap": null,
      "grid_row": null,
      "grid_template_areas": null,
      "grid_template_columns": null,
      "grid_template_rows": null,
      "height": null,
      "justify_content": null,
      "justify_items": null,
      "left": null,
      "margin": null,
      "max_height": null,
      "max_width": null,
      "min_height": null,
      "min_width": null,
      "object_fit": null,
      "object_position": null,
      "order": null,
      "overflow": null,
      "overflow_x": null,
      "overflow_y": null,
      "padding": null,
      "right": null,
      "top": null,
      "visibility": null,
      "width": null
     }
    },
    "4d359212d9a34ff9895f94f88a6a47c8": {
     "model_module": "@jupyter-widgets/controls",
     "model_name": "FloatProgressModel",
     "state": {
      "_dom_classes": [],
      "_model_module": "@jupyter-widgets/controls",
      "_model_module_version": "1.5.0",
      "_model_name": "FloatProgressModel",
      "_view_count": null,
      "_view_module": "@jupyter-widgets/controls",
      "_view_module_version": "1.5.0",
      "_view_name": "ProgressView",
      "bar_style": "success",
      "description": "Downloading: 100%",
      "description_tooltip": null,
      "layout": "IPY_MODEL_b9257f1d5ccb4896b9c4994dd6a3881a",
      "max": 433,
      "min": 0,
      "orientation": "horizontal",
      "style": "IPY_MODEL_92e50e5609e94ddea8635609178fac1f",
      "value": 433
     }
    },
    "62764986444a4852a21e3ba454426539": {
     "model_module": "@jupyter-widgets/controls",
     "model_name": "DescriptionStyleModel",
     "state": {
      "_model_module": "@jupyter-widgets/controls",
      "_model_module_version": "1.5.0",
      "_model_name": "DescriptionStyleModel",
      "_view_count": null,
      "_view_module": "@jupyter-widgets/base",
      "_view_module_version": "1.2.0",
      "_view_name": "StyleView",
      "description_width": ""
     }
    },
    "62c3b578971d49ceb4f0d1cfb45b43ca": {
     "model_module": "@jupyter-widgets/base",
     "model_name": "LayoutModel",
     "state": {
      "_model_module": "@jupyter-widgets/base",
      "_model_module_version": "1.2.0",
      "_model_name": "LayoutModel",
      "_view_count": null,
      "_view_module": "@jupyter-widgets/base",
      "_view_module_version": "1.2.0",
      "_view_name": "LayoutView",
      "align_content": null,
      "align_items": null,
      "align_self": null,
      "border": null,
      "bottom": null,
      "display": null,
      "flex": null,
      "flex_flow": null,
      "grid_area": null,
      "grid_auto_columns": null,
      "grid_auto_flow": null,
      "grid_auto_rows": null,
      "grid_column": null,
      "grid_gap": null,
      "grid_row": null,
      "grid_template_areas": null,
      "grid_template_columns": null,
      "grid_template_rows": null,
      "height": null,
      "justify_content": null,
      "justify_items": null,
      "left": null,
      "margin": null,
      "max_height": null,
      "max_width": null,
      "min_height": null,
      "min_width": null,
      "object_fit": null,
      "object_position": null,
      "order": null,
      "overflow": null,
      "overflow_x": null,
      "overflow_y": null,
      "padding": null,
      "right": null,
      "top": null,
      "visibility": null,
      "width": null
     }
    },
    "6c9a5dd56767478b9262fda3041ac4ae": {
     "model_module": "@jupyter-widgets/controls",
     "model_name": "HTMLModel",
     "state": {
      "_dom_classes": [],
      "_model_module": "@jupyter-widgets/controls",
      "_model_module_version": "1.5.0",
      "_model_name": "HTMLModel",
      "_view_count": null,
      "_view_module": "@jupyter-widgets/controls",
      "_view_module_version": "1.5.0",
      "_view_name": "HTMLView",
      "description": "",
      "description_tooltip": null,
      "layout": "IPY_MODEL_62c3b578971d49ceb4f0d1cfb45b43ca",
      "placeholder": "​",
      "style": "IPY_MODEL_62764986444a4852a21e3ba454426539",
      "value": " 436M/436M [00:12&lt;00:00, 35.3MB/s]"
     }
    },
    "83e306a783a246eb926131c0157d2f3f": {
     "model_module": "@jupyter-widgets/base",
     "model_name": "LayoutModel",
     "state": {
      "_model_module": "@jupyter-widgets/base",
      "_model_module_version": "1.2.0",
      "_model_name": "LayoutModel",
      "_view_count": null,
      "_view_module": "@jupyter-widgets/base",
      "_view_module_version": "1.2.0",
      "_view_name": "LayoutView",
      "align_content": null,
      "align_items": null,
      "align_self": null,
      "border": null,
      "bottom": null,
      "display": null,
      "flex": null,
      "flex_flow": null,
      "grid_area": null,
      "grid_auto_columns": null,
      "grid_auto_flow": null,
      "grid_auto_rows": null,
      "grid_column": null,
      "grid_gap": null,
      "grid_row": null,
      "grid_template_areas": null,
      "grid_template_columns": null,
      "grid_template_rows": null,
      "height": null,
      "justify_content": null,
      "justify_items": null,
      "left": null,
      "margin": null,
      "max_height": null,
      "max_width": null,
      "min_height": null,
      "min_width": null,
      "object_fit": null,
      "object_position": null,
      "order": null,
      "overflow": null,
      "overflow_x": null,
      "overflow_y": null,
      "padding": null,
      "right": null,
      "top": null,
      "visibility": null,
      "width": null
     }
    },
    "92e50e5609e94ddea8635609178fac1f": {
     "model_module": "@jupyter-widgets/controls",
     "model_name": "ProgressStyleModel",
     "state": {
      "_model_module": "@jupyter-widgets/controls",
      "_model_module_version": "1.5.0",
      "_model_name": "ProgressStyleModel",
      "_view_count": null,
      "_view_module": "@jupyter-widgets/base",
      "_view_module_version": "1.2.0",
      "_view_name": "StyleView",
      "bar_color": null,
      "description_width": "initial"
     }
    },
    "9ad79dedd0064c4f8786f456cd98baeb": {
     "model_module": "@jupyter-widgets/controls",
     "model_name": "HTMLModel",
     "state": {
      "_dom_classes": [],
      "_model_module": "@jupyter-widgets/controls",
      "_model_module_version": "1.5.0",
      "_model_name": "HTMLModel",
      "_view_count": null,
      "_view_module": "@jupyter-widgets/controls",
      "_view_module_version": "1.5.0",
      "_view_name": "HTMLView",
      "description": "",
      "description_tooltip": null,
      "layout": "IPY_MODEL_0f7c038f465b464d94949c43e449deb3",
      "placeholder": "​",
      "style": "IPY_MODEL_12e9a1a582f74bfc92ef423ee8b3069d",
      "value": " 433/433 [00:00&lt;00:00, 1.76kB/s]"
     }
    },
    "a32f72f726d54d23ab937be4b25e1ffb": {
     "model_module": "@jupyter-widgets/base",
     "model_name": "LayoutModel",
     "state": {
      "_model_module": "@jupyter-widgets/base",
      "_model_module_version": "1.2.0",
      "_model_name": "LayoutModel",
      "_view_count": null,
      "_view_module": "@jupyter-widgets/base",
      "_view_module_version": "1.2.0",
      "_view_name": "LayoutView",
      "align_content": null,
      "align_items": null,
      "align_self": null,
      "border": null,
      "bottom": null,
      "display": null,
      "flex": null,
      "flex_flow": null,
      "grid_area": null,
      "grid_auto_columns": null,
      "grid_auto_flow": null,
      "grid_auto_rows": null,
      "grid_column": null,
      "grid_gap": null,
      "grid_row": null,
      "grid_template_areas": null,
      "grid_template_columns": null,
      "grid_template_rows": null,
      "height": null,
      "justify_content": null,
      "justify_items": null,
      "left": null,
      "margin": null,
      "max_height": null,
      "max_width": null,
      "min_height": null,
      "min_width": null,
      "object_fit": null,
      "object_position": null,
      "order": null,
      "overflow": null,
      "overflow_x": null,
      "overflow_y": null,
      "padding": null,
      "right": null,
      "top": null,
      "visibility": null,
      "width": null
     }
    },
    "a42ac2212d0a4a0d9740ad6b679e51aa": {
     "model_module": "@jupyter-widgets/controls",
     "model_name": "DescriptionStyleModel",
     "state": {
      "_model_module": "@jupyter-widgets/controls",
      "_model_module_version": "1.5.0",
      "_model_name": "DescriptionStyleModel",
      "_view_count": null,
      "_view_module": "@jupyter-widgets/base",
      "_view_module_version": "1.2.0",
      "_view_name": "StyleView",
      "description_width": ""
     }
    },
    "a4d6f89542f34f0492332f6c993b77a4": {
     "model_module": "@jupyter-widgets/controls",
     "model_name": "HTMLModel",
     "state": {
      "_dom_classes": [],
      "_model_module": "@jupyter-widgets/controls",
      "_model_module_version": "1.5.0",
      "_model_name": "HTMLModel",
      "_view_count": null,
      "_view_module": "@jupyter-widgets/controls",
      "_view_module_version": "1.5.0",
      "_view_name": "HTMLView",
      "description": "",
      "description_tooltip": null,
      "layout": "IPY_MODEL_b3a86529a0b149e1b92982006c09c246",
      "placeholder": "​",
      "style": "IPY_MODEL_a42ac2212d0a4a0d9740ad6b679e51aa",
      "value": " 213k/213k [00:00&lt;00:00, 2.14MB/s]"
     }
    },
    "b3a86529a0b149e1b92982006c09c246": {
     "model_module": "@jupyter-widgets/base",
     "model_name": "LayoutModel",
     "state": {
      "_model_module": "@jupyter-widgets/base",
      "_model_module_version": "1.2.0",
      "_model_name": "LayoutModel",
      "_view_count": null,
      "_view_module": "@jupyter-widgets/base",
      "_view_module_version": "1.2.0",
      "_view_name": "LayoutView",
      "align_content": null,
      "align_items": null,
      "align_self": null,
      "border": null,
      "bottom": null,
      "display": null,
      "flex": null,
      "flex_flow": null,
      "grid_area": null,
      "grid_auto_columns": null,
      "grid_auto_flow": null,
      "grid_auto_rows": null,
      "grid_column": null,
      "grid_gap": null,
      "grid_row": null,
      "grid_template_areas": null,
      "grid_template_columns": null,
      "grid_template_rows": null,
      "height": null,
      "justify_content": null,
      "justify_items": null,
      "left": null,
      "margin": null,
      "max_height": null,
      "max_width": null,
      "min_height": null,
      "min_width": null,
      "object_fit": null,
      "object_position": null,
      "order": null,
      "overflow": null,
      "overflow_x": null,
      "overflow_y": null,
      "padding": null,
      "right": null,
      "top": null,
      "visibility": null,
      "width": null
     }
    },
    "b9257f1d5ccb4896b9c4994dd6a3881a": {
     "model_module": "@jupyter-widgets/base",
     "model_name": "LayoutModel",
     "state": {
      "_model_module": "@jupyter-widgets/base",
      "_model_module_version": "1.2.0",
      "_model_name": "LayoutModel",
      "_view_count": null,
      "_view_module": "@jupyter-widgets/base",
      "_view_module_version": "1.2.0",
      "_view_name": "LayoutView",
      "align_content": null,
      "align_items": null,
      "align_self": null,
      "border": null,
      "bottom": null,
      "display": null,
      "flex": null,
      "flex_flow": null,
      "grid_area": null,
      "grid_auto_columns": null,
      "grid_auto_flow": null,
      "grid_auto_rows": null,
      "grid_column": null,
      "grid_gap": null,
      "grid_row": null,
      "grid_template_areas": null,
      "grid_template_columns": null,
      "grid_template_rows": null,
      "height": null,
      "justify_content": null,
      "justify_items": null,
      "left": null,
      "margin": null,
      "max_height": null,
      "max_width": null,
      "min_height": null,
      "min_width": null,
      "object_fit": null,
      "object_position": null,
      "order": null,
      "overflow": null,
      "overflow_x": null,
      "overflow_y": null,
      "padding": null,
      "right": null,
      "top": null,
      "visibility": null,
      "width": null
     }
    },
    "d5426f0f97934df49354e9d92976ebef": {
     "model_module": "@jupyter-widgets/controls",
     "model_name": "HBoxModel",
     "state": {
      "_dom_classes": [],
      "_model_module": "@jupyter-widgets/controls",
      "_model_module_version": "1.5.0",
      "_model_name": "HBoxModel",
      "_view_count": null,
      "_view_module": "@jupyter-widgets/controls",
      "_view_module_version": "1.5.0",
      "_view_name": "HBoxView",
      "box_style": "",
      "children": [
       "IPY_MODEL_e68f01a50dd343deb05ce60826218e06",
       "IPY_MODEL_6c9a5dd56767478b9262fda3041ac4ae"
      ],
      "layout": "IPY_MODEL_83e306a783a246eb926131c0157d2f3f"
     }
    },
    "e304489df5d44f99a7304eaebcde9b00": {
     "model_module": "@jupyter-widgets/controls",
     "model_name": "HBoxModel",
     "state": {
      "_dom_classes": [],
      "_model_module": "@jupyter-widgets/controls",
      "_model_module_version": "1.5.0",
      "_model_name": "HBoxModel",
      "_view_count": null,
      "_view_module": "@jupyter-widgets/controls",
      "_view_module_version": "1.5.0",
      "_view_name": "HBoxView",
      "box_style": "",
      "children": [
       "IPY_MODEL_30c226ae25114465958da9b91229edf8",
       "IPY_MODEL_a4d6f89542f34f0492332f6c993b77a4"
      ],
      "layout": "IPY_MODEL_a32f72f726d54d23ab937be4b25e1ffb"
     }
    },
    "e68f01a50dd343deb05ce60826218e06": {
     "model_module": "@jupyter-widgets/controls",
     "model_name": "FloatProgressModel",
     "state": {
      "_dom_classes": [],
      "_model_module": "@jupyter-widgets/controls",
      "_model_module_version": "1.5.0",
      "_model_name": "FloatProgressModel",
      "_view_count": null,
      "_view_module": "@jupyter-widgets/controls",
      "_view_module_version": "1.5.0",
      "_view_name": "ProgressView",
      "bar_style": "success",
      "description": "Downloading: 100%",
      "description_tooltip": null,
      "layout": "IPY_MODEL_183d2e7445984df18d7d4dbfc20066c4",
      "max": 435779157,
      "min": 0,
      "orientation": "horizontal",
      "style": "IPY_MODEL_2eff57b94a7b4883b807602ce5754c07",
      "value": 435779157
     }
    },
    "f30f2a3b3ca54e0da9a1963bf136d26e": {
     "model_module": "@jupyter-widgets/controls",
     "model_name": "HBoxModel",
     "state": {
      "_dom_classes": [],
      "_model_module": "@jupyter-widgets/controls",
      "_model_module_version": "1.5.0",
      "_model_name": "HBoxModel",
      "_view_count": null,
      "_view_module": "@jupyter-widgets/controls",
      "_view_module_version": "1.5.0",
      "_view_name": "HBoxView",
      "box_style": "",
      "children": [
       "IPY_MODEL_4d359212d9a34ff9895f94f88a6a47c8",
       "IPY_MODEL_9ad79dedd0064c4f8786f456cd98baeb"
      ],
      "layout": "IPY_MODEL_3c00590c568e44228084e00ecc366f24"
     }
    }
   }
  }
 },
 "nbformat": 4,
 "nbformat_minor": 1
}
